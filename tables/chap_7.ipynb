{
 "cells": [
  {
   "cell_type": "markdown",
   "metadata": {},
   "source": [
    "# Chapitre 7 : Tables de données\n",
    "\n",
    "***Importation d'une table depuis un fichier CSV, recherche dans une table, tri d'une table, fusion de tables***"
   ]
  },
  {
   "cell_type": "markdown",
   "metadata": {},
   "source": [
    "## Partie A - Représentation de données en tables"
   ]
  },
  {
   "cell_type": "markdown",
   "metadata": {},
   "source": [
    "Une  des  utilisations  principales  de  l’informatique  de  nos  jours  est  le  **traitement  de  quantités  importantes  de  données**  dans  des domaines très variés. Par exemple, un site de commerce en ligne peut avoir à gérer des bases de données pour des dizaines de milliers d’articles en vente, de clients, de commandes. Un hopital doit pouvoir accéder efficacement à tous les détails de traitements de ses patients, etc.\n",
    "\n",
    "Mais si les logiciels de traitement de base de données sont des programmes hautement spécialisés pour effectuer ce genre de tâches le plus efficacement possible, il est facile de mettre en œuvre les opérations de base dans un langage de programmation comme Python. C'est l'objectif de ce chapitre."
   ]
  },
  {
   "cell_type": "markdown",
   "metadata": {},
   "source": [
    "### Format CSV"
   ]
  },
  {
   "cell_type": "markdown",
   "metadata": {},
   "source": [
    "Le **format CSV** (pour *comma separated values*, c'est-à-dire *valeurs séparées par des virgules*) est un format de fichier texte très pratique pour représenter des données structurées. Dans ce format, chaque ligne représente un **enregistrement** et chaque colonne représente un **champ** de l’enregistrement. Les champs sont séparés par une virgule, d’où le nom CSV.\n",
    "\n",
    "En pratique, on peut choisir le caractère utilisé pour  séparer  les  différents  champs  et  on  utilise  parfois, plutôt qu'une virgule,  un  point-virgule,  une  tabulation, deux  points ou une barre verticale.\n",
    "Nous pouvons enfin remarquer que la première ligne d’un tel fichier est généralement utilisée pour indiquer le **nom des différents champs**. Dans ce cas, le premier enregistrement apparaît sur la deuxième ligne du fichier et non sur la première.\n",
    "\n",
    "Dans tout ce chapitre, nous utiliserons les données contenues dans le fichier ``prefectures.csv``, dont voici les 20 premières lignes :"
   ]
  },
  {
   "cell_type": "markdown",
   "metadata": {},
   "source": [
    "`dep,ville,dep_nom,lat,long,CL_reg`<br>\n",
    "`1,Bourg-en-Bresse,Ain,46.202500000000001,5.221944444444444,0`<br>\n",
    "`2,Laon,Aisne,49.562222222222225,3.622500000000000,0`<br>\n",
    "`3,Moulins,Allier,46.568333333333335,3.334444444444444,0`<br>\n",
    "`4,Digne-les-Bains,Alpes-de-Haute-Provence,44.092222222222219,6.238055555555555,0`<br>\n",
    "`5,Gap,Hautes-Alpes,44.557499999999997,6.076111111111111,0`<br>\n",
    "`6,Nice,Alpes-Maritimes,43.696388888888890,7.275000000000000,0`<br>\n",
    "`7,Privas,Ardèche,44.735277777777775,4.599444444444444,0`<br>\n",
    "`8,Charleville-Mézières,Ardennes,49.761388888888888,4.720000000000000,0`<br>\n",
    "`9,Foix,Ariège,42.967222222222219,1.605833333333333,0`<br>\n",
    "`10,Troyes,Aube,48.297777777777775,4.078333333333333,0`<br>\n",
    "`11,Carcassonne,Aude,43.214722222222221,2.353333333333333,0`<br>\n",
    "`12,Rodez,Aveyron,44.349444444444444,2.574722222222222,0`<br>\n",
    "`13,Marseille,Bouches-du-Rhône,43.290277777777774,5.380000000000000,1`<br>\n",
    "`14,Caen,Calvados,49.180000000000000,-0.365277777777778,0`<br>\n",
    "`15,Aurillac,Cantal,44.929166666666667,2.446944444444445,0`<br>\n",
    "`16,Angoulême,Charente,45.645833333333336,0.156944444444444,0`<br>\n",
    "`17,La Rochelle,Charente-Maritime,46.157499999999999,-1.157222222222222,0`<br>\n",
    "`18,Bourges,Cher,47.081111111111113,2.395277777777778,0`<br>\n",
    "`19,Tulle,Corrèze,45.271111111111111,1.768888888888889,0`"
   ]
  },
  {
   "cell_type": "markdown",
   "metadata": {},
   "source": [
    "**Question 1 :** Ouvrir avec un éditeur de texte le fichier ``prefectures.csv`` et décrire quel est le contenu du fichier. En particulier, quel est le nombre d'enregistrements, à quoi correspondent-ils, et quels en sont les différents champs ?"
   ]
  },
  {
   "cell_type": "markdown",
   "metadata": {},
   "source": [
    "### Importation d'une table depuis un fichier CSV"
   ]
  },
  {
   "cell_type": "markdown",
   "metadata": {},
   "source": [
    "Pour pouvoir manipuler avec Python les données enregistrées dans le fichier CSV, il faut commencer par **importer** ces données et les **stocker dans un tableau**. Pour réaliser cette opération, on peut définir la fonction ``importer_donnees`` :"
   ]
  },
  {
   "cell_type": "code",
   "execution_count": null,
   "metadata": {},
   "outputs": [],
   "source": [
    "import csv\n",
    "\n",
    "def importer_donnees(nom_de_fichier):\n",
    "    tab = []\n",
    "    with open(nom_de_fichier, 'r', encoding = 'utf-8') as fichier:\n",
    "        donnees = csv.DictReader(fichier, delimiter = ',')\n",
    "        for enregistrement in donnees:\n",
    "            tab.append(dict(enregistrement))\n",
    "    return tab"
   ]
  },
  {
   "cell_type": "code",
   "execution_count": null,
   "metadata": {},
   "outputs": [],
   "source": [
    "pref = importer_donnees('prefectures.csv')"
   ]
  },
  {
   "cell_type": "markdown",
   "metadata": {},
   "source": [
    "**Question 2 :** Ecrire la spécification de la fonction ``importer_donnees``.\n",
    "\n",
    "**Question 3 :** Après avoir exécuté la cellule suivante et affiché les cinq premiers éléments de ``pref``, dire quel est le type de ces éléments."
   ]
  },
  {
   "cell_type": "code",
   "execution_count": null,
   "metadata": {},
   "outputs": [],
   "source": [
    "for k in range(5):\n",
    "    print(pref[k])"
   ]
  },
  {
   "cell_type": "markdown",
   "metadata": {},
   "source": [
    "On constate que, lors de l'importation, **tous les champs sont des chaînes de caractères**. Pour faire en sorte que la latitude et la longitude des différentes préfectures soit de type numérique, exécuter la cellule ci-dessous :"
   ]
  },
  {
   "cell_type": "code",
   "execution_count": null,
   "metadata": {},
   "outputs": [],
   "source": [
    "for k in range(len(pref)):\n",
    "    pref[k]['lat'] = float(pref[k]['lat'])\n",
    "    pref[k]['long'] = float(pref[k]['long'])"
   ]
  },
  {
   "cell_type": "markdown",
   "metadata": {},
   "source": [
    "**Question 4 :** Ecrire des lignes de code permettant de faire en sorte que le champ ``'CL_reg'`` soit de type booléen."
   ]
  },
  {
   "cell_type": "code",
   "execution_count": null,
   "metadata": {},
   "outputs": [],
   "source": []
  },
  {
   "cell_type": "markdown",
   "metadata": {},
   "source": [
    "<div class=\"rq\">\n",
    "    Après l'<b>importation</b> d'une table de données, cette étape de modification des types fait partie de ce que l'on appelle la <b>validation</b> des données. C'est une étape nécessaire pour pouvoir utiliser efficacement la table.</div>"
   ]
  },
  {
   "cell_type": "markdown",
   "metadata": {},
   "source": [
    "## Partie B - Recherche dans une table"
   ]
  },
  {
   "cell_type": "markdown",
   "metadata": {},
   "source": [
    "Une fois que la table est stockée en mémoire sous la forme d'un tableau de dictionnaires, il est possible d'effectuer des recherches dans la table."
   ]
  },
  {
   "cell_type": "markdown",
   "metadata": {},
   "source": [
    "### Affichage de données"
   ]
  },
  {
   "cell_type": "markdown",
   "metadata": {},
   "source": [
    "Par exemple, voici des lignes de code permettant d'afficher le nom des 101 départements français :"
   ]
  },
  {
   "cell_type": "code",
   "execution_count": null,
   "metadata": {},
   "outputs": [],
   "source": [
    "for k in range(len(pref)):\n",
    "    print(pref[k]['dep_nom'], end = '  ')"
   ]
  },
  {
   "cell_type": "markdown",
   "metadata": {},
   "source": [
    "**Question 5 :** Ecrire des lignes de code permettant d'afficher le nom des villes préfectures."
   ]
  },
  {
   "cell_type": "code",
   "execution_count": null,
   "metadata": {},
   "outputs": [],
   "source": []
  },
  {
   "cell_type": "markdown",
   "metadata": {},
   "source": [
    "**Question 6 :** Ecrire des lignes de code permettant d'afficher le nom des départements dont la préfecture contient la lettre X."
   ]
  },
  {
   "cell_type": "code",
   "execution_count": null,
   "metadata": {},
   "outputs": [],
   "source": []
  },
  {
   "cell_type": "markdown",
   "metadata": {},
   "source": [
    "**Question 7 :** Ecrire des lignes de code permettant d'afficher les préfectures dont la latitude est comprise entre 44° et 46° et dont la longitude est comprise entre 2° et 4°."
   ]
  },
  {
   "cell_type": "code",
   "execution_count": null,
   "metadata": {},
   "outputs": [],
   "source": []
  },
  {
   "cell_type": "markdown",
   "metadata": {},
   "source": [
    "**Question 8 :** Ecrire des lignes de code permettant d'afficher le nom et les coordonnées géographiques des 18 capitales de région (arrondies à deux chiffres après la virgule)."
   ]
  },
  {
   "cell_type": "code",
   "execution_count": null,
   "metadata": {},
   "outputs": [],
   "source": []
  },
  {
   "cell_type": "markdown",
   "metadata": {},
   "source": [
    "### Comptage de données"
   ]
  },
  {
   "cell_type": "markdown",
   "metadata": {},
   "source": [
    "**Question 9 :** Ecrire des lignes de code permettant compter le nombre de villes préfectures situées à l'ouest du méridien de Greenwich, c'est-à-dire dont la longitude est négative."
   ]
  },
  {
   "cell_type": "code",
   "execution_count": null,
   "metadata": {},
   "outputs": [],
   "source": []
  },
  {
   "cell_type": "markdown",
   "metadata": {},
   "source": [
    "**Question 10 :** Ecrire des lignes de code permettant compter le nombre de villes préfectures situées au nord de Paris."
   ]
  },
  {
   "cell_type": "code",
   "execution_count": null,
   "metadata": {},
   "outputs": [],
   "source": []
  },
  {
   "cell_type": "markdown",
   "metadata": {},
   "source": [
    "## Partie C - Tri d'une table"
   ]
  },
  {
   "cell_type": "markdown",
   "metadata": {},
   "source": [
    "Pour exploiter les données, il peut être intéressant de les trier. Une utilisation possible est l’obtention du classement des entrées selon tel ou tel critère.\n",
    "\n",
    "On ne peut pas directement trier le tableau `pref`. Il faut indiquer selon quels critères on veut effectuer ce tri. Pour cela, on commence par définir une fonction qui renvoie la valeur utilisée pour le tri.\n",
    "\n",
    "Concrètement, si on souhaite trier la table `pref` en fonction de la latitude de la ville préfecture, on commence par définir la fonction suivante :"
   ]
  },
  {
   "cell_type": "code",
   "execution_count": null,
   "metadata": {},
   "outputs": [],
   "source": [
    "def cle_latitude(d):\n",
    "    \"\"\"\n",
    "    Retourne la valeur associée à la clé 'lat' dans le dictionnaire d\n",
    "    - Entrée : d (dictionnaire contenant au moins la clé 'lat')\n",
    "    - Sortie : (nombre)\n",
    "    \"\"\"\n",
    "    return d['lat']"
   ]
  },
  {
   "cell_type": "markdown",
   "metadata": {},
   "source": [
    "Pour trier la table, il suffit alors d'utiliser la commande `.sort()` avec l'argument `key` égal à la fonction de tri définie précédemment :"
   ]
  },
  {
   "cell_type": "code",
   "execution_count": null,
   "metadata": {},
   "outputs": [],
   "source": [
    "pref.sort(key = cle_latitude)"
   ]
  },
  {
   "cell_type": "markdown",
   "metadata": {},
   "source": [
    "On peut alors afficher la liste des préfectures dans l'ordre croissant de leur latitude, c'est-à-dire du sud au nord :"
   ]
  },
  {
   "cell_type": "code",
   "execution_count": null,
   "metadata": {},
   "outputs": [],
   "source": [
    "for k in range(len(pref)):\n",
    "    print(pref[k]['ville'], end = '  ')"
   ]
  },
  {
   "cell_type": "markdown",
   "metadata": {},
   "source": [
    "Si l'on préfère afficher les villes du nord au sud, et donc par ordre décroissant des latitudes, on rajoute à la commande `.sort()` l'argument supplémentaire `reverse = True` :"
   ]
  },
  {
   "cell_type": "code",
   "execution_count": null,
   "metadata": {},
   "outputs": [],
   "source": [
    "pref.sort(key = cle_latitude, reverse = True)"
   ]
  },
  {
   "cell_type": "code",
   "execution_count": null,
   "metadata": {},
   "outputs": [],
   "source": [
    "for k in range(len(pref)):\n",
    "    print(pref[k]['ville'], end = '  ')"
   ]
  },
  {
   "cell_type": "markdown",
   "metadata": {},
   "source": [
    "**Question 11 :** Ecrire des lignes de code permettant d'afficher les préfectures françaises d'ouest en est."
   ]
  },
  {
   "cell_type": "code",
   "execution_count": null,
   "metadata": {},
   "outputs": [],
   "source": []
  },
  {
   "cell_type": "markdown",
   "metadata": {},
   "source": [
    "**Question 12 :** Ecrire des lignes de code permettant d'afficher les capitales régionales françaises du nord au sud."
   ]
  },
  {
   "cell_type": "code",
   "execution_count": null,
   "metadata": {},
   "outputs": [],
   "source": []
  },
  {
   "cell_type": "markdown",
   "metadata": {},
   "source": [
    "En utilisant la commande `.sort()`, nous avons modifié la table `pref` en mémoire : l'index de chaque dictionnaire a été modifié dans le tableau `pref`. Si on souhaite garder intacte la table initiale, il faut utiliser la fonction `sorted()` à la place de la commande `.sort()` :"
   ]
  },
  {
   "cell_type": "code",
   "execution_count": null,
   "metadata": {},
   "outputs": [],
   "source": [
    "pref = importer_donnees('prefectures.csv')\n",
    "\n",
    "for k in range(len(pref)):\n",
    "    pref[k]['lat'] = float(pref[k]['lat'])\n",
    "    pref[k]['long'] = float(pref[k]['long'])\n",
    "    pref[k]['CL_reg'] = bool(int(pref[k]['CL_reg']))\n",
    "\n",
    "pref2 = sorted(pref, key = cle_latitude, reverse = True)"
   ]
  },
  {
   "cell_type": "code",
   "execution_count": null,
   "metadata": {},
   "outputs": [],
   "source": [
    "for k in range(len(pref)):\n",
    "    print(pref[k]['ville'], end = '  ')"
   ]
  },
  {
   "cell_type": "code",
   "execution_count": null,
   "metadata": {},
   "outputs": [],
   "source": [
    "for k in range(len(pref2)):\n",
    "    print(pref2[k]['ville'], end = '  ')"
   ]
  },
  {
   "cell_type": "markdown",
   "metadata": {},
   "source": [
    "**Question 13 :** Ecrire des lignes de code permettant d'afficher les noms des départements français dans l'ordre alphabétique, sans modifier la table `pref` :"
   ]
  },
  {
   "cell_type": "code",
   "execution_count": null,
   "metadata": {},
   "outputs": [],
   "source": []
  },
  {
   "cell_type": "markdown",
   "metadata": {},
   "source": [
    "**Question 14 :** Ecrire des lignes de code permettant d'afficher les préfectures dans l'ordre alphabétique, sans modifier la table `pref` :"
   ]
  },
  {
   "cell_type": "code",
   "execution_count": null,
   "metadata": {},
   "outputs": [],
   "source": []
  },
  {
   "cell_type": "markdown",
   "metadata": {},
   "source": [
    "## Partie D - Fusion de deux tables"
   ]
  },
  {
   "cell_type": "markdown",
   "metadata": {},
   "source": [
    "Le fichier `population.csv` (créé à partir de données récoltées sur le site de l'INSEE) contient la population estimée de chaque département français au 1er janvier 2020, ainsi que la répartition de cette population par tranche d'âge :"
   ]
  },
  {
   "cell_type": "markdown",
   "metadata": {},
   "source": [
    "<div>\n",
    "    \t\t<table align = \"center\">\n",
    "\t\t\t<tr>\n",
    "                <th><center>Tranche</center></th>\n",
    "                <th><center>Population</center></th>\n",
    "            </tr>\n",
    "            <tr>\n",
    "                <td><center>A</center></td>\n",
    "                <td><center>0 à 19 ans</center></td>\n",
    "            </tr>\n",
    "            <tr>\n",
    "                <td><center>B</center></td>\n",
    "                <td><center>20 à 39 ans</center></td>\n",
    "            </tr>\n",
    "            <tr>\n",
    "                <td><center>C</center></td>\n",
    "                <td><center>40 à 59 ans</center></td>\n",
    "            </tr>\n",
    "            <tr>\n",
    "                <td><center>D</center></td>\n",
    "                <td><center>60 à 74 ans</center></td>\n",
    "            </tr>\n",
    "            <tr>\n",
    "                <td><center>E</center></td>\n",
    "                <td><center>plus de 75 ans</center></td>\n",
    "            </tr>\n",
    "\t\t</table>\n",
    "</div>"
   ]
  },
  {
   "cell_type": "markdown",
   "metadata": {},
   "source": [
    "**Question 15 :** Ecrire des lignes de code permettant d'importer les données du fichier `population.csv` dans un tableau `pop` composé de dictionnaires. Les populations seront stockées sous forme d'entiers."
   ]
  },
  {
   "cell_type": "code",
   "execution_count": null,
   "metadata": {},
   "outputs": [],
   "source": []
  },
  {
   "cell_type": "markdown",
   "metadata": {},
   "source": [
    "Puisque les deux tables `pref` et `pop` possèdent en commun le champ `dep`, il semble intéressant de pouvoir créer une table unique regroupant les données présentes dans chacune des deux tables. On parle de **jointure** des deux tables.\n",
    "\n",
    "On commence par créer une fonction `fusion` dont le rôle est de fusionner deux dictionnaires en un seul :"
   ]
  },
  {
   "cell_type": "code",
   "execution_count": null,
   "metadata": {},
   "outputs": [],
   "source": [
    "def fusion(d1, d2):\n",
    "    \"\"\"\n",
    "    Fusionne deux dictionnaires\n",
    "    - Entrées : d1 (dictionnaire contenant les clés 'dep', 'dep_nom', 'ville', 'lat' et 'long')\n",
    "                d2 (dictionnaire contenant les clés 'dep', 'popA', 'popB', 'popC', 'popD', 'popE' et 'pop')\n",
    "    - Sortie : (dictionnaire unique contenant toutes les clés citées précédemment)\n",
    "    \"\"\"\n",
    "    return {'dep' : d1['dep'], 'dep_nom' : d1['dep_nom'], 'ville' : d1['ville'], 'lat' : d1['lat'], 'long' : d1['long'],\n",
    "           'popA' : d2['popA'], 'popB' : d2['popB'], 'popC' : d2['popC'], 'popD' : d2['popD'], 'popE' : d2['popE'],\n",
    "           'pop' : d2['pop']}"
   ]
  },
  {
   "cell_type": "markdown",
   "metadata": {},
   "source": [
    "La jointure des deux tables d'effectue alors à l'aide d'une double boucle :"
   ]
  },
  {
   "cell_type": "code",
   "execution_count": null,
   "metadata": {},
   "outputs": [],
   "source": [
    "table = []\n",
    "for d1 in pref:\n",
    "    for d2 in pop:\n",
    "        if d1['dep'] == d2['dep']:\n",
    "            table.append(fusion(d1, d2))"
   ]
  },
  {
   "cell_type": "markdown",
   "metadata": {},
   "source": [
    "Voici les cinq premiers éléments de la table ainsi obtenue :"
   ]
  },
  {
   "cell_type": "code",
   "execution_count": null,
   "metadata": {},
   "outputs": [],
   "source": [
    "for k in range(5):\n",
    "    print(table[k])"
   ]
  },
  {
   "cell_type": "markdown",
   "metadata": {},
   "source": [
    "<div class=\"rq\">\n",
    "    On constate que chaque élément de <code>table</code> est un dictionnaire possédant à la fois les clés issues des enregistrements du tableau <code>pref</code> et du tableau <code>pop</code>.</div>"
   ]
  },
  {
   "cell_type": "markdown",
   "metadata": {},
   "source": [
    "Il est enfin possible d'enregistrer la nouvelle table dans un ficher CSV, grâce à la fonction suivante :"
   ]
  },
  {
   "cell_type": "code",
   "execution_count": null,
   "metadata": {},
   "outputs": [],
   "source": [
    "import csv\n",
    "\n",
    "def exporter_donnees(nom_de_fichier, tab):\n",
    "    \"\"\"\n",
    "    Exporte les données de tab vers un fichier CSV\n",
    "    - Entrée : nom_de_fichier (chaîne de caractères correspondant à un nom de fichier CSV), tab (tableau de dictionnaires)\n",
    "    - Effet de bord : écriture dans un fichier texte\n",
    "    Attention : le fichier texte est écrasé, son contenu précédent est effacé\n",
    "    \"\"\"\n",
    "    with open(nom_de_fichier, 'w', encoding = 'utf-8') as fichier:\n",
    "        donnees = csv.DictWriter(fichier, ['dep', 'dep_nom', 'ville', 'lat', 'long', 'popA', 'popB', 'popC',\n",
    "                                           'popD', 'popE', 'pop'], delimiter = ',')\n",
    "        donnees.writeheader() # Ecriture des clés sur la première ligne du fichier CSV\n",
    "        donnees.writerows(tab) # Ecriture des enregistrements à partir de la deuxième ligne du fichier CSV"
   ]
  },
  {
   "cell_type": "code",
   "execution_count": null,
   "metadata": {},
   "outputs": [],
   "source": [
    "exporter_donnees('nouveau.csv', table)"
   ]
  },
  {
   "cell_type": "markdown",
   "metadata": {},
   "source": [
    "## Ce que vous devez savoir"
   ]
  },
  {
   "cell_type": "markdown",
   "metadata": {},
   "source": [
    "<div class=\"rq2\">\n",
    "    <ul>\n",
    "        <li>Importer une table de données depuis un fichier CSV, et stocker le résultat sous forme de tableau de dictionnaires.</li>\n",
    "        <li>Valider les données, c'est-à-dire modifier leur type pour les rendre utilisables.</li>\n",
    "        <li>Afficher des données sélectionnées dans une table.</li>\n",
    "        <li>Compter des données sélectionnées dans une table.</li>\n",
    "        <li>Définir une fonction de tri utilisable comme argument de la commande <code>.sort()</code> ou de la fonction <code>sorted</code>.</li>\n",
    "        <li>Utiliser l'argument <code>reverse = True</code> pour effectuer un tri dans l'ordre décroissant.</li>\n",
    "        <li>Choisir entre la commande <code>.sort()</code> et la fonction <code>sorted</code> en fonction du contexte.</li>\n",
    "        <li>Fusionner les données contenues dans deux tables.</li>\n",
    "        <li>Exporter les données dans un fichier CSV.</li>\n",
    "    </ul>\n",
    "</div>"
   ]
  },
  {
   "cell_type": "markdown",
   "metadata": {},
   "source": [
    "## Exercices bilan"
   ]
  },
  {
   "cell_type": "markdown",
   "metadata": {},
   "source": [
    "### Exercice 1"
   ]
  },
  {
   "cell_type": "markdown",
   "metadata": {},
   "source": [
    "Ecrire des lignes de code permettant de calculer la population française totale estimée au 1er janvier 2020."
   ]
  },
  {
   "cell_type": "code",
   "execution_count": null,
   "metadata": {},
   "outputs": [],
   "source": []
  },
  {
   "cell_type": "markdown",
   "metadata": {},
   "source": [
    "Ecrire des lignes de code permettant d'afficher la liste des dix départements les plus peuplés et leur population, par ordre décroissant de population."
   ]
  },
  {
   "cell_type": "code",
   "execution_count": null,
   "metadata": {},
   "outputs": [],
   "source": []
  },
  {
   "cell_type": "markdown",
   "metadata": {},
   "source": [
    "Ecrire des lignes de code permettant d'afficher la liste des dix départements dont la proportion de moins de 20 ans est la plus forte, puis la liste des dix départements pour lesquels cette proportion est la plus faible."
   ]
  },
  {
   "cell_type": "code",
   "execution_count": null,
   "metadata": {},
   "outputs": [],
   "source": []
  },
  {
   "cell_type": "markdown",
   "metadata": {},
   "source": [
    "Ecrire des lignes de code permettant d'afficher la liste des dix départements dont la proportion de plus de 75 ans est la plus forte, puis la liste des dix départements pour lesquels cette proportion est la plus faible."
   ]
  },
  {
   "cell_type": "code",
   "execution_count": null,
   "metadata": {},
   "outputs": [],
   "source": []
  },
  {
   "cell_type": "markdown",
   "metadata": {},
   "source": [
    "### Exercice 2"
   ]
  },
  {
   "cell_type": "markdown",
   "metadata": {},
   "source": [
    "Le fichier `emissions_CO2.csv` (créé à partir de données récoltées sur le site de la Banque mondiale) contient les quantités de CO2, en tonnes par habitant, émises par chaque pays de l'Union Européenne, pour les années 2000 et 2010.\n",
    "\n",
    "Ecrire des lignes de code permettant d'importer les données du fichier. Les quantités de CO2 émises seront stockées sous forme de nombre flottant."
   ]
  },
  {
   "cell_type": "code",
   "execution_count": null,
   "metadata": {},
   "outputs": [],
   "source": []
  },
  {
   "cell_type": "markdown",
   "metadata": {},
   "source": [
    "Ecrire des lignes de code permettant d'afficher la liste des pays de l'UE qui ont diminué leurs émissions de CO2 par habitant entre 2000 et 2010."
   ]
  },
  {
   "cell_type": "code",
   "execution_count": null,
   "metadata": {},
   "outputs": [],
   "source": []
  },
  {
   "cell_type": "markdown",
   "metadata": {},
   "source": [
    "Ecrire des lignes de code permettant d'afficher le nom des cinq pays qui émettent le plus de CO2 par habitant en 2010, puis le nom des cinq pays qui en émettent le moins."
   ]
  },
  {
   "cell_type": "code",
   "execution_count": null,
   "metadata": {},
   "outputs": [],
   "source": []
  },
  {
   "cell_type": "markdown",
   "metadata": {},
   "source": [
    "Ecrire des lignes de code permettant d'afficher, pour chaque pays, le taux d'évolution de ses émissions de CO2 par habitant entre 2000 et 2010. Les pays seront classés de celui qui a le taux d'évolution le plus négatif à celui qui a le taux d'évolution le plus positif.\n",
    "\n",
    "On rappelle qu'un taux d'évolution se calcule avec la formule suivante : `taux_evolution = (valeur_finale - valeur_initiale) / valeur_initiale`."
   ]
  },
  {
   "cell_type": "code",
   "execution_count": null,
   "metadata": {},
   "outputs": [],
   "source": []
  },
  {
   "cell_type": "markdown",
   "metadata": {},
   "source": [
    "Ecrire des lignes de code permettant de stocker dans un nouveau fichier CSV la liste des pays de l'UE et leur taux d'évolution des émissions de CO2 par habitant."
   ]
  },
  {
   "cell_type": "code",
   "execution_count": null,
   "metadata": {},
   "outputs": [],
   "source": []
  }
 ],
 "metadata": {
  "kernelspec": {
   "display_name": "Python 3",
   "language": "python",
   "name": "python3"
  },
  "language_info": {
   "codemirror_mode": {
    "name": "ipython",
    "version": 3
   },
   "file_extension": ".py",
   "mimetype": "text/x-python",
   "name": "python",
   "nbconvert_exporter": "python",
   "pygments_lexer": "ipython3",
   "version": "3.8.5"
  }
 },
 "nbformat": 4,
 "nbformat_minor": 2
}
