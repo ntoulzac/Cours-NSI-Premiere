{
 "cells": [
  {
   "cell_type": "markdown",
   "metadata": {},
   "source": [
    "Dans toute cette activité, nous utiliserons les données contenues dans le fichier ``prefectures.csv``, dont voici les 20 premières lignes :"
   ]
  },
  {
   "cell_type": "markdown",
   "metadata": {},
   "source": [
    "`dep,ville,dep_nom,lat,long,CL_reg`<br>\n",
    "`1,Bourg-en-Bresse,Ain,46.202500000000001,5.221944444444444,0`<br>\n",
    "`2,Laon,Aisne,49.562222222222225,3.622500000000000,0`<br>\n",
    "`3,Moulins,Allier,46.568333333333335,3.334444444444444,0`<br>\n",
    "`4,Digne-les-Bains,Alpes-de-Haute-Provence,44.092222222222219,6.238055555555555,0`<br>\n",
    "`5,Gap,Hautes-Alpes,44.557499999999997,6.076111111111111,0`<br>\n",
    "`6,Nice,Alpes-Maritimes,43.696388888888890,7.275000000000000,0`<br>\n",
    "`7,Privas,Ardèche,44.735277777777775,4.599444444444444,0`<br>\n",
    "`8,Charleville-Mézières,Ardennes,49.761388888888888,4.720000000000000,0`<br>\n",
    "`9,Foix,Ariège,42.967222222222219,1.605833333333333,0`<br>\n",
    "`10,Troyes,Aube,48.297777777777775,4.078333333333333,0`<br>\n",
    "`11,Carcassonne,Aude,43.214722222222221,2.353333333333333,0`<br>\n",
    "`12,Rodez,Aveyron,44.349444444444444,2.574722222222222,0`<br>\n",
    "`13,Marseille,Bouches-du-Rhône,43.290277777777774,5.380000000000000,1`<br>\n",
    "`14,Caen,Calvados,49.180000000000000,-0.365277777777778,0`<br>\n",
    "`15,Aurillac,Cantal,44.929166666666667,2.446944444444445,0`<br>\n",
    "`16,Angoulême,Charente,45.645833333333336,0.156944444444444,0`<br>\n",
    "`17,La Rochelle,Charente-Maritime,46.157499999999999,-1.157222222222222,0`<br>\n",
    "`18,Bourges,Cher,47.081111111111113,2.395277777777778,0`<br>\n",
    "`19,Tulle,Corrèze,45.271111111111111,1.768888888888889,0`"
   ]
  },
  {
   "cell_type": "markdown",
   "metadata": {},
   "source": [
    "**Question 1 :** Ouvrir avec un éditeur de texte le fichier ``prefectures.csv`` et décrire quel est le contenu du fichier. En particulier, quel est le nombre d'enregistrements, à quoi correspondent-ils, et quels en sont les différents champs ?"
   ]
  },
  {
   "cell_type": "markdown",
   "metadata": {},
   "source": [
    "### Importation d'une table depuis un fichier CSV"
   ]
  },
  {
   "cell_type": "markdown",
   "metadata": {},
   "source": [
    "Pour pouvoir manipuler avec Python les données enregistrées dans le fichier CSV, il faut commencer par **importer** ces données et les **stocker dans un tableau**. Pour réaliser cette opération, on peut définir la fonction ``importer_donnees`` :"
   ]
  },
  {
   "cell_type": "code",
   "execution_count": 1,
   "metadata": {},
   "outputs": [],
   "source": [
    "import csv\n",
    "\n",
    "def importer_donnees(nom_de_fichier):\n",
    "    tab = []\n",
    "    with open(nom_de_fichier, 'r', encoding = 'utf-8') as fichier:\n",
    "        donnees = csv.DictReader(fichier, delimiter = ',')\n",
    "        for enregistrement in donnees:\n",
    "            tab.append(dict(enregistrement))\n",
    "    return tab"
   ]
  },
  {
   "cell_type": "code",
   "execution_count": 2,
   "metadata": {},
   "outputs": [],
   "source": [
    "pref = importer_donnees('prefectures.csv')"
   ]
  },
  {
   "cell_type": "markdown",
   "metadata": {},
   "source": [
    "**Question 2 :** Ecrire la spécification de la fonction ``importer_donnees``.\n",
    "\n",
    "**Question 3 :** Après avoir exécuté la cellule suivante et affiché les cinq premiers éléments de ``pref``, dire quel est le type de ces éléments."
   ]
  },
  {
   "cell_type": "code",
   "execution_count": 3,
   "metadata": {},
   "outputs": [
    {
     "name": "stdout",
     "output_type": "stream",
     "text": [
      "{'dep': '1', 'ville': 'Bourg-en-Bresse', 'dep_nom': 'Ain', 'lat': '46.202500000000001', 'long': '5.221944444444444', 'CL_reg': '0'}\n",
      "{'dep': '2', 'ville': 'Laon', 'dep_nom': 'Aisne', 'lat': '49.562222222222225', 'long': '3.622500000000000', 'CL_reg': '0'}\n",
      "{'dep': '3', 'ville': 'Moulins', 'dep_nom': 'Allier', 'lat': '46.568333333333335', 'long': '3.334444444444444', 'CL_reg': '0'}\n",
      "{'dep': '4', 'ville': 'Digne-les-Bains', 'dep_nom': 'Alpes-de-Haute-Provence', 'lat': '44.092222222222219', 'long': '6.238055555555555', 'CL_reg': '0'}\n",
      "{'dep': '5', 'ville': 'Gap', 'dep_nom': 'Hautes-Alpes', 'lat': '44.557499999999997', 'long': '6.076111111111111', 'CL_reg': '0'}\n"
     ]
    }
   ],
   "source": [
    "for k in range(5):\n",
    "    print(pref[k])"
   ]
  },
  {
   "cell_type": "markdown",
   "metadata": {},
   "source": [
    "On constate que, lors de l'importation, **tous les champs sont des chaînes de caractères**. Pour faire en sorte que la latitude et la longitude des différentes préfectures soit de type numérique, exécuter la cellule ci-dessous :"
   ]
  },
  {
   "cell_type": "code",
   "execution_count": 4,
   "metadata": {},
   "outputs": [],
   "source": [
    "for k in range(len(pref)):\n",
    "    pref[k]['lat'] = float(pref[k]['lat'])\n",
    "    pref[k]['long'] = float(pref[k]['long'])"
   ]
  },
  {
   "cell_type": "markdown",
   "metadata": {},
   "source": [
    "**Question 4 :** Ecrire des lignes de code permettant de faire en sorte que le champ ``'CL_reg'`` soit de type booléen."
   ]
  },
  {
   "cell_type": "code",
   "execution_count": null,
   "metadata": {},
   "outputs": [],
   "source": []
  },
  {
   "cell_type": "markdown",
   "metadata": {},
   "source": [
    "<div class=\"rq\">\n",
    "    Après l'<b>importation</b> d'une table de données, cette étape de modification des types fait partie de ce que l'on appelle la <b>validation</b> des données. C'est une étape nécessaire pour pouvoir utiliser efficacement la table.</div>"
   ]
  },
  {
   "cell_type": "markdown",
   "metadata": {},
   "source": [
    "## Partie B - Recherche dans une table"
   ]
  },
  {
   "cell_type": "markdown",
   "metadata": {},
   "source": [
    "Une fois que la table est stockée en mémoire sous la forme d'un tableau de dictionnaires, il est possible d'effectuer des recherches dans la table."
   ]
  },
  {
   "cell_type": "markdown",
   "metadata": {},
   "source": [
    "### Affichage de données"
   ]
  },
  {
   "cell_type": "markdown",
   "metadata": {},
   "source": [
    "Par exemple, voici des lignes de code permettant d'afficher le nom des 101 départements français :"
   ]
  },
  {
   "cell_type": "code",
   "execution_count": 5,
   "metadata": {},
   "outputs": [
    {
     "name": "stdout",
     "output_type": "stream",
     "text": [
      "Ain  Aisne  Allier  Alpes-de-Haute-Provence  Hautes-Alpes  Alpes-Maritimes  Ardèche  Ardennes  Ariège  Aube  Aude  Aveyron  Bouches-du-Rhône  Calvados  Cantal  Charente  Charente-Maritime  Cher  Corrèze  Corse-du-Sud  Haute-Corse  Côte-d'Or  Côtes-d'Armor  Creuse  Dordogne  Doubs  Drôme  Eure  Eure-et-Loir  Finistère  Gard  Haute-Garonne  Gers  Gironde  Hérault  Ille-et-Vilaine  Indre  Indre-et-Loire  Isère  Jura  Landes  Loir-et-Cher  Loire  Haute-Loire  Loire-Atlantique  Loiret  Lot  Lot-et-Garonne  Lozère  Maine-et-Loire  Manche  Marne  Haute-Marne  Mayenne  Meurthe-et-Moselle  Meuse  Morbihan  Moselle  Nièvre  Nord  Oise  Orne  Pas-de-Calais  Puy-de-Dôme  Pyrénées-Atlantiques  Hautes-Pyrénées  Pyrénées-Orientales  Bas-Rhin  Haut-Rhin  Rhône  Haute-Saône  Saône-et-Loire  Sarthe  Savoie  Haute-Savoie  Paris  Seine-Maritime  Seine-et-Marne  Yvelines  Deux-Sèvres  Somme  Tarn  Tarn-et-Garonne  Var  Vaucluse  Vendée  Vienne  Haute-Vienne  Vosges  Yonne  Territoire de Belfort  Essonne  Hauts-de-Seine  Seine-Saint-Denis  Val-de-Marne  Val-d'Oise  Guadeloupe  Martinique  Guyane  Réunion  Mayotte  "
     ]
    }
   ],
   "source": [
    "for k in range(len(pref)):\n",
    "    print(pref[k]['dep_nom'], end = '  ')"
   ]
  },
  {
   "cell_type": "markdown",
   "metadata": {},
   "source": [
    "**Question 5 :** Ecrire des lignes de code permettant d'afficher le nom des villes préfectures."
   ]
  },
  {
   "cell_type": "code",
   "execution_count": null,
   "metadata": {},
   "outputs": [],
   "source": []
  },
  {
   "cell_type": "markdown",
   "metadata": {},
   "source": [
    "**Question 6 :** Ecrire des lignes de code permettant d'afficher le nom des départements dont la préfecture contient la lettre X."
   ]
  },
  {
   "cell_type": "code",
   "execution_count": null,
   "metadata": {},
   "outputs": [],
   "source": []
  },
  {
   "cell_type": "markdown",
   "metadata": {},
   "source": [
    "**Question 7 :** Ecrire des lignes de code permettant d'afficher les préfectures dont la latitude est comprise entre 44° et 46° et dont la longitude est comprise entre 2° et 4°."
   ]
  },
  {
   "cell_type": "code",
   "execution_count": null,
   "metadata": {},
   "outputs": [],
   "source": []
  },
  {
   "cell_type": "markdown",
   "metadata": {},
   "source": [
    "**Question 8 :** Ecrire des lignes de code permettant d'afficher le nom et les coordonnées géographiques des 18 capitales de région (arrondies à deux chiffres après la virgule)."
   ]
  },
  {
   "cell_type": "code",
   "execution_count": null,
   "metadata": {},
   "outputs": [],
   "source": []
  },
  {
   "cell_type": "markdown",
   "metadata": {},
   "source": [
    "### Comptage de données"
   ]
  },
  {
   "cell_type": "markdown",
   "metadata": {},
   "source": [
    "**Question 9 :** Ecrire des lignes de code permettant compter le nombre de villes préfectures situées à l'ouest du méridien de Greenwich, c'est-à-dire dont la longitude est négative."
   ]
  },
  {
   "cell_type": "code",
   "execution_count": null,
   "metadata": {},
   "outputs": [],
   "source": []
  },
  {
   "cell_type": "markdown",
   "metadata": {},
   "source": [
    "**Question 10 :** Ecrire des lignes de code permettant compter le nombre de villes préfectures situées au nord de Paris."
   ]
  },
  {
   "cell_type": "code",
   "execution_count": null,
   "metadata": {},
   "outputs": [],
   "source": []
  },
  {
   "cell_type": "markdown",
   "metadata": {},
   "source": [
    "## Partie C - Tri d'une table"
   ]
  },
  {
   "cell_type": "markdown",
   "metadata": {},
   "source": [
    "Pour exploiter les données, il peut être intéressant de les trier. Une utilisation possible est l’obtention du classement des entrées selon tel ou tel critère.\n",
    "\n",
    "On ne peut pas directement trier le tableau `pref`. Il faut indiquer selon quels critères on veut effectuer ce tri. Pour cela, on commence par définir une fonction qui renvoie la valeur utilisée pour le tri.\n",
    "\n",
    "Concrètement, si on souhaite trier la table `pref` en fonction de la latitude de la ville préfecture, on commence par définir la fonction suivante :"
   ]
  },
  {
   "cell_type": "code",
   "execution_count": 6,
   "metadata": {},
   "outputs": [],
   "source": [
    "def cle_latitude(d):\n",
    "    \"\"\"\n",
    "    Retourne la valeur associée à la clé 'lat' dans le dictionnaire d\n",
    "    - Entrée : d (dictionnaire contenant au moins la clé 'lat')\n",
    "    - Sortie : (nombre)\n",
    "    \"\"\"\n",
    "    return d['lat']"
   ]
  },
  {
   "cell_type": "markdown",
   "metadata": {},
   "source": [
    "Pour trier la table, il suffit alors d'utiliser la commande `.sort()` avec l'argument `key` égal à la fonction de tri définie précédemment :"
   ]
  },
  {
   "cell_type": "code",
   "execution_count": 7,
   "metadata": {},
   "outputs": [],
   "source": [
    "pref.sort(key = cle_latitude)"
   ]
  },
  {
   "cell_type": "markdown",
   "metadata": {},
   "source": [
    "On peut alors afficher la liste des préfectures dans l'ordre croissant de leur latitude, c'est-à-dire du sud au nord :"
   ]
  },
  {
   "cell_type": "code",
   "execution_count": 8,
   "metadata": {},
   "outputs": [
    {
     "name": "stdout",
     "output_type": "stream",
     "text": [
      "Saint-Denis  Mamoudzou  Cayenne  Fort-de-France  Basse-Terre  Ajaccio  Perpignan  Bastia  Foix  Toulon  Carcassonne  Tarbes  Marseille  Pau  Toulouse  Montpellier  Auch  Nice  Nîmes  Mont-de-Marsan  Albi  Avignon  Montauban  Digne-les-Bains  Agen  Rodez  Cahors  Mende  Gap  Privas  Bordeaux  Aurillac  Valence  Le Puy-en-Velay  Périgueux  Grenoble  Tulle  Saint-Étienne  Chambéry  Angoulême  Lyon  Clermont-Ferrand  Limoges  Annecy  La Rochelle  Guéret  Bourg-en-Bresse  Mâcon  Niort  Moulins  Poitiers  La Roche-sur-Yon  Lons-le-Saunier  Châteauroux  Nevers  Bourges  Nantes  Besançon  Dijon  Tours  Angers  Blois  Vesoul  Belfort  Vannes  Auxerre  Orléans  Quimper  Le Mans  Laval  Colmar  Rennes  Chaumont  Épinal  Troyes  Alençon  Chartres  Saint-Brieuc  Melun  Strasbourg  Évry  Nancy  Bar-le-Duc  Créteil  Versailles  Paris  Nanterre  Bobigny  Châlons-en-Champagne  Évreux  Pontoise  Saint-Lô  Metz  Caen  Beauvais  Rouen  Laon  Charleville-Mézières  Amiens  Arras  Lille  "
     ]
    }
   ],
   "source": [
    "for k in range(len(pref)):\n",
    "    print(pref[k]['ville'], end = '  ')"
   ]
  },
  {
   "cell_type": "markdown",
   "metadata": {},
   "source": [
    "Si l'on préfère afficher les villes du nord au sud, et donc par ordre décroissant des latitudes, on rajoute à la commande `.sort()` l'argument supplémentaire `reverse = True` :"
   ]
  },
  {
   "cell_type": "code",
   "execution_count": 9,
   "metadata": {},
   "outputs": [],
   "source": [
    "pref.sort(key = cle_latitude, reverse = True)"
   ]
  },
  {
   "cell_type": "code",
   "execution_count": 10,
   "metadata": {},
   "outputs": [
    {
     "name": "stdout",
     "output_type": "stream",
     "text": [
      "Lille  Arras  Amiens  Charleville-Mézières  Laon  Rouen  Beauvais  Caen  Metz  Saint-Lô  Pontoise  Évreux  Châlons-en-Champagne  Bobigny  Nanterre  Paris  Versailles  Créteil  Bar-le-Duc  Nancy  Évry  Strasbourg  Melun  Saint-Brieuc  Chartres  Alençon  Troyes  Épinal  Chaumont  Rennes  Colmar  Laval  Le Mans  Quimper  Orléans  Auxerre  Vannes  Belfort  Vesoul  Blois  Angers  Tours  Dijon  Besançon  Nantes  Bourges  Nevers  Châteauroux  Lons-le-Saunier  La Roche-sur-Yon  Poitiers  Moulins  Niort  Mâcon  Bourg-en-Bresse  Guéret  La Rochelle  Annecy  Limoges  Clermont-Ferrand  Lyon  Angoulême  Chambéry  Saint-Étienne  Tulle  Grenoble  Périgueux  Le Puy-en-Velay  Valence  Aurillac  Bordeaux  Privas  Gap  Mende  Cahors  Rodez  Agen  Digne-les-Bains  Montauban  Avignon  Albi  Mont-de-Marsan  Nîmes  Nice  Auch  Montpellier  Toulouse  Pau  Marseille  Tarbes  Carcassonne  Toulon  Foix  Bastia  Perpignan  Ajaccio  Basse-Terre  Fort-de-France  Cayenne  Mamoudzou  Saint-Denis  "
     ]
    }
   ],
   "source": [
    "for k in range(len(pref)):\n",
    "    print(pref[k]['ville'], end = '  ')"
   ]
  },
  {
   "cell_type": "markdown",
   "metadata": {},
   "source": [
    "**Question 11 :** Ecrire des lignes de code permettant d'afficher les préfectures françaises d'ouest en est."
   ]
  },
  {
   "cell_type": "code",
   "execution_count": null,
   "metadata": {},
   "outputs": [],
   "source": []
  },
  {
   "cell_type": "markdown",
   "metadata": {},
   "source": [
    "**Question 12 :** Ecrire des lignes de code permettant d'afficher les capitales régionales françaises du nord au sud."
   ]
  },
  {
   "cell_type": "code",
   "execution_count": null,
   "metadata": {},
   "outputs": [],
   "source": []
  },
  {
   "cell_type": "markdown",
   "metadata": {},
   "source": [
    "En utilisant la commande `.sort()`, nous avons modifié la table `pref` en mémoire : l'index de chaque dictionnaire a été modifié dans le tableau `pref`. Si on souhaite garder intacte la table initiale, il faut utiliser la fonction `sorted()` à la place de la commande `.sort()` :"
   ]
  },
  {
   "cell_type": "code",
   "execution_count": 11,
   "metadata": {},
   "outputs": [],
   "source": [
    "pref = importer_donnees('prefectures.csv')\n",
    "\n",
    "for k in range(len(pref)):\n",
    "    pref[k]['lat'] = float(pref[k]['lat'])\n",
    "    pref[k]['long'] = float(pref[k]['long'])\n",
    "    pref[k]['CL_reg'] = bool(int(pref[k]['CL_reg']))\n",
    "\n",
    "pref2 = sorted(pref, key = cle_latitude, reverse = True)"
   ]
  },
  {
   "cell_type": "code",
   "execution_count": 12,
   "metadata": {},
   "outputs": [
    {
     "name": "stdout",
     "output_type": "stream",
     "text": [
      "Bourg-en-Bresse  Laon  Moulins  Digne-les-Bains  Gap  Nice  Privas  Charleville-Mézières  Foix  Troyes  Carcassonne  Rodez  Marseille  Caen  Aurillac  Angoulême  La Rochelle  Bourges  Tulle  Ajaccio  Bastia  Dijon  Saint-Brieuc  Guéret  Périgueux  Besançon  Valence  Évreux  Chartres  Quimper  Nîmes  Toulouse  Auch  Bordeaux  Montpellier  Rennes  Châteauroux  Tours  Grenoble  Lons-le-Saunier  Mont-de-Marsan  Blois  Saint-Étienne  Le Puy-en-Velay  Nantes  Orléans  Cahors  Agen  Mende  Angers  Saint-Lô  Châlons-en-Champagne  Chaumont  Laval  Nancy  Bar-le-Duc  Vannes  Metz  Nevers  Lille  Beauvais  Alençon  Arras  Clermont-Ferrand  Pau  Tarbes  Perpignan  Strasbourg  Colmar  Lyon  Vesoul  Mâcon  Le Mans  Chambéry  Annecy  Paris  Rouen  Melun  Versailles  Niort  Amiens  Albi  Montauban  Toulon  Avignon  La Roche-sur-Yon  Poitiers  Limoges  Épinal  Auxerre  Belfort  Évry  Nanterre  Bobigny  Créteil  Pontoise  Basse-Terre  Fort-de-France  Cayenne  Saint-Denis  Mamoudzou  "
     ]
    }
   ],
   "source": [
    "for k in range(len(pref)):\n",
    "    print(pref[k]['ville'], end = '  ')"
   ]
  },
  {
   "cell_type": "code",
   "execution_count": 13,
   "metadata": {},
   "outputs": [
    {
     "name": "stdout",
     "output_type": "stream",
     "text": [
      "Lille  Arras  Amiens  Charleville-Mézières  Laon  Rouen  Beauvais  Caen  Metz  Saint-Lô  Pontoise  Évreux  Châlons-en-Champagne  Bobigny  Nanterre  Paris  Versailles  Créteil  Bar-le-Duc  Nancy  Évry  Strasbourg  Melun  Saint-Brieuc  Chartres  Alençon  Troyes  Épinal  Chaumont  Rennes  Colmar  Laval  Le Mans  Quimper  Orléans  Auxerre  Vannes  Belfort  Vesoul  Blois  Angers  Tours  Dijon  Besançon  Nantes  Bourges  Nevers  Châteauroux  Lons-le-Saunier  La Roche-sur-Yon  Poitiers  Moulins  Niort  Mâcon  Bourg-en-Bresse  Guéret  La Rochelle  Annecy  Limoges  Clermont-Ferrand  Lyon  Angoulême  Chambéry  Saint-Étienne  Tulle  Grenoble  Périgueux  Le Puy-en-Velay  Valence  Aurillac  Bordeaux  Privas  Gap  Mende  Cahors  Rodez  Agen  Digne-les-Bains  Montauban  Avignon  Albi  Mont-de-Marsan  Nîmes  Nice  Auch  Montpellier  Toulouse  Pau  Marseille  Tarbes  Carcassonne  Toulon  Foix  Bastia  Perpignan  Ajaccio  Basse-Terre  Fort-de-France  Cayenne  Mamoudzou  Saint-Denis  "
     ]
    }
   ],
   "source": [
    "for k in range(len(pref2)):\n",
    "    print(pref2[k]['ville'], end = '  ')"
   ]
  },
  {
   "cell_type": "markdown",
   "metadata": {},
   "source": [
    "**Question 13 :** Ecrire des lignes de code permettant d'afficher les noms des départements français dans l'ordre alphabétique, sans modifier la table `pref` :"
   ]
  },
  {
   "cell_type": "code",
   "execution_count": null,
   "metadata": {},
   "outputs": [],
   "source": []
  },
  {
   "cell_type": "markdown",
   "metadata": {},
   "source": [
    "**Question 14 :** Ecrire des lignes de code permettant d'afficher les préfectures dans l'ordre alphabétique, sans modifier la table `pref` :"
   ]
  },
  {
   "cell_type": "code",
   "execution_count": null,
   "metadata": {},
   "outputs": [],
   "source": []
  },
  {
   "cell_type": "markdown",
   "metadata": {},
   "source": [
    "## Partie D - Fusion de deux tables"
   ]
  },
  {
   "cell_type": "markdown",
   "metadata": {},
   "source": [
    "Le fichier `population.csv` (créé à partir de données récoltées sur le site de l'INSEE) contient la population estimée de chaque département français au 1er janvier 2020, ainsi que la répartition de cette population par tranche d'âge :"
   ]
  },
  {
   "cell_type": "markdown",
   "metadata": {},
   "source": [
    "<div>\n",
    "    \t\t<table align = \"center\">\n",
    "\t\t\t<tr>\n",
    "                <th><center>Tranche</center></th>\n",
    "                <th><center>Population</center></th>\n",
    "            </tr>\n",
    "            <tr>\n",
    "                <td><center>A</center></td>\n",
    "                <td><center>0 à 19 ans</center></td>\n",
    "            </tr>\n",
    "            <tr>\n",
    "                <td><center>B</center></td>\n",
    "                <td><center>20 à 39 ans</center></td>\n",
    "            </tr>\n",
    "            <tr>\n",
    "                <td><center>C</center></td>\n",
    "                <td><center>40 à 59 ans</center></td>\n",
    "            </tr>\n",
    "            <tr>\n",
    "                <td><center>D</center></td>\n",
    "                <td><center>60 à 74 ans</center></td>\n",
    "            </tr>\n",
    "            <tr>\n",
    "                <td><center>E</center></td>\n",
    "                <td><center>plus de 75 ans</center></td>\n",
    "            </tr>\n",
    "\t\t</table>\n",
    "</div>"
   ]
  },
  {
   "cell_type": "markdown",
   "metadata": {},
   "source": [
    "**Question 15 :** Ecrire des lignes de code permettant d'importer les données du fichier `population.csv` dans un tableau `pop` composé de dictionnaires. Les populations seront stockées sous forme d'entiers."
   ]
  },
  {
   "cell_type": "code",
   "execution_count": 15,
   "metadata": {},
   "outputs": [],
   "source": []
  },
  {
   "cell_type": "markdown",
   "metadata": {},
   "source": [
    "Puisque les deux tables `pref` et `pop` possèdent en commun le champ `dep`, il semble intéressant de pouvoir créer une table unique regroupant les données présentes dans chacune des deux tables. On parle de **jointure** des deux tables.\n",
    "\n",
    "On commence par créer une fonction `fusion` dont le rôle est de fusionner deux dictionnaires en un seul :"
   ]
  },
  {
   "cell_type": "code",
   "execution_count": 16,
   "metadata": {},
   "outputs": [],
   "source": [
    "def fusion(d1, d2):\n",
    "    \"\"\"\n",
    "    Fusionne deux dictionnaires\n",
    "    - Entrées : d1 (dictionnaire contenant les clés 'dep', 'dep_nom', 'ville', 'lat' et 'long')\n",
    "                d2 (dictionnaire contenant les clés 'dep', 'popA', 'popB', 'popC', 'popD', 'popE' et 'pop')\n",
    "    - Sortie : (dictionnaire unique contenant toutes les clés citées précédemment)\n",
    "    \"\"\"\n",
    "    return {'dep' : d1['dep'], 'dep_nom' : d1['dep_nom'], 'ville' : d1['ville'], 'lat' : d1['lat'], 'long' : d1['long'],\n",
    "           'popA' : d2['popA'], 'popB' : d2['popB'], 'popC' : d2['popC'], 'popD' : d2['popD'], 'popE' : d2['popE'],\n",
    "           'pop' : d2['pop']}"
   ]
  },
  {
   "cell_type": "markdown",
   "metadata": {},
   "source": [
    "La jointure des deux tables d'effectue alors à l'aide d'une double boucle :"
   ]
  },
  {
   "cell_type": "code",
   "execution_count": 17,
   "metadata": {},
   "outputs": [],
   "source": [
    "table = []\n",
    "for d1 in pref:\n",
    "    for d2 in pop:\n",
    "        if d1['dep'] == d2['dep']:\n",
    "            table.append(fusion(d1, d2))"
   ]
  },
  {
   "cell_type": "markdown",
   "metadata": {},
   "source": [
    "Voici les cinq premiers éléments de la table ainsi obtenue :"
   ]
  },
  {
   "cell_type": "code",
   "execution_count": 18,
   "metadata": {},
   "outputs": [
    {
     "name": "stdout",
     "output_type": "stream",
     "text": [
      "{'dep': '1', 'dep_nom': 'Ain', 'ville': 'Bourg-en-Bresse', 'lat': 46.2025, 'long': 5.221944444444444, 'popA': '167666', 'popB': '151084', 'popC': '179469', 'popD': '104453', 'popE': '54283', 'pop': '656955'}\n",
      "{'dep': '2', 'dep_nom': 'Aisne', 'ville': 'Laon', 'lat': 49.562222222222225, 'long': 3.6225, 'popA': '129852', 'popB': '114042', 'popC': '135164', 'popD': '98046', 'popE': '48946', 'pop': '526050'}\n",
      "{'dep': '3', 'dep_nom': 'Allier', 'ville': 'Moulins', 'lat': 46.568333333333335, 'long': 3.334444444444444, 'popA': '66659', 'popB': '61490', 'popC': '85304', 'popD': '72079', 'popE': '45783', 'pop': '331315'}\n",
      "{'dep': '4', 'dep_nom': 'Alpes-de-Haute-Provence', 'ville': 'Digne-les-Bains', 'lat': 44.09222222222222, 'long': 6.238055555555555, 'popA': '34281', 'popB': '30814', 'popC': '43423', 'popD': '35681', 'popE': '20998', 'pop': '165197'}\n",
      "{'dep': '5', 'dep_nom': 'Hautes-Alpes', 'ville': 'Gap', 'lat': 44.5575, 'long': 6.076111111111111, 'popA': '30280', 'popB': '27715', 'popC': '37829', 'popD': '29047', 'popE': '16885', 'pop': '141756'}\n"
     ]
    }
   ],
   "source": [
    "for k in range(5):\n",
    "    print(table[k])"
   ]
  },
  {
   "cell_type": "markdown",
   "metadata": {},
   "source": [
    "<div class=\"rq\">\n",
    "    On constate que chaque élément de <code>table</code> est un dictionnaire possédant à la fois les clés issues des enregistrements du tableau <code>pref</code> et du tableau <code>pop</code>.</div>"
   ]
  },
  {
   "cell_type": "markdown",
   "metadata": {},
   "source": [
    "Il est enfin possible d'enregistrer la nouvelle table dans un ficher CSV, grâce à la fonction suivante :"
   ]
  },
  {
   "cell_type": "code",
   "execution_count": null,
   "metadata": {},
   "outputs": [],
   "source": [
    "import csv\n",
    "\n",
    "def exporter_donnees(nom_de_fichier, tab):\n",
    "    \"\"\"\n",
    "    Exporte les données de tab vers un fichier CSV\n",
    "    - Entrée : nom_de_fichier (chaîne de caractères correspondant à un nom de fichier CSV), tab (tableau de dictionnaires)\n",
    "    - Effet de bord : écriture dans un fichier texte\n",
    "    Attention : le fichier texte est écrasé, son contenu précédent est effacé\n",
    "    \"\"\"\n",
    "    with open(nom_de_fichier, 'w', encoding = 'utf-8') as fichier:\n",
    "        donnees = csv.DictWriter(fichier, ['dep', 'dep_nom', 'ville', 'lat', 'long', 'popA', 'popB', 'popC',\n",
    "                                           'popD', 'popE', 'pop'], delimiter = ',')\n",
    "        donnees.writeheader() # Ecriture des clés sur la première ligne du fichier CSV\n",
    "        donnees.writerows(tab) # Ecriture des enregistrements à partir de la deuxième ligne du fichier CSV"
   ]
  },
  {
   "cell_type": "code",
   "execution_count": null,
   "metadata": {},
   "outputs": [],
   "source": [
    "exporter_donnees('nouveau.csv', table)"
   ]
  }
 ],
 "metadata": {
  "kernelspec": {
   "display_name": "Python 3 (ipykernel)",
   "language": "python",
   "name": "python3"
  },
  "language_info": {
   "codemirror_mode": {
    "name": "ipython",
    "version": 3
   },
   "file_extension": ".py",
   "mimetype": "text/x-python",
   "name": "python",
   "nbconvert_exporter": "python",
   "pygments_lexer": "ipython3",
   "version": "3.9.12"
  }
 },
 "nbformat": 4,
 "nbformat_minor": 2
}
