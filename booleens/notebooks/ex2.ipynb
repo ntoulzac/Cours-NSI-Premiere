{
 "cells": [
  {
   "cell_type": "markdown",
   "metadata": {},
   "source": [
    "### Exercice 2"
   ]
  },
  {
   "cell_type": "markdown",
   "metadata": {},
   "source": [
    "Un vol de bijoux a été commis et quatre hommes sont suspects... mais un seul est coupable.\n",
    "\n",
    "Voici le signalement des quatre suspects :"
   ]
  },
  {
   "cell_type": "markdown",
   "metadata": {},
   "source": [
    "<div>\n",
    "    \t\t<table align = \"center\">\n",
    "            <tr>\n",
    "                <th><center>Nom du suspect</center></th>\n",
    "                <th><center>Moustache</center></th>\n",
    "\t\t\t\t<th><center>Lunettes</center></th>\n",
    "                <th><center>Cicatrice</center></th>\n",
    "                <th><center>Boucle</center></th>\n",
    "\t\t\t</tr>\n",
    "\t\t\t<tr>\n",
    "                <td><center>Donatello</center></td>\n",
    "\t\t\t\t<td><center>oui</center></td>\n",
    "                <td><center>oui</center></td>\n",
    "                <td><center>oui</center></td>\n",
    "                <td><center>non</center></td>\n",
    "\t\t\t</tr>\n",
    "            <tr>\n",
    "                <td><center>Leonardo</center></td>\n",
    "\t\t\t\t<td><center>oui</center></td>\n",
    "                <td><center>non</center></td>\n",
    "                <td><center>non</center></td>\n",
    "                <td><center>oui</center></td>\n",
    "\t\t\t</tr>\n",
    "\t\t\t<tr>\n",
    "                <td><center>Michelangelo</center></td>\n",
    "\t\t\t\t<td><center>non</center></td>\n",
    "                <td><center>oui</center></td>\n",
    "                <td><center>oui</center></td>\n",
    "                <td><center>oui</center></td>\n",
    "\t\t\t</tr>\n",
    "\t\t\t<tr>\n",
    "                <td><center>Raffaello</center></td>\n",
    "\t\t\t\t<td><center>non</center></td>\n",
    "                <td><center>non</center></td>\n",
    "                <td><center>non</center></td>\n",
    "                <td><center>non</center></td>\n",
    "\t\t\t</tr>\n",
    "\t\t</table>\n",
    "</div>"
   ]
  },
  {
   "cell_type": "markdown",
   "metadata": {},
   "source": [
    "Lors de leur passage devant les policiers, les suspects déclarent :\n",
    "\n",
    "- Donatello : \"Le coupable a une boucle d'oreille !\"\n",
    "- Leonardo : \"Le coupable a des lunettes !\"\n",
    "- Michelangelo : \"Le coupable n'a pas de cicatrice !\"\n",
    "- Raffaello : \"Le coupable a une moustache !\"\n",
    "\n",
    "Sachant que le coupable ment et que les innocents disent la vérité, qui est coupable ?"
   ]
  },
  {
   "cell_type": "code",
   "execution_count": null,
   "metadata": {},
   "outputs": [],
   "source": []
  }
 ],
 "metadata": {
  "kernelspec": {
   "display_name": "Python 3 (ipykernel)",
   "language": "python",
   "name": "python3"
  },
  "language_info": {
   "codemirror_mode": {
    "name": "ipython",
    "version": 3
   },
   "file_extension": ".py",
   "mimetype": "text/x-python",
   "name": "python",
   "nbconvert_exporter": "python",
   "pygments_lexer": "ipython3",
   "version": "3.9.12"
  }
 },
 "nbformat": 4,
 "nbformat_minor": 2
}
