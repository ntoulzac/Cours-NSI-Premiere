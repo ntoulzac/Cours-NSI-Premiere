{
 "cells": [
  {
   "cell_type": "markdown",
   "metadata": {},
   "source": [
    "<div style='background-color: #87ceeb;\n",
    "    border: 0.5em solid black;\n",
    "    border-radius: 0.5em;\n",
    "    padding: 1em;'>\n",
    "    <h2>Activité 2-02</h2>\n",
    "    <h1>Conjecture de Syracuse</h1>\n",
    "</div>"
   ]
  },
  {
   "cell_type": "markdown",
   "metadata": {},
   "source": [
    "La **suite de Syracuse** est une suite mathématique définie de la façon suivante :\n",
    "- On considère une valeur initiale `s` entière strictement positive.\n",
    "- On remplace `s` par `s // 2` dans le cas où `s` est paire, et par `3 * s + 1` dans le cas où `s` est impaire.\n",
    "- On répète l'opération précédente, et on s'arrête dans le cas où `s` vaut `1`.\n",
    "\n",
    "**1.** Calculer quels sont les termes de la suite de Syracuse si la valeur initiale est `3`."
   ]
  },
  {
   "cell_type": "markdown",
   "metadata": {},
   "source": [
    "`3  -->  10  -->  5  -->  16  -->  8  -->  4  -->  2  -->  1`"
   ]
  },
  {
   "cell_type": "markdown",
   "metadata": {},
   "source": [
    "La **conjecture de Syracuse**, qui n'est pas démontrée à ce jour, énonce que `s` finit toujours par valoir `1`, et ce quelle que soit sa valeur initiale.\n",
    "\n",
    "Notre but est de vérifier que la conjecture est vraie pour toutes les valeurs initiales de `s` comprises entre `1` et `100000`.\n",
    "\n",
    "**2.** Quel est le rôle des lignes de code suivantes ? Préciser quelle expression booléenne est utilisée et dans quel cas elle vaut `Vrai`."
   ]
  },
  {
   "cell_type": "code",
   "execution_count": null,
   "metadata": {},
   "outputs": [],
   "source": [
    "n = 1793\n",
    "if n % 2 == 0:\n",
    "    print(\"n est pair\")\n",
    "else:\n",
    "    print(\"n est impair\")"
   ]
  },
  {
   "cell_type": "markdown",
   "metadata": {},
   "source": [
    "Les lignes de code ci-dessus permettent d'afficher, selon la valeur de `n`, que `n` est pair ou impair.\n",
    "\n",
    "L'expression booléenne utilisée est `n % 2 == 0`. Elle vaut `True` lorsque `n` est pair et elle vaut `False` lorsque `n` est impair."
   ]
  },
  {
   "cell_type": "markdown",
   "metadata": {},
   "source": [
    "**3.** Écrire des lignes de code permettant de calculer le successeur d'un entier `s` dans la suite de Syracuse. Préciser quelle expression booléenne est utilisée."
   ]
  },
  {
   "cell_type": "code",
   "execution_count": null,
   "metadata": {},
   "outputs": [],
   "source": [
    "n = 5\n",
    "if n % 2 == 0:\n",
    "    n = n // 2\n",
    "else:\n",
    "    n = 3*n + 1"
   ]
  },
  {
   "cell_type": "markdown",
   "metadata": {},
   "source": [
    "L'expression booléenne `n % 2 == 0` permet de déterminer si `n` est pair (auquel cas on le divise par 2) ou si `n` est impair (auquel cas on le multiplie par 3 et on ajoute 1)."
   ]
  },
  {
   "cell_type": "markdown",
   "metadata": {},
   "source": [
    "**4.** Compléter les lignes de code dans le but de vérifier la conjecture de Syracuse dans le cas où la valeur initiale de `s` est `100000`. Préciser quelles expressions booléennes sont utilisées."
   ]
  },
  {
   "cell_type": "code",
   "execution_count": null,
   "metadata": {},
   "outputs": [],
   "source": [
    "valeur_initiale = 100000\n",
    "s = valeur_initiale\n",
    "while s != 1:\n",
    "    if s % 2 == 0:\n",
    "        s = s // 2\n",
    "    else:\n",
    "        s = 3*s + 1\n",
    "print('Conjecture vérifiée pour la valeur initiale', valeur_initiale)"
   ]
  },
  {
   "cell_type": "markdown",
   "metadata": {},
   "source": [
    "Les deux expressions booléennes utilisées sont `s != 1` (ligne 3) et `s % 2 == 0` (ligne 4)."
   ]
  },
  {
   "cell_type": "markdown",
   "metadata": {},
   "source": [
    "**5.** Compléter les lignes de code dans le but de vérifier la conjecture de Syracuse pour toutes les valeurs initiales comprises entre `1` et `100000`."
   ]
  },
  {
   "cell_type": "code",
   "execution_count": null,
   "metadata": {},
   "outputs": [],
   "source": [
    "entier_max = 100000\n",
    "for valeur_initiale in range(1, entier_max + 1):\n",
    "    s = valeur_initiale\n",
    "    while s != 1:\n",
    "        if s % 2 == 0:\n",
    "            s = s // 2\n",
    "        else:\n",
    "            s = 3*s + 1\n",
    "print('Conjecture vérifiée pour tous les entiers de 1 à', entier_max)"
   ]
  },
  {
   "cell_type": "markdown",
   "metadata": {},
   "source": [
    "Il peut être intéressant de mesurer le **temps d'exécution** d'une cellule *Jupyter Notebook*, ce qui est possible en utilisant l'outil *Time it*.\n",
    "\n",
    "**6.** En insérant au début de la cellule précédente la ligne de code `%%timeit -n 1 -r 5`, demander à *Jupyter Notebook* de réaliser cinq exécutions successives de la cellule puis d'en afficher le temps moyen d'exécution."
   ]
  },
  {
   "cell_type": "code",
   "execution_count": null,
   "metadata": {},
   "outputs": [],
   "source": [
    "%%timeit -n 1 -r 5 # Mesure le temps moyen d'exécution de la cellule\n",
    "\n",
    "entier_max = 100000\n",
    "for valeur_initiale in range(1, entier_max + 1):\n",
    "    s = valeur_initiale\n",
    "    while s != 1:\n",
    "        if s % 2 == 0:\n",
    "            s = s // 2\n",
    "        else:\n",
    "            s = 3*s + 1\n",
    "print('Conjecture vérifiée pour tous les entiers de 1 à', entier_max)"
   ]
  }
 ],
 "metadata": {
  "kernelspec": {
   "display_name": "Python 3 (ipykernel)",
   "language": "python",
   "name": "python3"
  },
  "language_info": {
   "codemirror_mode": {
    "name": "ipython",
    "version": 3
   },
   "file_extension": ".py",
   "mimetype": "text/x-python",
   "name": "python",
   "nbconvert_exporter": "python",
   "pygments_lexer": "ipython3",
   "version": "3.9.12"
  }
 },
 "nbformat": 4,
 "nbformat_minor": 2
}
