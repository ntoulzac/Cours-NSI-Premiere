{
 "cells": [
  {
   "cell_type": "markdown",
   "metadata": {},
   "source": [
    "<div style='background-color: #87ceeb;\n",
    "    border: 0.5em solid black;\n",
    "    border-radius: 0.5em;\n",
    "    padding: 1em;'>\n",
    "    <h2>Activité 2-02</h2>\n",
    "    <h1>Conjecture de Syracuse</h1>\n",
    "</div>"
   ]
  },
  {
   "cell_type": "markdown",
   "metadata": {},
   "source": [
    "À écrire...\n",
    "\n",
    "La **suite de Syracuse** est une suite mathématique définie de la façon suivante :\n",
    "- On considère une valeur initiale ``s`` entière strictement positive.\n",
    "- On remplace ``s`` par ``s // 2`` dans le cas où ``s`` est paire, et par ``3 * s + 1`` dans le cas où ``s`` est impaire.\n",
    "- On répète l'opération précédente, et on s'arrête dans le cas où ``s`` vaut ``1``.\n",
    "\n",
    "La **conjecture de Syracuse**, qui n'est pas démontrée à ce jour, énonce que ``s`` finit toujours par valoir ``1``, et ce quelle que soit sa valeur initiale.\n",
    "\n",
    "Notre but est de vérifier que la conjecture est vraie pour toutes les valeurs initiales de ``s`` comprises entre ``1`` et ``100000``.\n",
    "\n",
    "**Question 2 :** Quel est le rôle des lignes de code suivantes ? Préciser quelle expression booléenne est utilisée et dans quel cas elle vaut ``Vrai``."
   ]
  },
  {
   "cell_type": "code",
   "execution_count": null,
   "metadata": {},
   "outputs": [],
   "source": [
    "n = 2019\n",
    "if n % 2 == 0:\n",
    "    print('n est pair')\n",
    "else:\n",
    "    print('n est impair')"
   ]
  },
  {
   "cell_type": "markdown",
   "metadata": {},
   "source": [
    "**Question 3 :** Écrire des lignes de code permettant de calculer le successeur d'un entier ``s`` dans la suite de Syracuse. Préciser quelle expression booléenne est utilisée."
   ]
  },
  {
   "cell_type": "code",
   "execution_count": null,
   "metadata": {},
   "outputs": [],
   "source": []
  },
  {
   "cell_type": "markdown",
   "metadata": {},
   "source": [
    "**Question 4 :** Compléter les lignes de code dans le but de vérifier la conjecture de Syracuse dans le cas où la valeur initiale de ``s`` est ``100000``. Préciser quelles expressions booléennes sont utilisées."
   ]
  },
  {
   "cell_type": "code",
   "execution_count": null,
   "metadata": {},
   "outputs": [],
   "source": [
    "valeur_initiale = 100000\n",
    "s = ......\n",
    "while ......:\n",
    "    ......\n",
    "print('Conjecture vérifiée pour la valeur initiale', valeur_initiale)"
   ]
  },
  {
   "cell_type": "markdown",
   "metadata": {},
   "source": [
    "**Question 5 :** Compléter les lignes de code dans le but de vérifier la conjecture de Syracuse pour toutes les valeurs initiales comprises entre ``1`` et ``100000``."
   ]
  },
  {
   "cell_type": "code",
   "execution_count": null,
   "metadata": {},
   "outputs": [],
   "source": [
    "entier_max = ......\n",
    "for valeur_initiale in ......:\n",
    "    s = ......\n",
    "    ......\n",
    "print('Conjecture vérifiée pour tous les entiers de 1 à', entier_max)"
   ]
  },
  {
   "cell_type": "markdown",
   "metadata": {},
   "source": [
    "Il peut être intéressant de mesurer le **temps d'exécution** d'une cellule *Jupyter Notebook*, ce qui est possible en utilisant l'outil *Time it*.\n",
    "\n",
    "**Question 6 :** En insérant au début de la cellule précédente la ligne de code ``%%timeit -n 1 -r 5``, demander à *Jupyter Notebook* de réaliser cinq exécutions successives de la cellule puis d'en afficher le temps moyen d'exécution."
   ]
  },
  {
   "cell_type": "code",
   "execution_count": null,
   "metadata": {},
   "outputs": [],
   "source": [
    "%%timeit -n 1 -r 5 # Mesure le temps moyen d'exécution de la cellule\n",
    "\n",
    "# Code à recopier"
   ]
  }
 ],
 "metadata": {
  "kernelspec": {
   "display_name": "Python 3 (ipykernel)",
   "language": "python",
   "name": "python3"
  },
  "language_info": {
   "codemirror_mode": {
    "name": "ipython",
    "version": 3
   },
   "file_extension": ".py",
   "mimetype": "text/x-python",
   "name": "python",
   "nbconvert_exporter": "python",
   "pygments_lexer": "ipython3",
   "version": "3.9.12"
  }
 },
 "nbformat": 4,
 "nbformat_minor": 2
}
