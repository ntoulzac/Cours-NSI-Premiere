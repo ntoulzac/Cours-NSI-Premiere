{
 "cells": [
  {
   "cell_type": "markdown",
   "metadata": {},
   "source": [
    "# Chapitre 6 : p-uplets et dictionnaires\n",
    "\n",
    "***p-uplets, fonctions retournant un p-uplet, p-uplets nommés, dictionnaires, clés et valeurs***"
   ]
  },
  {
   "cell_type": "markdown",
   "metadata": {},
   "source": [
    "## Partie A - p-uplets"
   ]
  },
  {
   "cell_type": "markdown",
   "metadata": {},
   "source": [
    "### Notion de p-uplet"
   ]
  },
  {
   "cell_type": "markdown",
   "metadata": {},
   "source": [
    "Un **p-uplet** permet, comme un tableau, de stocker en mémoire plusieurs valeurs dans une seule variable. En Python, le type p-uplet est appelé ``tuple``.\n",
    "\n",
    "Les extrémités du p-uplet sont repérées par des **parenthèses** et les valeurs sont séparées par des virgules."
   ]
  },
  {
   "cell_type": "code",
   "execution_count": null,
   "metadata": {},
   "outputs": [],
   "source": [
    "date = (\"La prise de la Bastille\", 14, 7, 1789)"
   ]
  },
  {
   "cell_type": "markdown",
   "metadata": {},
   "source": [
    "Comme pour un tableau, les valeurs contenues dans un p-uplet sont **indexées par des entiers**, à partir de l'index ``0``, et la fonction ``len`` permet de connaître le nombre de valeurs contenues dans le p-uplet."
   ]
  },
  {
   "cell_type": "code",
   "execution_count": null,
   "metadata": {},
   "outputs": [],
   "source": [
    "print(f\"{date[0]} a eu lieu le {date[1]}/{date[2]}/{date[3]}.\")"
   ]
  },
  {
   "cell_type": "code",
   "execution_count": null,
   "metadata": {},
   "outputs": [],
   "source": [
    "len(date)"
   ]
  },
  {
   "cell_type": "markdown",
   "metadata": {},
   "source": [
    "Mais, à la différence d'un tableau, il n'est pas possible de modifier les valeurs contenues dans un p-uplet, ou d'en ajouter. On parle d'**immutabilité**."
   ]
  },
  {
   "cell_type": "code",
   "execution_count": null,
   "metadata": {},
   "outputs": [],
   "source": [
    "date[0] = \"La fête de la Fédération\" # Ces affectations\n",
    "date[3] = 1790                       # provoquent une erreur"
   ]
  },
  {
   "cell_type": "markdown",
   "metadata": {},
   "source": [
    "Seule une redéfinition complète du p-uplet est possible."
   ]
  },
  {
   "cell_type": "code",
   "execution_count": null,
   "metadata": {},
   "outputs": [],
   "source": [
    "date = (\"La fête de la Fédération\", 14, 7, 1790)\n",
    "print(f\"{date[0]} a eu lieu le {date[1]}/{date[2]}/{date[3]}.\")"
   ]
  },
  {
   "cell_type": "markdown",
   "metadata": {},
   "source": [
    "Le tableau ``union_europeenne`` défini ci-dessous contient six p-uplets représentant les six pays fondateurs de l'UE.\n",
    "\n",
    "Chaque p-uplet contient trois valeurs : le nom du pays, sa population en 2016 (en milliers d'habitants) et sa superficie (en kilomètres carrés)."
   ]
  },
  {
   "cell_type": "code",
   "execution_count": null,
   "metadata": {},
   "outputs": [],
   "source": [
    "union_europeenne = [(\"Allemagne\", 82162, 356900),\n",
    "                    (\"Belgique\", 11289, 30500),\n",
    "                    (\"France\", 66661, 544000),\n",
    "                    (\"Italie\", 60665, 301300),\n",
    "                    (\"Luxembourg\", 576, 2600),\n",
    "                    (\"Pays-Bas\", 16979, 41200)]"
   ]
  },
  {
   "cell_type": "markdown",
   "metadata": {},
   "source": [
    "**Question 1 :** Ecrire le code permettant de calculer la population totale des six pays fondateurs de l'UE."
   ]
  },
  {
   "cell_type": "code",
   "execution_count": null,
   "metadata": {},
   "outputs": [],
   "source": [
    "population = 0\n",
    "for k in range(len(union_europeenne)):\n",
    "    population = population + union_europeenne[k][1]*1000\n",
    "print(population)"
   ]
  },
  {
   "cell_type": "markdown",
   "metadata": {},
   "source": [
    "**Question 2 :** Ecrire le code permettant d'afficher, pour chaque pays fondateur de l'UE, sa densité de population (en habitants par kilomètre carré, arrondie à l'entier le plus proche grâce à la fonction ``round``)."
   ]
  },
  {
   "cell_type": "code",
   "execution_count": null,
   "metadata": {},
   "outputs": [],
   "source": [
    "for k in range(len(union_europeenne)):\n",
    "    nom = union_europeenne[k][0]\n",
    "    densite = round(union_europeenne[k][1]*1000/union_europeenne[k][2])\n",
    "    print(f\"{nom} : {densite} hab/km2\")"
   ]
  },
  {
   "cell_type": "markdown",
   "metadata": {},
   "source": [
    "### Utilisation des p-uplets pour permettre à une fonction de retourner plusieurs valeurs"
   ]
  },
  {
   "cell_type": "markdown",
   "metadata": {},
   "source": [
    "**Question 3 :** Ecrire la spécification de la fonction suivante :"
   ]
  },
  {
   "cell_type": "code",
   "execution_count": null,
   "metadata": {},
   "outputs": [],
   "source": [
    "def perimetre_et_aire_triangle(a, b, c):\n",
    "    \"\"\"\n",
    "    Calcule le périmètre et l'aire d'un triangle.\n",
    "    - Entrées : a, b, c (nombres, longueur des côtés du triangle)\n",
    "    - Sortie : (perimetre, aire) (couple de nombres)\n",
    "    \"\"\"\n",
    "    if type(a) not in [int, float] or type(b) not in [int, float] or type(c) not in [int, float]:\n",
    "        raise TypeError(\"les paramètres doivent être des nombres\")\n",
    "    if a <= 0 or b <= 0 or c <= 0:\n",
    "        raise ValueError(\"les paramètres doivent être strictement positifs\")\n",
    "    perimetre = a + b + c\n",
    "    demi_per = perimetre / 2\n",
    "    # l'aire du triangle est calculée avec la formule de Héron\n",
    "    aire = (demi_per * (demi_per-a) * (demi_per-b) * (demi_per-c))**0.5\n",
    "    return (perimetre, aire)"
   ]
  },
  {
   "cell_type": "markdown",
   "metadata": {},
   "source": [
    "Il y a deux façons d'appeler une fonction qui retourne un p-uplet."
   ]
  },
  {
   "cell_type": "code",
   "execution_count": null,
   "metadata": {},
   "outputs": [],
   "source": [
    "couple = perimetre_et_aire_triangle(3, 4, 5)\n",
    "print(f\"Le périmètre est {couple[0]} et l'aire est {couple[1]}\")"
   ]
  },
  {
   "cell_type": "markdown",
   "metadata": {},
   "source": [
    "Dans le premier cas, les deux valeurs du p-uplet retourné sont stockées dans une seule variable."
   ]
  },
  {
   "cell_type": "code",
   "execution_count": null,
   "metadata": {},
   "outputs": [],
   "source": [
    "p, a = perimetre_et_aire_triangle(3, 4, 5)\n",
    "print(f\"Le périmètre est {p} et l'aire est {a}\")"
   ]
  },
  {
   "cell_type": "markdown",
   "metadata": {},
   "source": [
    "Dans le second cas, ces deux valeurs sont stockées dans deux variables indépendantes."
   ]
  },
  {
   "cell_type": "markdown",
   "metadata": {},
   "source": [
    "**Question 4 :** Définir une fonction ``nouveau_pays`` qui demande à l'utilisateur de saisir successivement au clavier le nom, la population et la superficie d'un pays, et qui retourne un p-uplet de la forme ``(nom, population, superficie)``."
   ]
  },
  {
   "cell_type": "code",
   "execution_count": null,
   "metadata": {},
   "outputs": [],
   "source": [
    "def nouveau_pays():\n",
    "    nom = input(\"Saisir le nom du pays : \")\n",
    "    population = int(input(\"Saisir sa population (en milliers) : \"))\n",
    "    superficie = int(input(\"Saisir sa superficie (en km²) : \"))\n",
    "    return nom, population, superficie"
   ]
  },
  {
   "cell_type": "markdown",
   "metadata": {},
   "source": [
    "<div>\n",
    "    \t\t<table align = \"center\">\n",
    "\t\t\t<tr>\n",
    "                <th><center>Nom du pays</center></th>\n",
    "                <th><center>Population (milliers)</center></th>\n",
    "                <th><center>Superficie (km2)</center></th>\n",
    "                <th><center>Nom du pays</center></th>\n",
    "                <th><center>Population (milliers)</center></th>\n",
    "                <th><center>Superficie (km2)</center></th>\n",
    "                <th><center>Nom du pays</center></th>\n",
    "                <th><center>Population (milliers)</center></th>\n",
    "                <th><center>Superficie (km2)</center></th>\n",
    "            </tr>\n",
    "            <tr>\n",
    "                <td><center>Autriche</center></td>\n",
    "                <td><center>8 508</center></td>\n",
    "                <td><center>83 900</center></td> \n",
    "                <td><center>Finlande</center></td>\n",
    "                <td><center>5 451</center></td>\n",
    "                <td><center>337 100</center></td>\n",
    "                <td><center>Pologne</center></td>\n",
    "                <td><center>38 496</center></td>\n",
    "                <td><center>312 678</center></td> \n",
    "            </tr>\n",
    "            <tr>\n",
    "                <td><center>Bulgarie</center></td>\n",
    "                <td><center>7 246</center></td>\n",
    "                <td><center>110 910</center></td>\n",
    "                <td><center>Grèce</center></td>\n",
    "                <td><center>10 993</center></td>\n",
    "                <td><center>132 000</center></td> \n",
    "                <td><center>Portugal</center></td>\n",
    "                <td><center>10 427</center></td>\n",
    "                <td><center>92 400</center></td> \n",
    "            </tr>\n",
    "            <tr>\n",
    "                <td><center>Chypre</center></td>\n",
    "                <td><center>858</center></td>\n",
    "                <td><center>9 251</center></td> \n",
    "                <td><center>Hongrie</center></td>\n",
    "                <td><center>9 879</center></td>\n",
    "                <td><center>93 032</center></td> \n",
    "                <td><center>Roumanie</center></td>\n",
    "                <td><center>19 943</center></td>\n",
    "                <td><center>238 391</center></td> \n",
    "            </tr>\n",
    "            <tr>\n",
    "                <td><center>Croatie</center></td>\n",
    "                <td><center>4 246</center></td>\n",
    "                <td><center>56 642</center></td> \n",
    "                <td><center>Irlande</center></td>\n",
    "                <td><center>4 604</center></td>\n",
    "                <td><center>70 300</center></td> \n",
    "                <td><center>Slovaquie</center></td>\n",
    "                <td><center>5 416</center></td>\n",
    "                <td><center>49 035</center></td> \n",
    "            </tr>\n",
    "            <tr>\n",
    "                <td><center>Danemark</center></td>\n",
    "                <td><center>5 627</center></td>\n",
    "                <td><center>43 100</center></td>  \n",
    "                <td><center>Lettonie</center></td>\n",
    "                <td><center>2 001</center></td>\n",
    "                <td><center>64 597</center></td> \n",
    "                <td><center>Slovénie</center></td>\n",
    "                <td><center>2 061</center></td>\n",
    "                <td><center>20 273</center></td> \n",
    "            </tr>\n",
    "            <tr>\n",
    "                <td><center>Espagne</center></td>\n",
    "                <td><center>46 508</center></td>\n",
    "                <td><center>504 800</center></td>\n",
    "                <td><center>Lituanie</center></td>\n",
    "                <td><center>2 943</center></td>\n",
    "                <td><center>65 300</center></td> \n",
    "                <td><center>Suède</center></td>\n",
    "                <td><center>9 645</center></td>\n",
    "                <td><center>450 000</center></td> \n",
    "            </tr>\n",
    "            <tr>\n",
    "                <td><center>Estonie</center></td>\n",
    "                <td><center>1 316</center></td>\n",
    "                <td><center>45 227</center></td>    \n",
    "                <td><center>Malte</center></td>\n",
    "                <td><center>425</center></td>\n",
    "                <td><center>316</center></td> \n",
    "                <td><center>Rép. tchèque</center></td>\n",
    "                <td><center>10 512</center></td>\n",
    "                <td><center>78 870</center></td> \n",
    "            </tr>\n",
    "\t\t</table>\n",
    "</div>"
   ]
  },
  {
   "cell_type": "markdown",
   "metadata": {},
   "source": [
    "**Question 5 :** Après avoir exécuté les deux cellules ci-dessous, expliquer le rôle de la fonction ``clear_output``."
   ]
  },
  {
   "cell_type": "code",
   "execution_count": null,
   "metadata": {},
   "outputs": [],
   "source": [
    "from IPython.display import clear_output"
   ]
  },
  {
   "cell_type": "code",
   "execution_count": null,
   "metadata": {},
   "outputs": [],
   "source": [
    "for _ in range(21):\n",
    "    union_europeenne.append(nouveau_pays())\n",
    "    clear_output()"
   ]
  },
  {
   "cell_type": "markdown",
   "metadata": {},
   "source": [
    "La fonction `clear_output` permet d'effacer ce qui a été précédemment affiché sous la cellule du carnet _Jupyter_."
   ]
  },
  {
   "cell_type": "markdown",
   "metadata": {},
   "source": [
    "**Question 6 :** Ecrire un programme calculant la population, la superficie et la densité de population de l'UE."
   ]
  },
  {
   "cell_type": "code",
   "execution_count": null,
   "metadata": {},
   "outputs": [],
   "source": [
    "population = 0\n",
    "superficie = 0\n",
    "for k in range(len(union_europeenne)):\n",
    "    population = population + union_europeenne[k][1]*1000\n",
    "    superficie = superficie + union_europeenne[k][2]\n",
    "print(f\"La population de l'UE est de {population} hab. Sa superficie est de {superficie} km².\")\n",
    "print(f\"Cela représente une densité de {round(population / superficie)} hab/km².\")"
   ]
  },
  {
   "cell_type": "markdown",
   "metadata": {},
   "source": [
    "## Partie B - Dictionnaires"
   ]
  },
  {
   "cell_type": "markdown",
   "metadata": {},
   "source": [
    "Les éléments d'un tableau ou d'un p-uplet sont toujours indexés par des entiers positifs, ce qui peut rendre leur manipulation délicate ou créer des confusions.\n",
    "\n",
    "En reprenant l'exemple des pays de l'UE traité précédemment, il est nécessaire de se souvenir que chaque pays est représenté par un p-uplet dont la première valeur est le nom du pays, la deuxième la population et la troisième la superficie.\n",
    "\n",
    "Si on souhaite que les valeurs soient **indexées par des mots-clés** plutôt que par des entiers, on utilise un type de variable particulier : un **dictionnaire**.\n",
    "\n",
    "Les extrémités d'un dictionnaire sont repérées par des **accolades**. Chaque valeur est précédée d'une clé, avec la syntaxe ``cle : valeur``, et les associations clé/valeur sont séparées les unes des autres par des virgules."
   ]
  },
  {
   "cell_type": "code",
   "execution_count": null,
   "metadata": {},
   "outputs": [],
   "source": [
    "pays = {\"nom\" : \"la France\", \"population\" : 66661, \"superficie\" : 544000}"
   ]
  },
  {
   "cell_type": "markdown",
   "metadata": {},
   "source": [
    "**Question 7 :** Après avoir exécuté la cellule suivante, expliquer le rôle de la fonction ``len`` et des commandes ``.keys()``, ``.values()`` et ``.items()``."
   ]
  },
  {
   "cell_type": "code",
   "execution_count": null,
   "metadata": {},
   "outputs": [],
   "source": [
    "print(len(pays))\n",
    "print(pays.keys())\n",
    "print(pays.values())\n",
    "print(pays.items())"
   ]
  },
  {
   "cell_type": "markdown",
   "metadata": {},
   "source": [
    "`len(pays)` donne le nombre de clés présentes dans le dictionnaire `pays`.\n",
    "\n",
    "La commande `.keys()` permet d'accéder à la liste des clés d'un dictionnaire.\n",
    "\n",
    "La commande `.values()` permet d'accéder à la liste des valeurs associées aux clés d'un dictionnaire.\n",
    "\n",
    "La commande `.items()` permet d'accéder à la liste des associations clé-valeur d'un dictionnaire."
   ]
  },
  {
   "cell_type": "markdown",
   "metadata": {},
   "source": [
    "**Question 8 :** Dans la cellule suivante, on définit une fonction ``afficher_informations``. Compléter la spécification de la fonction en indiquant quelles clés doit au minimum contenir le dictionnaire ``p`` pour que l'exécution se déroule sans erreur."
   ]
  },
  {
   "cell_type": "code",
   "execution_count": null,
   "metadata": {},
   "outputs": [],
   "source": [
    "def afficher_informations(pays):\n",
    "    \"\"\"\n",
    "    Affiche à l'écran diverses informations sur le pays\n",
    "    - Entrée : pays (dictionnaire contenant au moins les clés \"nom\", \"population\" et \"superficie\")\n",
    "    - Effet de bord : affichage à l'écran\n",
    "    \"\"\"\n",
    "    if type(pays) != dict:\n",
    "        raise TypeError(\"le paramètre doit être un dictionnaire\")\n",
    "    for cle in [\"nom\", \"population\", \"superficie\"]:\n",
    "        if cle not in pays.keys():\n",
    "            raise KeyError(f\"le paramètre doit posséder la clé '{cle}'\")\n",
    "    print(f\"\"\"La population de {pays[\"nom\"]} est de {pays[\"population\"]*1000} hab.\"\"\")\n",
    "    print(f\"\"\"Sa superficie est de {pays[\"superficie\"]} km2.\"\"\")\n",
    "    print(f\"\"\"Sa densité est de {round(pays[\"population\"]*1000/pays[\"superficie\"])} hab/km2.\"\"\")\n",
    "    if \"monnaie\" in pays.keys():\n",
    "        print(f\"\"\"Sa monnaie est {pays[\"monnaie\"]}.\"\"\")"
   ]
  },
  {
   "cell_type": "code",
   "execution_count": null,
   "metadata": {},
   "outputs": [],
   "source": [
    "afficher_informations(pays)"
   ]
  },
  {
   "cell_type": "markdown",
   "metadata": {},
   "source": [
    "Un dictionnaire est **mutable** : il est possible de modifier la valeur associée à une clé, de créer une clé supplémentaire ou de supprimer une clé."
   ]
  },
  {
   "cell_type": "code",
   "execution_count": null,
   "metadata": {},
   "outputs": [],
   "source": [
    "# On modifie la valeur associée à trois clés existantes\n",
    "pays[\"nom\"] = \"la Grèce\"\n",
    "pays[\"population\"] = 10993\n",
    "pays[\"superficie\"] = 132000\n",
    "# On définit deux nouvelles clés\n",
    "pays[\"capitale\"] = \"Athènes\"\n",
    "pays[\"monnaie\"] = \"l'euro\"\n",
    "afficher_informations(pays)"
   ]
  },
  {
   "cell_type": "markdown",
   "metadata": {},
   "source": [
    "<div class=\"rq\">\n",
    "    L'exécution de cette cellule a entraîné la <b>définition</b> de deux nouvelles clés pour le dictionnaire <code>pays</code>, à savoir <code>\"capitale\"</code> et <code>\"monnaie\"</code>.<br>\n",
    "    La syntaxe pour définir une nouvelle clé est la suivante : <code>dictionnaire[nouvelle_cle] = nouvelle_valeur</code>.\n",
    "</div>"
   ]
  },
  {
   "cell_type": "code",
   "execution_count": null,
   "metadata": {},
   "outputs": [],
   "source": [
    "# On supprime une clé\n",
    "del pays[\"nom\"]\n",
    "print(pays.keys())"
   ]
  },
  {
   "cell_type": "markdown",
   "metadata": {},
   "source": [
    "<div class=\"rq\">\n",
    "L'exécution de cette cellule a entraîné la <b>suppression</b> de la clé <code>\"nom\"</code>.<br>\n",
    "La syntaxe pour supprimer une clé est la suivante : <code>del dictionnaire[cle_a_supprimer]</code>.\n",
    "</div>"
   ]
  },
  {
   "cell_type": "markdown",
   "metadata": {},
   "source": [
    "## Ce que vous devez savoir"
   ]
  },
  {
   "cell_type": "markdown",
   "metadata": {},
   "source": [
    "<div class=\"rq2\">\n",
    "    <ul>\n",
    "        <li>Définir un p-uplet.</li>\n",
    "        <li>Accéder aux valeurs contenues dans un p-uplet via leur index.</li>\n",
    "        <li>Utiliser la fonction <code>round</code> pour arrondir une valeur numérique.</li>\n",
    "        <li>Utiliser la fonction <code>clear_output</code> effacer l'affichage sous la cellule en cours d'exécution.</li>\n",
    "        <li>Définir un dictionnaire en listant ses associations clé/valeur.</li>\n",
    "        <li>Utiliser sur un dictionnaire la fonction <code>len</code> et les commandes <code>.keys()</code>, <code>.values()</code> et <code>.items()</code>.</li>\n",
    "         <li>Ecrire une assertion permettant de vérifier qu'un dictionnaire dispose de certaines clés.</li>\n",
    "         <li>Ajouter ou supprimer des associations clé/valeur dans un dictionnaire.</li>\n",
    "    </ul>\n",
    "</div>"
   ]
  }
 ],
 "metadata": {
  "kernelspec": {
   "display_name": "Python 3 (ipykernel)",
   "language": "python",
   "name": "python3"
  },
  "language_info": {
   "codemirror_mode": {
    "name": "ipython",
    "version": 3
   },
   "file_extension": ".py",
   "mimetype": "text/x-python",
   "name": "python",
   "nbconvert_exporter": "python",
   "pygments_lexer": "ipython3",
   "version": "3.9.12"
  }
 },
 "nbformat": 4,
 "nbformat_minor": 2
}
