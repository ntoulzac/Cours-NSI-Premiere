{
 "cells": [
  {
   "cell_type": "markdown",
   "metadata": {},
   "source": [
    "# Chapitre 5 : Tableaux\n",
    "\n",
    "***Définition en extension, accès et modification de valeurs grâce à leur index, définition en compréhension, tris par sélection ou par insertion, tableaux à plusieurs dimensions***"
   ]
  },
  {
   "cell_type": "markdown",
   "metadata": {},
   "source": [
    "## Partie A - Notion de tableau"
   ]
  },
  {
   "cell_type": "markdown",
   "metadata": {},
   "source": [
    "### Définition d'un tableau en extension"
   ]
  },
  {
   "cell_type": "markdown",
   "metadata": {},
   "source": [
    "Un **tableau** permet de stocker en mémoire plusieurs valeurs dans une seule variable.\n",
    "\n",
    "Une façon de définir un tableau est d'indiquer **entre crochets** les différentes valeurs, séparées par des virgules. On parle alors de **définition en extension**.\n",
    "\n",
    "**(1)** Donner la définition en extension d'un tableau `mois` contenant les noms des six premiers mois de l'année (sous forme de chaînes de caractères)."
   ]
  },
  {
   "cell_type": "code",
   "execution_count": null,
   "metadata": {},
   "outputs": [],
   "source": []
  },
  {
   "cell_type": "markdown",
   "metadata": {},
   "source": [
    "**(2)** Après avoir exécuté les deux cellules suivantes, déterminer quel est le rôle de la fonction ``len``."
   ]
  },
  {
   "cell_type": "code",
   "execution_count": null,
   "metadata": {},
   "outputs": [],
   "source": [
    "jours = ['lundi', 'mardi', 'mercredi', 'jeudi', 'vendredi', 'samedi', 'dimanche']"
   ]
  },
  {
   "cell_type": "code",
   "execution_count": null,
   "metadata": {},
   "outputs": [],
   "source": [
    "len(jours)"
   ]
  },
  {
   "cell_type": "markdown",
   "metadata": {},
   "source": [
    "### Accès aux valeurs grâce à leur index"
   ]
  },
  {
   "cell_type": "markdown",
   "metadata": {},
   "source": [
    "Chaque valeur contenue dans un tableau est **indexée par un entier** supérieur ou égal à 0. Dans la mémoire de la machine, les valeurs sont stockées consécutivement. Pour accéder à la valeur de rang ``n`` d'un tableau ``tab``, on utilise la notation ``tab[n]``.\n",
    "\n",
    "**(3)** Modifier le code la cellule suivante pour faire apparaître la liste des jours de la semaine allant du 13 au 20 juillet 1789 : lundi 13 juillet 1789, mardi 14 juillet 1789, *etc.*."
   ]
  },
  {
   "cell_type": "code",
   "execution_count": null,
   "metadata": {},
   "outputs": [],
   "source": [
    "print('lundi', 13, 'juillet 1789')"
   ]
  },
  {
   "cell_type": "markdown",
   "metadata": {},
   "source": [
    "### Modification des valeurs grâce à leur index"
   ]
  },
  {
   "cell_type": "markdown",
   "metadata": {},
   "source": [
    "Pour modifier la valeur de rang ``n`` contenue dans le tableau ``tab``, il suffit d'utiliser une affectation du type ``tab[n] = nouvelle_valeur``.\n",
    "\n",
    "Mais si on tente d'accéder ou de modifier la ``n``ème valeur d'un tableau qui ne contient pas au moins ``n`` valeurs, alors une erreur se produit.\n",
    "\n",
    "**(4)** Ecrire des lignes de code permettant à un utilisateur de remplacer le nom de chaque jour de la semaine par son équivalent en anglais."
   ]
  },
  {
   "cell_type": "code",
   "execution_count": null,
   "metadata": {},
   "outputs": [],
   "source": []
  },
  {
   "cell_type": "code",
   "execution_count": null,
   "metadata": {},
   "outputs": [],
   "source": [
    "print(jours)"
   ]
  },
  {
   "cell_type": "markdown",
   "metadata": {},
   "source": [
    "### Définition d'un tableau en compréhension"
   ]
  },
  {
   "cell_type": "markdown",
   "metadata": {},
   "source": [
    "Si on souhaite stocker dans un tableau les carrés des nombres entiers compris entre 0 et 10, on peut définir le tableau en extension :"
   ]
  },
  {
   "cell_type": "code",
   "execution_count": null,
   "metadata": {},
   "outputs": [],
   "source": [
    "tab = [0, 1, 4, 9, 16, 25, 36, 49, 64, 81, 100]"
   ]
  },
  {
   "cell_type": "markdown",
   "metadata": {},
   "source": [
    "On constate qu'une telle définition n'est pas pratique, voire impossible à mettre en oeuvre si le nombre de valeurs dans le tableau est grand.\n",
    "\n",
    "On utilise alors une autre façon de définir le tableau : la **définition en compréhension**, qui est basée sur la notion de **boucle**."
   ]
  },
  {
   "cell_type": "code",
   "execution_count": null,
   "metadata": {},
   "outputs": [],
   "source": [
    "tab = [k*k for k in range(11)] # le tableau est ici défini en compréhension\n",
    "print(tab)"
   ]
  },
  {
   "cell_type": "markdown",
   "metadata": {},
   "source": [
    "Elle permet d'obtenir rapidement des tableaux qui contiennent de nombreuses valeurs."
   ]
  },
  {
   "cell_type": "code",
   "execution_count": null,
   "metadata": {},
   "outputs": [],
   "source": [
    "tab = [k*k for k in range(101)]\n",
    "print(tab)"
   ]
  },
  {
   "cell_type": "markdown",
   "metadata": {},
   "source": [
    "**(5)** Définir un tableau contenant le cube de tous les entiers compris entre 0 et 20."
   ]
  },
  {
   "cell_type": "code",
   "execution_count": null,
   "metadata": {},
   "outputs": [],
   "source": []
  },
  {
   "cell_type": "markdown",
   "metadata": {},
   "source": [
    "**(6)** Définir en une seule ligne de code un tableau composé de 100 entiers tirés au hasard entre 0 et 255."
   ]
  },
  {
   "cell_type": "code",
   "execution_count": null,
   "metadata": {},
   "outputs": [],
   "source": []
  },
  {
   "cell_type": "markdown",
   "metadata": {},
   "source": [
    "Il est également possible d'ajouter une **condition** à la définition en compréhension.\n",
    "\n",
    "Par exemple, pour obtenir le carré des nombres pairs compris entre 0 et 100, on écrit :"
   ]
  },
  {
   "cell_type": "code",
   "execution_count": null,
   "metadata": {},
   "outputs": [],
   "source": [
    "tab = [k*k for k in range(101) if k % 2 == 0]\n",
    "print(tab)"
   ]
  },
  {
   "cell_type": "markdown",
   "metadata": {},
   "source": [
    "**(7)** Définir un tableau contenant le cube de tous les entiers compris entre 0 et 20 et non multiples de 5."
   ]
  },
  {
   "cell_type": "code",
   "execution_count": null,
   "metadata": {},
   "outputs": [],
   "source": []
  },
  {
   "cell_type": "markdown",
   "metadata": {},
   "source": [
    "<div class=\"rq\">\n",
    "    La condition <code>k</code> est multiple de 5 s'écrit en Python <code>k % 5 == 0</code>, et donc la condition <code>k</code> n'est pas multiple de 5 s'écrit <code>k % 5 != 0</code>.\n",
    "</div>"
   ]
  },
  {
   "cell_type": "markdown",
   "metadata": {},
   "source": [
    "Pour définir, par exemple, un tableau qui contient 100 fois la valeur 0, on peut écrire :"
   ]
  },
  {
   "cell_type": "code",
   "execution_count": null,
   "metadata": {},
   "outputs": [],
   "source": [
    "print([0 for _ in range(100)])"
   ]
  },
  {
   "cell_type": "markdown",
   "metadata": {},
   "source": [
    "ou alors, de façon encore plus simple avec l'opérateur ``*`` :"
   ]
  },
  {
   "cell_type": "code",
   "execution_count": null,
   "metadata": {},
   "outputs": [],
   "source": [
    "print([0] * 100)"
   ]
  },
  {
   "cell_type": "markdown",
   "metadata": {},
   "source": [
    "Enfin, l'opérateur ``+`` permet de concaténer (c'est-à-dire mettre bout à bout) plusieurs tableaux. Par exemple :"
   ]
  },
  {
   "cell_type": "code",
   "execution_count": null,
   "metadata": {},
   "outputs": [],
   "source": [
    "print([0]*5 + [1]*3 + [5*k for k in range(10) if k % 3 != 0])"
   ]
  },
  {
   "cell_type": "markdown",
   "metadata": {},
   "source": [
    "**(8)** En une seule ligne de code, définir le tableau `[0, 0, 0, 0, 4, 8, 12, 16, 20, ..., 92, 96, 100, 200, 400, 800, 1600, 3200, ..., 102400, 204800, 409600]`."
   ]
  },
  {
   "cell_type": "code",
   "execution_count": null,
   "metadata": {},
   "outputs": [],
   "source": []
  },
  {
   "cell_type": "markdown",
   "metadata": {},
   "source": [
    "Remarquons enfin qu'en théorie la taille d'un tableau est fixée et ne peut pas être modifiée. En Python, les tableaux sont des tableaux dynamiques pour lesquels il est possible d'ajouter ou de retirer des éléments.\n",
    "\n",
    "- Pour ajouter un élément à la fin du tableau `tab`, on utilise l'instruction `tab.append(element)`.\n",
    "- Pour ajouter un élément au rang `n` dans le tableau `tab`, on utilise l'instruction `tab.insert(n, element)`.\n",
    "- Pour supprimer l'élément de rang `n` dans le tableau `tab`, on utilise l'instruction `del tab[n]`."
   ]
  },
  {
   "cell_type": "markdown",
   "metadata": {},
   "source": [
    "## Partie B - Tri d'un tableau par sélection ou par insertion"
   ]
  },
  {
   "cell_type": "markdown",
   "metadata": {},
   "source": [
    "### Objectif"
   ]
  },
  {
   "cell_type": "markdown",
   "metadata": {},
   "source": [
    "Le but de cette partie est d'étudier deux algorithmes permettant de **trier les élements d'un tableau du plus petit au plus grand**. Les éléments peuvent être des nombres mais aussi, par exemple, des chaînes de caractères (ou tout autre objet dont le type possède un *ordre total*, c'est-à-dire un ordre pour lequel tout élément peut être comparé à tout autre élément).\n",
    "\n",
    "**(9)** Ecrire la spécification de la fonction ``est_trie`` définie ci-dessous :"
   ]
  },
  {
   "cell_type": "code",
   "execution_count": null,
   "metadata": {},
   "outputs": [],
   "source": [
    "def est_trie(tab):\n",
    "    for k in range(len(tab) - 1):\n",
    "        if tab[k] > tab[k + 1]:\n",
    "            return False\n",
    "    return True"
   ]
  },
  {
   "cell_type": "markdown",
   "metadata": {},
   "source": [
    "Les tableaux suivants sont triés :"
   ]
  },
  {
   "cell_type": "code",
   "execution_count": null,
   "metadata": {},
   "outputs": [],
   "source": [
    "tableau_entiers = [-2, 0, 5, 9, 12]\n",
    "est_trie(tableau_entiers)"
   ]
  },
  {
   "cell_type": "code",
   "execution_count": null,
   "metadata": {},
   "outputs": [],
   "source": [
    "tableau_flottants = [-1.3, -1.0, 0.001, 0.1, 0.15]\n",
    "est_trie(tableau_flottants)"
   ]
  },
  {
   "cell_type": "code",
   "execution_count": null,
   "metadata": {},
   "outputs": [],
   "source": [
    "tableau_chaines = ['arbre', 'bonbon', 'bonjour', 'bouteille', 'bu']\n",
    "est_trie(tableau_chaines)"
   ]
  },
  {
   "cell_type": "markdown",
   "metadata": {},
   "source": [
    "### Tri par sélection"
   ]
  },
  {
   "cell_type": "markdown",
   "metadata": {},
   "source": [
    "Le principe du **tri par sélection** est le suivant :\n",
    "- parcourir le tableau de la gauche vers la droite, en définissant une partie gauche déjà triée et une partie droite pas encore triée, \n",
    "- déterminer quel est le plus petit élément de la partie de droite, et l'échanger avec le premier élément de la partie de droite.\n",
    "\n",
    "De cette façon, la partie de gauche du tableau est triée en permanence, et les éléments y sont placés à leur position définitive."
   ]
  },
  {
   "cell_type": "markdown",
   "metadata": {},
   "source": [
    "<div>\n",
    "    <img src='https://ntoulzac.github.io/Cours-NSI-Terminale/premiere_NSI/Images/tri_selection.gif'>\n",
    "</div>\n",
    "\n",
    "<center><i>En vert, la partie gauche du tableau est triée. En rouge, la partie droite a tous ses éléments plus grands que les éléments de la partie gauche.</i></center>"
   ]
  },
  {
   "cell_type": "markdown",
   "metadata": {},
   "source": [
    "<div class = 'rq3'>\n",
    "<p><b>Algorithme de tri par sélection</b></p>\n",
    "<p><b>Début</b></p>\n",
    "<p STYLE=\"padding:0 0 0 40px;\"><code>n</code> ← longueur du tableau <code>tab</code></p>\n",
    "<p STYLE=\"padding:0 0 0 40px;\">Pour <code>k</code> allant de 0 à (<code>n</code>-2) faire</p>\n",
    "<p STYLE=\"padding:0 0 0 80px;\"><code>i</code> ← index du plus petit élement de <code>tab</code> dont l'index est compris entre <code>k</code> et (<code>n</code>-1)</p>\n",
    "<p STYLE=\"padding:0 0 0 80px;\">Echanger le <code>k</code>ème élement et le <code>i</code>ème élement du tableau <code>tab</code></p>\n",
    "<p STYLE=\"padding:0 0 0 40px;\">Fin Pour</p>\n",
    "<p><b>Fin</b></p>\n",
    "</div>"
   ]
  },
  {
   "cell_type": "markdown",
   "metadata": {},
   "source": [
    "**(10)** Ecrire une fonction ``index_min`` prenant en paramètres d'entrée un tableau ``tab`` et un entier ``k`` et renvoyant l'index du plus petit élement du tableau ``tab`` parmi les éléments dont l'index est supérieur ou égal à ``k``."
   ]
  },
  {
   "cell_type": "code",
   "execution_count": null,
   "metadata": {},
   "outputs": [],
   "source": []
  },
  {
   "cell_type": "markdown",
   "metadata": {},
   "source": [
    "On peut alors définir la fonction ``tri_selection`` :"
   ]
  },
  {
   "cell_type": "code",
   "execution_count": null,
   "metadata": {},
   "outputs": [],
   "source": [
    "def tri_selection(tab):\n",
    "    \"\"\"\n",
    "    Trie un tableau grâce à l'algorithme de tri par sélection.\n",
    "    - Entrée : tab (tableau)\n",
    "    - Effet de bord : modification du tableau passé en paramètre d'entrée\n",
    "    \"\"\"\n",
    "    for k in range(len(tab) - 1):\n",
    "        i = index_min(tab, k)\n",
    "        tab[k], tab[i] = tab[i], tab[k]"
   ]
  },
  {
   "cell_type": "code",
   "execution_count": null,
   "metadata": {},
   "outputs": [],
   "source": [
    "from random import randint\n",
    "tab = [randint(0, 100) for _ in range(20)]\n",
    "print('Tableau non trié : ', tab)\n",
    "tri_selection(tab)\n",
    "print('Tableau trié     : ', tab)"
   ]
  },
  {
   "cell_type": "markdown",
   "metadata": {},
   "source": [
    "### Tri par insertion"
   ]
  },
  {
   "cell_type": "markdown",
   "metadata": {},
   "source": [
    "Le principe du **tri par insertion** est le suivant :\n",
    "- parcourir le tableau de la gauche vers la droite, en définissant une partie gauche déjà triée et une partie droite pas encore triée,\n",
    "- déplacer le premier élément de la partie de droite au bon endroit dans la partie de gauche.\n",
    "\n",
    "De cette façon, la partie de gauche du tableau est triée en permanence mais les éléments n'y sont pas placés à leur position définitive."
   ]
  },
  {
   "cell_type": "markdown",
   "metadata": {},
   "source": [
    "<div>\n",
    "    <img src='https://ntoulzac.github.io/Cours-NSI-Terminale/premiere_NSI/Images/tri_insertion.gif'>\n",
    "</div>\n",
    "\n",
    "<center><i>En vert, la partie gauche du tableau est triée. En rouge, le premier élément de la partie droite doit être inséré au bon endroit dans la partie gauche.</i></center>"
   ]
  },
  {
   "cell_type": "markdown",
   "metadata": {},
   "source": [
    "<div class = 'rq3'>\n",
    "    <p><b>Algorithme de tri par insertion</b></p>\n",
    "<p><b>Début</b></p>\n",
    "<p STYLE=\"padding:0 0 0 40px;\"><code>n</code> ← longueur du tableau <code>tab</code></p>\n",
    "<p STYLE=\"padding:0 0 0 40px;\">Pour <code>k</code> allant de <code>1</code> à (<code>n</code>-1) faire</p>\n",
    "<p STYLE=\"padding:0 0 0 80px;\"><code>valeur</code> ← <code>tab[k]</code></p>\n",
    "<p STYLE=\"padding:0 0 0 80px;\"><code>pos</code> ← <code>k</code></p>\n",
    "    <p STYLE=\"padding:0 0 0 80px;\">Tant que <code>pos</code> &gt; 0 et <code>tab[pos - 1]</code> &gt; <code>valeur</code> faire</p>\n",
    "<p STYLE=\"padding:0 0 0 120px;\"><code>tab[pos]</code> ← <code>tab[pos - 1]</code></p>\n",
    "<p STYLE=\"padding:0 0 0 120px;\"><code>pos</code> ← <code>pos - 1</code></p>\n",
    "<p STYLE=\"padding:0 0 0 80px;\">Fin Tant que</p>\n",
    "<p STYLE=\"padding:0 0 0 80px;\"><code>tab[pos]</code> ← <code>valeur</code></p>\n",
    "<p STYLE=\"padding:0 0 0 40px;\">Fin Pour</p>\n",
    "<p><b>Fin</b></p>\n",
    "    </div>"
   ]
  },
  {
   "cell_type": "markdown",
   "metadata": {},
   "source": [
    "**(11)** Ecrire une fonction ``tri_insertion`` prenant en paramètre d'entrée un tableau ``tab`` et triant les éléments du tableau grâce à l'algorithme de tri par insertion."
   ]
  },
  {
   "cell_type": "code",
   "execution_count": null,
   "metadata": {},
   "outputs": [],
   "source": []
  },
  {
   "cell_type": "code",
   "execution_count": null,
   "metadata": {},
   "outputs": [],
   "source": [
    "tab = [randint(0, 100) for _ in range(20)]\n",
    "print('Tableau non trié : ', tab)\n",
    "tri_insertion(tab)\n",
    "print('Tableau trié     : ', tab)"
   ]
  },
  {
   "cell_type": "markdown",
   "metadata": {},
   "source": [
    "### Comparaison de l'efficacité de ces deux algorithmes de tri"
   ]
  },
  {
   "cell_type": "markdown",
   "metadata": {},
   "source": [
    "Pour tester l'efficacité des algorithmes de tri par sélection et par insertion, on peut commencer par mesurer le temps qui leur est nécessaire pour trier des tableaux contenant de nombreux éléments. La fonction `time` du module `time` permet d'effectuer cette mesure."
   ]
  },
  {
   "cell_type": "code",
   "execution_count": null,
   "metadata": {},
   "outputs": [],
   "source": [
    "from time import time"
   ]
  },
  {
   "cell_type": "markdown",
   "metadata": {},
   "source": [
    "Voici comment mesurer le temps que met l'ordinateur pour compter de 1 à 1000000 :"
   ]
  },
  {
   "cell_type": "code",
   "execution_count": null,
   "metadata": {},
   "outputs": [],
   "source": [
    "tps_debut = time()\n",
    "i = 1\n",
    "while i < 1000000:\n",
    "    i = i + 1\n",
    "tps_fin = time()\n",
    "print('Temps d\\'exécution :', tps_fin - tps_debut, 's')"
   ]
  },
  {
   "cell_type": "markdown",
   "metadata": {},
   "source": [
    "**(12)** Comparer le temps mis par chacun des deux algorithmes pour trier un tableau contenant 1000 valeurs, puis 2000 valeurs, puis 4000 valeurs :\n",
    "- 1er cas : les valeurs sont tirées au hasard,\n",
    "- 2ème cas : les valeurs sont rangées dans l'ordre décroissant,\n",
    "- 3ème cas : les valeurs sont rangées dans l'ordre croissant (le tableau est donc déjà trié)."
   ]
  },
  {
   "cell_type": "code",
   "execution_count": null,
   "metadata": {},
   "outputs": [],
   "source": []
  },
  {
   "cell_type": "markdown",
   "metadata": {},
   "source": [
    "## Partie C - Tableaux à plusieurs dimensions"
   ]
  },
  {
   "cell_type": "markdown",
   "metadata": {},
   "source": [
    "Nous avons vu jusqu'à présent des tableaux contenant des valeurs de type entier ou de type chaîne de caractères, mais les valeurs peuvent en réalité être de n'importe quel type.\n",
    "\n",
    "En particulier, un tableau peut contenir des tableaux. On parle alors de **tableau à deux dimensions**.\n",
    "\n",
    "Par exemple, le tableau ``union_europeenne`` défini ci-dessous est un tableau à deux dimensions contenant 27 tableaux qui correspondent à chaque état-membre de l'UE. On stocke en mémoire l'équivalent d'un tableau composé de 27 lignes et 2 colonnes."
   ]
  },
  {
   "cell_type": "code",
   "execution_count": null,
   "metadata": {},
   "outputs": [],
   "source": [
    "union_europeenne = [\n",
    "    ['Allemagne', 'Berlin'], ['Belgique', 'Bruxelles'], ['France', 'Paris'],\n",
    "    ['Luxembourg', 'Luxembourg'], ['Italie', 'Rome'], ['Pays-Bas', 'Amsterdam'],\n",
    "    ['Danemark', 'Copenhague'], ['Irlande', 'Dublin'], ['Grèce', 'Athènes'],\n",
    "    ['Espagne', 'Madrid'], ['Portugal', 'Lisbonne'], ['Autriche', 'Vienne'],\n",
    "    ['Finlande', 'Helsinki'], ['Suède', 'Stockholm'], ['Chypre', 'Nicosie'],\n",
    "    ['Estonie', 'Tallinn'], ['Hongrie', 'Budapest'], ['Lettonie', 'Riga'],\n",
    "    ['Lituanie', 'Vilnius'], ['Malte', 'La Valette'], ['Pologne', 'Varsovie'],\n",
    "    ['République Tchèque', 'Prague'], ['Slovaquie', 'Bratislava'], ['Slovénie', 'Ljubljana'],\n",
    "    ['Bulgarie', 'Sofia'], ['Roumanie', 'Bucarest'], ['Croatie', 'Zagreb']\n",
    "]"
   ]
  },
  {
   "cell_type": "markdown",
   "metadata": {},
   "source": [
    "L'élément du tableau ``union_européenne`` indexé par l'entier ``2`` est un tableau contenant des chaînes de caractères.\n",
    "\n",
    "Il correspond à la troisième ligne de ``union_europeenne``."
   ]
  },
  {
   "cell_type": "code",
   "execution_count": null,
   "metadata": {},
   "outputs": [],
   "source": [
    "union_europeenne[2]"
   ]
  },
  {
   "cell_type": "markdown",
   "metadata": {},
   "source": [
    "Dans un tableau à deux dimensions, on utilise une **double indexation** pour accéder aux éléments du tableau . Le premier indice correspond au numéro de ligne (ici rang du pays dans le tableau `union_europeenne`) et le second au numéro de colonne (ici ``0`` pour le nom du pays et ``1`` pour sa capitale):"
   ]
  },
  {
   "cell_type": "code",
   "execution_count": null,
   "metadata": {},
   "outputs": [],
   "source": [
    "print(union_europeenne[2][1], 'est la capitale de', union_europeenne[2][0])"
   ]
  },
  {
   "cell_type": "markdown",
   "metadata": {},
   "source": [
    "**(13)** Afficher les capitales des pays de l'Union Européenne, séparées par des espaces."
   ]
  },
  {
   "cell_type": "code",
   "execution_count": null,
   "metadata": {},
   "outputs": [],
   "source": []
  },
  {
   "cell_type": "markdown",
   "metadata": {},
   "source": [
    "**(14)** Afficher la liste des pays de l'Union Européenne, séparés par des espaces."
   ]
  },
  {
   "cell_type": "code",
   "execution_count": null,
   "metadata": {},
   "outputs": [],
   "source": []
  },
  {
   "cell_type": "markdown",
   "metadata": {},
   "source": [
    "## Ce que vous devez savoir"
   ]
  },
  {
   "cell_type": "markdown",
   "metadata": {},
   "source": [
    "<div class=\"rq2\">\n",
    "    <ul>\n",
    "        <li>Définir un tableau en extension.</li>\n",
    "        <li>Utiliser la fonction <code>len</code> pour déterminer le nombre d'éléments d'un tableau.</li>\n",
    "        <li>Accéder à, ou modifier, une valeur contenue dans un tableau, à partir de son index.</li>\n",
    "        <li>Eviter les erreurs en se souvenant que les index des éléments de <code>tableau</code> sont compris entre <code>0</code> et <code>len(tableau)-1</code>.</li>\n",
    "        <li>Définir un tableau en compréhension.</li>\n",
    "        <li>Utiliser les opérateurs <code>*</code> et <code>+</code> sur des tableaux.</li>\n",
    "        <li>Connaître le rôle des commandes <code>tab.append(elem)</code>, <code>tab.insert(n, elem)</code> et <code>del tab[n]</code>.</li>\n",
    "        <li>Connaître l'algorithme de tri par sélection.</li>\n",
    "        <li>Connaître l'algorithme de tri par insertion.</li>\n",
    "        <li>Savoir que l'algorithme de tri par sélection a une complexité quadratique dans tous les cas.</li>\n",
    "        <li>Savoir que l'algorithme de tri par insertion a une complexité quadratique dans le pire des cas, et une complexité linéaire dans le meilleur des cas.</li>\n",
    "        <li>Mesurer le temps d'exécution d'une partie de programme grâce à la fonction <code>time</code> du module <code>time</code>.</li>\n",
    "        <li>Définir un tableau à deux dimensions.</li>\n",
    "        <li>Utiliser la double indexation des éléments d'un tableau à deux dimensions pour accéder aux élements d'un tel tableau.</li>\n",
    "    </ul>\n",
    "</div>"
   ]
  },
  {
   "cell_type": "markdown",
   "metadata": {},
   "source": [
    "## Exercices bilan"
   ]
  },
  {
   "cell_type": "markdown",
   "metadata": {},
   "source": [
    "### Exercice 1"
   ]
  },
  {
   "cell_type": "markdown",
   "metadata": {},
   "source": [
    "**(1)** Ecrire une fonction ``tab_alea`` qui prend en paramètre d'entrée un entier positif ``n`` et qui renvoie un tableau composé de ``n`` entiers tirés au hasard et compris entre 0 et 255."
   ]
  },
  {
   "cell_type": "code",
   "execution_count": null,
   "metadata": {},
   "outputs": [],
   "source": []
  },
  {
   "cell_type": "code",
   "execution_count": null,
   "metadata": {},
   "outputs": [],
   "source": [
    "mon_tableau = tab_alea(10)\n",
    "print(mon_tableau)"
   ]
  },
  {
   "cell_type": "markdown",
   "metadata": {},
   "source": [
    "**(2)** Ecrire une fonction ``somme_des_valeurs`` qui prend en paramètre d'entrée un tableau de valeurs entières et qui renvoie la somme de toutes les valeurs contenues dans le tableau."
   ]
  },
  {
   "cell_type": "code",
   "execution_count": null,
   "metadata": {},
   "outputs": [],
   "source": []
  },
  {
   "cell_type": "code",
   "execution_count": null,
   "metadata": {},
   "outputs": [],
   "source": [
    "total = somme_des_valeurs(mon_tableau)\n",
    "print(total)"
   ]
  },
  {
   "cell_type": "markdown",
   "metadata": {},
   "source": [
    "**(3)** Utiliser la fonction ``somme_des_valeurs`` pour définir une fonction ``valeur_moyenne`` qui prend en paramètre d'entrée un tableau de valeurs entières et qui renvoie la moyenne des valeurs contenues dans le tableau."
   ]
  },
  {
   "cell_type": "code",
   "execution_count": null,
   "metadata": {},
   "outputs": [],
   "source": []
  },
  {
   "cell_type": "code",
   "execution_count": null,
   "metadata": {},
   "outputs": [],
   "source": [
    "moyenne = valeur_moyenne(mon_tableau)\n",
    "print(moyenne)"
   ]
  },
  {
   "cell_type": "markdown",
   "metadata": {},
   "source": [
    "**(4)** Ecrire une fonction ``valeur_maximale`` qui prend en paramètre d'entrée un tableau de valeurs entières et qui renvoie la plus grande des valeurs contenues dans le tableau."
   ]
  },
  {
   "cell_type": "code",
   "execution_count": null,
   "metadata": {},
   "outputs": [],
   "source": []
  },
  {
   "cell_type": "code",
   "execution_count": null,
   "metadata": {},
   "outputs": [],
   "source": [
    "maxi = valeur_maximale(mon_tableau)\n",
    "print(maxi)"
   ]
  },
  {
   "cell_type": "markdown",
   "metadata": {},
   "source": [
    "**(5)** Pour mélanger les valeurs contenues dans un tableau, on peut utiliser l'algorithme de Knuth (également appelé algorithme de Fisher-Yates) :"
   ]
  },
  {
   "cell_type": "markdown",
   "metadata": {},
   "source": [
    "<div class = 'rq3'>\n",
    "<p><b>Algorithme de Knuth ou de Fisher-Yates pour le mélange des éléments d'un tableau</b></p>\n",
    "<p><b>Début</b></p>\n",
    "<p STYLE=\"padding:0 0 0 40px;\"><code>n</code> ← longueur du tableau <code>tab</code></p>\n",
    "<p STYLE=\"padding:0 0 0 40px;\">Pour <code>i</code> allant de 0 à (<code>n</code>-2) faire</p>\n",
    "<p STYLE=\"padding:0 0 0 80px;\"><code>j</code> ← entier aléatoire compris entre <code>i</code> et (<code>n</code>-1)</p>\n",
    "<p STYLE=\"padding:0 0 0 80px;\">Echanger le <code>i</code>ème élement et le <code>j</code>ème élement du tableau <code>tab</code></p>\n",
    "<p STYLE=\"padding:0 0 0 40px;\">Fin Pour</p>\n",
    "<p STYLE=\"padding:0 0 0 40px;\">Retourner <code>tab</code></p>\n",
    "<p><b>Fin</b></p>\n",
    "    </div>"
   ]
  },
  {
   "cell_type": "markdown",
   "metadata": {},
   "source": [
    "Ecrire une fonction ``melange`` prenant en paramètre d'entrée un tableau et renvoyant un tableau mélangé grâce à l'algorithme de Knuth."
   ]
  },
  {
   "cell_type": "code",
   "execution_count": null,
   "metadata": {},
   "outputs": [],
   "source": []
  },
  {
   "cell_type": "markdown",
   "metadata": {},
   "source": [
    "### Exercice 2"
   ]
  },
  {
   "cell_type": "markdown",
   "metadata": {},
   "source": [
    "Le but de cet exercice est d'afficher à l'écran des cases grises dans une fenêtre graphique *Pygame*.\n",
    "\n",
    "Exécuter la cellule suivante :"
   ]
  },
  {
   "cell_type": "code",
   "execution_count": null,
   "metadata": {},
   "outputs": [],
   "source": [
    "from cases_grises import *"
   ]
  },
  {
   "cell_type": "markdown",
   "metadata": {},
   "source": [
    "Deux fonctions ``ouverture_fenetre`` et ``affichage_cases`` sont maintenant disponibles en mémoire. On en donne un exemple d'utilisation dans la cellule suivante.\n",
    "\n",
    "La variable ``tab`` contient un tableau composé de 20 entiers compris entre 0 et 255. A chaque entier correspond une nuance de gris, foncée pour un entier proche de 0 et claire pour un entier proche de 255. En appelant successivement la fonction ``ouverture_fenetre`` et la procédure ``affichage_cases``, on obtient un affichage à l'écran de cases dont la nuance de gris correspond aux valeurs stockées dans le tableau."
   ]
  },
  {
   "cell_type": "markdown",
   "metadata": {},
   "source": [
    "<div>\n",
    "    <img src='https://ntoulzac.github.io/Cours-NSI-Terminale/premiere_NSI/Images/cases_grises_0.png'>\n",
    "</div>"
   ]
  },
  {
   "cell_type": "code",
   "execution_count": null,
   "metadata": {},
   "outputs": [],
   "source": [
    "tab = [0, 0, 15, 30, 45, 60, 75, 90, 105, 120, 135, 150, 165, 180, 195, 210, 225, 240, 255, 255]\n",
    "\n",
    "fenetre = ouverture_fenetre() # la fonction ouverture_fenetre renvoie une variable fenetre\n",
    "affichage_cases(fenetre, tab) # la procédure affichage_cases dessine des carrés gris dans la fenêtre"
   ]
  },
  {
   "cell_type": "markdown",
   "metadata": {},
   "source": [
    "**(1)** Modifier la définition du tableau ``tab`` dans le but d'obtenir les affichages ci-dessous :"
   ]
  },
  {
   "cell_type": "markdown",
   "metadata": {},
   "source": [
    "<div>\n",
    "    <img src='https://ntoulzac.github.io/Cours-NSI-Terminale/premiere_NSI/Images/cases_grises_1.png'>\n",
    "</div>\n",
    "\n",
    "<center><i>Affichage 1 : toutes les cases sont de la même nuance, ni trop claire, ni trop foncée</i></center>"
   ]
  },
  {
   "cell_type": "code",
   "execution_count": null,
   "metadata": {},
   "outputs": [],
   "source": [
    "# Affichage 1\n",
    "tab = ??????\n",
    "\n",
    "fenetre = ouverture_fenetre()\n",
    "affichage_cases(fenetre, tab)"
   ]
  },
  {
   "cell_type": "markdown",
   "metadata": {},
   "source": [
    "<div>\n",
    "    <img src='https://ntoulzac.github.io/Cours-NSI-Terminale/premiere_NSI/Images/cases_grises_2.png'>\n",
    "</div>\n",
    "\n",
    "<center><i>Affichage 2 : les dix premières cases sont blanches, les dix dernières sont noires</i></center>"
   ]
  },
  {
   "cell_type": "code",
   "execution_count": null,
   "metadata": {},
   "outputs": [],
   "source": [
    "# Affichage 2\n",
    "tab = ??????\n",
    "\n",
    "fenetre = ouverture_fenetre()\n",
    "affichage_cases(fenetre, tab)"
   ]
  },
  {
   "cell_type": "markdown",
   "metadata": {},
   "source": [
    "<div>\n",
    "    <img src='https://ntoulzac.github.io/Cours-NSI-Terminale/premiere_NSI/Images/cases_grises_3.png'>\n",
    "</div>\n",
    "\n",
    "<center><i>Affichage 3 : les nuances de gris sont aléatoires</i></center>"
   ]
  },
  {
   "cell_type": "code",
   "execution_count": null,
   "metadata": {},
   "outputs": [],
   "source": [
    "# Affichage 3\n",
    "tab = ??????\n",
    "\n",
    "fenetre = ouverture_fenetre()\n",
    "affichage_cases(fenetre, tab)"
   ]
  },
  {
   "cell_type": "markdown",
   "metadata": {},
   "source": [
    "<div>\n",
    "    <img src='https://ntoulzac.github.io/Cours-NSI-Terminale/premiere_NSI/Images/cases_grises_4.png'>\n",
    "</div>\n",
    "\n",
    "<center><i>Affichage 4 : les cases sont de plus en plus foncées</i></center>"
   ]
  },
  {
   "cell_type": "code",
   "execution_count": null,
   "metadata": {},
   "outputs": [],
   "source": [
    "# Affichage 4\n",
    "tab = ??????\n",
    "\n",
    "fenetre = ouverture_fenetre()\n",
    "affichage_cases(fenetre, tab)"
   ]
  },
  {
   "cell_type": "markdown",
   "metadata": {},
   "source": [
    "En réalisant plusieurs affichages successifs, on obtient une animation plutôt qu'une image statique. On peut utiliser la procédure ``sleep`` du module ``time`` pour faire en sorte qu'une pause de quelques millisecondes ait lieu entre les différents affichages."
   ]
  },
  {
   "cell_type": "code",
   "execution_count": null,
   "metadata": {},
   "outputs": [],
   "source": [
    "from time import sleep"
   ]
  },
  {
   "cell_type": "code",
   "execution_count": null,
   "metadata": {},
   "outputs": [],
   "source": [
    "fen = ouverture_fenetre()\n",
    "for i in range(0, 256, 16):\n",
    "    tab = [i]*10 + [255-i]*10\n",
    "    affichage_cases(fen, tab)\n",
    "    sleep(0.2) # Pause de 200 ms (soit 0.2 s) entre chaque affichage"
   ]
  },
  {
   "cell_type": "markdown",
   "metadata": {},
   "source": [
    "**(2)** Faire en sorte d'obtenir l'affichage ci-dessous :"
   ]
  },
  {
   "cell_type": "markdown",
   "metadata": {},
   "source": [
    "<div>\n",
    "    <img src='https://ntoulzac.github.io/Cours-NSI-Terminale/premiere_NSI/Images/cases_grises_5.gif'>\n",
    "</div>\n",
    "\n",
    "<center><i>Affichage 5 : le dégradé de gris défile de droite à gauche de l'écran</i></center>"
   ]
  },
  {
   "cell_type": "code",
   "execution_count": null,
   "metadata": {},
   "outputs": [],
   "source": [
    "fen = ouverture_fenetre()\n",
    "???????\n",
    "for _ in range(100):\n",
    "    ??????\n",
    "    ??????\n",
    "    affichage_cases(fen, tab)\n",
    "    sleep(0.2)"
   ]
  },
  {
   "cell_type": "markdown",
   "metadata": {},
   "source": [
    "Pour fermer la fenêtre *Pygame*, il suffit d'exécuter la commande suivante :"
   ]
  },
  {
   "cell_type": "code",
   "execution_count": null,
   "metadata": {},
   "outputs": [],
   "source": [
    "pygame.quit()"
   ]
  },
  {
   "cell_type": "markdown",
   "metadata": {},
   "source": [
    "### Exercice 3"
   ]
  },
  {
   "cell_type": "markdown",
   "metadata": {},
   "source": [
    "**(1)** Définir en compréhension un tableau à deux dimensions ``table_addition`` contenant sur 11 lignes et 11 colonnes les valeurs de ``i + j``, pour ``i`` et ``j`` compris entre ``0`` et ``10``."
   ]
  },
  {
   "cell_type": "code",
   "execution_count": null,
   "metadata": {},
   "outputs": [],
   "source": []
  },
  {
   "cell_type": "markdown",
   "metadata": {},
   "source": [
    "Après avoir exécuté la cellule suivante, vous pouvez utiliser la fonction ``affichage_table`` qui prend en entrée un tableau à deux dimensions et qui l'affiche dans une fenêtre *Pygame*."
   ]
  },
  {
   "cell_type": "code",
   "execution_count": null,
   "metadata": {},
   "outputs": [],
   "source": [
    "from tables import affichage_table"
   ]
  },
  {
   "cell_type": "code",
   "execution_count": null,
   "metadata": {},
   "outputs": [],
   "source": [
    "affichage_table(table_addition)"
   ]
  },
  {
   "cell_type": "markdown",
   "metadata": {},
   "source": [
    "<div>\n",
    "    <img src=\"https://ntoulzac.github.io/Cours-NSI-Terminale/premiere_NSI/Images/table_addition_sans_entetes.png\" width = 400>\n",
    "</div>"
   ]
  },
  {
   "cell_type": "markdown",
   "metadata": {},
   "source": [
    "**(2)** Modifier la définition de ``table_addition`` pour faire en sorte d'ajouter une ligne et une colonne d'en-tête. Le but est d'obtenir :"
   ]
  },
  {
   "cell_type": "markdown",
   "metadata": {},
   "source": [
    "<div>\n",
    "    \t\t<table align = \"center\">\n",
    "\t\t\t<tr>\n",
    "                <td><img src=\"https://ntoulzac.github.io/Cours-NSI-Terminale/premiere_NSI/Images/table_addition.png\" width = 400></td>\n",
    "                <td><img src=\"https://ntoulzac.github.io/Cours-NSI-Terminale/premiere_NSI/Images/table_multiplication.png\" width = 400></td>\n",
    "\t\t\t</tr>\n",
    "\t\t</table>\n",
    "</div>"
   ]
  },
  {
   "cell_type": "code",
   "execution_count": null,
   "metadata": {},
   "outputs": [],
   "source": []
  },
  {
   "cell_type": "code",
   "execution_count": null,
   "metadata": {},
   "outputs": [],
   "source": []
  }
 ],
 "metadata": {
  "kernelspec": {
   "display_name": "Python 3",
   "language": "python",
   "name": "python3"
  },
  "language_info": {
   "codemirror_mode": {
    "name": "ipython",
    "version": 3
   },
   "file_extension": ".py",
   "mimetype": "text/x-python",
   "name": "python",
   "nbconvert_exporter": "python",
   "pygments_lexer": "ipython3",
   "version": "3.7.3"
  }
 },
 "nbformat": 4,
 "nbformat_minor": 2
}
