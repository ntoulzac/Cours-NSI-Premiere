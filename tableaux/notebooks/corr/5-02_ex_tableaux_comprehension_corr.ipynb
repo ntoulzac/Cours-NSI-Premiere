{
 "cells": [
  {
   "cell_type": "markdown",
   "metadata": {},
   "source": [
    "<div style='background-color: #e3a8b6;\n",
    "    border: 0.5em solid black;\n",
    "    border-radius: 0.5em;\n",
    "    padding: 1em;'>\n",
    "    <h2>Exercice 5-02</h2>\n",
    "    <h1>Tableaux définis en compréhension</h1>\n",
    "</div>"
   ]
  },
  {
   "cell_type": "markdown",
   "metadata": {},
   "source": [
    "**(1)** Définir un tableau contenant le cube de tous les entiers compris entre 0 et 50."
   ]
  },
  {
   "cell_type": "code",
   "execution_count": null,
   "metadata": {},
   "outputs": [],
   "source": [
    "tab = [k**3 for k in range(51)]\n",
    "print(tab)"
   ]
  },
  {
   "cell_type": "markdown",
   "metadata": {},
   "source": [
    "**(2)** Définir un tableau contenant le cube de tous les entiers compris entre 0 et 50 et non multiples de 5.\n",
    "\n",
    "_Rappel :_ La condition `k` est multiple de 5 s'écrit en Python `k % 5 == 0`."
   ]
  },
  {
   "cell_type": "code",
   "execution_count": null,
   "metadata": {},
   "outputs": [],
   "source": [
    "tab = [k**3 for k in range(51) if k % 5 != 0]\n",
    "print(tab)"
   ]
  },
  {
   "cell_type": "markdown",
   "metadata": {},
   "source": [
    "**(3)** Définir en une seule ligne de code un tableau composé de 100 entiers tirés au hasard entre 0 et 255."
   ]
  },
  {
   "cell_type": "code",
   "execution_count": null,
   "metadata": {},
   "outputs": [],
   "source": [
    "from random import randint\n",
    "tab = [randint(0, 255) for k in range(100)]\n",
    "print(tab)"
   ]
  },
  {
   "cell_type": "markdown",
   "metadata": {},
   "source": [
    "**(4)** En une seule ligne de code, définir le tableau `[0, 0, 0, 0, 4, 8, 12, 16, 20, ..., 92, 96, 100, 200, 400, 800, 1600, 3200, ..., 102400, 204800, 409600]`."
   ]
  },
  {
   "cell_type": "code",
   "execution_count": null,
   "metadata": {},
   "outputs": [],
   "source": [
    "tab = [0]*3 + [4*k for k in range(25)] + [100*2**k for k in range(13)]\n",
    "print(tab)"
   ]
  }
 ],
 "metadata": {
  "kernelspec": {
   "display_name": "Python 3 (ipykernel)",
   "language": "python",
   "name": "python3"
  },
  "language_info": {
   "codemirror_mode": {
    "name": "ipython",
    "version": 3
   },
   "file_extension": ".py",
   "mimetype": "text/x-python",
   "name": "python",
   "nbconvert_exporter": "python",
   "pygments_lexer": "ipython3",
   "version": "3.9.12"
  }
 },
 "nbformat": 4,
 "nbformat_minor": 2
}
