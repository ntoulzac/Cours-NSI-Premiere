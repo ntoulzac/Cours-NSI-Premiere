{
 "cells": [
  {
   "cell_type": "markdown",
   "metadata": {},
   "source": [
    "<div style='background-color: #e3a8b6;\n",
    "    border: 0.5em solid black;\n",
    "    border-radius: 0.5em;\n",
    "    padding: 1em;'>\n",
    "    <h2>Exercice 5-05</h2>\n",
    "    <h1>Tableau à deux dimensions</h1>\n",
    "</div>"
   ]
  },
  {
   "cell_type": "markdown",
   "metadata": {},
   "source": [
    "On donne la définition d'un tableau à deux dimensions appelé `union_europeenne` :"
   ]
  },
  {
   "cell_type": "code",
   "execution_count": null,
   "metadata": {},
   "outputs": [],
   "source": [
    "union_europeenne = [\n",
    "    [\"Allemagne\", \"Berlin\"], [\"Belgique\", \"Bruxelles\"], [\"France\", \"Paris\"],\n",
    "    [\"Luxembourg\", \"Luxembourg\"], [\"Italie\", \"Rome\"], [\"Pays-Bas\", \"Amsterdam\"],\n",
    "    [\"Danemark\", \"Copenhague\"], [\"Irlande\", \"Dublin\"], [\"Grèce\", \"Athènes\"],\n",
    "    [\"Espagne\", \"Madrid\"], [\"Portugal\", \"Lisbonne\"], [\"Autriche\", \"Vienne\"],\n",
    "    [\"Finlande\", \"Helsinki\"], [\"Suède\", \"Stockholm\"], [\"Chypre\", \"Nicosie\"],\n",
    "    [\"Estonie\", \"Tallinn\"], [\"Hongrie\", \"Budapest\"], [\"Lettonie\", \"Riga\"],\n",
    "    [\"Lituanie\", \"Vilnius\"], [\"Malte\", \"La Valette\"], [\"Pologne\", \"Varsovie\"],\n",
    "    [\"République Tchèque\", \"Prague\"], [\"Slovaquie\", \"Bratislava\"], [\"Slovénie\", \"Ljubljana\"],\n",
    "    [\"Bulgarie\", \"Sofia\"], [\"Roumanie\", \"Bucarest\"], [\"Croatie\", \"Zagreb\"]\n",
    "]"
   ]
  },
  {
   "cell_type": "markdown",
   "metadata": {},
   "source": [
    "**(1)** Quelle expression permet d'accéder au tableau `[\"Italie\", \"Rome\"]` ?"
   ]
  },
  {
   "cell_type": "code",
   "execution_count": null,
   "metadata": {},
   "outputs": [],
   "source": [
    "union_europeenne[4]"
   ]
  },
  {
   "cell_type": "markdown",
   "metadata": {},
   "source": [
    "**(2)** Quelle expression permet d'accéder à la chaîne `\"Athènes\"` ?"
   ]
  },
  {
   "cell_type": "code",
   "execution_count": null,
   "metadata": {},
   "outputs": [],
   "source": [
    "union_europeenne[8][1]"
   ]
  },
  {
   "cell_type": "markdown",
   "metadata": {},
   "source": [
    "**(3)** À quoi correspondent respectivement `len(union_europeenne)` et `len(union_europeenne[0])` ?"
   ]
  },
  {
   "cell_type": "markdown",
   "metadata": {},
   "source": [
    "`len(union_europeenne)` est le nombre de lignes du tableau `union_europeenne`, c'est-à-dire ici le nombre de pays de l'union.\n",
    "\n",
    "`len(union_europeenne[0])` est le nombre d'éléments présents sur la première ligne, c'est-à-dire le nombre de colonnes du tableau."
   ]
  },
  {
   "cell_type": "markdown",
   "metadata": {},
   "source": [
    "**(4)** Afficher les capitales des pays de l'Union Européenne, séparées par des espaces."
   ]
  },
  {
   "cell_type": "code",
   "execution_count": null,
   "metadata": {},
   "outputs": [],
   "source": [
    "for k in range(len(union_europeenne)):\n",
    "    print(union_europeenne[k][1], end=\" \")"
   ]
  },
  {
   "cell_type": "markdown",
   "metadata": {},
   "source": [
    "**(5)** Afficher la liste des pays de l'Union Européenne, séparés par des espaces."
   ]
  },
  {
   "cell_type": "code",
   "execution_count": null,
   "metadata": {},
   "outputs": [],
   "source": [
    "for k in range(len(union_europeenne)):\n",
    "    print(union_europeenne[k][0], end=\" \")"
   ]
  }
 ],
 "metadata": {
  "kernelspec": {
   "display_name": "Python 3 (ipykernel)",
   "language": "python",
   "name": "python3"
  },
  "language_info": {
   "codemirror_mode": {
    "name": "ipython",
    "version": 3
   },
   "file_extension": ".py",
   "mimetype": "text/x-python",
   "name": "python",
   "nbconvert_exporter": "python",
   "pygments_lexer": "ipython3",
   "version": "3.9.12"
  }
 },
 "nbformat": 4,
 "nbformat_minor": 2
}
