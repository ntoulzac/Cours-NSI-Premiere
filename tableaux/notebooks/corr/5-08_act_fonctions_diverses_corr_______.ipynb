{
 "cells": [
  {
   "cell_type": "markdown",
   "metadata": {},
   "source": [
    "<div style='background-color: #87ceeb;\n",
    "    border: 0.5em solid black;\n",
    "    border-radius: 0.5em;\n",
    "    padding: 1em;'>\n",
    "    <h2>Activité 5-08</h2>\n",
    "    <h1>Fonctions et procédures avec des tableaux</h1>\n",
    "</div>"
   ]
  },
  {
   "cell_type": "markdown",
   "metadata": {},
   "source": [
    "**(1)** Définir une fonction `tab_alea` qui prend en paramètre d'entrée un entier positif `n` et qui renvoie un tableau composé de `n` entiers tirés au hasard et compris entre 0 et 255."
   ]
  },
  {
   "cell_type": "code",
   "execution_count": null,
   "metadata": {},
   "outputs": [],
   "source": [
    "from random import randint\n",
    "\n",
    "def tab_alea(n):\n",
    "    \"\"\"\n",
    "    Crée un tableau composé de n entiers aléatoires entre 0 et 255.\n",
    "    - Entrée : n (entier positif)\n",
    "    - Sortie : (tableau de n entiers)\n",
    "    \"\"\"\n",
    "    return [randint(0, 255) for _ in range(n)]"
   ]
  },
  {
   "cell_type": "code",
   "execution_count": null,
   "metadata": {},
   "outputs": [],
   "source": [
    "mon_tableau = tab_alea(10)\n",
    "print(mon_tableau)"
   ]
  },
  {
   "cell_type": "markdown",
   "metadata": {},
   "source": [
    "**(2)** Définir une fonction `somme_des_valeurs` qui prend en paramètre d'entrée un tableau de valeurs entières et qui renvoie la somme de toutes les valeurs contenues dans le tableau."
   ]
  },
  {
   "cell_type": "code",
   "execution_count": null,
   "metadata": {},
   "outputs": [],
   "source": [
    "def somme_des_valeurs(tab):\n",
    "    \"\"\"\n",
    "    Calcule la somme des valeurs d'un tableau de nombres.\n",
    "    - Entrée : tab (tableau de nombres)\n",
    "    - Sortie : somme (nombre)\n",
    "    \"\"\"\n",
    "    somme = 0\n",
    "    for k in range(len(tab)):\n",
    "        somme = somme + tab[k]\n",
    "    return somme"
   ]
  },
  {
   "cell_type": "code",
   "execution_count": null,
   "metadata": {},
   "outputs": [],
   "source": [
    "total = somme_des_valeurs(mon_tableau)\n",
    "print(total)"
   ]
  },
  {
   "cell_type": "markdown",
   "metadata": {},
   "source": [
    "**(3)** Utiliser la fonction `somme_des_valeurs` pour définir une fonction `valeur_moyenne` qui prend en paramètre d'entrée un tableau de valeurs entières et qui renvoie la moyenne des valeurs contenues dans le tableau."
   ]
  },
  {
   "cell_type": "code",
   "execution_count": null,
   "metadata": {},
   "outputs": [],
   "source": [
    "def valeur_moyenne(tab):\n",
    "    \"\"\"\n",
    "    Calcule la moyenne des valeurs d'un tableau de nombres.\n",
    "    - Entrée : tab (tableau de nombres)\n",
    "    - Sortie : (flottant)\n",
    "    \"\"\"\n",
    "    return somme_des_valeurs(tab) / len(tab)"
   ]
  },
  {
   "cell_type": "code",
   "execution_count": null,
   "metadata": {},
   "outputs": [],
   "source": [
    "moyenne = valeur_moyenne(mon_tableau)\n",
    "print(moyenne)"
   ]
  },
  {
   "cell_type": "markdown",
   "metadata": {},
   "source": [
    "**(4)** Définir une fonction `valeur_maximale` qui prend en paramètre d'entrée un tableau de valeurs entières et qui renvoie la plus grande des valeurs contenues dans le tableau."
   ]
  },
  {
   "cell_type": "code",
   "execution_count": null,
   "metadata": {},
   "outputs": [],
   "source": [
    "def valeur_maximale(tab):\n",
    "    \"\"\"\n",
    "    Détermine quelle est la plus grande valeur présente dans un tableau.\n",
    "    - Entrée : tab (tableau)\n",
    "    - Sortie : val_max (nombre)\n",
    "    \"\"\"\n",
    "    val_max = tab[0]\n",
    "    for k in range(1, len(tab)):\n",
    "        if tab[k] > val_max:\n",
    "            val_max = tab[k]\n",
    "    return val_max"
   ]
  },
  {
   "cell_type": "code",
   "execution_count": null,
   "metadata": {},
   "outputs": [],
   "source": [
    "maxi = valeur_maximale(mon_tableau)\n",
    "print(maxi)"
   ]
  },
  {
   "cell_type": "markdown",
   "metadata": {},
   "source": [
    "**(5)** Pour mélanger les valeurs contenues dans un tableau, on peut utiliser l'algorithme de Knuth (également appelé algorithme de Fisher-Yates) :"
   ]
  },
  {
   "cell_type": "markdown",
   "metadata": {},
   "source": [
    "<div class = 'rq3'>\n",
    "<p><b>Algorithme de Knuth ou de Fisher-Yates pour le mélange des éléments d'un tableau</b></p>\n",
    "<p><b>Début</b></p>\n",
    "<p STYLE=\"padding:0 0 0 40px;\"><code>n</code> ← longueur du tableau <code>tab</code></p>\n",
    "<p STYLE=\"padding:0 0 0 40px;\">Pour <code>i</code> allant de 0 à (<code>n</code>-2) faire</p>\n",
    "<p STYLE=\"padding:0 0 0 80px;\"><code>j</code> ← entier aléatoire compris entre <code>i</code> et (<code>n</code>-1)</p>\n",
    "<p STYLE=\"padding:0 0 0 80px;\">Échanger le <code>i</code>ème élement et le <code>j</code>ème élement du tableau <code>tab</code></p>\n",
    "<p STYLE=\"padding:0 0 0 40px;\">Fin Pour</p>\n",
    "<p><b>Fin</b></p>\n",
    "    </div>"
   ]
  },
  {
   "cell_type": "markdown",
   "metadata": {},
   "source": [
    "Définir une procédure `melange` qui prend en paramètre d'entrée un tableau, qui ne renvoie rien, mais qui mélange les éléments du tableau grâce à l'algorithme de Knuth."
   ]
  },
  {
   "cell_type": "code",
   "execution_count": null,
   "metadata": {},
   "outputs": [],
   "source": [
    "from random import randint\n",
    "\n",
    "def melange(tab):\n",
    "    \"\"\"\n",
    "    Mélange les valeurs d'un tableau via l'algorithme de Knuth.\n",
    "    - Entrée : tab (tableau)\n",
    "    Effet : modification du tableau\n",
    "    \"\"\"\n",
    "    n = len(tab)\n",
    "    for i in range(n-1):\n",
    "        j = randint(i, n-1)\n",
    "        tab[i], tab[j] = tab[j], tab[i]"
   ]
  },
  {
   "cell_type": "code",
   "execution_count": null,
   "metadata": {},
   "outputs": [],
   "source": [
    "melange(mon_tableau)\n",
    "print(mon_tableau)"
   ]
  }
 ],
 "metadata": {
  "kernelspec": {
   "display_name": "Python 3 (ipykernel)",
   "language": "python",
   "name": "python3"
  },
  "language_info": {
   "codemirror_mode": {
    "name": "ipython",
    "version": 3
   },
   "file_extension": ".py",
   "mimetype": "text/x-python",
   "name": "python",
   "nbconvert_exporter": "python",
   "pygments_lexer": "ipython3",
   "version": "3.9.12"
  }
 },
 "nbformat": 4,
 "nbformat_minor": 2
}
