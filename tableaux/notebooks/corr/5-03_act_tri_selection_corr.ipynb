{
 "cells": [
  {
   "cell_type": "markdown",
   "metadata": {},
   "source": [
    "<div style='background-color: #87ceeb;\n",
    "    border: 0.5em solid black;\n",
    "    border-radius: 0.5em;\n",
    "    padding: 1em;'>\n",
    "    <h2>Activité 5-03</h2>\n",
    "    <h1>Tri par sélection</h1>\n",
    "</div>"
   ]
  },
  {
   "cell_type": "markdown",
   "metadata": {},
   "source": [
    "**(1)** Définir une fonction `indice_du_min` qui prend en paramètres d'entrée un tableau `tab` et un entier `k` et qui renvoie l'indice du plus petit élement du tableau `tab` parmi les éléments dont l'indice est supérieur ou égal à `k`."
   ]
  },
  {
   "cell_type": "code",
   "execution_count": null,
   "metadata": {},
   "outputs": [],
   "source": [
    "def indice_du_min(tab, k):\n",
    "    \"\"\"\n",
    "    Détermine l'indice de la plus petite valeur du tableau parmi les valeurs d'indice supérieur ou égal à k.\n",
    "    - Entrées : tab (tableau), k (entier)\n",
    "    - Sortie : pos_min (entier)\n",
    "    \"\"\"\n",
    "    pos_min = k\n",
    "    for pos in range(k+1, len(tab)):\n",
    "        if tab[pos] < tab[pos_min]:\n",
    "            pos_min = pos\n",
    "    return pos_min"
   ]
  },
  {
   "cell_type": "code",
   "execution_count": null,
   "metadata": {},
   "outputs": [],
   "source": [
    "indice_du_min([5, 0, -3, 6, 1, 7, -2, 4, 2], 0)"
   ]
  },
  {
   "cell_type": "code",
   "execution_count": null,
   "metadata": {},
   "outputs": [],
   "source": [
    "indice_du_min([5, 0, -3, 6, 1, 7, -2, 4, 2], 3)"
   ]
  },
  {
   "cell_type": "markdown",
   "metadata": {},
   "source": [
    "**(2)** Définir une procédure `tri_selection` qui prend en paramètre d'entrée un tableau `tab`, qui ne renvoie rien mais qui trie le tableau dans l'ordre croissant grâce à l'algorithme de tri par sélection.\n",
    "\n",
    "La procédure `tri_selection` fera appel à la fonction `indice_du_min`."
   ]
  },
  {
   "cell_type": "code",
   "execution_count": null,
   "metadata": {},
   "outputs": [],
   "source": [
    "def tri_selection(tab):\n",
    "    \"\"\"\n",
    "    Trie un tableau via l'algorithme de tri par sélection.\n",
    "    - Entrée : tab (tableau)\n",
    "    Effet : modification du tableau\n",
    "    \"\"\"\n",
    "    for k in range(len(tab)-1):\n",
    "        i = indice_du_min(tab, k)\n",
    "        tab[i], tab[k] = tab[k], tab[i]  # échange les valeurs d'indices i et k"
   ]
  },
  {
   "cell_type": "markdown",
   "metadata": {},
   "source": [
    "**(3)** Tester la procédure `tri_selection` en exécutant la cellule suivante :"
   ]
  },
  {
   "cell_type": "code",
   "execution_count": null,
   "metadata": {},
   "outputs": [],
   "source": [
    "from random import randint\n",
    "tab = [randint(0, 100) for _ in range(20)]\n",
    "print('Tableau non trié : ', tab)\n",
    "tri_selection(tab)\n",
    "print('Tableau trié     : ', tab)"
   ]
  }
 ],
 "metadata": {
  "kernelspec": {
   "display_name": "Python 3 (ipykernel)",
   "language": "python",
   "name": "python3"
  },
  "language_info": {
   "codemirror_mode": {
    "name": "ipython",
    "version": 3
   },
   "file_extension": ".py",
   "mimetype": "text/x-python",
   "name": "python",
   "nbconvert_exporter": "python",
   "pygments_lexer": "ipython3",
   "version": "3.9.12"
  }
 },
 "nbformat": 4,
 "nbformat_minor": 2
}
