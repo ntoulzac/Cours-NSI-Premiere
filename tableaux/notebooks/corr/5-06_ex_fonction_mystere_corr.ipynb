{
 "cells": [
  {
   "cell_type": "markdown",
   "metadata": {},
   "source": [
    "<div style='background-color: #e3a8b6;\n",
    "    border: 0.5em solid black;\n",
    "    border-radius: 0.5em;\n",
    "    padding: 1em;'>\n",
    "    <h2>Exercice 5-06</h2>\n",
    "    <h1>Fonction mystère</h1>\n",
    "</div>"
   ]
  },
  {
   "cell_type": "markdown",
   "metadata": {},
   "source": [
    "**(1)** Après l'avoir testée, écrire la spécification de la fonction `mystere` définie ci-dessous :"
   ]
  },
  {
   "cell_type": "code",
   "execution_count": null,
   "metadata": {},
   "outputs": [],
   "source": [
    "def mystere(tab):\n",
    "    \"\"\"\n",
    "    Détermine si un tableau est trié dans l'ordre croissant ou pas.\n",
    "    - Entrée : tab (tableau)\n",
    "    - Sortie : (booléen, True si le tableau est trié, False sinon)\n",
    "    \"\"\"\n",
    "    for k in range(len(tab) - 1):\n",
    "        if tab[k] > tab[k + 1]:\n",
    "            return False\n",
    "    return True"
   ]
  },
  {
   "cell_type": "markdown",
   "metadata": {},
   "source": [
    "**(2)** Justifier les affichages obtenus en exécutant les cellules suivantes :"
   ]
  },
  {
   "cell_type": "code",
   "execution_count": null,
   "metadata": {},
   "outputs": [],
   "source": [
    "tableau_entiers = [-2, 0, 5, 9, 12]\n",
    "print(mystere(tableau_entiers))"
   ]
  },
  {
   "cell_type": "code",
   "execution_count": null,
   "metadata": {},
   "outputs": [],
   "source": [
    "tableau_flottants = [-1.3, -1.0, 0.001, 0.1, 0.15]\n",
    "print(mystere(tableau_flottants))"
   ]
  },
  {
   "cell_type": "code",
   "execution_count": null,
   "metadata": {},
   "outputs": [],
   "source": [
    "tableau_chaines = [\"Athènes\", \"Grèce\", \"arbre\", \"bonbon\", \"bonjour\", \"bouteille\", \"voyage\", \"éclair au chocolat\"]\n",
    "print(mystere(tableau_chaines))"
   ]
  },
  {
   "cell_type": "markdown",
   "metadata": {},
   "source": [
    "Les trois tableaux sont triés dans l'ordre croissant, d'où les affichages obtenus.\n",
    "\n",
    "L'ordre sur les entiers et sur les flottants est l'ordre mathématique classique.\n",
    "\n",
    "L'ordre sur les chaînes de caractères n'est pas l'ordre alphabétique classique : on parle d'ordre lexicographique. Cet ordre est lié à l'ordre des entiers qui représentent les caractères. Les majuscules sont classées avant les minuscules, les lettres sans accent avant les lettres accentuées."
   ]
  }
 ],
 "metadata": {
  "kernelspec": {
   "display_name": "Python 3 (ipykernel)",
   "language": "python",
   "name": "python3"
  },
  "language_info": {
   "codemirror_mode": {
    "name": "ipython",
    "version": 3
   },
   "file_extension": ".py",
   "mimetype": "text/x-python",
   "name": "python",
   "nbconvert_exporter": "python",
   "pygments_lexer": "ipython3",
   "version": "3.9.12"
  }
 },
 "nbformat": 4,
 "nbformat_minor": 2
}
