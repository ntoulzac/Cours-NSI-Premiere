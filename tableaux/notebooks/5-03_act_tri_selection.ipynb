{
 "cells": [
  {
   "cell_type": "markdown",
   "metadata": {},
   "source": [
    "<div style='background-color: #87ceeb;\n",
    "    border: 0.5em solid black;\n",
    "    border-radius: 0.5em;\n",
    "    padding: 1em;'>\n",
    "    <h2>Activité 5-03</h2>\n",
    "    <h1>Tri par sélection</h1>\n",
    "</div>"
   ]
  },
  {
   "cell_type": "markdown",
   "metadata": {},
   "source": [
    "**(1)** Définir une fonction `indice_du_min` qui prend en paramètres d'entrée un tableau `tab` et un entier `k` et qui renvoie l'indice du plus petit élement du tableau `tab` parmi les éléments dont l'indice est supérieur ou égal à `k`."
   ]
  },
  {
   "cell_type": "code",
   "execution_count": null,
   "metadata": {},
   "outputs": [],
   "source": []
  },
  {
   "cell_type": "markdown",
   "metadata": {},
   "source": [
    "**(2)** Définir une procédure `tri_selection` qui prend en paramètre d'entrée un tableau `tab`, qui ne renvoie rien mais qui trie le tableau dans l'ordre croissant grâce à l'algorithme de tri par sélection.\n",
    "\n",
    "La procédure `tri_selection` fera appel à la fonction `indice_du_min`."
   ]
  },
  {
   "cell_type": "code",
   "execution_count": null,
   "metadata": {},
   "outputs": [],
   "source": []
  },
  {
   "cell_type": "markdown",
   "metadata": {},
   "source": [
    "**(3)** Tester la procédure `tri_selection` en exécutant la cellule suivante :"
   ]
  },
  {
   "cell_type": "code",
   "execution_count": null,
   "metadata": {},
   "outputs": [],
   "source": [
    "from random import randint\n",
    "tab = [randint(0, 100) for _ in range(20)]\n",
    "print('Tableau non trié : ', tab)\n",
    "tri_selection(tab)\n",
    "print('Tableau trié     : ', tab)"
   ]
  },
  {
   "cell_type": "code",
   "execution_count": null,
   "metadata": {},
   "outputs": [],
   "source": []
  }
 ],
 "metadata": {
  "kernelspec": {
   "display_name": "Python 3 (ipykernel)",
   "language": "python",
   "name": "python3"
  },
  "language_info": {
   "codemirror_mode": {
    "name": "ipython",
    "version": 3
   },
   "file_extension": ".py",
   "mimetype": "text/x-python",
   "name": "python",
   "nbconvert_exporter": "python",
   "pygments_lexer": "ipython3",
   "version": "3.9.12"
  }
 },
 "nbformat": 4,
 "nbformat_minor": 2
}
