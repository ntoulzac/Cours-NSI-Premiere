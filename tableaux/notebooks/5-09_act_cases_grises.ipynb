{
 "cells": [
  {
   "cell_type": "markdown",
   "metadata": {},
   "source": [
    "<div style='background-color: #87ceeb;\n",
    "    border: 0.5em solid black;\n",
    "    border-radius: 0.5em;\n",
    "    padding: 1em;'>\n",
    "    <h2>Activité 5-09</h2>\n",
    "    <h1>Cases grises</h1>\n",
    "</div>"
   ]
  },
  {
   "cell_type": "markdown",
   "metadata": {},
   "source": [
    "Le but de cette activité est d'afficher à l'écran des cases grises dans une fenêtre graphique *Pygame*.\n",
    "\n",
    "Télécharger [ici](https://ntoulzac.github.io/Cours-NSI-Premiere/tableaux/donnees/cases_grises.py) le fichier `cases_grises.py` et le placer dans le même répertoire que ce carnet _Jupyter_. Exécuter ensuite la cellule suivante :"
   ]
  },
  {
   "cell_type": "code",
   "execution_count": null,
   "metadata": {},
   "outputs": [],
   "source": [
    "from cases_grises import ouverture_fenetre, affichage_cases"
   ]
  },
  {
   "cell_type": "markdown",
   "metadata": {},
   "source": [
    "Deux fonctions `ouverture_fenetre` et `affichage_cases` sont maintenant disponibles en mémoire. On en donne un exemple d'utilisation dans la cellule suivante.\n",
    "\n",
    "La variable `tab` contient un tableau composé de 20 entiers compris entre 0 et 255. A chaque entier correspond une nuance de gris, foncée pour un entier proche de 0 et claire pour un entier proche de 255. En appelant successivement la fonction `ouverture_fenetre` et la procédure `affichage_cases`, on obtient un affichage à l'écran de cases dont la nuance de gris correspond aux valeurs stockées dans le tableau."
   ]
  },
  {
   "cell_type": "markdown",
   "metadata": {},
   "source": [
    "<div>\n",
    "        <img src='https://ntoulzac.github.io/Cours-NSI-Premiere/tableaux/images/cases_grises_0.png'>\n",
    "</div>"
   ]
  },
  {
   "cell_type": "code",
   "execution_count": null,
   "metadata": {},
   "outputs": [],
   "source": [
    "tab = [0, 0, 15, 30, 45, 60, 75, 90, 105, 120, 135, 150, 165, 180, 195, 210, 225, 240, 255, 255]\n",
    "\n",
    "fenetre = ouverture_fenetre()  # la fonction ouverture_fenetre renvoie une variable fenetre\n",
    "affichage_cases(fenetre, tab)  # la procédure affichage_cases dessine des carrés gris dans la fenêtre"
   ]
  },
  {
   "cell_type": "markdown",
   "metadata": {},
   "source": [
    "**(1)** Modifier la définition du tableau `tab` dans le but d'obtenir les affichages ci-dessous :"
   ]
  },
  {
   "cell_type": "markdown",
   "metadata": {},
   "source": [
    "<div>\n",
    "    <img src='https://ntoulzac.github.io/Cours-NSI-Premiere/tableaux/images/cases_grises_1.png'>\n",
    "</div>\n",
    "\n",
    "<center><i>Affichage 1 : toutes les cases sont de la même nuance, ni trop claire, ni trop foncée</i></center>"
   ]
  },
  {
   "cell_type": "code",
   "execution_count": null,
   "metadata": {},
   "outputs": [],
   "source": [
    "# Affichage 1\n",
    "tab = ??????\n",
    "\n",
    "fenetre = ouverture_fenetre()\n",
    "affichage_cases(fenetre, tab)"
   ]
  },
  {
   "cell_type": "markdown",
   "metadata": {},
   "source": [
    "<div>\n",
    "    <img src='https://ntoulzac.github.io/Cours-NSI-Premiere/tableaux/images/cases_grises_2.png'>\n",
    "</div>\n",
    "\n",
    "<center><i>Affichage 2 : les dix premières cases sont blanches, les dix dernières sont noires</i></center>"
   ]
  },
  {
   "cell_type": "code",
   "execution_count": null,
   "metadata": {},
   "outputs": [],
   "source": [
    "# Affichage 2\n",
    "tab = ??????\n",
    "\n",
    "fenetre = ouverture_fenetre()\n",
    "affichage_cases(fenetre, tab)"
   ]
  },
  {
   "cell_type": "markdown",
   "metadata": {},
   "source": [
    "<div>\n",
    "    <img src='https://ntoulzac.github.io/Cours-NSI-Premiere/tableaux/images/cases_grises_3.png'>\n",
    "</div>\n",
    "\n",
    "<center><i>Affichage 3 : les nuances de gris sont aléatoires</i></center>"
   ]
  },
  {
   "cell_type": "code",
   "execution_count": null,
   "metadata": {},
   "outputs": [],
   "source": [
    "# Affichage 3\n",
    "tab = ??????\n",
    "\n",
    "fenetre = ouverture_fenetre()\n",
    "affichage_cases(fenetre, tab)"
   ]
  },
  {
   "cell_type": "markdown",
   "metadata": {},
   "source": [
    "<div>\n",
    "    <img src='https://ntoulzac.github.io/Cours-NSI-Premiere/tableaux/images/cases_grises_4.png'>\n",
    "</div>\n",
    "\n",
    "<center><i>Affichage 4 : les cases sont de plus en plus foncées</i></center>"
   ]
  },
  {
   "cell_type": "code",
   "execution_count": null,
   "metadata": {},
   "outputs": [],
   "source": [
    "# Affichage 4\n",
    "tab = ??????\n",
    "\n",
    "fenetre = ouverture_fenetre()\n",
    "affichage_cases(fenetre, tab)"
   ]
  },
  {
   "cell_type": "markdown",
   "metadata": {},
   "source": [
    "En réalisant plusieurs affichages successifs, on obtient une animation plutôt qu'une image statique. On peut utiliser la procédure `sleep` du module `time` pour faire en sorte qu'une pause de quelques millisecondes ait lieu entre les différents affichages."
   ]
  },
  {
   "cell_type": "code",
   "execution_count": null,
   "metadata": {},
   "outputs": [],
   "source": [
    "from time import sleep"
   ]
  },
  {
   "cell_type": "code",
   "execution_count": null,
   "metadata": {},
   "outputs": [],
   "source": [
    "fen = ouverture_fenetre()\n",
    "for i in range(0, 256, 16):\n",
    "    tab = [i]*10 + [255-i]*10\n",
    "    affichage_cases(fen, tab)\n",
    "    sleep(0.2)  # Pause de 200 ms (soit 0.2 s) entre chaque affichage"
   ]
  },
  {
   "cell_type": "markdown",
   "metadata": {},
   "source": [
    "**(2)** Faire en sorte d'obtenir l'affichage ci-dessous :"
   ]
  },
  {
   "cell_type": "markdown",
   "metadata": {},
   "source": [
    "<div>\n",
    "    <img src='https://ntoulzac.github.io/Cours-NSI-Premiere/tableaux/images/cases_grises_5.gif'>\n",
    "</div>\n",
    "\n",
    "<center><i>Affichage 5 : le dégradé de gris défile de droite à gauche de l'écran</i></center>"
   ]
  },
  {
   "cell_type": "code",
   "execution_count": null,
   "metadata": {},
   "outputs": [],
   "source": [
    "fen = ouverture_fenetre()\n",
    "???????\n",
    "for _ in range(100):\n",
    "    ??????\n",
    "    ??????\n",
    "    affichage_cases(fen, tab)\n",
    "    sleep(0.2)"
   ]
  },
  {
   "cell_type": "markdown",
   "metadata": {},
   "source": [
    "Pour fermer la fenêtre *Pygame*, il suffit d'exécuter la commande suivante :"
   ]
  },
  {
   "cell_type": "code",
   "execution_count": null,
   "metadata": {},
   "outputs": [],
   "source": [
    "pygame.quit()"
   ]
  }
 ],
 "metadata": {
  "kernelspec": {
   "display_name": "Python 3 (ipykernel)",
   "language": "python",
   "name": "python3"
  },
  "language_info": {
   "codemirror_mode": {
    "name": "ipython",
    "version": 3
   },
   "file_extension": ".py",
   "mimetype": "text/x-python",
   "name": "python",
   "nbconvert_exporter": "python",
   "pygments_lexer": "ipython3",
   "version": "3.9.12"
  }
 },
 "nbformat": 4,
 "nbformat_minor": 2
}
