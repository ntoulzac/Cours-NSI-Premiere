{
 "cells": [
  {
   "cell_type": "markdown",
   "metadata": {},
   "source": [
    "<div style='background-color: #e3a8b6;\n",
    "    border: 0.5em solid black;\n",
    "    border-radius: 0.5em;\n",
    "    padding: 1em;'>\n",
    "    <h2>Exercice 5-07</h2>\n",
    "    <h1>Tables d'addition et de multiplication</h1>\n",
    "</div>"
   ]
  },
  {
   "cell_type": "markdown",
   "metadata": {},
   "source": [
    "**(1)** Définir en compréhension un tableau à deux dimensions `table_addition` contenant sur 11 lignes et 11 colonnes les valeurs de `i + j`, pour `i` et `j` compris entre `0` et `10`."
   ]
  },
  {
   "cell_type": "code",
   "execution_count": null,
   "metadata": {},
   "outputs": [],
   "source": []
  },
  {
   "cell_type": "markdown",
   "metadata": {},
   "source": [
    "Télécharger [ici](https://ntoulzac.github.io/Cours-NSI-Premiere/tableaux/donnees/tables.py) le fichier `tables.py` et le placer dans le même répertoire que ce carnet _Jupyter_.\n",
    "\n",
    "Après avoir exécuté la cellule suivante, vous pouvez utiliser la fonction `affichage_table` qui prend en entrée un tableau à deux dimensions et qui l'affiche dans une fenêtre *Pygame*."
   ]
  },
  {
   "cell_type": "code",
   "execution_count": null,
   "metadata": {},
   "outputs": [],
   "source": [
    "from tables import affichage_table"
   ]
  },
  {
   "cell_type": "code",
   "execution_count": null,
   "metadata": {},
   "outputs": [],
   "source": [
    "affichage_table(table_addition)"
   ]
  },
  {
   "cell_type": "markdown",
   "metadata": {},
   "source": [
    "<div>\n",
    "    <img src=\"https://ntoulzac.github.io/Cours-NSI-Premiere/tableaux/images/table_addition_sans_entetes.png\" width = 400>\n",
    "</div>"
   ]
  },
  {
   "cell_type": "markdown",
   "metadata": {},
   "source": [
    "**(2)** Modifier la définition de `table_addition` pour faire en sorte d'ajouter une ligne et une colonne d'en-tête. Le but est d'obtenir :"
   ]
  },
  {
   "cell_type": "markdown",
   "metadata": {},
   "source": [
    "<div>\n",
    "    \t\t<table align = \"center\">\n",
    "\t\t\t<tr>\n",
    "                <td><img src=\"https://ntoulzac.github.io/Cours-NSI-Premiere/tableaux/images/table_addition.png\" width = 400></td>\n",
    "                <td><img src=\"https://ntoulzac.github.io/Cours-NSI-Premiere/tableaux/images/table_multiplication.png\" width = 400></td>\n",
    "\t\t\t</tr>\n",
    "\t\t</table>\n",
    "</div>"
   ]
  },
  {
   "cell_type": "code",
   "execution_count": null,
   "metadata": {},
   "outputs": [],
   "source": []
  },
  {
   "cell_type": "code",
   "execution_count": null,
   "metadata": {},
   "outputs": [],
   "source": []
  }
 ],
 "metadata": {
  "kernelspec": {
   "display_name": "Python 3 (ipykernel)",
   "language": "python",
   "name": "python3"
  },
  "language_info": {
   "codemirror_mode": {
    "name": "ipython",
    "version": 3
   },
   "file_extension": ".py",
   "mimetype": "text/x-python",
   "name": "python",
   "nbconvert_exporter": "python",
   "pygments_lexer": "ipython3",
   "version": "3.9.12"
  }
 },
 "nbformat": 4,
 "nbformat_minor": 2
}
