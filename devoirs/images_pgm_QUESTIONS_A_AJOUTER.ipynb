{
 "cells": [
  {
   "cell_type": "markdown",
   "metadata": {},
   "source": [
    "<p style=\"font-style:italic; color:gray;\">Ecrire la réponse ici</p>"
   ]
  },
  {
   "cell_type": "markdown",
   "metadata": {},
   "source": [
    "(c) Quelle instruction Python doit-on saisir pour accéder au pixel situé à la troisième ligne et deuxième colonne ?"
   ]
  },
  {
   "cell_type": "markdown",
   "metadata": {},
   "source": [
    "<p style=\"font-style:italic; color:gray;\">Ecrire la réponse ici</p>"
   ]
  },
  {
   "cell_type": "markdown",
   "metadata": {},
   "source": [
    "<h3 class=\"alert alert-info\">Symétrie verticale</h3>"
   ]
  },
  {
   "cell_type": "markdown",
   "metadata": {},
   "source": [
    "On considère la fonction suivante, où le paramètre `img` est une liste de listes représentant une image matricielle."
   ]
  },
  {
   "cell_type": "code",
   "execution_count": null,
   "metadata": {},
   "outputs": [],
   "source": [
    "def symetrie_verticale(img):\n",
    "    ''' Produit une image miroir symétrique de l'image matricielle img (liste de listes) en niveaux de gris '''\n",
    "    largeur, hauteur = dimensions_image(img)\n",
    "    for i in range(hauteur):\n",
    "        for j in range(largeur//2):\n",
    "            img[i][j], img[i][largeur-j-1] = ...\n",
    "    return img"
   ]
  },
  {
   "cell_type": "markdown",
   "metadata": {},
   "source": [
    "1. Pourquoi doit-on effectuer une double boucle ?"
   ]
  },
  {
   "cell_type": "markdown",
   "metadata": {},
   "source": [
    "<p style=\"font-style:italic; color:gray;\">Ecrire la réponse ici</p>"
   ]
  },
  {
   "cell_type": "markdown",
   "metadata": {},
   "source": [
    "2. Pourquoi le paramètre du `range` de la ligne 5 est-il `largeur//2` ?"
   ]
  },
  {
   "cell_type": "markdown",
   "metadata": {},
   "source": [
    "<p style=\"font-style:italic; color:gray;\">Ecrire la réponse ici</p>"
   ]
  },
  {
   "cell_type": "markdown",
   "metadata": {},
   "source": [
    "3. Compléter la ligne 6 de façon à avoir en sortie une liste représentant l’image matricielle obtenue à partir de l’image initiale par une symétrie verticale."
   ]
  },
  {
   "cell_type": "markdown",
   "metadata": {},
   "source": [
    "4. Exécuter les cellules ci-dessous pour tester cette fonction avec les images `pingouin.pgm` et `photo.pgm`."
   ]
  },
  {
   "cell_type": "code",
   "execution_count": null,
   "metadata": {},
   "outputs": [],
   "source": [
    "# Photo pingouin.pgm\n",
    "img_pingouin = données_image_vers_tableau('pingouin.pgm')\n",
    "sym_vert_img_pingouin = symetrie_verticale(img_pingouin)\n",
    "affiche_image(sym_vert_img_pingouin)"
   ]
  },
  {
   "cell_type": "code",
   "execution_count": null,
   "metadata": {},
   "outputs": [],
   "source": [
    "# Photo photo.pgm\n",
    "img_photo = données_image_vers_tableau('photo.pgm')\n",
    "sym_vert_img_photo = symetrie_verticale(img_photo)\n",
    "affiche_image(sym_vert_img_photo)"
   ]
  },
  {
   "cell_type": "markdown",
   "metadata": {},
   "source": [
    "<h3 class=\"alert alert-info\">Symétrie horizontale</h3>"
   ]
  },
  {
   "cell_type": "markdown",
   "metadata": {},
   "source": [
    "Modifier la fonction précédente pour écrire une fonction `symetrie_horizontale` prenant en paramètre une liste `img` représentant une image matricielle et renvoyant en sortie la liste correspondante à l’image matricielle obtenue après une symétrie horizontale."
   ]
  },
  {
   "cell_type": "code",
   "execution_count": null,
   "metadata": {},
   "outputs": [],
   "source": [
    "def symetrie_horizontale(img):\n",
    "    ''' Produit une image renversée symétrique de l'image matricielle img (liste de listes) en niveaux de gris '''\n",
    "    # à compléter"
   ]
  },
  {
   "cell_type": "markdown",
   "metadata": {},
   "source": [
    "Tester cette fonction avec les images `pingouin.pgm` et `photo.pgm`."
   ]
  },
  {
   "cell_type": "code",
   "execution_count": null,
   "metadata": {},
   "outputs": [],
   "source": [
    "# Photo pingouin.pgm\n",
    "img_pingouin = données_image_vers_tableau('pingouin.pgm')\n",
    "sym_hor_img_pingouin = symetrie_horizontale(img_pingouin)\n",
    "affiche_image(sym_hor_img_pingouin)"
   ]
  },
  {
   "cell_type": "code",
   "execution_count": null,
   "metadata": {},
   "outputs": [],
   "source": [
    "# Photo photo.pgm\n",
    "img_photo = données_image_vers_tableau('photo.pgm')\n",
    "sym_hor_img_photo = symetrie_horizontale(img_photo)\n",
    "affiche_image(sym_hor_img_photo)"
   ]
  },
  {
   "cell_type": "markdown",
   "metadata": {},
   "source": [
    "<h3 class=\"alert alert-info\">Noir et blanc</h3>"
   ]
  },
  {
   "cell_type": "markdown",
   "metadata": {},
   "source": [
    "En adaptant les fonctions précédentes, écrire une fonction `noir_et_blanc` prenant en paramètre une liste `img` représentant une image matricielle et renvoyant la liste définie de la façon suivante : toutes les valeurs de la liste initiale strictement inférieures à `127` sont remplacées par `0`, et les autres par `255`."
   ]
  },
  {
   "cell_type": "code",
   "execution_count": null,
   "metadata": {},
   "outputs": [],
   "source": [
    "def noir_et_blanc(img):\n",
    "    ''' Produit une image en noir et blanc à partir de l'image matricielle img (liste de listes) en niveaux de gris\n",
    "    Le seuil est 127'''\n",
    "    # à compléter"
   ]
  },
  {
   "cell_type": "markdown",
   "metadata": {},
   "source": [
    "Tester cette fonction avec les images `pingouin.pgm` et `photo.pgm`."
   ]
  },
  {
   "cell_type": "code",
   "execution_count": null,
   "metadata": {},
   "outputs": [],
   "source": [
    "# Photo pingouin.pgm\n",
    "img_pingouin = données_image_vers_tableau('pingouin.pgm')\n",
    "NB_img_pingouin = noir_et_blanc(img_pingouin)\n",
    "affiche_image(NB_img_pingouin)"
   ]
  },
  {
   "cell_type": "code",
   "execution_count": null,
   "metadata": {},
   "outputs": [],
   "source": [
    "# Photo photo.pgm\n",
    "img_photo = données_image_vers_tableau('photo.pgm')\n",
    "NB_img_photo = noir_et_blanc(img_photo)\n",
    "affiche_image(NB_img_photo)"
   ]
  }
 ],
 "metadata": {
  "celltoolbar": "Aucun(e)",
  "kernelspec": {
   "display_name": "Python 3 (ipykernel)",
   "language": "python",
   "name": "python3"
  },
  "language_info": {
   "codemirror_mode": {
    "name": "ipython",
    "version": 3
   },
   "file_extension": ".py",
   "mimetype": "text/x-python",
   "name": "python",
   "nbconvert_exporter": "python",
   "pygments_lexer": "ipython3",
   "version": "3.9.12"
  }
 },
 "nbformat": 4,
 "nbformat_minor": 2
}
