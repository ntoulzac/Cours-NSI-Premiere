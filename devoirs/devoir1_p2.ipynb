{
 "cells": [
  {
   "cell_type": "markdown",
   "metadata": {},
   "source": [
    "<h1><center>Devoir n°1</center></h1>\n",
    "<h2><center>Seconde partie : travail sur ordinateur (10 points)</center></h2>\n",
    "\n",
    "<h3>Important :</h3>\n",
    "<ul><br>\n",
    "    <li>L'utilisation des <b>documents de cours</b> est <b>strictement interdite</b>.</li><br>\n",
    "        <li>L'utilisation d'<b>internet</b> est <b>strictement interdite</b>.</li><br>\n",
    "        <li>Tout manquement à l'un des deux points précédents sera considéré comme une <b>fraude</b> ou une <b>tentative de fraude</b>.</li><br>\n",
    "        <li>Lorsque vous aurez terminé, vous renommerez votre fichier <code>nom_prenom.ipynb</code> et vous le déposerez dans le dossier <code>Rendu</code> du réseau. Attention, une fois déposé dans <code>Rendu</code>, votre travail n’est plus modifiable.</li>\n",
    "</ul>"
   ]
  },
  {
   "cell_type": "markdown",
   "metadata": {},
   "source": [
    "## Exercice 3 (5 points)\n",
    "\n",
    "Le code ci-dessous contient six erreurs que vous devez corriger. Vous expliquerez vos modifications dans la cellule située sous le code.\n",
    "\n",
    "*Remarque :* La première réponse est donnée à titre d'exemple.\n",
    "\n",
    "***Version à conserver intacte :***\n",
    "\n",
    "```python\n",
    "    from random import randint\n",
    "\n",
    "nom_du_joueur = input('Veuillez saisir votre nom : ')  # Saisie d'une chaîne de caractère (texte)\n",
    "print('*** Bienvenue', nom_du_joueur, '! ***')\n",
    "\n",
    "annee_naissance = int(input('Veuillez saisir votre année de naissance : '))  # Saisie d'un nombre entier\n",
    "print()\n",
    "\n",
    "for annee in range(2034, 2023):\n",
    "    age = annee - annee_naissance  # Calcul de l'âge\n",
    "    print('En', annee, ', vous fêterez vos', age, 'ans.')\n",
    "    if age = 18: # Âge de la majorité ?\n",
    "        prit('--> Félicitations ! Vous serez majeur en', annee, '!')\n",
    "print()\n",
    "\n",
    "annee = randint(2050, 2060)\n",
    "age = annee - annee_naissance\n",
    "while age <= 80\n",
    "    print('En', annee, ', vous fêterez vos', age 'ans.')\n",
    "    annee = annee + 1\n",
    "    age = age + 1\n",
    "```\n",
    "\n",
    "***Version à modifier et à tester :***"
   ]
  },
  {
   "cell_type": "code",
   "execution_count": null,
   "metadata": {},
   "outputs": [],
   "source": [
    "    from random import randint\n",
    "\n",
    "nom_du_joueur = input('Veuillez saisir votre nom : ')  # Saisie d'une chaîne de caractère (texte)\n",
    "print('*** Bienvenue', nom_du_joueur, '! ***')\n",
    "\n",
    "annee_naissance = int(input('Veuillez saisir votre année de naissance : '))  # Saisie d'un nombre entier\n",
    "print()\n",
    "\n",
    "for annee in range(2034, 2023):\n",
    "    age = annee - annee_naissance  # Calcul de l'âge\n",
    "    print('En', annee, ', vous fêterez vos', age, 'ans.')\n",
    "    if age = 18: # Âge de la majorité ?\n",
    "        prit('--> Félicitations ! Vous serez majeur en', annee, '!')\n",
    "print()\n",
    "\n",
    "annee = randint(2050, 2060)\n",
    "age = annee - annee_naissance\n",
    "while age <= 80\n",
    "    print('En', annee, ', vous fêterez vos', age 'ans.')\n",
    "    annee = annee + 1\n",
    "    age = age + 1"
   ]
  },
  {
   "cell_type": "code",
   "execution_count": null,
   "metadata": {},
   "outputs": [],
   "source": [
    "# Erreur à la ligne 1\n",
    "# Version initiale de la ligne de code : (indentation)from random import randint\n",
    "# Version corrigée de la ligne de code : from random import randint\n",
    "# Explication : La première ligne de code ne doit pas être indentée.\n",
    "\n",
    "# Erreur à la ligne ...\n",
    "# Version initiale de la ligne de code :\n",
    "# Version corrigée de la ligne de code :\n",
    "# Explication :\n",
    "\n",
    "# Erreur à la ligne ...\n",
    "# Version initiale de la ligne de code :\n",
    "# Version corrigée de la ligne de code :\n",
    "# Explication :\n",
    "\n",
    "# Erreur à la ligne ...\n",
    "# Version initiale de la ligne de code :\n",
    "# Version corrigée de la ligne de code :\n",
    "# Explication :\n",
    "\n",
    "# Erreur à la ligne ...\n",
    "# Version initiale de la ligne de code :\n",
    "# Version corrigée de la ligne de code :\n",
    "# Explication :\n",
    "\n",
    "# Erreur à la ligne ...\n",
    "# Version initiale de la ligne de code :\n",
    "# Version corrigée de la ligne de code :\n",
    "# Explication :"
   ]
  },
  {
   "cell_type": "markdown",
   "metadata": {},
   "source": [
    "## Exercice 4 (5 points)\n",
    "\n",
    "On souhaite simuler une partie du jeu du _Juste prix_ :\n",
    "\n",
    "- L'ordinateur tire un nombre entier au hasard compris entre 500 et 2000 : c'est le prix à deviner.\n",
    "- Le joueur ou la joueuse propose des prix jusqu'à trouver la valeur choisie par l'ordinateur.\n",
    "- Après chaque proposition fausse du joueur ou de la joueuse, l'ordinateur annonce si la bonne réponse est supérieure ou inférieure à la proposition faite.\n",
    "- À la fin du jeu, une fois que le juste prix a été deviné, l'ordinateur affiche à l'écran le nombre de tentatives qui ont été réalisées.\n",
    "\n",
    "_Remarque :_ On rappelle que, pour demander au joueur ou à la joueuse de saisir un entier au clavier, on utilise l'instruction suivante :\n",
    "\n",
    "```python\n",
    "proposition = int(input(\"Saisir une proposition : \"))\n",
    "```"
   ]
  },
  {
   "cell_type": "code",
   "execution_count": null,
   "metadata": {},
   "outputs": [],
   "source": [
    "from random import randint\n",
    "\n",
    "## Code à écrire..."
   ]
  }
 ],
 "metadata": {
  "kernelspec": {
   "display_name": "Python 3 (ipykernel)",
   "language": "python",
   "name": "python3"
  },
  "language_info": {
   "codemirror_mode": {
    "name": "ipython",
    "version": 3
   },
   "file_extension": ".py",
   "mimetype": "text/x-python",
   "name": "python",
   "nbconvert_exporter": "python",
   "pygments_lexer": "ipython3",
   "version": "3.9.12"
  }
 },
 "nbformat": 4,
 "nbformat_minor": 2
}
