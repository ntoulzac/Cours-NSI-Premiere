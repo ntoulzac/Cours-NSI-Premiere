{
 "cells": [
  {
   "cell_type": "markdown",
   "metadata": {},
   "source": [
    "<div style='background-color: #ffc154;\n",
    "    border: 0.5em solid black;\n",
    "    border-radius: 0.5em;\n",
    "    padding: 1em;'>\n",
    "    <h1>Immeubles aléatoires</h1>\n",
    "</div>"
   ]
  },
  {
   "cell_type": "markdown",
   "metadata": {},
   "source": [
    "L'objectif est de dessiner des immeubles dont la couleur, le nombre d'étages, la position et la couleur de la porte, le type de fenêtre et le type de toit sont aléatoires. Voici des exemples de dessins attendus :"
   ]
  },
  {
   "cell_type": "markdown",
   "metadata": {},
   "source": [
    "<img src='https://ntoulzac.github.io/Cours-NSI-Terminale/devoirs/images/immeubles_alea.gif'>"
   ]
  },
  {
   "cell_type": "markdown",
   "metadata": {},
   "source": [
    "<div style='background-color: #ffc154;\n",
    "    border-radius: 0.5em;\n",
    "    padding: 1em;'>\n",
    "    <h2>Contraintes sur le dessin</h2>\n",
    "</div>"
   ]
  },
  {
   "cell_type": "markdown",
   "metadata": {},
   "source": [
    "Les contraintes à respecter **obligatoirement** sont les suivantes :\n",
    "- Le dessin est composé de 4 immeubles côte à côte.\n",
    "- Chaque immeuble est composé d'un rez-de-chaussée et d'un nombre d'étages compris entre 0 et 4.\n",
    "- Chaque immeuble dispose d'une porte et deux fenêtres au rez-de-chaussée et de trois fenêtres à chaque étage.\n",
    "- Chaque étage mesure 140 pixels de large et 60 pixels de haut.\n",
    "- Chaque porte et chaque fenêtre mesurent 30 pixels de large.\n",
    "- La couleur de l'immeuble est choisie aléatoirement.\n",
    "- Deux types de fenêtres sont possibles, sauf pour le rez-de-chaussée : fenêtre simple ou porte-fenêtre avec balcon.\n",
    "\n",
    "Les contraintes à respecter **facultativement** sont les suivantes :\n",
    "- Deux types de portes sont possibles : porte carrée ou porte arrondie. Leur couleur est aléatoire.\n",
    "- Trois types de toits sont possibles : toit pentu, toit plat ou toit plat avec balustrade."
   ]
  },
  {
   "cell_type": "markdown",
   "metadata": {},
   "source": [
    "<div style='background-color: #ffc154;\n",
    "    border-radius: 0.5em;\n",
    "    padding: 1em;'>\n",
    "    <h2>Code produit</h2>\n",
    "</div>"
   ]
  },
  {
   "cell_type": "markdown",
   "metadata": {},
   "source": [
    "### Importation du module `turtle` et de la fonction `randint`"
   ]
  },
  {
   "cell_type": "code",
   "execution_count": null,
   "metadata": {},
   "outputs": [],
   "source": [
    "import turtle\n",
    "from random import randint"
   ]
  },
  {
   "cell_type": "markdown",
   "metadata": {},
   "source": [
    "### Définitions de fonctions utiles"
   ]
  },
  {
   "cell_type": "code",
   "execution_count": null,
   "metadata": {},
   "outputs": [],
   "source": [
    "def couleur_alea():\n",
    "    \"\"\"\n",
    "    Retourne un triplet d'entiers aléatoires compris entre 0 et 255, correspondant à une couleur.\n",
    "    - Sortie : (triplet d'entiers compris entre 0 et 255)\n",
    "    \"\"\"\n",
    "    return ??????"
   ]
  },
  {
   "cell_type": "markdown",
   "metadata": {},
   "source": [
    "**(1)** Compléter la définition de la fonction `couleur_alea` conformément à sa spécification."
   ]
  },
  {
   "cell_type": "markdown",
   "metadata": {},
   "source": [
    "*Remarque :* Les trois entiers compris entre 0 et 255 correspondent respectivement aux composantes rouge, verte et bleue de la couleur aléatoire."
   ]
  },
  {
   "cell_type": "code",
   "execution_count": null,
   "metadata": {},
   "outputs": [],
   "source": [
    "def positionner_crayon(x, y):\n",
    "    \"\"\"\n",
    "    Positionne le crayon à la position  (x, y) sans tracer de segment.\n",
    "    - Entrées : x (nombre correspondant à une abscisse), y (nombre correspondant à une ordonnée)\n",
    "    \"\"\"\n",
    "    turtle.up()\n",
    "    turtle.goto(x, y)\n",
    "    turtle.down()"
   ]
  },
  {
   "cell_type": "code",
   "execution_count": null,
   "metadata": {},
   "outputs": [],
   "source": [
    "def dessiner_rectangle(coin_x, coin_y, largeur, hauteur, couleur_trait, couleur_remplissage=None):\n",
    "    \"\"\"\n",
    "    Dessine un rectangle dans la fenêtre Turtle.\n",
    "    - Entrées : coin_x, coin_y (??????),\n",
    "                largeur, hauteur (??????),\n",
    "                couleur_trait (??????),\n",
    "                couleur_remplissage (??????)\n",
    "    \"\"\"\n",
    "    positionner_crayon(coin_x, coin_y)\n",
    "    if couleur_remplissage is None:\n",
    "        turtle.color(couleur_trait)\n",
    "    else:\n",
    "        turtle.color(couleur_trait, couleur_remplissage)\n",
    "        turtle.begin_fill()\n",
    "    for _ in range(2):\n",
    "        turtle.forward(largeur)\n",
    "        turtle.left(90)\n",
    "        turtle.forward(hauteur)\n",
    "        turtle.left(90)\n",
    "    if couleur_remplissage is not None:\n",
    "        turtle.end_fill()"
   ]
  },
  {
   "cell_type": "markdown",
   "metadata": {},
   "source": [
    "**(2)** Compléter le code dans la cellule ci-dessous pour tester la procédure `dessiner_rectangle`, puis compléter la spécification de cette procédure."
   ]
  },
  {
   "cell_type": "code",
   "execution_count": null,
   "metadata": {},
   "outputs": [],
   "source": [
    "NOIR = (0, 0, 0)\n",
    "GRIS = (200, 200, 200)\n",
    "BLANC = (255, 255, 255)\n",
    "\n",
    "fenetre = turtle.Screen()\n",
    "turtle.TurtleScreen._RUNNING = True\n",
    "turtle.colormode(255)\n",
    "turtle.pensize(2)\n",
    "turtle.speed('fastest')\n",
    "turtle.hideturtle()\n",
    "\n",
    "dessiner_rectangle(0, 0, 100, 50, NOIR, GRIS)\n",
    "\n",
    "fenetre.exitonclick()"
   ]
  },
  {
   "cell_type": "markdown",
   "metadata": {},
   "source": [
    "*Remarque :*\n",
    "- La fonction `turtle.color` peut prendre un ou deux paramètres d'entrée."
   ]
  },
  {
   "cell_type": "markdown",
   "metadata": {},
   "source": [
    "**(3)** Compléter la définition des procédures `dessiner_fenetre` et `dessiner_portefenetre`."
   ]
  },
  {
   "cell_type": "code",
   "execution_count": null,
   "metadata": {},
   "outputs": [],
   "source": [
    "def dessiner_fenetre(coin_x, coin_y):\n",
    "    \"\"\"\n",
    "    Dessine une fenêtre.\n",
    "    - Entrées : coin_x, coin_y (nombres, coordonnées du sommet inférieur gauche de la fenêtre)\n",
    "    \"\"\"\n",
    "    dessiner_rectangle(coin_x, coin_y, ??????)"
   ]
  },
  {
   "cell_type": "markdown",
   "metadata": {},
   "source": [
    "*Remarque :* Les fenêtres sont des carrés de 30 pixels de côté, colorés en gris avec un bord noir."
   ]
  },
  {
   "cell_type": "code",
   "execution_count": null,
   "metadata": {},
   "outputs": [],
   "source": [
    "def dessiner_portefenetre(coin_x, coin_y):\n",
    "    \"\"\"\n",
    "    Dessine une porte-fenêtre.\n",
    "    - Entrées : coin_x, coin_y (nombres, coordonnées du sommet inférieur gauche de la porte-fenêtre)\n",
    "    \"\"\"\n",
    "    dessiner_rectangle(coin_x, coin_y, ??????)\n",
    "    for k in range(8):\n",
    "        dessiner_rectangle(coin_x + 5*(k-1), coin_y, ??????)"
   ]
  },
  {
   "cell_type": "markdown",
   "metadata": {},
   "source": [
    "*Remarques :*\n",
    "- Les portes-fenêtres sont des rectangles de 30 pixels par 50, colorés en gris avec un bord noir.\n",
    "- La ballustrade se compose de huit rectangles de 5 pixels par 30, transparents avec un bord noir."
   ]
  },
  {
   "cell_type": "markdown",
   "metadata": {},
   "source": [
    "**(4)** Compléter la définition de la procédure `dessiner_porte`."
   ]
  },
  {
   "cell_type": "code",
   "execution_count": null,
   "metadata": {},
   "outputs": [],
   "source": [
    "def dessiner_porte(coin_x, coin_y):\n",
    "    \"\"\"\n",
    "    Dessine une porte.\n",
    "    - Entrées : coin_x, coin_y (nombres, coordonnées du sommet inférieur gauche de la porte)\n",
    "    \"\"\"\n",
    "    ??????"
   ]
  },
  {
   "cell_type": "code",
   "execution_count": null,
   "metadata": {},
   "outputs": [],
   "source": [
    "def dessiner_toit(coin_x, coin_y):\n",
    "    \"\"\"\n",
    "    Dessine un toit.\n",
    "    - Entrées : coin_x, coin_y (nombres, coordonnées du sommet supérieur gauche de l'immeuble sur lequel le toit est posé)\n",
    "    \"\"\"\n",
    "    turtle.color(NOIR)\n",
    "    if randint(0, 1) == 0:\n",
    "        positionner_crayon(coin_x - 6, coin_y)\n",
    "        turtle.begin_fill()\n",
    "        for _ in range(2):\n",
    "            turtle.forward(152)\n",
    "            turtle.circle(2, 180)\n",
    "        turtle.end_fill()\n",
    "        if randint(0, 2) == 0:\n",
    "            for k in range(30):\n",
    "                dessiner_rectangle(coin_x + 5*(k-1), coin_y + 4, 5, 30, NOIR, None)\n",
    "    else:\n",
    "        positionner_crayon(coin_x - 8, coin_y)\n",
    "        turtle.begin_fill()\n",
    "        turtle.goto(coin_x + 148, coin_y)\n",
    "        turtle.goto(coin_x + 70, coin_y + 39)\n",
    "        turtle.goto(coin_x - 8, coin_y)\n",
    "        turtle.end_fill()"
   ]
  },
  {
   "cell_type": "markdown",
   "metadata": {},
   "source": [
    "*Remarque :* Trois types de toit sont possibles. Dans 50% des cas (cas où `randint(0, 1) == 0`) on dessine un toit plat, et dans 50% des cas (cas où `randint(0, 1) == 1`) un toit pentu. De plus, dans le cas où le toit est plat, on dessine une ballustrade dans un cas sur trois (cas où `randint(0, 2) == 0`)."
   ]
  },
  {
   "cell_type": "code",
   "execution_count": null,
   "metadata": {},
   "outputs": [],
   "source": [
    "def dessiner_etage(coin_x, coin_y, couleur, est_rdc):\n",
    "    \"\"\"\n",
    "    Dessine un étage de l'immeuble.\n",
    "    - Entrées : coin_x, coin_y (nombres, coordonnées du sommet inférieur gauche de l'étage à dessiner),\n",
    "                couleur (triplet d'entiers compris entre 0 et 255, couleur de l'étage à dessiner),\n",
    "                est_rdc (booléen, True si l'étage est le rez-de-chaussée, False sinon)\n",
    "    \"\"\"\n",
    "    dessiner_rectangle(coin_x, coin_y, 140, 60, NOIR, couleur)\n",
    "    format_etage = [randint(1, 10) if not est_rdc else 1 for _ in range(3)]\n",
    "    if est_rdc:\n",
    "        format_etage[randint(0, 2)] = 0\n",
    "    for k in range(3):\n",
    "        if 1 <= format_etage[k] <= 7:\n",
    "            dessiner_fenetre(coin_x + 15 + 40*k, coin_y + 20)\n",
    "        elif 8 <= format_etage[k] <= 10:\n",
    "            dessiner_portefenetre(coin_x + 15 + 40*k, coin_y)\n",
    "        else:\n",
    "            dessiner_porte(coin_x + 15 + 40*k, coin_y)"
   ]
  },
  {
   "cell_type": "markdown",
   "metadata": {},
   "source": [
    "*Remarques :*\n",
    "- Le tableau `format_etage` contient trois valeurs comprises entre 0 et 10.\n",
    "- La valeur 0 correspond à l'emplacement d'une porte, uniquement dans le cas où on dessine le rez-de-chaussée.\n",
    "- Les valeurs comprises entre 1 et 7 correspondent aux fenêtres.\n",
    "- Les valeurs comprises entre 8 et 10 correspondent aux portes-fenêtres, uniquement dans le où on dessine un étage supérieur.\n",
    "- Le rez-de-chaussée se compose d'une porte (à un emplacement aléatoire) et de deux fenêtres.\n",
    "- Pour chaque étage supérieur, la probabilité d'avoir une porte-fenêtre plutôt qu'une fenêtre est de 30%."
   ]
  },
  {
   "cell_type": "code",
   "execution_count": null,
   "metadata": {},
   "outputs": [],
   "source": [
    "def dessiner_immeuble(coin_x, coin_y, taille_max_immeubles):\n",
    "    \"\"\"\n",
    "    Dessine un immeuble.\n",
    "    - Entrées : coin_x, coin_y (nombres, coordonnées du sommet inférieur gauche de l'immeuble à dessiner),\n",
    "                taille_max_immeubles (entier, nombre maximal d'étages autorisés)\n",
    "    \"\"\"\n",
    "    nb_etages_sup = randint(0, taille_max_immeubles - 1)\n",
    "    positionner_crayon(coin_x - 10, coin_y)\n",
    "    turtle.color(??????)\n",
    "    turtle.forward(160)  # dessine le sol en noir\n",
    "    couleur_immeuble = ??????\n",
    "    dessiner_etage(coin_x, coin_y, ??????)  # dessine le rez-de-chaussée\n",
    "    for k in range(??????):\n",
    "        dessiner_etage(coin_x, coin_y + 60*k, ??????)  # dessine les étages supérieurs\n",
    "    dessiner_toit(coin_x, coin_y + 60 * (nb_etages_sup + 1))"
   ]
  },
  {
   "cell_type": "markdown",
   "metadata": {},
   "source": [
    "*Remarques :*\n",
    "- La dixième ligne permet de dessiner le sol sous forme d'un segment de longueur 160 pixels."
   ]
  },
  {
   "cell_type": "code",
   "execution_count": null,
   "metadata": {},
   "outputs": [],
   "source": [
    "def dessiner_rue(nb_immeubles, taille_max_immeubles):\n",
    "    \"\"\"\n",
    "    Dessine un aligement d'immeubles.\n",
    "    - Entrées : nb_immeubles (entier, nombre d'immeubles à dessiner),\n",
    "                taille_max_immeubles (entier, nombre maximal d'étages autorisés)\n",
    "    \"\"\"\n",
    "    for k in range(nb_immeubles):\n",
    "        dessiner_immeuble(160*k - 80*nb_immeubles, -30*(taille_max_immeubles + 0.5), taille_max_immeubles)"
   ]
  },
  {
   "cell_type": "markdown",
   "metadata": {},
   "source": [
    "*Remarque :* Les immeubles sont centrés dans la fenêtre *Turtle*, et ce quel que soit leur nombre et leur hauteur maximale autorisée."
   ]
  },
  {
   "cell_type": "markdown",
   "metadata": {},
   "source": [
    "### Programme principal"
   ]
  },
  {
   "cell_type": "code",
   "execution_count": null,
   "metadata": {},
   "outputs": [],
   "source": [
    "NB_IMMEUBLES = 4\n",
    "NB_ETAGES_MAX = 5\n",
    "\n",
    "NOIR = (0, 0, 0)\n",
    "GRIS = (200, 200, 200)\n",
    "BLANC = (255, 255, 255)\n",
    "\n",
    "fenetre = turtle.Screen()\n",
    "fenetre.setup(180*(NB_IMMEUBLES + 0.5), 60*(NB_ETAGES_MAX + 2.5))\n",
    "turtle.TurtleScreen._RUNNING = True\n",
    "turtle.colormode(255)\n",
    "turtle.pensize(2)\n",
    "turtle.speed('fastest')\n",
    "turtle.hideturtle()\n",
    "\n",
    "dessiner_rue(NB_IMMEUBLES, NB_ETAGES_MAX)\n",
    "\n",
    "fenetre.exitonclick()"
   ]
  },
  {
   "cell_type": "markdown",
   "metadata": {},
   "source": [
    "*Remarques :*\n",
    "- L'instruction `fenetre = turtle.Screen()` permet d'ouvrir une fenêtre *Turtle*, et la commande `fenetre.setup()` permet de définir les dimensions de la fenêtre en pixels.\n",
    "- L'instruction `turtle.TurtleScreen._RUNNING = True` permet d'éviter une erreur `Terminator` en cas de multiples exécutions de la cellule du carnet.\n",
    "- L'appel de la fonction `turtle.colormode` peut se faire avec le paramètre `255` (auquel cas les composantes rouge, verte et bleue des couleurs sont des entiers compris entre 0 et 255) ou avec le paramètre `1` (auquel cas les composantes rouge, verte et bleue des couleurs sont des flottants compris entre 0 et 1).\n",
    "- L'appel de la fonction `turtle.pensize` permet de définir l'épaisseur (en pixels) des segments tracés.\n",
    "- L'appel de la fonction `turtle.speed` avec le paramètre `'fastest'` demande que les tracés se fassent à vitesse maximale.\n",
    "- L'appel de la fonction `turtle.hideturtle` fait disparaître la \"tortue\" de l'écran lors des tracés.\n",
    "- L'instruction `fenetre.exitonclick()` permet de fermer la fenêtre *Turtle* en cas de clic dans la fenêtre."
   ]
  }
 ],
 "metadata": {
  "kernelspec": {
   "display_name": "Python 3 (ipykernel)",
   "language": "python",
   "name": "python3"
  },
  "language_info": {
   "codemirror_mode": {
    "name": "ipython",
    "version": 3
   },
   "file_extension": ".py",
   "mimetype": "text/x-python",
   "name": "python",
   "nbconvert_exporter": "python",
   "pygments_lexer": "ipython3",
   "version": "3.9.13"
  }
 },
 "nbformat": 4,
 "nbformat_minor": 4
}
