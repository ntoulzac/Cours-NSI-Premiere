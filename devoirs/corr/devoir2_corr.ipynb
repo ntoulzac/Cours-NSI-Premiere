{
 "cells": [
  {
   "cell_type": "markdown",
   "metadata": {},
   "source": [
    "<div style='background-color: #dda0dd;\n",
    "    border: 0.5em solid black;\n",
    "    border-radius: 0.5em;\n",
    "    padding: 1em;'>\n",
    "    <h2>Devoir surveillé</h2>\n",
    "    <h1>Corrigé du devoir n°2</h1>\n",
    "</div>"
   ]
  },
  {
   "cell_type": "markdown",
   "metadata": {},
   "source": [
    "<div style='background-color: #dda0dd;\n",
    "    border-radius: 0.5em;\n",
    "    padding: 1em;'>\n",
    "    <h2>Première partie</h2>\n",
    "</div>"
   ]
  },
  {
   "cell_type": "markdown",
   "metadata": {},
   "source": [
    "## Exercice 1\n",
    "\n",
    "**(1)** Dire ce qu’est une valeur booléenne.\n",
    "\n",
    "C'est valeur égale à Vrai ou à Faux, à `True` ou à `False` en Python.\n",
    "\n",
    "La suite de l’exercice est basée sur le code suivant, qui permet de déterminer si une année est bissextile (composée de 366\n",
    "jours) ou non :\n",
    "\n",
    "```python\n",
    "annee = 2024\n",
    "div_par_4 = (annee % 4 == 0)\n",
    "div_par_100 = (annee % 100 == 0)\n",
    "div_par_400 = (annee % 400 == 0)\n",
    "bissextile = (div_par_4 and not div_par_100) or div_par_400\n",
    "print(bissextile)\n",
    "```\n",
    "\n",
    "**(2)** Dans le code ci-dessus, faire la liste des variables booléennes et des expressions booléennes.\n",
    "\n",
    "Les variables booléennes sont `div_par_4`, `div_par_100`, `div_par_400` et `bissextile`.\n",
    "\n",
    "Les expressions booléennes sont `annee % 4 == 0`, `annee % 100 == 0`, `annee % 400 == 0` et `(div_par_4 and not div_par_100) or div_par_400`.\n",
    "\n",
    "**(3)** Quelle est la différence entre le symbole `=` et le symbole `==` ? Dans quel cas utilise-t-on l’un ou l’autre ?\n",
    "\n",
    "Le symbole `=` est utilisé pour réaliser une affectation, c'est-à-dire attribuer une valeur à une variable.\n",
    "\n",
    "Le symbole `==` est utilisé pour tester si deux variables ou expressions ont la même valeur ou pas. Il se retrouve dans les expressions booléennes.\n",
    "\n",
    "**(4)** Au vu de la ligne `5`, écrire en français à quelle condition une année est bissextile.\n",
    "\n",
    "Une année est bissextile si elle est divisible par $4$ et pas par $100$, ou si elle est divisible par $400$.\n",
    "\n",
    "**(5)** Dire, en justifiant, quel affichage est obtenu à l’écran à la fin de l’exécution du code.\n",
    "\n",
    "Le booléen `True` s'affiche car l'année $2024$ est bissextile : elle est divisible par $4$ et pas par $100$.\n",
    "\n",
    "## Exercice 2\n",
    "\n",
    "Soient `a` et `b` deux variables booléennes. Dresser la table de vérité des deux expressions :\n",
    "\n",
    "- `a or (b and not a)`\n",
    "\n",
    "`a`     | `b`     | `not a` | `b and not a` | `a or (b and not a)`\n",
    ":------:|:-------:|:-------:|:-------------:|:-------------------:\n",
    "`False` | `False` | `True`  | `False`       | `False`\n",
    "`False` | `True`  | `True`  | `True`        | `True`\n",
    "`True`  | `False` | `False` | `False`       | `True`\n",
    "`True`  | `True`  | `False` | `False`       | `True`\n",
    "\n",
    "- `(not b) and (a or b)`\n",
    "\n",
    "`a`     | `b`     | `not b` | `a or b` | `(not b) and (a or b)`\n",
    ":------:|:-------:|:-------:|:--------:|:---------------------:\n",
    "`False` | `False` | `True`  | `False`  | `False`\n",
    "`False` | `True`  | `False` | `True`   | `False`\n",
    "`True`  | `False` | `True`  | `True`   | `True`\n",
    "`True`  | `True`  | `False` | `True`   | `False`\n",
    "\n",
    "Soient `a`, `b` et `c` trois variables booléennes. Dresser la table de vérité de l’expression `((a ^ b) and not(a or c)) or (b and c)`.\n",
    "\n",
    " `a`    | `b`    | `c`     | `a ^ b` | `a or c` | `not(a or c)` | `(a ^ b) and not(a or c)` | `b and c` | `((a ^ b) and not(a or c)) or (b and c)`\n",
    ":------:|:------:|:-------:|:-------:|:--------:|:-------------:|:-------------------------:|:---------:|:------------------------------------------:\n",
    "`False` |`False` | `False` | `False` | `False`  | `True`        | `False`                   | `False`   | `False`\n",
    "`False` |`False` | `True`  | `False` | `True`   | `False`       | `False`                   | `False`   | `False`\n",
    "`False` |`True`  | `False` | `True`  | `False`  | `True`        | `True`                    | `False`   | `True`\n",
    "`False` |`True`  | `True`  | `True`  | `True`   | `False`       | `False`                   | `True`    | `True`\n",
    "`True`  |`False` | `False` | `True`  | `True`   | `False`       | `False`                   | `False`   | `False`\n",
    "`True`  |`False` | `True`  | `True`  | `True`   | `False`       | `False`                   | `False`   | `False`\n",
    "`True`  |`True`  | `False` | `False` | `True`   | `False`       | `False`                   | `False`   | `False`\n",
    "`True`  |`True`  | `True`  | `False` | `True`   | `False`       | `False`                   | `True`    | `True`\n",
    "\n",
    "\n",
    "## Exercice 3\n",
    "\n",
    "On rappelle que la suite de Syracuse est définie, à partir d’un premier terme $𝑠$ strictement positif, de la façon suivante :\n",
    "\n",
    "- Si un terme de la suite est pair, alors on le divise par 2 pour obtenir le terme suivant.\n",
    "- Si un terme de la suite est impair, alors on le multiplie par 3 et on ajoute 1 pour obtenir le terme suivant.\n",
    "\n",
    "La conjecture de Syracuse énonce que, quelle que soit la valeur initiale choisie, on finit toujours par obtenir un terme de la suite de Syracuse égal à $1$.\n",
    "\n",
    "**(1)** À partir des lignes de code ci-dessous, données dans le désordre et sans indentation, reconstituer le\n",
    "programme qui permet de vérifier que la conjecture de Syracuse est vraie pour toutes les valeurs initiales comprises entre $1$ et $100$.\n",
    "\n",
    "```python\n",
    "while s != 1:                             for val_init in range(2, 101):\n",
    "else:                                         s = val_init\n",
    "s = val_init                                  while s != 1:\n",
    "s = s // 2                                        if s % 2 == 0:\n",
    "for val_init in range(2, 101):                        s = s // 2\n",
    "print(\"Conjecture vérifiée !\")                    else:\n",
    "s = 3*s + 1                                           s = 3*s + 1\n",
    "if s % 2 == 0:                            print(\"Conjecture vérifiée !\")\n",
    "```\n",
    "\n",
    "On admet la propriété suivante : « Si un des termes de la suite de Syracuse est strictement inférieur à la valeur initiale, alors la conjecture de Syracuse est vérifiée pour cette valeur initiale. »\n",
    "\n",
    "**(2)** En utilisant la propriété ci-dessus, proposer une modification du programme pour rendre l’exécution plus rapide. Expliquer quelle ligne il faudrait modifier, comment la modifier et pourquoi.\n",
    "\n",
    "À la ligne `3`, il suffit de modifier l'expression booléenne qui définit la boucle Tant que.\n",
    "\n",
    "On peut remplacer, dans la définition de la boucle, l'expression booléenne `s != 1` par `s >= val_init`.\n",
    "\n",
    "La propriété affirme en effet que, si l'un des termes de la suite de Syracuse est strictement inférieur à la valeur initiale, alors on finit par atteindre la valeur $1$. Il n'est donc pas nécessaire de continuer les calculs jusqu'à atteindre la valeur $1$. \n",
    "\n",
    "```python\n",
    "for val_init in range(2, 101):\n",
    "    s = val_init\n",
    "    while s >= val_init:\n",
    "        if s % 2 == 0:\n",
    "            s = s // 2\n",
    "        else:\n",
    "            s = 3*s + 1\n",
    "print(\"Conjecture vérifiée !\")\n",
    "```"
   ]
  },
  {
   "cell_type": "markdown",
   "metadata": {},
   "source": [
    "<div style='background-color: #dda0dd;\n",
    "    border-radius: 0.5em;\n",
    "    padding: 1em;'>\n",
    "    <h2>Seconde partie</h2>\n",
    "</div>"
   ]
  },
  {
   "cell_type": "markdown",
   "metadata": {},
   "source": [
    "## Exercice 4\n",
    "\n",
    "Corriger et expliquer les trois erreurs présentes dans le code suivant :"
   ]
  },
  {
   "cell_type": "code",
   "execution_count": null,
   "metadata": {},
   "outputs": [],
   "source": [
    "valeur = input(\"Veuillez saisir un entier compris entre 0 et 100 : \")\n",
    "while k in range(10):\n",
    "    print(valeur, \"x\", n, \"=\", valeur * n)"
   ]
  },
  {
   "cell_type": "markdown",
   "metadata": {},
   "source": [
    "**1.** Erreur à la **ligne 1**\n",
    "\n",
    "Version initiale de la ligne de code : `valeur = input(\"Veuillez saisir un entier compris entre 0 et 100 : \")`\n",
    "\n",
    "Version corrigée de la ligne de code : `valeur = int(input(\"Veuillez saisir un entier compris entre 0 et 100 : \"))`\n",
    "\n",
    "_Explication :_ Pour saisir une valeur entière au clavier, il faut appeler la fonction `int` en plus de la fonction `input`.\n",
    "\n",
    "**2.** Erreur à la **ligne 2**\n",
    "\n",
    "Version initiale de la ligne de code : `while k in range(10):`\n",
    "\n",
    "Version corrigée de la ligne de code : `for k in range(10):`\n",
    "\n",
    "_Explication :_ Il s'agit de définir une boucle Pour et non une boucle Tant que.\n",
    "\n",
    "**3.** Erreur à la **ligne 3**\n",
    "\n",
    "Version initiale de la ligne de code : `print(valeur, \"x\", n, \"=\", valeur * n)`\n",
    "\n",
    "Version corrigée de la ligne de code : `print(valeur, \"x\", k, \"=\", valeur * k)`\n",
    "\n",
    "_Explication :_ La variable `n` n'est pas définie. C'est la variable `k` qui doit être utilisée."
   ]
  },
  {
   "cell_type": "markdown",
   "metadata": {},
   "source": [
    "## Exercice 5\n",
    "\n",
    "**(1)** Écrire des lignes de code permettant de calculer, puis d'afficher, la somme $\\dfrac{1}{1^3} + \\dfrac{1}{2^3} + \\dfrac{1}{3^3} + \\cdots + \\dfrac{1}{n^3}$. La valeur de l'entier $n$ est choisie arbitrairement."
   ]
  },
  {
   "cell_type": "code",
   "execution_count": null,
   "metadata": {},
   "outputs": [],
   "source": [
    "n = 1000\n",
    "somme = 0\n",
    "for k in range(1, n+1):\n",
    "    somme = somme + 1/k**3\n",
    "print(somme)"
   ]
  },
  {
   "cell_type": "markdown",
   "metadata": {},
   "source": [
    "**(2)** Écrire des lignes de code permettant de saisir un entier $M$ au clavier, puis de trouver la plus petite valeur de $n$ telle que $\\dfrac{1}{1} + \\dfrac{1}{2} + \\dfrac{1}{3} + \\cdots + \\dfrac{1}{n} \\geq M$. Afficher la valeur de $n$ obtenue."
   ]
  },
  {
   "cell_type": "code",
   "execution_count": null,
   "metadata": {},
   "outputs": [],
   "source": [
    "M = int(input(\"Saisir un entier : \"))\n",
    "n = 0\n",
    "somme = 0\n",
    "while somme < M:\n",
    "    n = n + 1\n",
    "    somme = somme + 1/n\n",
    "print(n)"
   ]
  }
 ],
 "metadata": {
  "kernelspec": {
   "display_name": "Python 3 (ipykernel)",
   "language": "python",
   "name": "python3"
  },
  "language_info": {
   "codemirror_mode": {
    "name": "ipython",
    "version": 3
   },
   "file_extension": ".py",
   "mimetype": "text/x-python",
   "name": "python",
   "nbconvert_exporter": "python",
   "pygments_lexer": "ipython3",
   "version": "3.9.12"
  }
 },
 "nbformat": 4,
 "nbformat_minor": 2
}
