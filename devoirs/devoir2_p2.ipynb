{
 "cells": [
  {
   "cell_type": "markdown",
   "metadata": {},
   "source": [
    "<h1><center>Devoir n°2</center></h1>\n",
    "<h2><center>Seconde partie : travail sur ordinateur (6 points)</center></h2>\n",
    "\n",
    "<h3>Important :</h3>\n",
    "<ul><br>\n",
    "    <li>L'utilisation des <b>documents de cours</b> est <b>strictement interdite</b>.</li><br>\n",
    "        <li>L'utilisation d'<b>internet</b> est <b>strictement interdite</b>.</li><br>\n",
    "        <li>Tout manquement à l'un des deux points précédents sera considéré comme une <b>fraude</b> ou une <b>tentative de fraude</b>.</li><br>\n",
    "        <li>Lorsque vous aurez terminé, vous renommerez votre fichier <code>nom_prenom.ipynb</code> et vous le déposerez dans le dossier <code>Rendu</code> du réseau. Attention, une fois déposé dans <code>Rendu</code>, votre travail n’est plus modifiable.</li>\n",
    "</ul>"
   ]
  },
  {
   "cell_type": "markdown",
   "metadata": {},
   "source": [
    "## Exercice 4 (3 points)"
   ]
  },
  {
   "cell_type": "markdown",
   "metadata": {},
   "source": [
    "Corriger et expliquer les trois erreurs présentes dans le code suivant :"
   ]
  },
  {
   "cell_type": "code",
   "execution_count": null,
   "metadata": {},
   "outputs": [],
   "source": [
    "valeur = input(\"Veuillez saisir un entier compris entre 0 et 100 : \")\n",
    "while k in range(10):\n",
    "    print(valeur, \"x\", n, \"=\", valeur * n)"
   ]
  },
  {
   "cell_type": "code",
   "execution_count": null,
   "metadata": {},
   "outputs": [],
   "source": [
    "# Erreur ligne...\n",
    "# Correction :\n",
    "# Explication :"
   ]
  },
  {
   "cell_type": "code",
   "execution_count": null,
   "metadata": {},
   "outputs": [],
   "source": [
    "# Erreur ligne...\n",
    "# Correction :\n",
    "# Explication :"
   ]
  },
  {
   "cell_type": "code",
   "execution_count": null,
   "metadata": {},
   "outputs": [],
   "source": [
    "# Erreur ligne...\n",
    "# Correction :\n",
    "# Explication :"
   ]
  },
  {
   "cell_type": "markdown",
   "metadata": {},
   "source": [
    "## Exercice 5 (3 points)\n",
    "\n",
    "**(1)** Écrire des lignes de code permettant de calculer, puis d'afficher, la somme $\\dfrac{1}{1^3} + \\dfrac{1}{2^3} + \\dfrac{1}{3^3} + \\cdots + \\dfrac{1}{n^3}$. La valeur de l'entier $n$ est choisie arbitrairement."
   ]
  },
  {
   "cell_type": "code",
   "execution_count": null,
   "metadata": {},
   "outputs": [],
   "source": []
  },
  {
   "cell_type": "markdown",
   "metadata": {},
   "source": [
    "**(2)** Écrire des lignes de code permettant de saisir un entier $M$ au clavier, puis de trouver la plus petite valeur de $n$ telle que $\\dfrac{1}{1} + \\dfrac{1}{2} + \\dfrac{1}{3} + \\cdots + \\dfrac{1}{n} \\geq M$. Afficher la valeur de $n$ obtenue."
   ]
  },
  {
   "cell_type": "code",
   "execution_count": null,
   "metadata": {},
   "outputs": [],
   "source": []
  }
 ],
 "metadata": {
  "kernelspec": {
   "display_name": "Python 3 (ipykernel)",
   "language": "python",
   "name": "python3"
  },
  "language_info": {
   "codemirror_mode": {
    "name": "ipython",
    "version": 3
   },
   "file_extension": ".py",
   "mimetype": "text/x-python",
   "name": "python",
   "nbconvert_exporter": "python",
   "pygments_lexer": "ipython3",
   "version": "3.9.12"
  }
 },
 "nbformat": 4,
 "nbformat_minor": 2
}
