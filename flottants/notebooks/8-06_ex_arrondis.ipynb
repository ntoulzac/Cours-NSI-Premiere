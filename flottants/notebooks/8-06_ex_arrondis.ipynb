{
 "cells": [
  {
   "cell_type": "markdown",
   "metadata": {},
   "source": [
    "<div style='background-color: #e3a8b6;\n",
    "    border: 0.5em solid black;\n",
    "    border-radius: 0.5em;\n",
    "    padding: 1em;'>\n",
    "    <h2>Exercice 8-06</h2>\n",
    "    <h1>Arrondis sur les flottants</h1>\n",
    "</div>"
   ]
  },
  {
   "cell_type": "markdown",
   "metadata": {},
   "source": [
    "**1.** Définir une fonction `pythagore` qui prend en paramètre d'entrée les longueurs `a`, `b` et `c` des trois côtés d'un triangle et qui renvoie `True` si le triangle est rectangle et `False` sinon. Penser à écrire la spécification de la fonction ainsi que des assertions permettant de vérifier que les paramètres d'entrée sont des nombres strictement positifs."
   ]
  },
  {
   "cell_type": "code",
   "execution_count": null,
   "metadata": {},
   "outputs": [],
   "source": []
  },
  {
   "cell_type": "code",
   "execution_count": null,
   "metadata": {},
   "outputs": [],
   "source": [
    "pythagore(3, 4, 5) # test de la fonction avec des entiers en entrée"
   ]
  },
  {
   "cell_type": "code",
   "execution_count": null,
   "metadata": {},
   "outputs": [],
   "source": [
    "pythagore(3.0, 4.0, 5.0) # test de la fonction avec des flottants en entrée"
   ]
  },
  {
   "cell_type": "code",
   "execution_count": null,
   "metadata": {},
   "outputs": [],
   "source": [
    "pythagore(0.03, 0.04, 0.05) # test de la fonction avec des flottants en entrée"
   ]
  },
  {
   "cell_type": "markdown",
   "metadata": {},
   "source": [
    "**2.** Les résultats obtenus aux trois tests ci-dessus sont-ils corrects ? Si non, recopier et modifier la définition de la fonction `pythagore` pour remplacer le test d'égalité de deux flottants par un test d'agalité approchée (à 12 chiffres après la virgule de précision)."
   ]
  },
  {
   "cell_type": "code",
   "execution_count": null,
   "metadata": {},
   "outputs": [],
   "source": []
  },
  {
   "cell_type": "code",
   "execution_count": null,
   "metadata": {},
   "outputs": [],
   "source": [
    "pythagore(3, 4, 5) # test de la fonction avec des entiers en entrée"
   ]
  },
  {
   "cell_type": "code",
   "execution_count": null,
   "metadata": {},
   "outputs": [],
   "source": [
    "pythagore(3.0, 4.0, 5.0) # test de la fonction avec des flottants en entrée"
   ]
  },
  {
   "cell_type": "code",
   "execution_count": null,
   "metadata": {},
   "outputs": [],
   "source": [
    "pythagore(0.03, 0.04, 0.05) # test de la fonction avec des flottants en entrée"
   ]
  }
 ],
 "metadata": {
  "kernelspec": {
   "display_name": "Python 3 (ipykernel)",
   "language": "python",
   "name": "python3"
  },
  "language_info": {
   "codemirror_mode": {
    "name": "ipython",
    "version": 3
   },
   "file_extension": ".py",
   "mimetype": "text/x-python",
   "name": "python",
   "nbconvert_exporter": "python",
   "pygments_lexer": "ipython3",
   "version": "3.9.12"
  }
 },
 "nbformat": 4,
 "nbformat_minor": 2
}
