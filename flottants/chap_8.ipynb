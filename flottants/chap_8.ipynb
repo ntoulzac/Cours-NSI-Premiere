{
 "cells": [
  {
   "cell_type": "markdown",
   "metadata": {},
   "source": [
    "# Chapitre 8 : Représentation des nombres flottants\n",
    "\n",
    "***Ecriture binaire des flottants, problème du test d'égalité de deux flottants***"
   ]
  },
  {
   "cell_type": "markdown",
   "metadata": {},
   "source": [
    "## Partie A - Rappels sur l'écriture scientifique des nombres décimaux"
   ]
  },
  {
   "cell_type": "markdown",
   "metadata": {},
   "source": [
    "L'écriture scientifique d'un nombre décimal est composée de trois parties :\n",
    "- un **signe**, qui peut être plus ou moins,\n",
    "- une **mantisse**, qui un nombre décimal compris entre 1 (inclus) et 10 (exclu),\n",
    "- un **exposant**, qui est un nombre entier positif ou négatif.\n",
    "\n",
    "Par exemple, l'écriture scientifique du nombre 2020 est : $$+ 2,02 \\times 10^3$$\n",
    "\n",
    "Le signe est plus, la mantisse est 2,02 et l'exposant est 3."
   ]
  },
  {
   "cell_type": "code",
   "execution_count": null,
   "metadata": {},
   "outputs": [],
   "source": [
    "n = 2020"
   ]
  },
  {
   "cell_type": "markdown",
   "metadata": {},
   "source": [
    "En Python, une façon d'afficher l'écriture scientifique du nombre `n` est d'utiliser la commande suivante :"
   ]
  },
  {
   "cell_type": "code",
   "execution_count": null,
   "metadata": {},
   "outputs": [],
   "source": [
    "print(\"{:e}\".format(n))"
   ]
  },
  {
   "cell_type": "markdown",
   "metadata": {},
   "source": [
    "La mantisse s'affiche par défaut avec six chiffres après la virgule, mais il est possible d'en afficher davantage ou moins."
   ]
  },
  {
   "cell_type": "code",
   "execution_count": null,
   "metadata": {},
   "outputs": [],
   "source": [
    "print(\"{:.2e}\".format(n)) # 2 chiffres après la virgule pour la mantisse"
   ]
  },
  {
   "cell_type": "code",
   "execution_count": null,
   "metadata": {},
   "outputs": [],
   "source": [
    "print(\"{:.10e}\".format(n)) # 10 chiffres après la virgule pour la mantisse"
   ]
  },
  {
   "cell_type": "markdown",
   "metadata": {},
   "source": [
    "**Question 1 :** Sans utiliser Python, donner l'écriture scientifique de la constante d'Avogadro `avog = 602214076000000000000000`. Vérifier ensuite votre résultat avec une ligne de code."
   ]
  },
  {
   "cell_type": "markdown",
   "metadata": {},
   "source": [
    "On remarque qu'un nombre ne peut pas être écrit dans ce format : le nombre 0. En effet, la mantisse devrait être égale à 0, ce qui est exclu par définition."
   ]
  },
  {
   "cell_type": "markdown",
   "metadata": {},
   "source": [
    "## Partie B - Ecriture binaire des nombres"
   ]
  },
  {
   "cell_type": "markdown",
   "metadata": {},
   "source": [
    "### Rappel concernant les nombres entiers"
   ]
  },
  {
   "cell_type": "markdown",
   "metadata": {},
   "source": [
    "Donner l'écriture binaire d'un nombre entier, cela revient à écrire ce nombre sous la forme d'une somme de puissances positives de 2.\n",
    "\n",
    "Par exemple, pour le nombre 2020 : $$2020 = 1024 + 512 + 256 + 128 + 64 + 32 + 4$$ c'est-à-dire :\n",
    "$$2020 = 2^{10} + 2^9 + 2^8 + 2^7 + 2^6 + 2^5 + 2^2$$ et l'écriture binaire de 2020 est donc :\n",
    "$$2020 = (11111100100)_2$$\n",
    "\n",
    "On peut vérifier le résultat obtenu grâce à la fonction `bin`, qui renvoie l'écriture binaire sous la forme d'une chaîne de caractères qui commence par `0b` :"
   ]
  },
  {
   "cell_type": "code",
   "execution_count": null,
   "metadata": {},
   "outputs": [],
   "source": [
    "print(bin(2020))"
   ]
  },
  {
   "cell_type": "markdown",
   "metadata": {},
   "source": [
    "**Question 2 :** Sans utiliser Python, donner l'écriture binaire des nombres 100 et 94130. Vérifier ensuite vos résultats avec deux lignes de code."
   ]
  },
  {
   "cell_type": "code",
   "execution_count": null,
   "metadata": {},
   "outputs": [],
   "source": []
  },
  {
   "cell_type": "code",
   "execution_count": null,
   "metadata": {},
   "outputs": [],
   "source": []
  },
  {
   "cell_type": "markdown",
   "metadata": {},
   "source": [
    "### Ecriture binaire des nombres compris entre 0 et 1"
   ]
  },
  {
   "cell_type": "markdown",
   "metadata": {},
   "source": [
    "Le principe est le même pour obtenir l'écriture binaire des nombres à virgule. On s'autorise simplement d'utiliser aussi des puissances négatives de 2.\n",
    "\n",
    "Par exemple, pour le nombre 0,6875 : $$0,6875 = 0,5 + 0,125 + 0,0625$$ c'est-à-dire :\n",
    "$$0,6875 = 2^{-1} + 2^{-3} + 2^{-4}$$ et l'écriture binaire de 0,6875 est donc :\n",
    "$$0,6875 = (0,1011)_2$$\n",
    "\n",
    "**Question 3 :** Donner l'écriture binaire des nombres 0,3125 et 0,515625."
   ]
  },
  {
   "cell_type": "markdown",
   "metadata": {},
   "source": [
    "Remarquons que les nombres réels qui ont une écriture décimale infinie ont aussi une écriture binaire infinie. Par exemple :\n",
    "$$1/3 = 0,33333333... = (0,01010101...)_2$$\n",
    "\n",
    "Il existe par contre des nombres réels qui ont une écriture décimale finie mais qui ont une écriture binaire infinie. Par exemple :\n",
    "$$1/5 = 0,2 = (0,00110011...)_2$$\n",
    "\n",
    "**Question 4 :** Donner les 10 premiers bits après la virgule de l'écriture binaire des nombres 0,1 et 0,3."
   ]
  },
  {
   "cell_type": "markdown",
   "metadata": {},
   "source": [
    "## Partie C - Représentation des flottants en machine (norme IEEE 754)"
   ]
  },
  {
   "cell_type": "markdown",
   "metadata": {},
   "source": [
    "La norme informatique la plus couramment utilisée pour représenter les nombres flottants est la **norme IEEE 754** mise au point en 1985. Il s'agit d'une variante de l'écriture scientifique en base 2, dans laquelle la mantisse est un nombre compris entre 1 (inclus) et 2 (exclu).\n",
    "\n",
    "Les flottants peuvent être représentés sur 32 bits (format dit de **simple précision**) ou sur 64 bits (format dit de **double précision**)."
   ]
  },
  {
   "cell_type": "markdown",
   "metadata": {},
   "source": [
    "<div>\n",
    "    \t\t<table align = \"center\">\n",
    "\t\t\t<tr>\n",
    "                <th><center>Format</center></th>\n",
    "                <th><center>Signe <code>s</code></center></th>\n",
    "                <th><center>Exposant <code>e</code></center></th>\n",
    "                <th><center>Mantisse <code>m</code></center></th>\n",
    "                <th><center>Total</center></th>\n",
    "            </tr>\n",
    "            <tr>\n",
    "                <td><center>simple précision</center></td>\n",
    "                <td><center>1 bit</center></td>\n",
    "                <td><center>8 bits</center></td> \n",
    "                <td><center>23 bits</center></td>\n",
    "                <td><center>32 bits</center></td>\n",
    "            </tr>\n",
    "            <tr>\n",
    "                <td><center>double précision</center></td>\n",
    "                <td><center>1 bit</center></td>\n",
    "                <td><center>11 bits</center></td>\n",
    "                <td><center>52 bits</center></td>\n",
    "                <td><center>64 bits</center></td>\n",
    "            </tr>\n",
    "\t\t</table>\n",
    "</div>"
   ]
  },
  {
   "cell_type": "markdown",
   "metadata": {},
   "source": [
    "### Principe de la représentation"
   ]
  },
  {
   "cell_type": "markdown",
   "metadata": {},
   "source": [
    "Le bit le plus à gauche (bit de poids fort) correspond au signe du flottant :\n",
    "- `0` pour un flottant positif,\n",
    "- `1` pour un flottant négatif.\n",
    "\n",
    "Les 8 ou 11 bits suivants correspondent à l'exposant `e`. Comme `e` peut être positif ou négatif, on ne représente pas directement l'entier `e` mais :\n",
    "- l'entier `e + 127` sur 8 bits pour le format simple précision,\n",
    "- l'entier `e + 1023` sur 11 bits pour le format double précision.\n",
    "\n",
    "Les 23 ou 52 derniers bits correspondent à la mantisse `m`. Comme `m` est par définition compris entre 1 et 2, c'est uniquement la partie fractionnaire (partie située après la virgule) du nombre `m - 1` qui est représentée sur 23 ou 52 bits."
   ]
  },
  {
   "cell_type": "markdown",
   "metadata": {},
   "source": [
    "### Exemple"
   ]
  },
  {
   "cell_type": "markdown",
   "metadata": {},
   "source": [
    "Représentons par exemple sur 32 bits le nombre flottant `-0,2`. Il est négatif donc le bit le plus à gauche de sa représentation est un `1`.\n",
    "\n",
    "De plus, nous avons vu précédemment que $0,2 = (0,00110011...)_2 = (1,10011001...)_2 \\times 2^{-3}$. L'exposant `e` est donc -3 et la mantisse `m` est 1,10011001...\n",
    "\n",
    "On écrit sur 8 bits le nombre `e + 127` (c'est-à-dire 124) ce qui donne `01111100`.\n",
    "\n",
    "Enfin, on écrit sur 23 bits la partie fractionnaire de `m-1` (c'est-à-dire 0,10011001...) ce qui donne `10011001100110011001100(1)`, arrondi à `10011001100110011001101`.\n",
    " \n",
    "La représentation sur 32 bits obtenue pour le flottant `-0,2` est donc `1 01111100 10011001100110011001101`."
   ]
  },
  {
   "cell_type": "markdown",
   "metadata": {},
   "source": [
    "<div class=\"rq\">La fonction <code>float_bin32</code>, importée depuis le module <code>float_bin</code>, permet de vérifier le résultat obtenu :</div>"
   ]
  },
  {
   "cell_type": "code",
   "execution_count": null,
   "metadata": {},
   "outputs": [],
   "source": [
    "from float_bin import float_bin32"
   ]
  },
  {
   "cell_type": "code",
   "execution_count": null,
   "metadata": {},
   "outputs": [],
   "source": [
    "print(float_bin32(-0.2))"
   ]
  },
  {
   "cell_type": "markdown",
   "metadata": {},
   "source": [
    "**Question 5 :** Quelle est la représentation des nombres `1.0` et `25.0` sur 32 bits ?"
   ]
  },
  {
   "cell_type": "markdown",
   "metadata": {},
   "source": [
    "Nous avons dit que le nombre 0 n'a pas d'écriture scientifique. Il est par convention représenté par `0 00000000 00000000000000000000000`."
   ]
  },
  {
   "cell_type": "code",
   "execution_count": null,
   "metadata": {},
   "outputs": [],
   "source": [
    "print(float_bin32(0.0))"
   ]
  },
  {
   "cell_type": "markdown",
   "metadata": {},
   "source": [
    "## Partie D - Problème du test d'égalité de deux flottants"
   ]
  },
  {
   "cell_type": "markdown",
   "metadata": {},
   "source": [
    "La représentation des nombres flottants en machine est **approximative**, ce qui entraîne des difficultés.\n",
    "\n",
    "Par exemple, les nombres 0,1 et 0,2 ont une écriture binaire infinie, d'où des problèmes d'arrondis éventuels."
   ]
  },
  {
   "cell_type": "code",
   "execution_count": null,
   "metadata": {},
   "outputs": [],
   "source": [
    "0.1 + 0.2"
   ]
  },
  {
   "cell_type": "markdown",
   "metadata": {},
   "source": [
    "C'est la raison pour laquelle il faut absolument éviter d'utiliser des conditions dans lesquelles on teste l'égalité entre deux flottants."
   ]
  },
  {
   "cell_type": "code",
   "execution_count": null,
   "metadata": {},
   "outputs": [],
   "source": [
    "if 0.1 + 0.2 == 0.3:\n",
    "    print('Je sais compter !')\n",
    "else:\n",
    "    print('Je ne sais pas compter ??')"
   ]
  },
  {
   "cell_type": "markdown",
   "metadata": {},
   "source": [
    "<div class=\"rq\">\n",
    "   Pour Python, la condition <code>0.1 + 0.2 == 0.3</code> est fausse à cause des problèmes d'arrondi induits par la représentation des flottants.\n",
    "    </div>"
   ]
  },
  {
   "cell_type": "markdown",
   "metadata": {},
   "source": [
    "**Question 6 :** Définir une fonction `pythagore` qui prend en paramètre d'entrée les longueurs `a`, `b` et `c` des trois côtés d'un triangle et qui renvoie `True` si le triangle est rectagle et `False` sinon. Penser à écrire la spécification de la fonction ainsi que des assertions permettant de vérifier que les paramètres d'entrée sont des nombres strictement positifs."
   ]
  },
  {
   "cell_type": "code",
   "execution_count": null,
   "metadata": {},
   "outputs": [],
   "source": []
  },
  {
   "cell_type": "code",
   "execution_count": null,
   "metadata": {},
   "outputs": [],
   "source": [
    "pythagore(3, 4, 5) # test de la fonction avec des entiers en entrée"
   ]
  },
  {
   "cell_type": "code",
   "execution_count": null,
   "metadata": {},
   "outputs": [],
   "source": [
    "pythagore(3.0, 4.0, 5.0) # test de la fonction avec des flottants en entrée"
   ]
  },
  {
   "cell_type": "code",
   "execution_count": null,
   "metadata": {},
   "outputs": [],
   "source": [
    "pythagore(0.03, 0.04, 0.05) # test de la fonction avec des flottants en entrée"
   ]
  },
  {
   "cell_type": "markdown",
   "metadata": {},
   "source": [
    "<div class=\"rq\">\n",
    "   Les trois triangles sont pourtant bien rectangles... Mais la représentation approchée des flottants en mémoire ne permet pas d'obtenir un résultat correct sur le troisième test.\n",
    "    </div>"
   ]
  },
  {
   "cell_type": "markdown",
   "metadata": {},
   "source": [
    "On peut remplacer le test d'égalité `flottant1 == flottant2` par un test du type `abs(flottant1 - flottant2) < 10**-n` qui est un **test d'égalité approchée** (avec `n` chiffres après la virgule de précision)."
   ]
  },
  {
   "cell_type": "markdown",
   "metadata": {},
   "source": [
    "**Question 7 :** Modifier le code de la fonction `pythagore` pour remplacer le test d'égalité de deux flottants par un test d'agalité approchée (à 12 chiffres après la virgule de précision)."
   ]
  },
  {
   "cell_type": "code",
   "execution_count": null,
   "metadata": {},
   "outputs": [],
   "source": []
  },
  {
   "cell_type": "code",
   "execution_count": null,
   "metadata": {},
   "outputs": [],
   "source": [
    "pythagore(3, 4, 5)"
   ]
  },
  {
   "cell_type": "code",
   "execution_count": null,
   "metadata": {},
   "outputs": [],
   "source": [
    "pythagore(0.3, 0.4, 0.5)"
   ]
  },
  {
   "cell_type": "code",
   "execution_count": null,
   "metadata": {},
   "outputs": [],
   "source": [
    "pythagore(0.03, 0.04, 0.05)"
   ]
  },
  {
   "cell_type": "markdown",
   "metadata": {},
   "source": [
    "<div class=\"rq\">\n",
    "    Le test d'égalité <code>a**2 + b**2 == c**2</code> a été remplacé par le test d'égalité approchée <code>abs(a**2 + b**2 - c**2) &lt; 10**-12</code>.\n",
    "    </div>"
   ]
  },
  {
   "cell_type": "markdown",
   "metadata": {},
   "source": [
    "## Ce que vous devez savoir"
   ]
  },
  {
   "cell_type": "markdown",
   "metadata": {},
   "source": [
    "<div class=\"rq2\">\n",
    "    <ul>\n",
    "        <li>Donner l'écriture scientifique décimale d'un nombre.</li>\n",
    "        <li>Afficher l'écriture scientifique décimale d'un nombre <code>n</code> avec la commande <code>print(\"{:e}\".format(n))</code></li>\n",
    "        <li>Déterminer l'écriture binaire d'un entier positif.</li>\n",
    "        <li>Afficher l'écriture binaire d'un entier avec la fonction <code>bin</code></li>\n",
    "        <li>Déterminer l'écriture binaire d'un nombre décimal positif.</li>\n",
    "        <li>Déterminer la représentation d'un nombre flottant sur 32 bits.</li>\n",
    "        <li>Retrouver un flottant à partir de sa représentation sur 32 bits.</li>\n",
    "        <li>Ne pas tester d'égalité sur les flottants, mais tester plutôt des égalités approchées.</li>\n",
    "    </ul>\n",
    "</div>"
   ]
  },
  {
   "cell_type": "markdown",
   "metadata": {},
   "source": [
    "## Exercices bilan"
   ]
  },
  {
   "cell_type": "markdown",
   "metadata": {},
   "source": [
    "### Exercice 1"
   ]
  },
  {
   "cell_type": "markdown",
   "metadata": {},
   "source": [
    "Donner la valeur décimale des nombres flottants dont la représentation sur 32 bits est :\n",
    "- `1 01111110 11110000000000000000000`,"
   ]
  },
  {
   "cell_type": "markdown",
   "metadata": {},
   "source": [
    "- `0 10000011 11100000000000000000000`."
   ]
  },
  {
   "cell_type": "markdown",
   "metadata": {},
   "source": [
    "### Exercice 2"
   ]
  },
  {
   "cell_type": "markdown",
   "metadata": {},
   "source": [
    "Ecrire un programme qui, à partir du nombre `1.0`, le divise vingt fois de suite par 3 puis le multiplie vingt fois de suite par 3, et qui affiche enfin le résultat obtenu."
   ]
  },
  {
   "cell_type": "code",
   "execution_count": null,
   "metadata": {},
   "outputs": [],
   "source": []
  },
  {
   "cell_type": "markdown",
   "metadata": {},
   "source": [
    "Comment expliquer le résultat ?"
   ]
  }
 ],
 "metadata": {
  "kernelspec": {
   "display_name": "Python 3",
   "language": "python",
   "name": "python3"
  },
  "language_info": {
   "codemirror_mode": {
    "name": "ipython",
    "version": 3
   },
   "file_extension": ".py",
   "mimetype": "text/x-python",
   "name": "python",
   "nbconvert_exporter": "python",
   "pygments_lexer": "ipython3",
   "version": "3.8.5"
  }
 },
 "nbformat": 4,
 "nbformat_minor": 2
}
