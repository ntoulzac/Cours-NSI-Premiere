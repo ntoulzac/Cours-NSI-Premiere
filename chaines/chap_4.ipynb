{
 "cells": [
  {
   "cell_type": "markdown",
   "metadata": {},
   "source": [
    "# Chapitre 4 : Chaînes de caractères\n",
    "\n",
    "***Représentation d'un texte en machine, exemples d'encodages, opérations sur les chaînes, conversion d'un fichier texte***"
   ]
  },
  {
   "cell_type": "markdown",
   "metadata": {},
   "source": [
    "## Partie A - Représentation d'un texte en machine"
   ]
  },
  {
   "cell_type": "markdown",
   "metadata": {},
   "source": [
    "Pour stocker un **texte** dans la mémoire d'un ordinateur, pour transmettre un texte à une imprimante, pour envoyer un email, *etc.*, il est nécessaire de pouvoir **encoder** ce texte sous forme de bits, en associant à chaque caractère du texte une séquence de bits.\n",
    "\n",
    "Plusieurs difficultés apparaissent. Il faut que les différentes machines qui doivent manipuler le texte utilisent le même encodage. Cet encodage doit permettre de représenter le plus grand nombre de caractères différents possible, dont un certain nombre de caractères non imprimables qui permettent de signaler le début et la fin du texte, une nouvelle ligne, une tabulation, *etc.*. Enfin, il faut prendre garde que l'encodage ne nécessite pas un trop grand nombre de bits pour chaque caractère, faute de quoi le stockage en mémoire pourrait être peu optimal."
   ]
  },
  {
   "cell_type": "markdown",
   "metadata": {},
   "source": [
    "### Encodage ASCII"
   ]
  },
  {
   "cell_type": "markdown",
   "metadata": {},
   "source": [
    "Dans les années 60 est apparue la norme ASCII (*American Standard Code for Information Interchange* ou *code américain normalisé pour l'échange d'information*) qui permet d'encoder 128 caractères sur 7 bits chacun :\n",
    "\n",
    "- 34 caractères non imprimables (dont l'espace), codés de ``0`` à ``32`` et ``127``,\n",
    "- 10 chiffres indo-arabes, codés de ``48`` à ``57``,\n",
    "- 26 lettres latines majuscules, codées de ``65`` à ``90``,\n",
    "- 26 lettres latines minuscules, codées de ``97`` à ``122``,\n",
    "- 32 autres signes (ponctuation, symboles mathématiques, etc.), codés de ``33`` à ``47``, de ``58`` à ``64``, de ``91`` à ``96`` et de ``123`` à ``126``.\n",
    "\n",
    "Si ``n`` est un entier compris entre 33 et 126, alors la commande Python ``chr(n)`` permet d'obtenir le caractère correspondant dans l'encodage ASCII.\n",
    "\n",
    "Si ``c`` est un caractère ASCII, alors la commande ``ord(c)`` permet d'obtenir l'entier correspondant au caractère ``c``."
   ]
  },
  {
   "cell_type": "code",
   "execution_count": null,
   "metadata": {},
   "outputs": [],
   "source": [
    "print(chr(33)) # le nombre 33 est écrit sous forme décimale"
   ]
  },
  {
   "cell_type": "code",
   "execution_count": null,
   "metadata": {},
   "outputs": [],
   "source": [
    "print(chr(0b00100010)) # le nombre 34 est écrit sous forme binaire"
   ]
  },
  {
   "cell_type": "code",
   "execution_count": null,
   "metadata": {},
   "outputs": [],
   "source": [
    "print(chr(0x23)) # le nombre 35 est écrit sous forme héxadécimale"
   ]
  },
  {
   "cell_type": "code",
   "execution_count": null,
   "metadata": {},
   "outputs": [],
   "source": [
    "print(ord('$'))"
   ]
  },
  {
   "cell_type": "markdown",
   "metadata": {},
   "source": [
    "**Question 1 :** Afficher le code de toutes les lettres majuscules sous la forme ``A --> 65``."
   ]
  },
  {
   "cell_type": "code",
   "execution_count": null,
   "metadata": {},
   "outputs": [],
   "source": []
  },
  {
   "cell_type": "markdown",
   "metadata": {},
   "source": [
    "<div class=\"rq\">\n",
    "    Voici la table ASCII complète :\n",
    "</div>"
   ]
  },
  {
   "cell_type": "markdown",
   "metadata": {},
   "source": [
    "<div>\n",
    "    <img src=\"https://ntoulzac.github.io/Cours-NSI-Terminale/premiere_NSI/Images/table_ASCII.jpg\" width=700>\n",
    "</div>"
   ]
  },
  {
   "cell_type": "markdown",
   "metadata": {},
   "source": [
    "**Question 2 :** Définir une fonction ``texte_vers_code`` prenant en paramètre d'entrée une chaîne de caractères composée de caractères ASCII et affichant le code de chaque caractère de la chaîne. Penser à écrire la spécification de la fonction.\n",
    "\n",
    "*Remarque :* Pour parcourir la chaîne de caractères, on pourra utiliser une boucle pour avec une syntaxe du type : ``for lettre in chaine:``."
   ]
  },
  {
   "cell_type": "code",
   "execution_count": null,
   "metadata": {},
   "outputs": [],
   "source": []
  },
  {
   "cell_type": "code",
   "execution_count": null,
   "metadata": {},
   "outputs": [],
   "source": [
    "texte_vers_code('bonjour tout le monde !')"
   ]
  },
  {
   "cell_type": "markdown",
   "metadata": {},
   "source": [
    "La norme ASCII permet d'écrire du texte en anglais, mais pas dans la très grande majorité des autres langues puisque seuls les caractères latins non accentués sont disponibles."
   ]
  },
  {
   "cell_type": "markdown",
   "metadata": {},
   "source": [
    "### Encodages ISO 8859"
   ]
  },
  {
   "cell_type": "markdown",
   "metadata": {},
   "source": [
    "L'*Organisation Internationale de Normalisation* (ISO) a proposé seize extensions de la norme ASCII permettant de représenter 256 caractères sur 8 bits chacun : c'est la norme ISO 8859.\n",
    "\n",
    "Les 128 premiers caractères sont les mêmes que la norme ASCII. Les 128 derniers caractères dépendent l'extension utilisée. En particulier, l'encodage *latin-1* (ISO 8859-1) permet d'écrire la plupart des langues d'Europe occidentale dont le français. D'autres encodages permettent d'écrire l'alphabet cyrillique (ISO 8859-5), arabe (ISO 8859-6), grec (ISO 8859-7), hébreu (ISO 8859-8), turc (ISO 8859-9).\n",
    "\n",
    "Si ``n`` est un entier compris entre 161 et 255, alors la commande Python ``chr(n)`` permet d'obtenir le caractère correspondant dans l'encodage *latin-1*.\n",
    "\n",
    "Si ``c`` est un caractère *latin-1*, alors la commande ``ord(c)`` permet d'obtenir l'entier correspondant au caractère ``c``.\n",
    "\n",
    "**Question 3 :** Afficher sur une ligne tous les caractères dont le code *latin-1* est compris entre 223 et 255."
   ]
  },
  {
   "cell_type": "code",
   "execution_count": null,
   "metadata": {},
   "outputs": [],
   "source": []
  },
  {
   "cell_type": "markdown",
   "metadata": {},
   "source": [
    "**Question 4 :** Après avoir exécuté la cellule suivante, constater que la fonction ``texte_vers_code`` définie précédemment est compatible avec un texte encodé en *latin-1*, et repérer le code des deux caractères accentués de la phrase."
   ]
  },
  {
   "cell_type": "code",
   "execution_count": null,
   "metadata": {},
   "outputs": [],
   "source": [
    "# Première phrase du roman Le Rouge et le Noir de Stendhal\n",
    "rouge_noir = \"La petite ville de Verrières peut passer pour l'une des plus jolies de la Franche-Comté.\"\n",
    "texte_vers_code(rouge_noir)"
   ]
  },
  {
   "cell_type": "markdown",
   "metadata": {},
   "source": [
    "<div class=\"rq\">\n",
    "    Les deux caractères accentués de la phrase sont <code>è</code> (code <code>232</code>) et <code>é</code> (code <code>233</code>).\n",
    "</div>"
   ]
  },
  {
   "cell_type": "markdown",
   "metadata": {},
   "source": [
    "### Encodage Unicode (UTF-8)"
   ]
  },
  {
   "cell_type": "markdown",
   "metadata": {},
   "source": [
    "L'encodage ISO 8859 permet d'écrire des textes dans plusieurs langues, mais pas d'écrire un texte composé d'un mélange de caractères de plusieurs langues. C'est pourquoi l'ISO a mis au point un jeu de caractères universel (*Universal Character Set*) comprenant actuellement plus de 130 000 caractères codés sur 21 bits, et qui pourrait théoriquement en accueillir plus de quatre millions codés sur 32 bits. Les 256 premiers de ces caractères sont les mêmes que ceux de la norme *latin-1*.\n",
    "\n",
    "Cependant, l'utilisation de trois à quatre octets pour coder chaque caractère est très peu optimale puisque les caractères latins accentués sont tous codés entre 0 et 255 (1 octet) et les autres caractères les plus utilisés dans le monde sont codés entre 0 et 65 535 (2 octets).\n",
    "\n",
    "La norme Unicode a été mise au point pour remédier à ce problème. L'encodage UTF-8 (*Universal Transformation Format* 8 bits) permet ainsi que chaque caractère soit codé sur le moins d'octets possible, entre 1 et 4.\n",
    "\n",
    "Par défaut, Python encode les chaînes de caractères en UTF-8.\n",
    "\n",
    "Les fonctions ``chr`` et ``ord`` vues précédemment permettent en réalité d'associer un caractère et un code dans l'encodage UTF-8."
   ]
  },
  {
   "cell_type": "markdown",
   "metadata": {},
   "source": [
    "## Partie B - Opérations sur les chaînes de caractères"
   ]
  },
  {
   "cell_type": "markdown",
   "metadata": {},
   "source": [
    "Une chaîne de caractères **vide** se note ``''`` ou ``\"\"``.\n",
    "\n",
    "La fonction ``len`` renvoie la **longueur** de la chaîne, c'est-à-dire son nombre de caractères."
   ]
  },
  {
   "cell_type": "code",
   "execution_count": null,
   "metadata": {},
   "outputs": [],
   "source": [
    "len(rouge_noir)"
   ]
  },
  {
   "cell_type": "markdown",
   "metadata": {},
   "source": [
    "Le caractère numéro ``n`` de ``chaine`` s'obtient via l'expression ``chaine[n]``, sachant que les caractères sont numérotés à partir de ``0``."
   ]
  },
  {
   "cell_type": "code",
   "execution_count": null,
   "metadata": {},
   "outputs": [],
   "source": [
    "print(rouge_noir[0])\n",
    "print(rouge_noir[21])\n",
    "print(rouge_noir[88]) # Il n'y a pas de caractère numéro 88 dans la chaine rouge_noir !"
   ]
  },
  {
   "cell_type": "markdown",
   "metadata": {},
   "source": [
    "<div class=\"rq\">\n",
    "    La chaîne de caractères <code>rouge_noir</code> contient 88 caractères numérotés de <code>0</code> à <code>87</code>, ce qui explique l'<b>erreur d'index</b> (<code>IndexError</code>) obtenue en essayant d'afficher le 89ème caractère <code>rouge_noir[88]</code>.\n",
    "</div>"
   ]
  },
  {
   "cell_type": "markdown",
   "metadata": {},
   "source": [
    "Les caractères de ``chaine`` situés entre la position numéro ``n1`` (incluse) et la position numéro ``n2`` (non incluse) s'obtiennent via l'expression ``chaine[n1:n2]``."
   ]
  },
  {
   "cell_type": "code",
   "execution_count": null,
   "metadata": {},
   "outputs": [],
   "source": [
    "print(rouge_noir[10:21])"
   ]
  },
  {
   "cell_type": "markdown",
   "metadata": {},
   "source": [
    "Les commandes ``chaine.upper()`` et ``chaine.lower()`` permettent respectivement de mettre tous les caractères de ``chaine`` en majuscule ou minuscule."
   ]
  },
  {
   "cell_type": "code",
   "execution_count": null,
   "metadata": {},
   "outputs": [],
   "source": [
    "print(rouge_noir.upper())\n",
    "print(rouge_noir.lower())"
   ]
  },
  {
   "cell_type": "markdown",
   "metadata": {},
   "source": [
    "La **concaténation** de deux chaînes consiste à les mettre bout à bout, en utilisant l'opérateur ``+``."
   ]
  },
  {
   "cell_type": "code",
   "execution_count": null,
   "metadata": {},
   "outputs": [],
   "source": [
    "print(rouge_noir + ' Ceci est la première phrase du roman Le Rouge et le Noir de Stendhal.')"
   ]
  },
  {
   "cell_type": "markdown",
   "metadata": {},
   "source": [
    "L'opérateur ``*`` permet de concaténer une même chaîne à elle même plusieurs fois de suite."
   ]
  },
  {
   "cell_type": "code",
   "execution_count": null,
   "metadata": {},
   "outputs": [],
   "source": [
    "print(rouge_noir * 5)"
   ]
  },
  {
   "cell_type": "markdown",
   "metadata": {},
   "source": [
    "**Question 5 :** Définir une fonction ``cryptage`` prenant en paramètre d'entrée une chaîne de caractères et retournant la chaîne obtenue en remplaçant chaque caractère par celui qui est 4 positions plus loin dans la table Unicode. Les espaces de la chaîne de départ doivent par contre rester des espaces.\n",
    "\n",
    "Par exemple, la chaîne ``'Test'`` doit être transformée en ``'Xiwx'``."
   ]
  },
  {
   "cell_type": "code",
   "execution_count": null,
   "metadata": {},
   "outputs": [],
   "source": []
  },
  {
   "cell_type": "code",
   "execution_count": null,
   "metadata": {},
   "outputs": [],
   "source": [
    "print(cryptage('Test de cryptage'))"
   ]
  },
  {
   "cell_type": "markdown",
   "metadata": {},
   "source": [
    "**Question 6 :** Définir une fonction ``decryptage`` permettant de réaliser l'opération réciproque de la fonction ``cryptage``."
   ]
  },
  {
   "cell_type": "code",
   "execution_count": null,
   "metadata": {},
   "outputs": [],
   "source": []
  },
  {
   "cell_type": "code",
   "execution_count": null,
   "metadata": {},
   "outputs": [],
   "source": [
    "print(decryptage('Xiwx hi hígv}txeki'))"
   ]
  },
  {
   "cell_type": "markdown",
   "metadata": {},
   "source": [
    "**Question 7 :** Définir une fonction ``compte_lettre`` prenant deux paramètres d'entrée (une chaîne de caractères et une lettre) et retournant le nombre de fois que cette lettre apparaît dans la chaîne."
   ]
  },
  {
   "cell_type": "code",
   "execution_count": null,
   "metadata": {},
   "outputs": [],
   "source": []
  },
  {
   "cell_type": "code",
   "execution_count": null,
   "metadata": {},
   "outputs": [],
   "source": [
    "phrase = 'Portez ce vieux whisky au juge blond qui fume.'\n",
    "for code in range(65, 91):\n",
    "    lettre = chr(code)\n",
    "    cpt = compte_lettre(phrase, lettre)\n",
    "    print('La lettre {} apparaît {} fois dans la phrase.'.format(lettre, cpt))"
   ]
  },
  {
   "cell_type": "markdown",
   "metadata": {},
   "source": [
    "<div class=\"rq\">\n",
    "    La syntaxe <code>'La lettre {} apparaît {} fois dans la phrase.'.format(lettre, cpt)</code> permet d'intégrer la valeur des variables <code>lettre</code> et <code>cpt</code> à l'intérieur d'une chaîne de caractères.<br>\n",
    "    On pourrait également écrire <code>'La lettre ' + lettre + ' apparaît ' + str(cpt) + ' fois dans la phrase.'</code>.\n",
    "</div>"
   ]
  },
  {
   "cell_type": "markdown",
   "metadata": {},
   "source": [
    "## Partie C - Lecture et écriture dans un fichier"
   ]
  },
  {
   "cell_type": "markdown",
   "metadata": {},
   "source": [
    "**Question 8 :** Après avoir téléchargé le fichier ``rougenoir_latin-1.txt`` depuis le répertoire ``Téléchargements`` de la Dropbox du cours de NSI, et placé ce fichier dans le même répertoire que ce *Notebook*, exécuter la cellule suivante."
   ]
  },
  {
   "cell_type": "code",
   "execution_count": null,
   "metadata": {},
   "outputs": [],
   "source": [
    "with open('rougenoir_latin-1.txt', 'r', encoding = 'latin-1') as fichier:\n",
    "    chapitre1 = fichier.read()"
   ]
  },
  {
   "cell_type": "markdown",
   "metadata": {},
   "source": [
    "<div class=\"rq\">\n",
    "    L'instruction <code>with open(nom_de_fichier, 'r', encoding = un_encodage) as fichier:</code> permet d'ouvrir le fichier <code>nom_de_fichier</code> <b>en lecture</b> (<code>'r'</code> pour <i>read</i>, c'est-à-dire lire).<br><br>\n",
    "    L'instruction <code>fichier.read()</code> permet de <b>lire l'intégralité du fichier texte</b> et de stocker le contenu sous forme d'une chaîne de caractères.<br><br>\n",
    "    Pour <b>lire le contenu du fichier ligne par ligne</b>, on utilise plutôt une boucle du type <code>for ligne in fichier:</code>.\n",
    "</div>"
   ]
  },
  {
   "cell_type": "markdown",
   "metadata": {},
   "source": [
    "La variable ``chapitre1`` contient désormais la chaîne de caractères correspondant au premier chapitre du roman *Le Rouge et le Noir*, qui a été lu dans le fichier ``rougenoir_latin-1.txt``."
   ]
  },
  {
   "cell_type": "code",
   "execution_count": null,
   "metadata": {},
   "outputs": [],
   "source": [
    "print(chapitre1[0:1000]) ## 1000 premiers caractères de la chaîne"
   ]
  },
  {
   "cell_type": "markdown",
   "metadata": {},
   "source": [
    "**Question 9 :** Exécuter les deux cellules suivantes et expliquer l'effet obtenu."
   ]
  },
  {
   "cell_type": "code",
   "execution_count": null,
   "metadata": {},
   "outputs": [],
   "source": [
    "chapitre1 = 'Premier chapitre du roman Le Rouge et le Noir\\n\\n' + chapitre1"
   ]
  },
  {
   "cell_type": "code",
   "execution_count": null,
   "metadata": {},
   "outputs": [],
   "source": [
    "with open('rougenoir_nouveau.txt', 'w', encoding = 'utf-8') as fichier:\n",
    "    fichier.write(chapitre1)"
   ]
  },
  {
   "cell_type": "markdown",
   "metadata": {},
   "source": [
    "<div class=\"rq\">\n",
    "    L'exécution des deux cellules ci-dessus a eu pour effet d'<b>écrire dans un nouveau fichier</b> (<code>rougenoir_nouveau.txt</code>) le premier chapitre du roman précédé de la ligne \"Premier chapitre du roman Le Rouge et le Noir\". <br><br>\n",
    "    L'instruction <code>with open(nom_de_fichier, 'w', encoding = un_encodage) as fichier:</code> permet d'ouvrir le fichier <code>nom_de_fichier</code> <b>en écriture</b> (<code>'w'</code> pour <i>write</i>, c'est-à-dire écrire).<br><br>\n",
    "    Si le fichier n'existait pas préalablement, il est créé. Sinon, son contenu est écrasé. Pour écrire à la suite d'un fichier déjà existant sans l'écraser, il faut ouvrir le fichier en écriture avec le paramètre <code>'a'</code> (pour <i>append</i>, c'est-à-dire ajouter).\n",
    "</div>"
   ]
  },
  {
   "cell_type": "markdown",
   "metadata": {},
   "source": [
    "**Question 10 :** Ecrire une fonction ``fichier_en_majuscule`` qui prend en paramètre d'entrée une chaîne ``nom_de_fichier`` correspondant à un fichier texte et qui crée un nouveau fichier dans lequel tous les caractères du premier fichier ont été mis en majuscule."
   ]
  },
  {
   "cell_type": "code",
   "execution_count": null,
   "metadata": {},
   "outputs": [],
   "source": []
  },
  {
   "cell_type": "code",
   "execution_count": null,
   "metadata": {},
   "outputs": [],
   "source": [
    "fichier_en_majuscule('rougenoir_latin-1.txt')"
   ]
  },
  {
   "cell_type": "markdown",
   "metadata": {},
   "source": [
    "**Question 11 :** Ecrire une procédure ``conversion_encodages`` qui prend en paramètre d'entrée trois chaînes de caractères (``nom_de_fichier`` correspondant à un nom de fichier texte, ``encodage_source`` correspondant à l'encodage initial du fichier et ``encodage_cible`` correspondant à l'encodage souhaité) et qui réécrit le fichier dans l'encodage souhaité.\n",
    "\n",
    "Par exemple, l'appel ``conversion_encodages('rougenoir_latin-1.txt', 'latin-1', utf-8')`` devra convertir le fichier ``rougenoir_latin-1.txt`` de la norme ``latin-1`` vers la norme ``utf-8``."
   ]
  },
  {
   "cell_type": "code",
   "execution_count": null,
   "metadata": {},
   "outputs": [],
   "source": []
  },
  {
   "cell_type": "code",
   "execution_count": null,
   "metadata": {},
   "outputs": [],
   "source": [
    "# La taille du fichier en latin-1 est de ??? octets.\n",
    "conversion_encodages('rougenoir_latin-1.txt', 'latin-1', 'utf-8')\n",
    "# La taille du fichier en utf-8 est de ??? octets."
   ]
  },
  {
   "cell_type": "markdown",
   "metadata": {},
   "source": [
    "<div class=\"rq\">\n",
    "    La différence de taille du fichier texte selon qu'il est encodé en latin-1 ou en utf-8 provient du fait que tous les caractères sont codés sur un octet en latin-1 alors que les caractères sont codés sur un à quatre octets en utf-8.\n",
    "</div>"
   ]
  },
  {
   "cell_type": "markdown",
   "metadata": {},
   "source": [
    "## Ce que vous devez savoir"
   ]
  },
  {
   "cell_type": "markdown",
   "metadata": {},
   "source": [
    "<div class=\"rq2\">\n",
    "    <ul>\n",
    "        <li>Connaître quelques caractéristiques des encodages ASCII, ISO 8859 et Unicode.</li>\n",
    "        <li>Utiliser les fonctions <code>chr</code> et <code>ord</code>.</li>\n",
    "        <li>Parcourir les caractères d'une chaîne avec une boucle du type <code>for lettre in chaine:</code>.</li>\n",
    "        <li>Déterminer le nombre de caractères d'une chaîne avec la fonction <code>len</code>.</li>\n",
    "        <li>Accéder au <code>k</code>ème caractère d'une chaîne avec l'expression <code>chaine[k]</code>.</li>\n",
    "        <li>Utiliser les instructions <code>upper()</code> et <code>lower()</code> pour mettre tous les caractères d'une chaîne en majuscule ou minuscule.</li>\n",
    "        <li>Concaténer plusieurs chaînes de caractères.</li>\n",
    "        <li>Utiliser l'instruction <code>format()</code> pour insérer la valeur d'une variable dans une chaîne de caractères.</li>\n",
    "        <li>Ouvrir un fichier en lecture ou en écriture, en précisant l'encodage approprié.</li>\n",
    "        <li>Lire le contenu d'un fichier texte, en intégralité ou ligne par ligne.</li>\n",
    "        <li>Ecrire dans un fichier texte, en écrasant ou non son contenu préexistant.</li>\n",
    "        <li>Modifier la norme d'encodage un fichier texte.</li>\n",
    "    </ul>\n",
    "</div>"
   ]
  },
  {
   "cell_type": "markdown",
   "metadata": {},
   "source": [
    "## Exercices bilan"
   ]
  },
  {
   "cell_type": "markdown",
   "metadata": {},
   "source": [
    "### Exercice 1"
   ]
  },
  {
   "cell_type": "markdown",
   "metadata": {},
   "source": [
    "Afficher en ligne tous les caractères dont le code Unicode est compris entre ``127750`` et ``127850``."
   ]
  },
  {
   "cell_type": "code",
   "execution_count": null,
   "metadata": {},
   "outputs": [],
   "source": []
  },
  {
   "cell_type": "markdown",
   "metadata": {},
   "source": [
    "### Exercice 2"
   ]
  },
  {
   "cell_type": "markdown",
   "metadata": {},
   "source": [
    "Ecrire une fonction ``ascii`` prenant en paramètre d'entrée une chaîne de caractères écrite en français et renvoyant la chaîne correspondante ne contenant que des caractères ASCII en minuscule.\n",
    "\n",
    "Par exemple, ``'Le portugais est parlé à Ponta Delgada (Açores).'`` devient ``'le portugais est parle a ponta delgada (acores).'``"
   ]
  },
  {
   "cell_type": "code",
   "execution_count": null,
   "metadata": {},
   "outputs": [],
   "source": []
  },
  {
   "cell_type": "code",
   "execution_count": null,
   "metadata": {},
   "outputs": [],
   "source": [
    "ascii('Le portugais est parlé à Ponta Delgada (Açores).')"
   ]
  },
  {
   "cell_type": "markdown",
   "metadata": {},
   "source": [
    "### Exercice 3"
   ]
  },
  {
   "cell_type": "markdown",
   "metadata": {},
   "source": [
    "Après avoir testé plusieurs fois la fonction suivante, écrire sa spécification :"
   ]
  },
  {
   "cell_type": "code",
   "execution_count": null,
   "metadata": {},
   "outputs": [],
   "source": [
    "def phrase_contient(phrase, lettre):\n",
    "    if lettre in phrase:\n",
    "        return True\n",
    "    else:\n",
    "        return False"
   ]
  },
  {
   "cell_type": "code",
   "execution_count": null,
   "metadata": {},
   "outputs": [],
   "source": []
  },
  {
   "cell_type": "code",
   "execution_count": null,
   "metadata": {},
   "outputs": [],
   "source": []
  },
  {
   "cell_type": "code",
   "execution_count": null,
   "metadata": {},
   "outputs": [],
   "source": []
  },
  {
   "cell_type": "markdown",
   "metadata": {},
   "source": [
    "Ecrire une fonction ``contient_toutes_les_lettres`` prenant en paramètre d'entrée une chaîne de caractères et renvoyant ``True`` si la chaîne contient toutes les lettres de l'alphabet latin et ``False`` sinon. On ne tiendra pas compte du fait que les lettres soient en majuscule ou en minuscule."
   ]
  },
  {
   "cell_type": "code",
   "execution_count": null,
   "metadata": {},
   "outputs": [],
   "source": []
  },
  {
   "cell_type": "code",
   "execution_count": null,
   "metadata": {},
   "outputs": [],
   "source": [
    "contient_toutes_les_lettres('Portez ce vieux whisky au juge blond qui fume.')"
   ]
  },
  {
   "cell_type": "code",
   "execution_count": null,
   "metadata": {},
   "outputs": [],
   "source": [
    "contient_toutes_les_lettres('Portez ce verre d\\'eau au juge blond qui rêve.')"
   ]
  },
  {
   "cell_type": "markdown",
   "metadata": {},
   "source": [
    "### Exercice 4"
   ]
  },
  {
   "cell_type": "markdown",
   "metadata": {},
   "source": [
    "Ecrire une fonction ``nb_voyelles`` prenant en paramètre d'entrée une chaîne de caractères et renvoyant le nombre de voyelles contenues dans la chaîne."
   ]
  },
  {
   "cell_type": "code",
   "execution_count": null,
   "metadata": {},
   "outputs": [],
   "source": []
  },
  {
   "cell_type": "code",
   "execution_count": null,
   "metadata": {},
   "outputs": [],
   "source": [
    "nb_voyelles('Cette phrase contient 11 voyelles.')"
   ]
  },
  {
   "cell_type": "code",
   "execution_count": null,
   "metadata": {},
   "outputs": [],
   "source": [
    "nb_voyelles('Il y a quinze voyelles dans cette phrase.')"
   ]
  },
  {
   "cell_type": "markdown",
   "metadata": {},
   "source": [
    "### Exercice 5"
   ]
  },
  {
   "cell_type": "markdown",
   "metadata": {},
   "source": [
    "Après avoir exécuté la cellule suivante, ouvrir le fichier ``ma_page.html`` :"
   ]
  },
  {
   "cell_type": "code",
   "execution_count": null,
   "metadata": {},
   "outputs": [],
   "source": [
    "mon_texte = \"Test d'écriture dans un fichier html\"\n",
    "\n",
    "code_html = \"\"\"<!DOCTYPE html>\n",
    "<html>\n",
    "    <head>\n",
    "        <meta charset = 'utf-8'>\n",
    "    </head>\n",
    "    <body>\"\"\" + mon_texte + \"\"\"\n",
    "    </body>\n",
    "</html>\"\"\"\n",
    "\n",
    "with open('ma_page.html', 'w', encoding = 'utf-8') as fichier:\n",
    "    fichier.write(code_html)"
   ]
  },
  {
   "cell_type": "markdown",
   "metadata": {},
   "source": [
    "Le texte complet du roman *Le Rouge et le Noir* est enregistré dans le fichier ``rouge_noir_complet.txt`` téléchargeable depuis le répertoire ``Téléchargements`` de la Dropbox du cours de NSI.\n",
    "\n",
    "Ecrire les lignes de code permettant de créer une page HTML contenant l'intégralité du roman *Le Rouge et le Noir*."
   ]
  },
  {
   "cell_type": "code",
   "execution_count": null,
   "metadata": {},
   "outputs": [],
   "source": []
  },
  {
   "cell_type": "markdown",
   "metadata": {},
   "source": [
    "Améliorer le code de sorte que les passages à la ligne soient visibles et que les numéros de chapitre soient mis en évidence."
   ]
  },
  {
   "cell_type": "code",
   "execution_count": null,
   "metadata": {},
   "outputs": [],
   "source": []
  },
  {
   "cell_type": "markdown",
   "metadata": {},
   "source": [
    "### Exercice 6"
   ]
  },
  {
   "cell_type": "markdown",
   "metadata": {},
   "source": [
    "*Cent mille milliards de poèmes* est un livre de poésie publié en 1961 par Raymond Queneau et qui contient dix sonnets, c'est-à-dire dix poèmes de quatorze vers chacun. Voici les deux premiers sonnets :"
   ]
  },
  {
   "cell_type": "markdown",
   "metadata": {},
   "source": [
    "<div>\n",
    "    \n",
    "   <table align = \"center\">\n",
    "\t\t\t<tr>\n",
    "                <td><p align = \"left\"><i>\n",
    "                    Le roi de la pampa retourne sa chemise<br>\n",
    "                    pour la mettre à sécher aux cornes des taureaux<br>\n",
    "                    le cornédbîf en boîte empeste la remise<br>\n",
    "                    et fermentent de même et les cuirs et les peaux.<br>\n",
    "                    <br>\n",
    "                    Je me souviens encor de cette heure exeuquise<br>\n",
    "                    les gauchos dans la plaine agitaient leurs drapaux<br>\n",
    "                    nous avions aussi froid que nus sur la banquise<br>\n",
    "                    lorsque pour nous distraire y plantions nos tréteaux.<br>\n",
    "                    <br>\n",
    "                    Du pôle à Rosario fait une belle trotte<br>\n",
    "                    aventures on eut qui s'y pique s'y frotte<br>\n",
    "                    lorsqu' on boit du maté l'on devient argentin.<br>\n",
    "                    <br>\n",
    "                    L'Amérique du Sud séduit les équivoques<br>\n",
    "                    exaltent l'espagnol les oreilles baroques<br>\n",
    "                    si la cloche se tait et son terlintintin.\n",
    "                    </i></p></td><td></td><td></td><td></td>\n",
    "                <td><p align = \"left\"><i>\n",
    "                    Le cheval Parthénon s'énerve sur la frise<br>\n",
    "                    depuis que le Lord Elgin négligea ses naseaux<br>\n",
    "                    le Turc de ce temps-là pataugeait dans sa crise<br>\n",
    "                    il chantait tout de même oui mais il chantait faux.<br>\n",
    "                    <br>\n",
    "                    Le cheval Parthénon frissonnait sous la bise<br>\n",
    "                    du climat londonien où s'ébattent les beaux<br>\n",
    "                    il grelottait le pauvre au bord de la Tamise<br>\n",
    "                    quand les grêlons fin mars mitraillent les bateaux.<br>\n",
    "                    <br>\n",
    "                    La Grèce de Platon à coup sûr n'est point sotte<br>\n",
    "                    on comptait les esprits acérés à la hotte<br>\n",
    "                    lorsque Socrate mort passait pour un lutin.<br>\n",
    "                    <br>\n",
    "                    Sa sculpture est illustre et dans le fond des coques<br>\n",
    "                    on transporte et le marbre et débris et défroques<br>\n",
    "                    si l'Europe le veut l'Europe ou son destin.\n",
    "                    </i></p></td>\n",
    "            </tr>\n",
    "\t\t</table>\n",
    "</div>"
   ]
  },
  {
   "cell_type": "markdown",
   "metadata": {},
   "source": [
    "Les 100 000 000 000 000 poèmes s'obtiennent en choisissant au hasard le premier vers d'un des dix sonnets, puis en choissant au hasard le deuxième vers d'un des dix sonnets, etc.\n",
    "\n",
    "En se basant uniquement sur les deux sonnets écrits ci-dessus, il est déjà possible de créer 16 384 poèmes différents.\n",
    "\n",
    "Ecrire une fonction ``poeme_aleatoire`` renvoyant un sonnet composé à partir de vers de l'un ou l'autre des deux premiers sonnets de Queneau.\n",
    "\n",
    "*Remarque :* les deux premiers sonnets sont contenus dans le fichier ``poemes_queneau_2.txt`` téléchargeable depuis le répertoire ``Téléchargements`` de la Dropbox du cours de NSI. Les vers sont disposés dans le fichier de la façon suivante :\n",
    "\n",
    "- d'abord le premier vers du premier sonnet,\n",
    "- puis le premier vers du deuxième sonnet,\n",
    "- puis le deuxième vers du premier sonnet,\n",
    "- puis le deuxième vers du deuxième sonnet,\n",
    "- puis le troisième vers du premier sonnet, *etc.*\n",
    "\n",
    "*Aide :* pour lire une seule ligne d'un fichier texte, utiliser une instruction du type ``ligne = fichier.readline()``."
   ]
  },
  {
   "cell_type": "code",
   "execution_count": null,
   "metadata": {},
   "outputs": [],
   "source": []
  },
  {
   "cell_type": "code",
   "execution_count": null,
   "metadata": {},
   "outputs": [],
   "source": []
  },
  {
   "cell_type": "code",
   "execution_count": null,
   "metadata": {},
   "outputs": [],
   "source": [
    "print(poeme_aleatoire())"
   ]
  },
  {
   "cell_type": "markdown",
   "metadata": {},
   "source": [
    "Ecrire une fonction ``poeme_aleatoire_2`` renvoyant un sonnet composé à partir de vers de l'un des quatre premiers sonnets de Queneau.\n",
    "\n",
    "*Remarque :* les quatre premiers sonnets sont contenus dans le fichier ``poemes_queneau_4.txt`` téléchargeable depuis le répertoire ``Téléchargements`` de la Dropbox du cours de NSI. Les vers sont disposés de la même façon que précédemment."
   ]
  },
  {
   "cell_type": "code",
   "execution_count": null,
   "metadata": {},
   "outputs": [],
   "source": []
  },
  {
   "cell_type": "code",
   "execution_count": null,
   "metadata": {},
   "outputs": [],
   "source": [
    "print(poeme_aleatoire_2())"
   ]
  },
  {
   "cell_type": "markdown",
   "metadata": {},
   "source": [
    "### Exercice 7"
   ]
  },
  {
   "cell_type": "markdown",
   "metadata": {},
   "source": [
    "En exécutant la cellule ci dessous, on importe quatres procédures dans le *Notebook*."
   ]
  },
  {
   "cell_type": "code",
   "execution_count": null,
   "metadata": {},
   "outputs": [],
   "source": [
    "from directions import *"
   ]
  },
  {
   "cell_type": "markdown",
   "metadata": {},
   "source": [
    "La procédure ``demarrer_labyrinthe`` permet d'afficher un labyrinthe à l'écran et de placer la tortue à l'entrée."
   ]
  },
  {
   "cell_type": "code",
   "execution_count": null,
   "metadata": {},
   "outputs": [],
   "source": [
    "demarrer_labyrinthe()"
   ]
  },
  {
   "cell_type": "markdown",
   "metadata": {},
   "source": [
    "Les procédures ``haut``, ``bas``, ``gauche`` et ``droite`` permet de déplacer la tortue dans le labyrinthe.\n",
    "\n",
    "**Question 1 :** Ecrire dans un fichier ``mouvements.txt`` la suite des mouvements que doit réaliser la tortue pour sortir du labyrinthe.\n",
    "\n",
    "Un pas à droite sera représenté par la lettre D, un pas à gauche par la lettre G, un pas en haut par la lettre H et un pas en bas par la lettre B.\n",
    "\n",
    "**Question 2 :** Définir une fonction ``lire_mouvements`` prenant en paramètre d'entrée un nom de fichier, lisant le contenu du fichier, et renvoyant la chaîne de caractères composée des lettres D, G, H et B présentes dans le fichier."
   ]
  },
  {
   "cell_type": "code",
   "execution_count": null,
   "metadata": {},
   "outputs": [],
   "source": [
    "def lire_mouvements(nom_de_fichier):\n",
    "    with open(nom_de_fichier, 'r', encoding = 'utf-8') as fichier:\n",
    "        chaine = fichier.read()\n",
    "        return chaine"
   ]
  },
  {
   "cell_type": "markdown",
   "metadata": {},
   "source": [
    "**Question 3 :** Définir une procédure ``deplacer_tortue`` prenant en paramètre d'entrée une chaîne de caractères composée des lettres D, G, H et B et affichant à l'écran les déplacements successifs de la tortue dans le labyrinthe."
   ]
  },
  {
   "cell_type": "code",
   "execution_count": null,
   "metadata": {},
   "outputs": [],
   "source": [
    "def deplacer_tortue(phrase):\n",
    "    for lettre in phrase:\n",
    "        if lettre == 'H':\n",
    "            haut()\n",
    "        elif lettre == 'B':\n",
    "            bas()\n",
    "        elif lettre == 'G':\n",
    "            gauche()\n",
    "        elif lettre == 'D':\n",
    "            droite()"
   ]
  },
  {
   "cell_type": "markdown",
   "metadata": {},
   "source": [
    "**Question 4 :** Utiliser les fonctions précédentes pour afficher l'itinéraire de la tortue de l'entrée à la sortie du labyrinthe."
   ]
  },
  {
   "cell_type": "code",
   "execution_count": null,
   "metadata": {},
   "outputs": [],
   "source": [
    "deplacer_tortue(lire_mouvements('mouvements.txt'))"
   ]
  },
  {
   "cell_type": "markdown",
   "metadata": {},
   "source": [
    "### Exercice 8\n",
    "\n",
    "L'exécution de la cellule suivante met à disposition deux fonctions `interroger_PokeAPI` et `extraire_donnee`."
   ]
  },
  {
   "cell_type": "code",
   "execution_count": null,
   "metadata": {},
   "outputs": [],
   "source": [
    "from pokemon import interroger_PokeAPI, extraire_donnee"
   ]
  },
  {
   "cell_type": "markdown",
   "metadata": {},
   "source": [
    "La fonction `interroger_PokeAPI` prend en paramètre d'entrée un entier strictement positif correspondant à l'identifiant d'un Pokemon, et elle retourne un certain nombre de données concernant ce Pokemon. Les données sont stockées dans un dictionnaire, qui est un type de variable qui sera étudié dans le chapitre 6.\n",
    "\n",
    "**(1)** Que contient la variable `poke` après l'exécution de la cellule suivante ?"
   ]
  },
  {
   "cell_type": "code",
   "execution_count": null,
   "metadata": {},
   "outputs": [],
   "source": [
    "poke = interroger_PokeAPI(25)"
   ]
  },
  {
   "cell_type": "markdown",
   "metadata": {},
   "source": [
    "La fonction `extraire_donnee` prend deux paramètres d'entrée : un dictionnaire contenant des données concernant un Pokemon, et une chaîne de caractères à choisir par parmi `'nom'`, `'taille'`, `'poids'` `'xp'` et `'sprite'`. Elle retourne la donnée (nom, taille, *etc.*) choisie pour le Pokemon en question.\n",
    "\n",
    "**(2)** Ecrire une ligne de code permettant d'afficher le nom, la taille et l'expérience du Pokemon dont l'identifiant est 25."
   ]
  },
  {
   "cell_type": "code",
   "execution_count": null,
   "metadata": {},
   "outputs": [],
   "source": []
  },
  {
   "cell_type": "markdown",
   "metadata": {},
   "source": [
    "**(3)** Ecrire un programme permettant de créer un fichier HTML `pokedex.html` contenant, dans un grand tableau, les données associées aux 151 Pokemon de première génération. On donne ci-dessous un modèle du résultat attendu.\n",
    "\n",
    "<table class='sobre'>\n",
    "    <tr>\n",
    "        <th>Nom</th>\n",
    "        <th>Image</th>\n",
    "        <th>Taille</th>\n",
    "        <th>Poids</th>\n",
    "        <th>XP</th>\n",
    "    </tr>\n",
    "    <tr>\n",
    "        <td>Bulbasaur</td>\n",
    "        <td><img src='https://raw.githubusercontent.com/PokeAPI/sprites/master/sprites/pokemon/1.png'></td>\n",
    "        <td>70 cm</td>\n",
    "        <td>7 kg</td>\n",
    "        <td>64 pts</td>\n",
    "    </tr>\n",
    "    <tr>\n",
    "        <td>Ivysaur</td>\n",
    "        <td><img src='https://raw.githubusercontent.com/PokeAPI/sprites/master/sprites/pokemon/2.png'></td>\n",
    "        <td>100 cm</td>\n",
    "        <td>13 kg</td>\n",
    "        <td>142 pts</td>\n",
    "    </tr>\n",
    "    <tr>\n",
    "        <td>Venusaur</td>\n",
    "        <td><img src='https://raw.githubusercontent.com/PokeAPI/sprites/master/sprites/pokemon/3.png'></td>\n",
    "        <td>200 cm</td>\n",
    "        <td>100 kg</td>\n",
    "        <td>236 pts</td>\n",
    "    </tr>\n",
    "    <tr>\n",
    "        <td>Charmander</td>\n",
    "        <td><img src='https://raw.githubusercontent.com/PokeAPI/sprites/master/sprites/pokemon/4.png'></td>\n",
    "        <td>60 cm</td>\n",
    "        <td>8 kg</td>\n",
    "        <td>62 pts</td>\n",
    "    </tr>\n",
    "    <tr>\n",
    "        <td>Charmeleon</td>\n",
    "        <td><img src='https://raw.githubusercontent.com/PokeAPI/sprites/master/sprites/pokemon/5.png'></td>\n",
    "        <td>110 cm</td>\n",
    "        <td>19 kg</td>\n",
    "        <td>142 pts</td>\n",
    "    </tr>\n",
    "    <tr>\n",
    "        <td>Charizard</td>\n",
    "        <td><img src='https://raw.githubusercontent.com/PokeAPI/sprites/master/sprites/pokemon/6.png'></td>\n",
    "        <td>170 cm</td>\n",
    "        <td>90 kg</td>\n",
    "        <td>240 pts</td>\n",
    "    </tr>\n",
    "</table>"
   ]
  },
  {
   "cell_type": "code",
   "execution_count": null,
   "metadata": {},
   "outputs": [],
   "source": []
  }
 ],
 "metadata": {
  "kernelspec": {
   "display_name": "Python 3",
   "language": "python",
   "name": "python3"
  },
  "language_info": {
   "codemirror_mode": {
    "name": "ipython",
    "version": 3
   },
   "file_extension": ".py",
   "mimetype": "text/x-python",
   "name": "python",
   "nbconvert_exporter": "python",
   "pygments_lexer": "ipython3",
   "version": "3.8.8"
  }
 },
 "nbformat": 4,
 "nbformat_minor": 2
}
