{
 "cells": [
  {
   "cell_type": "markdown",
   "metadata": {},
   "source": [
    "<div style='background-color: #87ceeb;\n",
    "    border: 0.5em solid black;\n",
    "    border-radius: 0.5em;\n",
    "    padding: 1em;'>\n",
    "    <h2>Activité 4-xx</h2>\n",
    "    <h1>Labyrinthe</h1>\n",
    "</div>"
   ]
  },
  {
   "cell_type": "markdown",
   "metadata": {},
   "source": [
    "En exécutant la cellule ci dessous, on importe quatres procédures dans le *Notebook*."
   ]
  },
  {
   "cell_type": "code",
   "execution_count": null,
   "metadata": {},
   "outputs": [],
   "source": [
    "from directions import *"
   ]
  },
  {
   "cell_type": "markdown",
   "metadata": {},
   "source": [
    "La procédure ``demarrer_labyrinthe`` permet d'afficher un labyrinthe à l'écran et de placer la tortue à l'entrée."
   ]
  },
  {
   "cell_type": "code",
   "execution_count": null,
   "metadata": {},
   "outputs": [],
   "source": [
    "demarrer_labyrinthe()"
   ]
  },
  {
   "cell_type": "markdown",
   "metadata": {},
   "source": [
    "Les procédures ``haut``, ``bas``, ``gauche`` et ``droite`` permet de déplacer la tortue dans le labyrinthe.\n",
    "\n",
    "**(1)** Ecrire dans un fichier ``mouvements.txt`` la suite des mouvements que doit réaliser la tortue pour sortir du labyrinthe.\n",
    "\n",
    "Un pas à droite sera représenté par la lettre D, un pas à gauche par la lettre G, un pas en haut par la lettre H et un pas en bas par la lettre B.\n",
    "\n",
    "**(2)** Définir une fonction ``lire_mouvements`` prenant en paramètre d'entrée un nom de fichier, lisant le contenu du fichier, et renvoyant la chaîne de caractères composée des lettres D, G, H et B présentes dans le fichier."
   ]
  },
  {
   "cell_type": "code",
   "execution_count": null,
   "metadata": {},
   "outputs": [],
   "source": [
    "def lire_mouvements(nom_de_fichier):\n",
    "    with open(nom_de_fichier, \"r\", encoding=\"utf-8\") as fichier:\n",
    "        chaine = fichier.read()\n",
    "        return chaine"
   ]
  },
  {
   "cell_type": "markdown",
   "metadata": {},
   "source": [
    "**Question 3 :** Définir une procédure ``deplacer_tortue`` prenant en paramètre d'entrée une chaîne de caractères composée des lettres D, G, H et B et affichant à l'écran les déplacements successifs de la tortue dans le labyrinthe."
   ]
  },
  {
   "cell_type": "code",
   "execution_count": null,
   "metadata": {},
   "outputs": [],
   "source": [
    "def deplacer_tortue(phrase):\n",
    "    for lettre in phrase:\n",
    "        if lettre == \"H\":\n",
    "            haut()\n",
    "        elif lettre == \"B\":\n",
    "            bas()\n",
    "        elif lettre == \"G\":\n",
    "            gauche()\n",
    "        elif lettre == \"D\":\n",
    "            droite()"
   ]
  },
  {
   "cell_type": "markdown",
   "metadata": {},
   "source": [
    "**Question 4 :** Utiliser les fonctions précédentes pour afficher l'itinéraire de la tortue de l'entrée à la sortie du labyrinthe."
   ]
  },
  {
   "cell_type": "code",
   "execution_count": null,
   "metadata": {},
   "outputs": [],
   "source": [
    "deplacer_tortue(lire_mouvements(\"mouvements.txt\"))"
   ]
  }
 ],
 "metadata": {
  "kernelspec": {
   "display_name": "Python 3 (ipykernel)",
   "language": "python",
   "name": "python3"
  },
  "language_info": {
   "codemirror_mode": {
    "name": "ipython",
    "version": 3
   },
   "file_extension": ".py",
   "mimetype": "text/x-python",
   "name": "python",
   "nbconvert_exporter": "python",
   "pygments_lexer": "ipython3",
   "version": "3.9.12"
  }
 },
 "nbformat": 4,
 "nbformat_minor": 2
}
