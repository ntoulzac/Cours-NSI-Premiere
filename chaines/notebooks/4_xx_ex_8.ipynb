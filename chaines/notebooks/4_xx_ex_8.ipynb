{
 "cells": [
  {
   "cell_type": "markdown",
   "metadata": {},
   "source": [
    "### Exercice 8\n",
    "\n",
    "L'exécution de la cellule suivante met à disposition deux fonctions `interroger_PokeAPI` et `extraire_donnee`."
   ]
  },
  {
   "cell_type": "code",
   "execution_count": null,
   "metadata": {},
   "outputs": [],
   "source": [
    "from pokemon import interroger_PokeAPI, extraire_donnee"
   ]
  },
  {
   "cell_type": "markdown",
   "metadata": {},
   "source": [
    "La fonction `interroger_PokeAPI` prend en paramètre d'entrée un entier strictement positif correspondant à l'identifiant d'un Pokemon, et elle renvoie un certain nombre de données concernant ce Pokemon. Les données sont stockées dans un dictionnaire, qui est un type de variable qui sera étudié dans le chapitre 6.\n",
    "\n",
    "**1.** Que contient la variable `poke` après l'exécution de la cellule suivante ?"
   ]
  },
  {
   "cell_type": "code",
   "execution_count": null,
   "metadata": {},
   "outputs": [],
   "source": [
    "poke = interroger_PokeAPI(25)"
   ]
  },
  {
   "cell_type": "markdown",
   "metadata": {},
   "source": [
    "La fonction `extraire_donnee` prend deux paramètres d'entrée : un dictionnaire contenant des données concernant un Pokemon, et une chaîne de caractères à choisir par parmi `\"nom\"`, `\"taille\"`, `\"poids\"` `\"xp\"` et `\"sprite\"`. Elle renvoie la donnée (nom, taille, _etc._) choisie pour le Pokemon en question.\n",
    "\n",
    "**2.** Écrire une ligne de code permettant d'afficher le nom, la taille et l'expérience du Pokemon dont l'identifiant est `25`."
   ]
  },
  {
   "cell_type": "code",
   "execution_count": null,
   "metadata": {},
   "outputs": [],
   "source": []
  },
  {
   "cell_type": "markdown",
   "metadata": {},
   "source": [
    "**3.** Écrire un programme permettant de créer un fichier HTML `pokedex.html` contenant, dans un grand tableau, les données associées aux 151 Pokemon de première génération. On donne ci-dessous un modèle du résultat attendu.\n",
    "\n",
    "<table>\n",
    "    <tr>\n",
    "        <th>Nom</th>\n",
    "        <th>Image</th>\n",
    "        <th>Taille</th>\n",
    "        <th>Poids</th>\n",
    "        <th>XP</th>\n",
    "    </tr>\n",
    "    <tr>\n",
    "        <td>Bulbasaur</td>\n",
    "        <td><img src='https://raw.githubusercontent.com/PokeAPI/sprites/master/sprites/pokemon/1.png'></td>\n",
    "        <td>70 cm</td>\n",
    "        <td>7 kg</td>\n",
    "        <td>64 pts</td>\n",
    "    </tr>\n",
    "    <tr>\n",
    "        <td>Ivysaur</td>\n",
    "        <td><img src='https://raw.githubusercontent.com/PokeAPI/sprites/master/sprites/pokemon/2.png'></td>\n",
    "        <td>100 cm</td>\n",
    "        <td>13 kg</td>\n",
    "        <td>142 pts</td>\n",
    "    </tr>\n",
    "    <tr>\n",
    "        <td>Venusaur</td>\n",
    "        <td><img src='https://raw.githubusercontent.com/PokeAPI/sprites/master/sprites/pokemon/3.png'></td>\n",
    "        <td>200 cm</td>\n",
    "        <td>100 kg</td>\n",
    "        <td>236 pts</td>\n",
    "    </tr>\n",
    "    <tr>\n",
    "        <td>Charmander</td>\n",
    "        <td><img src='https://raw.githubusercontent.com/PokeAPI/sprites/master/sprites/pokemon/4.png'></td>\n",
    "        <td>60 cm</td>\n",
    "        <td>8 kg</td>\n",
    "        <td>62 pts</td>\n",
    "    </tr>\n",
    "    <tr>\n",
    "        <td>Charmeleon</td>\n",
    "        <td><img src='https://raw.githubusercontent.com/PokeAPI/sprites/master/sprites/pokemon/5.png'></td>\n",
    "        <td>110 cm</td>\n",
    "        <td>19 kg</td>\n",
    "        <td>142 pts</td>\n",
    "    </tr>\n",
    "    <tr>\n",
    "        <td>Charizard</td>\n",
    "        <td><img src='https://raw.githubusercontent.com/PokeAPI/sprites/master/sprites/pokemon/6.png'></td>\n",
    "        <td>170 cm</td>\n",
    "        <td>90 kg</td>\n",
    "        <td>240 pts</td>\n",
    "    </tr>\n",
    "</table>"
   ]
  },
  {
   "cell_type": "code",
   "execution_count": null,
   "metadata": {},
   "outputs": [],
   "source": []
  }
 ],
 "metadata": {
  "kernelspec": {
   "display_name": "Python 3 (ipykernel)",
   "language": "python",
   "name": "python3"
  },
  "language_info": {
   "codemirror_mode": {
    "name": "ipython",
    "version": 3
   },
   "file_extension": ".py",
   "mimetype": "text/x-python",
   "name": "python",
   "nbconvert_exporter": "python",
   "pygments_lexer": "ipython3",
   "version": "3.9.12"
  }
 },
 "nbformat": 4,
 "nbformat_minor": 2
}
