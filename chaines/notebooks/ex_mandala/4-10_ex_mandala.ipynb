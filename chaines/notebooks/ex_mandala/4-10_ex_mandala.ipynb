{
 "cells": [
  {
   "cell_type": "markdown",
   "metadata": {},
   "source": [
    "<div style='background-color: #e3a8b6;\n",
    "    border: 0.5em solid black;\n",
    "    border-radius: 0.5em;\n",
    "    padding: 1em;'>\n",
    "    <h2>Exercice 4-10</h2>\n",
    "    <h1>Mandala</h1>\n",
    "</div>"
   ]
  },
  {
   "cell_type": "markdown",
   "metadata": {},
   "source": [
    "On souhaite colorer un mandala avec des couleurs aléatoires.\n",
    "\n",
    "<center><div style=\"width: 40%\"><img src=\"https://ntoulzac.github.io/Cours-NSI-Premiere/chaines/images/mandala.svg\"></div></center>"
   ]
  },
  {
   "cell_type": "code",
   "execution_count": null,
   "metadata": {},
   "outputs": [],
   "source": [
    "from mandala import colorer_zone, afficher_mandala"
   ]
  },
  {
   "cell_type": "markdown",
   "metadata": {},
   "source": [
    "Chaque zone à colorier est identifiée :\n",
    "\n",
    "- soit par un code à deux caractères : une lettre majuscule entre `\"A\"` et `\"X\"` suivi d'un chiffre entre `\"0\"` et `\"8\"`,\n",
    "- soit par un code à un caractères : `\"Y\"` ou `\"Z\"`.\n",
    "\n",
    "Chaque couleur est représentée par une chaîne de sept caractères de la forme `\"#rrvvbb\"`, où :\n",
    "\n",
    "- `rr` est l'écriture hexadécimale sur deux chiffres de la composante rouge de la couleur (comprise entre 0 et 255),\n",
    "- `vv` est l'écriture hexadécimale sur deux chiffres de la composante verte de la couleur (comprise entre 0 et 255),\n",
    "- `bb` est l'écriture hexadécimale sur deux chiffres de la composante bleue de la couleur (comprise entre 0 et 255).\n",
    "\n",
    "Voici le code à saisir pour colorer en rouge (code `\"#ff0000\"`) la zone identifiée par le code `\"A0\"` et pour colorer en vert (code `\"#00ff00\"`) la zone identifiée par le code `\"Y\"`."
   ]
  },
  {
   "cell_type": "code",
   "execution_count": null,
   "metadata": {},
   "outputs": [],
   "source": [
    "colorer_zone(\"#ff0000\", \"A0\")\n",
    "colorer_zone(\"#00ff00\", \"Y\")\n",
    "afficher_mandala()"
   ]
  },
  {
   "cell_type": "markdown",
   "metadata": {},
   "source": [
    "**(1)** Définir une fonction `couleur_alea` qui renvoie sous forme de chaîne de caractères un code couleur aléatoire de la forme `\"#rrvvbb\"`."
   ]
  },
  {
   "cell_type": "code",
   "execution_count": null,
   "metadata": {},
   "outputs": [],
   "source": []
  },
  {
   "cell_type": "markdown",
   "metadata": {},
   "source": [
    "**(2)** Écrire des lignes de code permettant de colorer l'ensemble du mandala en respectant les contraintes suivantes :\n",
    "\n",
    "- Toutes les zones dont le code contient une même lettre doivent être de la même couleur. Par exemple, les zones `\"A0\"`, `\"A1\"`, `\"A2\"`, ..., `\"A7\"` et `\"A8\"` doivent toutes être de la même couleur.\n",
    "- Toutes les zones dont le code contient la lettre `\"K\"` ou la lettre `\"L\"` doivent être de la même couleur.\n",
    "- Toutes les zones dont le code contient la lettre `\"N\"` ou la lettre `\"O\"` doivent être de la même couleur.\n",
    "- Toutes les zones dont le code contient la lettre `\"P\"` ou la lettre `\"Q\"` doivent être de la même couleur.\n",
    "- Toutes les zones dont le code contient l'une des  lettres `\"R\"`, `\"S\"`, `\"T\"`, `\"U\"` ou `\"V\"` doivent être de la même couleur."
   ]
  },
  {
   "cell_type": "code",
   "execution_count": null,
   "metadata": {},
   "outputs": [],
   "source": []
  }
 ],
 "metadata": {
  "celltoolbar": "Format de la Cellule Texte Brut",
  "kernelspec": {
   "display_name": "Python 3 (ipykernel)",
   "language": "python",
   "name": "python3"
  },
  "language_info": {
   "codemirror_mode": {
    "name": "ipython",
    "version": 3
   },
   "file_extension": ".py",
   "mimetype": "text/x-python",
   "name": "python",
   "nbconvert_exporter": "python",
   "pygments_lexer": "ipython3",
   "version": "3.9.12"
  }
 },
 "nbformat": 4,
 "nbformat_minor": 2
}
