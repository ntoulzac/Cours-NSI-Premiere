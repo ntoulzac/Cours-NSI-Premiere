{
 "cells": [
  {
   "cell_type": "markdown",
   "metadata": {},
   "source": [
    "<div style='background-color: #e3a8b6;\n",
    "    border: 0.5em solid black;\n",
    "    border-radius: 0.5em;\n",
    "    padding: 1em;'>\n",
    "    <h2>Exercice 4-08</h2>\n",
    "    <h1>Comptage d'un caractère</h1>\n",
    "</div>"
   ]
  },
  {
   "cell_type": "markdown",
   "metadata": {},
   "source": [
    "**(1)** Définir une fonction `compte_caractere` qui prend deux paramètres d'entrée (une chaîne de caractères et un caractère) et qui renvoie le nombre de fois où ce caractère apparaît dans la chaîne."
   ]
  },
  {
   "cell_type": "code",
   "execution_count": null,
   "metadata": {},
   "outputs": [],
   "source": []
  },
  {
   "cell_type": "markdown",
   "metadata": {},
   "source": [
    "**(2)** Expliquer quel est le rôle des lignes de code suivantes :"
   ]
  },
  {
   "cell_type": "code",
   "execution_count": null,
   "metadata": {},
   "outputs": [],
   "source": [
    "phrase = \"Portez ce vieux whisky au juge blond qui fume.\"\n",
    "for code in range(65, 91):\n",
    "    lettre = chr(code)\n",
    "    cpt = compte_caractere(phrase, lettre)\n",
    "    print(f\"La lettre {lettre} apparaît {cpt} fois dans la phrase.\")"
   ]
  },
  {
   "cell_type": "markdown",
   "metadata": {},
   "source": [
    "_Réponse :_ ..."
   ]
  },
  {
   "cell_type": "markdown",
   "metadata": {},
   "source": [
    "La syntaxe `f\"La lettre {lettre} apparaît {cpt} fois dans la phrase.\"` permet d'intégrer la valeur des variables `lettre` et `cpt` à l'intérieur d'une chaîne de caractères, ce qui évite d'écrire `\"La lettre \" + lettre + \" apparaît \" + str(cpt) + \" fois dans la phrase.\"`."
   ]
  }
 ],
 "metadata": {
  "kernelspec": {
   "display_name": "Python 3 (ipykernel)",
   "language": "python",
   "name": "python3"
  },
  "language_info": {
   "codemirror_mode": {
    "name": "ipython",
    "version": 3
   },
   "file_extension": ".py",
   "mimetype": "text/x-python",
   "name": "python",
   "nbconvert_exporter": "python",
   "pygments_lexer": "ipython3",
   "version": "3.9.12"
  }
 },
 "nbformat": 4,
 "nbformat_minor": 2
}
