{
 "cells": [
  {
   "cell_type": "markdown",
   "metadata": {},
   "source": [
    "<div style='background-color: #87ceeb;\n",
    "    border: 0.5em solid black;\n",
    "    border-radius: 0.5em;\n",
    "    padding: 1em;'>\n",
    "    <h2>Activité 4-06</h2>\n",
    "    <h1>Lecture et écriture dans un fichier</h1>\n",
    "</div>"
   ]
  },
  {
   "cell_type": "markdown",
   "metadata": {},
   "source": [
    "Après avoir téléchargé [ici](https://ntoulzac.github.io/Cours-NSI-Premiere/chaines/donnees/rouge_noir_latin-1.txt) le fichier `rouge_noir_latin-1.txt` (qui contient le premier chapitre du roman _Le Rouge et le Noir_) et placé ce fichier dans le même répertoire que ce carnet *Jupyter*, exécuter la cellule suivante :"
   ]
  },
  {
   "cell_type": "code",
   "execution_count": null,
   "metadata": {},
   "outputs": [],
   "source": [
    "with open(\"rouge_noir_latin-1.txt\", \"r\", encoding=\"latin-1\") as fichier:\n",
    "    chapitre1 = fichier.read()"
   ]
  },
  {
   "cell_type": "markdown",
   "metadata": {},
   "source": [
    "**(1)** Que contient la variable `chapitre1` ?"
   ]
  },
  {
   "cell_type": "markdown",
   "metadata": {},
   "source": [
    "La variable `chapitre1` contient, sous forme de chaîne de caractères, le premier chapitre du roman _Le Rouge et le Noir_.\n",
    "\n",
    "L'instruction `with open(nom_de_fichier, \"r\", encoding=un_encodage) as fichier:` permet d'ouvrir le fichier `nom_de_fichier` **en lecture** (`\"r\"`) pour _read_, c'est-à-dire lire).\n",
    "\n",
    "L'instruction `fichier.read()` permet de **lire l'intégralité du fichier texte** et de stocker le contenu sous forme d'une chaîne de caractères.\n",
    "\n",
    "Pour **lire le contenu du fichier ligne par ligne**, on utilise plutôt une boucle du type `for ligne in fichier:`.\n",
    "\n",
    "**(2)** Écrire une ligne de code permettant d'afficher les 1000 premiers caractères du premier chapitre du roman _Le Rouge et le Noir_."
   ]
  },
  {
   "cell_type": "code",
   "execution_count": null,
   "metadata": {},
   "outputs": [],
   "source": []
  },
  {
   "cell_type": "markdown",
   "metadata": {},
   "source": [
    "**(3)** Expliquer quel effet provoque l'exécution des deux cellules suivantes :"
   ]
  },
  {
   "cell_type": "code",
   "execution_count": null,
   "metadata": {},
   "outputs": [],
   "source": [
    "chapitre1 = \"Premier chapitre du roman Le Rouge et le Noir\\n\\n\" + chapitre1"
   ]
  },
  {
   "cell_type": "code",
   "execution_count": null,
   "metadata": {},
   "outputs": [],
   "source": [
    "with open(\"rouge_noir_nouveau.txt\", \"w\", encoding=\"utf-8\") as fichier:\n",
    "    fichier.write(chapitre1)"
   ]
  },
  {
   "cell_type": "markdown",
   "metadata": {},
   "source": [
    "L'exécution des deux cellules ci-dessus a eu pour effet d'**écrire dans un nouveau fichier** (`rougenoir_nouveau.txt`) le premier chapitre du roman précédé de la ligne \"Premier chapitre du roman Le Rouge et le Noir\".\n",
    " \n",
    "L'instruction `with open(nom_de_fichier, \"w\", encoding=un_encodage) as fichier:` permet d'ouvrir le fichier `nom_de_fichier` **en écriture** (`\"w\"` pour _write_, c'est-à-dire écrire).\n",
    "\n",
    "Si le fichier n'existait pas préalablement, il est créé. Sinon, son contenu est écrasé. Pour écrire à la suite d'un fichier déjà existant sans l'écraser, il faut ouvrir le fichier en écriture avec l'argument `\"a\"` (pour _append_, c'est-à-dire ajouter)."
   ]
  },
  {
   "cell_type": "markdown",
   "metadata": {},
   "source": [
    "**(4)** Définir une procédure `fichier_en_majuscule` qui prend en paramètre d'entrée une chaîne `nom_de_fichier` correspondant à un nom de fichier texte et qui crée un nouveau fichier dans lequel tous les caractères du premier fichier ont été mis en majuscule."
   ]
  },
  {
   "cell_type": "code",
   "execution_count": null,
   "metadata": {},
   "outputs": [],
   "source": []
  },
  {
   "cell_type": "code",
   "execution_count": null,
   "metadata": {},
   "outputs": [],
   "source": []
  }
 ],
 "metadata": {
  "kernelspec": {
   "display_name": "Python 3 (ipykernel)",
   "language": "python",
   "name": "python3"
  },
  "language_info": {
   "codemirror_mode": {
    "name": "ipython",
    "version": 3
   },
   "file_extension": ".py",
   "mimetype": "text/x-python",
   "name": "python",
   "nbconvert_exporter": "python",
   "pygments_lexer": "ipython3",
   "version": "3.9.12"
  }
 },
 "nbformat": 4,
 "nbformat_minor": 2
}
