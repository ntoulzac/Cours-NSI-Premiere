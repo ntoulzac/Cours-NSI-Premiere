{
 "cells": [
  {
   "cell_type": "markdown",
   "metadata": {},
   "source": [
    "<div style='background-color: #e3a8b6;\n",
    "    border: 0.5em solid black;\n",
    "    border-radius: 0.5em;\n",
    "    padding: 1em;'>\n",
    "    <h2>Exercice 4-07</h2>\n",
    "    <h1>Conversion d'encodage</h1>\n",
    "</div>"
   ]
  },
  {
   "cell_type": "markdown",
   "metadata": {},
   "source": [
    "**(1)** Définir une procédure `conversion_encodage` qui prend en paramètres d'entrée trois chaînes de caractères (`nom_de_fichier` correspondant à un nom de fichier texte, `encodage_source` correspondant à l'encodage initial du fichier et `encodage_cible` correspondant à l'encodage souhaité) et qui réécrit le fichier dans l'encodage souhaité.\n",
    "\n",
    "Par exemple, l'appel `conversion_encodage(\"rouge_noir_latin-1.txt\", \"latin-1\", \"utf-8\")` convertit le fichier `rouge_noir_latin-1.txt` (téléchargeable [ici](https://ntoulzac.github.io/Cours-NSI-Premiere/chaines/donnees/rouge_noir_latin-1.txt) et à placer dans le même répertoire que ce carnet _Jupyter_) de la norme _latin-1_ vers la norme _utf-8_."
   ]
  },
  {
   "cell_type": "code",
   "execution_count": null,
   "metadata": {},
   "outputs": [],
   "source": []
  },
  {
   "cell_type": "code",
   "execution_count": null,
   "metadata": {},
   "outputs": [],
   "source": [
    "conversion_encodage(\"rouge_noir_latin-1.txt\", \"latin-1\", \"utf-8\")"
   ]
  },
  {
   "cell_type": "markdown",
   "metadata": {},
   "source": [
    "**(2)** Comparer la taille du fichier encodé en _latin-1_ et celle du fichier encodé en _utf-8_. Comment s'explique la différence ?"
   ]
  },
  {
   "cell_type": "markdown",
   "metadata": {},
   "source": [
    "La taille du fichier en _latin-1_ est de ?????? octets.\n",
    "\n",
    "La taille du fichier en _utf-8_ est de ????? octets.\n",
    "\n",
    "La différence de taille du fichier texte selon qu'il est encodé en _latin-1_ ou en _utf-8_ provient du fait que tous les caractères sont codés sur un octet en _latin-1_ alors que les caractères sont codés sur un à quatre octets en _utf-8_."
   ]
  }
 ],
 "metadata": {
  "kernelspec": {
   "display_name": "Python 3 (ipykernel)",
   "language": "python",
   "name": "python3"
  },
  "language_info": {
   "codemirror_mode": {
    "name": "ipython",
    "version": 3
   },
   "file_extension": ".py",
   "mimetype": "text/x-python",
   "name": "python",
   "nbconvert_exporter": "python",
   "pygments_lexer": "ipython3",
   "version": "3.9.12"
  }
 },
 "nbformat": 4,
 "nbformat_minor": 2
}
