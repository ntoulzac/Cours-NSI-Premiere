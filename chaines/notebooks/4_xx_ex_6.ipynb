{
 "cells": [
  {
   "cell_type": "markdown",
   "metadata": {},
   "source": [
    "### Exercice 6"
   ]
  },
  {
   "cell_type": "markdown",
   "metadata": {},
   "source": [
    "_Cent mille milliards de poèmes_ est un livre de poésie publié en 1961 par Raymond Queneau et qui contient dix sonnets, c'est-à-dire dix poèmes de quatorze vers chacun. Voici les deux premiers sonnets :"
   ]
  },
  {
   "cell_type": "markdown",
   "metadata": {},
   "source": [
    "<div>\n",
    "    \n",
    "   <table align = \"center\">\n",
    "\t\t\t<tr>\n",
    "                <td><p align = \"left\"><i>\n",
    "                    Le roi de la pampa retourne sa chemise<br>\n",
    "                    pour la mettre à sécher aux cornes des taureaux<br>\n",
    "                    le cornédbîf en boîte empeste la remise<br>\n",
    "                    et fermentent de même et les cuirs et les peaux.<br>\n",
    "                    <br>\n",
    "                    Je me souviens encor de cette heure exeuquise<br>\n",
    "                    les gauchos dans la plaine agitaient leurs drapaux<br>\n",
    "                    nous avions aussi froid que nus sur la banquise<br>\n",
    "                    lorsque pour nous distraire y plantions nos tréteaux.<br>\n",
    "                    <br>\n",
    "                    Du pôle à Rosario fait une belle trotte<br>\n",
    "                    aventures on eut qui s'y pique s'y frotte<br>\n",
    "                    lorsqu' on boit du maté l'on devient argentin.<br>\n",
    "                    <br>\n",
    "                    L'Amérique du Sud séduit les équivoques<br>\n",
    "                    exaltent l'espagnol les oreilles baroques<br>\n",
    "                    si la cloche se tait et son terlintintin.\n",
    "                    </i></p></td><td></td><td></td><td></td>\n",
    "                <td><p align = \"left\"><i>\n",
    "                    Le cheval Parthénon s'énerve sur la frise<br>\n",
    "                    depuis que le Lord Elgin négligea ses naseaux<br>\n",
    "                    le Turc de ce temps-là pataugeait dans sa crise<br>\n",
    "                    il chantait tout de même oui mais il chantait faux.<br>\n",
    "                    <br>\n",
    "                    Le cheval Parthénon frissonnait sous la bise<br>\n",
    "                    du climat londonien où s'ébattent les beaux<br>\n",
    "                    il grelottait le pauvre au bord de la Tamise<br>\n",
    "                    quand les grêlons fin mars mitraillent les bateaux.<br>\n",
    "                    <br>\n",
    "                    La Grèce de Platon à coup sûr n'est point sotte<br>\n",
    "                    on comptait les esprits acérés à la hotte<br>\n",
    "                    lorsque Socrate mort passait pour un lutin.<br>\n",
    "                    <br>\n",
    "                    Sa sculpture est illustre et dans le fond des coques<br>\n",
    "                    on transporte et le marbre et débris et défroques<br>\n",
    "                    si l'Europe le veut l'Europe ou son destin.\n",
    "                    </i></p></td>\n",
    "            </tr>\n",
    "\t\t</table>\n",
    "</div>"
   ]
  },
  {
   "cell_type": "markdown",
   "metadata": {},
   "source": [
    "Les 100 000 000 000 000 poèmes s'obtiennent en choisissant au hasard le premier vers d'un des dix sonnets, puis en choissant au hasard le deuxième vers d'un des dix sonnets, _etc._\n",
    "\n",
    "En se basant uniquement sur les deux sonnets écrits ci-dessus, il est déjà possible de créer 16 384 poèmes différents.\n",
    "\n",
    "**1.** Définir une fonction `poeme_aleatoire` qui renvoie un sonnet composé à partir de vers de l'un ou l'autre des deux premiers sonnets de Queneau.\n",
    "\n",
    "_Remarque :_ les deux premiers sonnets sont contenus dans le fichier `poemes_queneau_2.txt`. Les vers sont disposés dans le fichier de la façon suivante :\n",
    "\n",
    "- d'abord le premier vers du premier sonnet,\n",
    "- puis le premier vers du deuxième sonnet,\n",
    "- puis le deuxième vers du premier sonnet,\n",
    "- puis le deuxième vers du deuxième sonnet,\n",
    "- puis le troisième vers du premier sonnet, _etc._\n",
    "\n",
    "_Aide :_ pour lire une seule ligne d'un fichier texte, utiliser une instruction du type `ligne = fichier.readline()`."
   ]
  },
  {
   "cell_type": "code",
   "execution_count": null,
   "metadata": {},
   "outputs": [],
   "source": []
  },
  {
   "cell_type": "code",
   "execution_count": null,
   "metadata": {},
   "outputs": [],
   "source": []
  },
  {
   "cell_type": "code",
   "execution_count": null,
   "metadata": {},
   "outputs": [],
   "source": [
    "print(poeme_aleatoire())"
   ]
  },
  {
   "cell_type": "markdown",
   "metadata": {},
   "source": [
    "**2.** Définir une fonction `poeme_aleatoire_2` qui renvoie un sonnet composé à partir de vers de l'un des quatre premiers sonnets de Queneau.\n",
    "\n",
    "_Remarque :_ les quatre premiers sonnets sont contenus dans le fichier `poemes_queneau_4.txt`. Les vers sont disposés de la même façon que précédemment."
   ]
  },
  {
   "cell_type": "code",
   "execution_count": null,
   "metadata": {},
   "outputs": [],
   "source": []
  },
  {
   "cell_type": "code",
   "execution_count": null,
   "metadata": {},
   "outputs": [],
   "source": [
    "print(poeme_aleatoire_2())"
   ]
  }
 ],
 "metadata": {
  "kernelspec": {
   "display_name": "Python 3 (ipykernel)",
   "language": "python",
   "name": "python3"
  },
  "language_info": {
   "codemirror_mode": {
    "name": "ipython",
    "version": 3
   },
   "file_extension": ".py",
   "mimetype": "text/x-python",
   "name": "python",
   "nbconvert_exporter": "python",
   "pygments_lexer": "ipython3",
   "version": "3.9.12"
  }
 },
 "nbformat": 4,
 "nbformat_minor": 2
}
