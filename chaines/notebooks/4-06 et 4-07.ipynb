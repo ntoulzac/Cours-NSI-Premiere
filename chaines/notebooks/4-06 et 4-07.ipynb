{
 "cells": [
  {
   "cell_type": "markdown",
   "metadata": {},
   "source": [
    "**Question 8 :** Après avoir téléchargé le fichier ``rougenoir_latin-1.txt`` depuis le répertoire ``Téléchargements`` de la Dropbox du cours de NSI, et placé ce fichier dans le même répertoire que ce *Notebook*, exécuter la cellule suivante."
   ]
  },
  {
   "cell_type": "code",
   "execution_count": null,
   "metadata": {},
   "outputs": [],
   "source": [
    "with open('rougenoir_latin-1.txt', 'r', encoding = 'latin-1') as fichier:\n",
    "    chapitre1 = fichier.read()"
   ]
  },
  {
   "cell_type": "markdown",
   "metadata": {},
   "source": [
    "<div class=\"rq\">\n",
    "    L'instruction <code>with open(nom_de_fichier, 'r', encoding = un_encodage) as fichier:</code> permet d'ouvrir le fichier <code>nom_de_fichier</code> <b>en lecture</b> (<code>'r'</code> pour <i>read</i>, c'est-à-dire lire).<br><br>\n",
    "    L'instruction <code>fichier.read()</code> permet de <b>lire l'intégralité du fichier texte</b> et de stocker le contenu sous forme d'une chaîne de caractères.<br><br>\n",
    "    Pour <b>lire le contenu du fichier ligne par ligne</b>, on utilise plutôt une boucle du type <code>for ligne in fichier:</code>.\n",
    "</div>"
   ]
  },
  {
   "cell_type": "markdown",
   "metadata": {},
   "source": [
    "La variable ``chapitre1`` contient désormais la chaîne de caractères correspondant au premier chapitre du roman *Le Rouge et le Noir*, qui a été lu dans le fichier ``rougenoir_latin-1.txt``."
   ]
  },
  {
   "cell_type": "code",
   "execution_count": null,
   "metadata": {},
   "outputs": [],
   "source": [
    "print(chapitre1[0:1000]) ## 1000 premiers caractères de la chaîne"
   ]
  },
  {
   "cell_type": "markdown",
   "metadata": {},
   "source": [
    "**Question 9 :** Exécuter les deux cellules suivantes et expliquer l'effet obtenu."
   ]
  },
  {
   "cell_type": "code",
   "execution_count": null,
   "metadata": {},
   "outputs": [],
   "source": [
    "chapitre1 = 'Premier chapitre du roman Le Rouge et le Noir\\n\\n' + chapitre1"
   ]
  },
  {
   "cell_type": "code",
   "execution_count": null,
   "metadata": {},
   "outputs": [],
   "source": [
    "with open('rougenoir_nouveau.txt', 'w', encoding = 'utf-8') as fichier:\n",
    "    fichier.write(chapitre1)"
   ]
  },
  {
   "cell_type": "markdown",
   "metadata": {},
   "source": [
    "<div class=\"rq\">\n",
    "    L'exécution des deux cellules ci-dessus a eu pour effet d'<b>écrire dans un nouveau fichier</b> (<code>rougenoir_nouveau.txt</code>) le premier chapitre du roman précédé de la ligne \"Premier chapitre du roman Le Rouge et le Noir\". <br><br>\n",
    "    L'instruction <code>with open(nom_de_fichier, 'w', encoding = un_encodage) as fichier:</code> permet d'ouvrir le fichier <code>nom_de_fichier</code> <b>en écriture</b> (<code>'w'</code> pour <i>write</i>, c'est-à-dire écrire).<br><br>\n",
    "    Si le fichier n'existait pas préalablement, il est créé. Sinon, son contenu est écrasé. Pour écrire à la suite d'un fichier déjà existant sans l'écraser, il faut ouvrir le fichier en écriture avec le paramètre <code>'a'</code> (pour <i>append</i>, c'est-à-dire ajouter).\n",
    "</div>"
   ]
  },
  {
   "cell_type": "markdown",
   "metadata": {},
   "source": [
    "**Question 10 :** Ecrire une fonction ``fichier_en_majuscule`` qui prend en paramètre d'entrée une chaîne ``nom_de_fichier`` correspondant à un fichier texte et qui crée un nouveau fichier dans lequel tous les caractères du premier fichier ont été mis en majuscule."
   ]
  },
  {
   "cell_type": "code",
   "execution_count": null,
   "metadata": {},
   "outputs": [],
   "source": []
  },
  {
   "cell_type": "code",
   "execution_count": null,
   "metadata": {},
   "outputs": [],
   "source": [
    "fichier_en_majuscule('rougenoir_latin-1.txt')"
   ]
  },
  {
   "cell_type": "markdown",
   "metadata": {},
   "source": [
    "**Question 11 :** Ecrire une procédure ``conversion_encodages`` qui prend en paramètre d'entrée trois chaînes de caractères (``nom_de_fichier`` correspondant à un nom de fichier texte, ``encodage_source`` correspondant à l'encodage initial du fichier et ``encodage_cible`` correspondant à l'encodage souhaité) et qui réécrit le fichier dans l'encodage souhaité.\n",
    "\n",
    "Par exemple, l'appel ``conversion_encodages('rougenoir_latin-1.txt', 'latin-1', utf-8')`` devra convertir le fichier ``rougenoir_latin-1.txt`` de la norme ``latin-1`` vers la norme ``utf-8``."
   ]
  },
  {
   "cell_type": "code",
   "execution_count": null,
   "metadata": {},
   "outputs": [],
   "source": []
  },
  {
   "cell_type": "code",
   "execution_count": null,
   "metadata": {},
   "outputs": [],
   "source": [
    "# La taille du fichier en latin-1 est de ??? octets.\n",
    "conversion_encodages('rougenoir_latin-1.txt', 'latin-1', 'utf-8')\n",
    "# La taille du fichier en utf-8 est de ??? octets."
   ]
  },
  {
   "cell_type": "markdown",
   "metadata": {},
   "source": [
    "<div class=\"rq\">\n",
    "    La différence de taille du fichier texte selon qu'il est encodé en latin-1 ou en utf-8 provient du fait que tous les caractères sont codés sur un octet en latin-1 alors que les caractères sont codés sur un à quatre octets en utf-8.\n",
    "</div>"
   ]
  }
 ],
 "metadata": {
  "kernelspec": {
   "display_name": "Python 3 (ipykernel)",
   "language": "python",
   "name": "python3"
  },
  "language_info": {
   "codemirror_mode": {
    "name": "ipython",
    "version": 3
   },
   "file_extension": ".py",
   "mimetype": "text/x-python",
   "name": "python",
   "nbconvert_exporter": "python",
   "pygments_lexer": "ipython3",
   "version": "3.9.12"
  }
 },
 "nbformat": 4,
 "nbformat_minor": 2
}
