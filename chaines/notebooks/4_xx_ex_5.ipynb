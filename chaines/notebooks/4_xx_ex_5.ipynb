{
 "cells": [
  {
   "cell_type": "markdown",
   "metadata": {},
   "source": [
    "### Exercice 5"
   ]
  },
  {
   "cell_type": "markdown",
   "metadata": {},
   "source": [
    "**1.** Après avoir exécuté la cellule suivante, ouvrir le fichier ``ma_page.html`` :"
   ]
  },
  {
   "cell_type": "code",
   "execution_count": null,
   "metadata": {},
   "outputs": [],
   "source": [
    "mon_texte = \"Test d'écriture dans un fichier html\"\n",
    "\n",
    "code_html = \"\"\"<!DOCTYPE html>\n",
    "<html>\n",
    "    <head>\n",
    "        <meta charset = 'utf-8'>\n",
    "    </head>\n",
    "    <body>\"\"\" + mon_texte + \"\"\"\n",
    "    </body>\n",
    "</html>\"\"\"\n",
    "\n",
    "with open('ma_page.html', 'w', encoding = 'utf-8') as fichier:\n",
    "    fichier.write(code_html)"
   ]
  },
  {
   "cell_type": "markdown",
   "metadata": {},
   "source": [
    "Le texte complet du roman _Le Rouge et le Noir_ est enregistré dans le fichier `rouge_noir_complet.txt`.\n",
    "\n",
    "**2.** Écrire des lignes de code permettant de créer une page HTML contenant l'intégralité du roman _Le Rouge et le Noir_."
   ]
  },
  {
   "cell_type": "code",
   "execution_count": null,
   "metadata": {},
   "outputs": [],
   "source": []
  },
  {
   "cell_type": "markdown",
   "metadata": {},
   "source": [
    "**3.** Recopier et améliorer le code précédent de sorte que les passages à la ligne soient visibles et que les numéros de chapitre soient mis en évidence."
   ]
  },
  {
   "cell_type": "code",
   "execution_count": null,
   "metadata": {},
   "outputs": [],
   "source": []
  }
 ],
 "metadata": {
  "kernelspec": {
   "display_name": "Python 3 (ipykernel)",
   "language": "python",
   "name": "python3"
  },
  "language_info": {
   "codemirror_mode": {
    "name": "ipython",
    "version": 3
   },
   "file_extension": ".py",
   "mimetype": "text/x-python",
   "name": "python",
   "nbconvert_exporter": "python",
   "pygments_lexer": "ipython3",
   "version": "3.9.12"
  }
 },
 "nbformat": 4,
 "nbformat_minor": 2
}
