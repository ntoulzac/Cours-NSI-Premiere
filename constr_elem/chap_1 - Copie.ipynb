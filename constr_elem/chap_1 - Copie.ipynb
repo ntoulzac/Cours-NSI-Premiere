{
 "cells": [
  {
   "cell_type": "code",
   "execution_count": 6,
   "metadata": {},
   "outputs": [
    {
     "name": "stdout",
     "output_type": "stream",
     "text": [
      "The tutormagic extension is already loaded. To reload it, use:\n",
      "  %reload_ext tutormagic\n"
     ]
    }
   ],
   "source": [
    "%load_ext tutormagic\n",
    "# Cette commande est nécessaire pour que Jupyter Notebook puisse utiliser l'outil Tutor Magic"
   ]
  },
  {
   "cell_type": "markdown",
   "metadata": {},
   "source": [
    "**Question 5 :** Visualiser grâce à *Tutor Magic* l'évolution de la valeur des variables ``note``, ``total`` et ``moyenne``."
   ]
  },
  {
   "cell_type": "code",
   "execution_count": 7,
   "metadata": {},
   "outputs": [
    {
     "data": {
      "text/html": [
       "\n",
       "        <iframe\n",
       "            width=\"100%\"\n",
       "            height=\"350\"\n",
       "            src=\"http://pythontutor.com/iframe-embed.html#code=total%20%3D%200%0Anote%20%3D%2013%0Atotal%20%3D%20total%20%2B%20note%0Anote%20%3D%2015%0Atotal%20%3D%20total%20%2B%20note%0Anote%20%3D%208%0Atotal%20%3D%20total%20%2B%20note%0Amoyenne%20%3D%20total%20/%203%0A&origin=opt-frontend.js&cumulative=false&heapPrimitives=true&textReferences=false&curInstr=0&&verticalStack=false&py=3&rawInputLstJSON=%5B%5D&codeDivWidth=50%25&codeDivHeight=100%25\"\n",
       "            frameborder=\"0\"\n",
       "            allowfullscreen\n",
       "            \n",
       "        ></iframe>\n",
       "        "
      ],
      "text/plain": [
       "<IPython.lib.display.IFrame at 0x22874e02310>"
      ]
     },
     "metadata": {},
     "output_type": "display_data"
    }
   ],
   "source": [
    "%%tutor --lang python3 --heapPrimitives\n",
    "total = 0\n",
    "note = 13\n",
    "total = total + note\n",
    "note = 15\n",
    "total = total + note\n",
    "note = 8\n",
    "total = total + note\n",
    "moyenne = total / 3"
   ]
  },
  {
   "cell_type": "markdown",
   "metadata": {},
   "source": []
  },
  {
   "cell_type": "code",
   "execution_count": null,
   "metadata": {},
   "outputs": [],
   "source": []
  },
  {
   "cell_type": "markdown",
   "metadata": {},
   "source": [
    "\n",
    "**Question 7 :** Écrire une instruction conditionnelle qui affiche à l'écran l'inverse du nombre ``x`` dans le cas où ``x`` est stritement positif."
   ]
  },
  {
   "cell_type": "code",
   "execution_count": null,
   "metadata": {},
   "outputs": [],
   "source": []
  },
  {
   "cell_type": "markdown",
   "metadata": {},
   "source": []
  },
  {
   "cell_type": "code",
   "execution_count": null,
   "metadata": {},
   "outputs": [],
   "source": []
  },
  {
   "cell_type": "markdown",
   "metadata": {},
   "source": [
    "\n",
    "\n",
    "**Question 8 :** Écrire une instruction conditionnelle qui affiche à l'écran l'inverse du nombre ``x`` dans le cas où ``x`` est différent de ``0``, et qui affiche le message \"On ne peut pas diviser par 0\" dans le cas contraire."
   ]
  },
  {
   "cell_type": "code",
   "execution_count": null,
   "metadata": {},
   "outputs": [],
   "source": []
  },
  {
   "cell_type": "markdown",
   "metadata": {},
   "source": [
    "**Question 9 :** ***le jeu du nombre mystère***\n",
    "\n",
    "On souhaite jouer une partie du *jeu du nombre mystère*, dont le principe est le suivant :\n",
    "- l'ordinateur tire un nombre entier au hasard entre 0 et 10 et le stocke dans une variable ``mystere``,\n",
    "- l'ordinateur demande au joueur d'entrer au clavier un entier et le stocke dans une variable ``proposition``.\n",
    "\n",
    "Les instructions nécessaires pour faire tout cela sont données ci-dessous.\n",
    "\n",
    "Vous devez compléter la séquence d'instructions de sorte que l'ordinateur affiche à l'écran \"Bravo\" dans le cas où le joueur a trouvé le nombre mystère, et \"Perdu\" sinon."
   ]
  },
  {
   "cell_type": "code",
   "execution_count": null,
   "metadata": {},
   "outputs": [],
   "source": [
    "from random import randint # On peut désormais utiliser la fonction randint\n",
    "mystere = randint(0, 10)   # L'ordinateur tire un entier au hasard entre 0 et 10\n",
    "\n",
    "proposition = int(input('Saisir un entier entre 0 et 10 : ')) # Le joueur saisit un entier au clavier\n",
    "\n",
    "# Code à compléter"
   ]
  },
  {
   "cell_type": "markdown",
   "metadata": {},
   "source": []
  },
  {
   "cell_type": "markdown",
   "metadata": {},
   "source": [
    "\n",
    "**Question 10 :** Après avoir exécuté la cellule suivante, dire combien de fois la séquence d'instructions (lignes 2 à 4) a été exécutée :"
   ]
  },
  {
   "cell_type": "code",
   "execution_count": 2,
   "metadata": {},
   "outputs": [
    {
     "name": "stdout",
     "output_type": "stream",
     "text": [
      "Le carré du nombre 0 est 0 et son cube est 0\n",
      "Le carré du nombre 1 est 1 et son cube est 1\n",
      "Le carré du nombre 2 est 4 et son cube est 8\n",
      "Le carré du nombre 3 est 9 et son cube est 27\n",
      "Le carré du nombre 4 est 16 et son cube est 64\n",
      "Le carré du nombre 5 est 25 et son cube est 125\n",
      "Le carré du nombre 6 est 36 et son cube est 216\n",
      "Le carré du nombre 7 est 49 et son cube est 343\n",
      "Le carré du nombre 8 est 64 et son cube est 512\n",
      "Le carré du nombre 9 est 81 et son cube est 729\n",
      "Exécution terminée\n"
     ]
    }
   ],
   "source": [
    "for nombre in range(10):\n",
    "    carre = nombre * nombre\n",
    "    cube = nombre * nombre * nombre\n",
    "    print(\"Le carré du nombre\", nombre, \"est\", carre, \"et son cube est\", cube)\n",
    "print(\"Exécution terminée\")"
   ]
  },
  {
   "cell_type": "markdown",
   "metadata": {},
   "source": []
  },
  {
   "cell_type": "markdown",
   "metadata": {},
   "source": [
    "**Question 11 :** Pour comprendre un peu mieux comment fonctionne la boucle pour, utiliser *Tutor Magic* sur les lignes de code de la cellule précédente."
   ]
  },
  {
   "cell_type": "code",
   "execution_count": 5,
   "metadata": {},
   "outputs": [
    {
     "data": {
      "text/html": [
       "\n",
       "        <iframe\n",
       "            width=\"100%\"\n",
       "            height=\"350\"\n",
       "            src=\"http://pythontutor.com/iframe-embed.html#code=for%20nombre%20in%20range%2810%29%3A%0A%20%20%20%20carre%20%3D%20nombre%20%2A%20nombre%0A%20%20%20%20cube%20%3D%20nombre%20%2A%20nombre%20%2A%20nombre%0A%20%20%20%20print%28%22Le%20carr%C3%A9%20du%20nombre%22%2C%20nombre%2C%20%22est%22%2C%20carre%2C%20%22%3B%20son%20cube%20est%22%2C%20cube%29%0Aprint%28%22Ex%C3%A9cution%20termin%C3%A9e%22%29%0A&origin=opt-frontend.js&cumulative=false&heapPrimitives=true&textReferences=false&curInstr=0&&verticalStack=false&py=3&rawInputLstJSON=%5B%5D&codeDivWidth=50%25&codeDivHeight=100%25\"\n",
       "            frameborder=\"0\"\n",
       "            allowfullscreen\n",
       "            \n",
       "        ></iframe>\n",
       "        "
      ],
      "text/plain": [
       "<IPython.lib.display.IFrame at 0x22874cf79a0>"
      ]
     },
     "metadata": {},
     "output_type": "display_data"
    }
   ],
   "source": [
    "%%tutor --lang python3 --heapPrimitives\n",
    "for nombre in range(10):\n",
    "    carre = nombre * nombre\n",
    "    cube = nombre * nombre * nombre\n",
    "    print(\"Le carré du nombre\", nombre, \"est\", carre, \"; son cube est\", cube)\n",
    "print(\"Exécution terminée\")"
   ]
  },
  {
   "cell_type": "markdown",
   "metadata": {},
   "source": [
    "L'expression ``range(10)`` est celle qui indique combien de fois la séquence d'instructions doit être répétée. En l'occurence, la variable ``k`` prend successivement toutes les valeurs entières entre ``0`` et ``9``, ce qui fait bien 10 valeurs différentes."
   ]
  },
  {
   "cell_type": "code",
   "execution_count": null,
   "metadata": {},
   "outputs": [],
   "source": [
    "for k in range(10):\n",
    "    print(k, end = ' ')"
   ]
  },
  {
   "cell_type": "markdown",
   "metadata": {},
   "source": [
    "**Question 12 :** Quels entiers s'affichent lorsqu'on utilise ces variantes de l'expression ``range(...)`` :"
   ]
  },
  {
   "cell_type": "code",
   "execution_count": null,
   "metadata": {},
   "outputs": [],
   "source": [
    "for k in range(5, 8):\n",
    "    print(k, end = ' ')"
   ]
  },
  {
   "cell_type": "code",
   "execution_count": null,
   "metadata": {},
   "outputs": [],
   "source": [
    "for k in range(-2, 2):\n",
    "    print(k, end = ' ')"
   ]
  },
  {
   "cell_type": "code",
   "execution_count": null,
   "metadata": {},
   "outputs": [],
   "source": [
    "for k in range(0, 8, 2):\n",
    "    print(k, end=' ')"
   ]
  },
  {
   "cell_type": "code",
   "execution_count": null,
   "metadata": {},
   "outputs": [],
   "source": [
    "for k in range(8, 4, -1):\n",
    "    print(k, end=' ')"
   ]
  },
  {
   "cell_type": "markdown",
   "metadata": {},
   "source": [
    "<div class=\"rq\">\n",
    "    À chaque nouveau passage dans la boucle pour, la valeur de la variable <code>k</code> change.<br>\n",
    "    Le choix à faire pour l'expression <code>range(...)</code> dépend de la manière dont on souhaite faire évoluer la valeur de <code>k</code> :\n",
    "</div>"
   ]
  },
  {
   "cell_type": "markdown",
   "metadata": {},
   "source": [
    "<div>\n",
    "    \t\t<table align = \"center\">\n",
    "\t\t\t<tr>\n",
    "                <th><center>Expression</center></th>\n",
    "                <th><center>Première valeur</center></th>\n",
    "\t\t\t\t<th><center>Dernière valeur</center></th>\n",
    "                <th><center>Écart entre valeurs</center></th>\n",
    "\t\t\t</tr>\n",
    "\t\t\t<tr>\n",
    "                <td><center><code>range(a)</code></center></td>\n",
    "\t\t\t\t<td><center><code>0</code></center></td>\n",
    "\t\t\t\t<td><center><code>a-1</code></center></td>\n",
    "                <td><center><code>1</code></center></td>\n",
    "\t\t\t</tr>\n",
    "\t\t\t<tr>\n",
    "                <td><center><code>range(a, b)</code></center></td>\n",
    "\t\t\t\t<td><center><code>a</code></center></td>\n",
    "\t\t\t\t<td><center><code>b-1</code></center></td>\n",
    "                <td><center><code>1</code></center></td>\n",
    "\t\t\t</tr>\n",
    "\t\t\t<tr>\n",
    "                <td><center><code>range(a, b, c)</code></center></td>\n",
    "\t\t\t\t<td><center><code>a</code></center></td>\n",
    "\t\t\t\t<td><center><code>b-1</code> (au maximum)</center></td>\n",
    "                <td><center><code>c</code></center></td>\n",
    "\t\t\t</tr>\t\t\n",
    "\t\t</table>\n",
    "</div>"
   ]
  },
  {
   "cell_type": "markdown",
   "metadata": {},
   "source": [
    "**Question 13 :** Écrire des lignes de code permettant d'afficher dans l'ordre décroissant tous les nombres pairs compris entre 10 et 20."
   ]
  }
 ],
 "metadata": {
  "celltoolbar": "Format de la Cellule Texte Brut",
  "kernelspec": {
   "display_name": "Python 3 (ipykernel)",
   "language": "python",
   "name": "python3"
  },
  "language_info": {
   "codemirror_mode": {
    "name": "ipython",
    "version": 3
   },
   "file_extension": ".py",
   "mimetype": "text/x-python",
   "name": "python",
   "nbconvert_exporter": "python",
   "pygments_lexer": "ipython3",
   "version": "3.9.12"
  }
 },
 "nbformat": 4,
 "nbformat_minor": 2
}
