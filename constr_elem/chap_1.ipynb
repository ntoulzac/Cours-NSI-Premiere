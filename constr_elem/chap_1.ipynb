{
 "cells": [
  {
   "cell_type": "markdown",
   "metadata": {},
   "source": [
    "# Chapitre 1 : Constructions élémentaires\n",
    "\n",
    "***Séquences, affectations, instructions conditionnelles, boucles***"
   ]
  },
  {
   "cell_type": "markdown",
   "metadata": {},
   "source": [
    "## Partie A - Variables, affectations et séquences d'instructions"
   ]
  },
  {
   "cell_type": "markdown",
   "metadata": {},
   "source": [
    "### Variables"
   ]
  },
  {
   "cell_type": "markdown",
   "metadata": {},
   "source": [
    "Une **variable** est une référence à une zone de la mémoire de l'ordinateur dans laquelle est stockée une **valeur**.\n",
    "\n",
    "Pour attribuer une valeur à une variable ou pour modifier sa valeur, on réalise une **affectation**.\n",
    "\n",
    "**Question 3 :** Exécuter la cellule ci-dessous, puis la suivante."
   ]
  },
  {
   "cell_type": "code",
   "execution_count": null,
   "metadata": {},
   "outputs": [],
   "source": [
    "x = 0"
   ]
  },
  {
   "cell_type": "markdown",
   "metadata": {},
   "source": [
    "Une variable appelée ``x`` a été définie, et la valeur ``0`` a été stockée dans la variable grâce à une affectation, notée ``=`` en Python.\n",
    "\n",
    "On utilise la fonction ``print`` pour afficher à l'écran la valeur de la variable ``x``."
   ]
  },
  {
   "cell_type": "code",
   "execution_count": null,
   "metadata": {},
   "outputs": [],
   "source": [
    "print(x)"
   ]
  },
  {
   "cell_type": "markdown",
   "metadata": {},
   "source": [
    "Les **noms de variables** peuvent contenir des lettres, des chiffres et certains caractères spéciaux.\n",
    "\n",
    "Ils doivent commencer par une lettre minuscule.\n",
    "\n",
    "De plus, certains mots-clés du langage Python ne peuvent pas être utilisés comme noms de variables."
   ]
  },
  {
   "cell_type": "markdown",
   "metadata": {},
   "source": [
    "### Séquences d'instructions"
   ]
  },
  {
   "cell_type": "markdown",
   "metadata": {},
   "source": [
    "Le langage de programmation Python est un langage de **programmation impérative**. Cela signifie que les instructions sont exécutées les unes après les autres, dans l'ordre.\n",
    "\n",
    "Dans la cellule qui suit, on définit une variable ``total`` en lui affectant la valeur ``0``. Cette étape s'appelle l'**initialisation** de la variable."
   ]
  },
  {
   "cell_type": "code",
   "execution_count": null,
   "metadata": {},
   "outputs": [],
   "source": [
    "total = 0"
   ]
  },
  {
   "cell_type": "markdown",
   "metadata": {},
   "source": [
    "**Question 4 :** Déterminer quelle est la valeur des deux variables ``note`` et ``total`` après l'exécution de chacune des lignes ci-dessous, et quelle est la valeur de la variable ``moyenne`` à la fin de l'exécution."
   ]
  },
  {
   "cell_type": "code",
   "execution_count": null,
   "metadata": {},
   "outputs": [],
   "source": [
    "total = 0\n",
    "note = 13\n",
    "total = total + note\n",
    "note = 15\n",
    "total = total + note\n",
    "note = 8\n",
    "total = total + note\n",
    "moyenne = total / 3"
   ]
  },
  {
   "cell_type": "markdown",
   "metadata": {},
   "source": [
    "### *Tutor Magic*"
   ]
  },
  {
   "cell_type": "markdown",
   "metadata": {},
   "source": [
    "*Tutor Magic* est un outil qui permet de suivre pas à pas la valeur des variables pendant l'exécution d'une séquence d'instructions.\n",
    "\n",
    "Pour pouvoir utiliser cet outil, vous devez l'installer en exécutant la cellule suivante..."
   ]
  },
  {
   "cell_type": "code",
   "execution_count": null,
   "metadata": {},
   "outputs": [],
   "source": [
    "import sys\n",
    "!{sys.executable} -m pip install tutormagic"
   ]
  },
  {
   "cell_type": "markdown",
   "metadata": {},
   "source": [
    "... puis charger _Tutor Magic_ en exécutant la cellule suivante :"
   ]
  },
  {
   "cell_type": "code",
   "execution_count": null,
   "metadata": {},
   "outputs": [],
   "source": [
    "%load_ext tutormagic\n",
    "# Cette commande est nécessaire pour que Jupyter Notebook puisse utiliser l'outil Tutor Magic"
   ]
  },
  {
   "cell_type": "markdown",
   "metadata": {},
   "source": [
    "**Question 5 :** Visualiser grâce à *Tutor Magic* l'évolution de la valeur des variables ``note``, ``total`` et ``moyenne``."
   ]
  },
  {
   "cell_type": "code",
   "execution_count": null,
   "metadata": {},
   "outputs": [],
   "source": [
    "%%tutor --lang python3 --heapPrimitives\n",
    "total = 0\n",
    "note = 13\n",
    "total = total + note\n",
    "note = 15\n",
    "total = total + note\n",
    "note = 8\n",
    "total = total + note\n",
    "moyenne = total / 3"
   ]
  },
  {
   "cell_type": "markdown",
   "metadata": {},
   "source": [
    "**Question 6 :** Écrire une séquence d'instructions permettant d'échanger les valeurs de deux variables ``A`` et ``B``."
   ]
  },
  {
   "cell_type": "code",
   "execution_count": null,
   "metadata": {},
   "outputs": [],
   "source": [
    "A = 2\n",
    "B = 7\n",
    "# Code à écrire\n",
    "print('A =', A)\n",
    "print('B =', B)"
   ]
  },
  {
   "cell_type": "markdown",
   "metadata": {},
   "source": [
    "Vérifier avec *Tutor Magic* que l'échange est correctement réalisé."
   ]
  },
  {
   "cell_type": "code",
   "execution_count": null,
   "metadata": {},
   "outputs": [],
   "source": [
    "%%tutor --lang python3 --heapPrimitives\n",
    "A = 2\n",
    "B = 7\n",
    "# Code à recopier ici\n",
    "print('A =', A)\n",
    "print('B =', B)"
   ]
  },
  {
   "cell_type": "markdown",
   "metadata": {},
   "source": [
    "## Partie B - Conditions et boucles"
   ]
  },
  {
   "cell_type": "markdown",
   "metadata": {},
   "source": [
    "Comme tous les langages de programmation impératifs, Python dispose d'un ensemble de structures qui permettent d'exécuter des instructions de manière répétée ou lorsqu'un certain test est réussi. "
   ]
  },
  {
   "cell_type": "markdown",
   "metadata": {},
   "source": [
    "### Instructions conditionnelles"
   ]
  },
  {
   "cell_type": "markdown",
   "metadata": {},
   "source": [
    "On utilise une **condition**, ou **instruction conditionnelle**, lorsque les instructions à exécuter dépendent du résultat (``Vrai`` ou ``Faux``) d'un certain test.\n",
    "\n",
    "Par exemple, si la valeur de la variable ``moyenne`` est strictement inférieure à ``10``, on souhaite afficher à l'écran le message \"Echec\"."
   ]
  },
  {
   "cell_type": "code",
   "execution_count": null,
   "metadata": {},
   "outputs": [],
   "source": [
    "moyenne = 9.6 # Attention, la virgule mathématique est notée par un . en Python. C'est la notation anglo-saxonne.\n",
    "\n",
    "if moyenne < 10:\n",
    "    print('Echec')"
   ]
  },
  {
   "cell_type": "markdown",
   "metadata": {},
   "source": [
    "La condition est introduite par le mot-clé ``if``, qui est directement suivi par le test à effectuer. La ligne se termine par ``:``.\n",
    "\n",
    "Le test consiste à vérifier si oui ou non la valeur de la variable ``moyenne`` est strictement inférieure à ``10``.\n",
    "\n",
    "- Dans le cas où c'est vrai (``True`` en Python), on exécute l'instruction ``print('Echec')``, qui réalise l'affichage demandé à l'écran.\n",
    "\n",
    "- Dans le cas où c'est faux (``False`` en Python), l'instruction ``print('Echec')`` n'est pas exécutée, et rien ne s'affiche à l'écran.\n",
    "\n",
    "**Question 7 :** Écrire une instruction conditionnelle qui affiche à l'écran l'inverse du nombre ``x`` dans le cas où ``x`` est stritement positif."
   ]
  },
  {
   "cell_type": "code",
   "execution_count": null,
   "metadata": {},
   "outputs": [],
   "source": []
  },
  {
   "cell_type": "markdown",
   "metadata": {},
   "source": [
    "On souhaite désormais que, dans le cas où la valeur de ``moyenne`` est strictement inférieure à ``10``, le message \"Echec\" s'affiche à l'écran, mais que dans le cas contraire, le message \"Succès\" s'affiche."
   ]
  },
  {
   "cell_type": "code",
   "execution_count": null,
   "metadata": {},
   "outputs": [],
   "source": [
    "moyenne = 9.6 # Attention, la virgule mathématique est notée par un . en Python. C'est la notation anglo-saxonne.\n",
    "\n",
    "if moyenne < 10:\n",
    "    print('Echec')\n",
    "else:\n",
    "    print('Succès')"
   ]
  },
  {
   "cell_type": "markdown",
   "metadata": {},
   "source": [
    "Le mot-clé ``else``, suivi de ``:``, permet d'indiquer quelles sont les instructions à exécuter dans le cas où le test est faux.\n",
    "\n",
    "On peut remarquer que, dans les exemples précédents, les instructions ``print('Echec')`` et ``print('Succès')`` sont décalées horizontalement de quatre espaces vers la droite. On parle d'**indentation**. C'est un concept fondamental du langage Python, qu'on ne retrouve pas dans la grande majorité des autres langages de programmation.\n",
    "\n",
    "L'indentation est utilisée pour signaler précisement le début et la fin des séquences d'instructions qui doivent être exécutées.\n",
    "\n",
    "**Question 8 :** Écrire une instruction conditionnelle qui affiche à l'écran l'inverse du nombre ``x`` dans le cas où ``x`` est différent de ``0``, et qui affiche le message \"On ne peut pas diviser par 0\" dans le cas contraire."
   ]
  },
  {
   "cell_type": "code",
   "execution_count": null,
   "metadata": {},
   "outputs": [],
   "source": []
  },
  {
   "cell_type": "markdown",
   "metadata": {},
   "source": [
    "<div class=\"rq\">\n",
    "    Pour l'écriture des tests, on aura régulièrement recours aux opérateurs mathématiques de comparaison :<br>\n",
    "    <code>==</code> est égal à,<br>\n",
    "    <code>!=</code> n'est pas égal à,<br>\n",
    "    <code>&lt;</code> est strictement inférieur à,<br>\n",
    "    <code>&gt;</code> est strictement supérieur à,<br>\n",
    "    <code>&lt;=</code> est inférieur ou égal à,<br>\n",
    "    <code>&gt;=</code> est supérieur ou égal à.\n",
    "</div>"
   ]
  },
  {
   "cell_type": "markdown",
   "metadata": {},
   "source": [
    "**Question 9 :** ***le jeu du nombre mystère***\n",
    "\n",
    "On souhaite jouer une partie du *jeu du nombre mystère*, dont le principe est le suivant :\n",
    "- l'ordinateur tire un nombre entier au hasard entre 0 et 10 et le stocke dans une variable ``mystere``,\n",
    "- l'ordinateur demande au joueur d'entrer au clavier un entier et le stocke dans une variable ``proposition``.\n",
    "\n",
    "Les instructions nécessaires pour faire tout cela sont données ci-dessous.\n",
    "\n",
    "Vous devez compléter la séquence d'instructions de sorte que l'ordinateur affiche à l'écran \"Bravo\" dans le cas où le joueur a trouvé le nombre mystère, et \"Perdu\" sinon."
   ]
  },
  {
   "cell_type": "code",
   "execution_count": null,
   "metadata": {},
   "outputs": [],
   "source": [
    "from random import randint # On peut désormais utiliser la fonction randint\n",
    "mystere = randint(0, 10)   # L'ordinateur tire un entier au hasard entre 0 et 10\n",
    "\n",
    "proposition = int(input('Saisir un entier entre 0 et 10 : ')) # Le joueur saisit un entier au clavier\n",
    "\n",
    "# Code à compléter"
   ]
  },
  {
   "cell_type": "markdown",
   "metadata": {},
   "source": [
    "### Boucle bornée (boucle pour)"
   ]
  },
  {
   "cell_type": "markdown",
   "metadata": {},
   "source": [
    "Lorsque l'on souhaite exécuter plusieurs fois de suite une même séquence d'instructions, et que l'**on connait** ***a priori*** **le nombre de répétitions souhaitées**, on utilise une boucle bornée.\n",
    "\n",
    "**Question 10 :** Après avoir exécuté la cellule suivante, dire combien de fois la séquence d'instructions (lignes 2 à 4) a été exécutée :"
   ]
  },
  {
   "cell_type": "code",
   "execution_count": null,
   "metadata": {},
   "outputs": [],
   "source": [
    "for nombre in range(10):\n",
    "    carre = nombre * nombre\n",
    "    cube = nombre * nombre * nombre\n",
    "    print(\"Le carré du nombre\", nombre, \"est\", carre, \"; son cube est\", cube)\n",
    "print(\"Exécution terminée\")"
   ]
  },
  {
   "cell_type": "markdown",
   "metadata": {},
   "source": [
    "La **boucle pour** est introduite par le mot-clé ``for`` et la première ligne se termine par ``:``.\n",
    "\n",
    "Sur les lignes suivantes est écrite la séquence d'instructions à exécuter plusieurs fois, et elle est indentée.\n",
    "\n",
    "La dernière ligne, qui n'est pas indentée, ne fait pas partie de la séquence d'instructions à répéter. Elle n'est donc exécutée qu'une seule fois, après la fin de la boucle pour."
   ]
  },
  {
   "cell_type": "markdown",
   "metadata": {},
   "source": [
    "**Question 11 :** Pour comprendre un peu mieux comment fonctionne la boucle pour, utiliser *Tutor Magic* sur les lignes de code de la cellule précédente."
   ]
  },
  {
   "cell_type": "code",
   "execution_count": null,
   "metadata": {},
   "outputs": [],
   "source": [
    "%%tutor --lang python3 --heapPrimitives\n",
    "for nombre in range(10):\n",
    "    carre = nombre * nombre\n",
    "    cube = nombre * nombre * nombre\n",
    "    print(\"Le carré du nombre\", nombre, \"est\", carre, \"; son cube est\", cube)\n",
    "print(\"Exécution terminée\")"
   ]
  },
  {
   "cell_type": "markdown",
   "metadata": {},
   "source": [
    "L'expression ``range(10)`` est celle qui indique combien de fois la séquence d'instructions doit être répétée. En l'occurence, la variable ``k`` prend successivement toutes les valeurs entières entre ``0`` et ``9``, ce qui fait bien 10 valeurs différentes."
   ]
  },
  {
   "cell_type": "code",
   "execution_count": null,
   "metadata": {},
   "outputs": [],
   "source": [
    "for k in range(10):\n",
    "    print(k, end = ' ')"
   ]
  },
  {
   "cell_type": "markdown",
   "metadata": {},
   "source": [
    "**Question 12 :** Quels entiers s'affichent lorsqu'on utilise ces variantes de l'expression ``range(...)`` :"
   ]
  },
  {
   "cell_type": "code",
   "execution_count": null,
   "metadata": {},
   "outputs": [],
   "source": [
    "for k in range(5, 8):\n",
    "    print(k, end = ' ')"
   ]
  },
  {
   "cell_type": "code",
   "execution_count": null,
   "metadata": {},
   "outputs": [],
   "source": [
    "for k in range(-2, 2):\n",
    "    print(k, end = ' ')"
   ]
  },
  {
   "cell_type": "code",
   "execution_count": null,
   "metadata": {},
   "outputs": [],
   "source": [
    "for k in range(0, 8, 2):\n",
    "    print(k, end=' ')"
   ]
  },
  {
   "cell_type": "code",
   "execution_count": null,
   "metadata": {},
   "outputs": [],
   "source": [
    "for k in range(8, 4, -1):\n",
    "    print(k, end=' ')"
   ]
  },
  {
   "cell_type": "markdown",
   "metadata": {},
   "source": [
    "<div class=\"rq\">\n",
    "    À chaque nouveau passage dans la boucle pour, la valeur de la variable <code>k</code> change.<br>\n",
    "    Le choix à faire pour l'expression <code>range(...)</code> dépend de la manière dont on souhaite faire évoluer la valeur de <code>k</code> :\n",
    "</div>"
   ]
  },
  {
   "cell_type": "markdown",
   "metadata": {},
   "source": [
    "<div>\n",
    "    \t\t<table align = \"center\">\n",
    "\t\t\t<tr>\n",
    "                <th><center>Expression</center></th>\n",
    "                <th><center>Première valeur</center></th>\n",
    "\t\t\t\t<th><center>Dernière valeur</center></th>\n",
    "                <th><center>Écart entre valeurs</center></th>\n",
    "\t\t\t</tr>\n",
    "\t\t\t<tr>\n",
    "                <td><center><code>range(a)</code></center></td>\n",
    "\t\t\t\t<td><center><code>0</code></center></td>\n",
    "\t\t\t\t<td><center><code>a-1</code></center></td>\n",
    "                <td><center><code>1</code></center></td>\n",
    "\t\t\t</tr>\n",
    "\t\t\t<tr>\n",
    "                <td><center><code>range(a, b)</code></center></td>\n",
    "\t\t\t\t<td><center><code>a</code></center></td>\n",
    "\t\t\t\t<td><center><code>b-1</code></center></td>\n",
    "                <td><center><code>1</code></center></td>\n",
    "\t\t\t</tr>\n",
    "\t\t\t<tr>\n",
    "                <td><center><code>range(a, b, c)</code></center></td>\n",
    "\t\t\t\t<td><center><code>a</code></center></td>\n",
    "\t\t\t\t<td><center><code>b-1</code> (au maximum)</center></td>\n",
    "                <td><center><code>c</code></center></td>\n",
    "\t\t\t</tr>\t\t\n",
    "\t\t</table>\n",
    "</div>"
   ]
  },
  {
   "cell_type": "markdown",
   "metadata": {},
   "source": [
    "**Question 13 :** Écrire des lignes de code permettant d'afficher dans l'ordre décroissant tous les nombres pairs compris entre 10 et 20."
   ]
  },
  {
   "cell_type": "code",
   "execution_count": null,
   "metadata": {},
   "outputs": [],
   "source": []
  },
  {
   "cell_type": "markdown",
   "metadata": {},
   "source": [
    "### Boucle non bornée (boucle tant que)"
   ]
  },
  {
   "cell_type": "markdown",
   "metadata": {},
   "source": [
    "Lorsque l'on souhaite exécuter plusieurs fois de suite une même séquence d'instructions, et que l'**on ne connait pas** ***a priori*** **le nombre de répétitions souhaitées**, on utilise une boucle non bornée.\n",
    "\n",
    "**Question 14 :** Après avoir exécuté la cellule suivante, dire combien de fois la séquence d'instructions (lignes 3 et 4) a été exécutée :"
   ]
  },
  {
   "cell_type": "code",
   "execution_count": null,
   "metadata": {},
   "outputs": [],
   "source": [
    "nombre = 1\n",
    "while nombre < 2000000:\n",
    "    print(nombre)\n",
    "    nombre = nombre * 16\n",
    "print(\"Exécution terminée\")"
   ]
  },
  {
   "cell_type": "markdown",
   "metadata": {},
   "source": [
    "La **boucle tant que** est introduite par le mot-clé ``while``, suivi d'une **condition** qui doit être vraie pour que la séquence d'instructions s'exécute. La première ligne se termine par ``:``.\n",
    "\n",
    "Sur les lignes suivantes est écrite la séquence d'instructions à exécuter plusieurs fois, et elle est indentée.\n",
    "\n",
    "La dernière ligne, qui n'est pas indentée, ne fait pas partie de la séquence d'instructions à répéter. Elle n'est donc exécutée qu'une seule fois, après la fin de la boucle tant que."
   ]
  },
  {
   "cell_type": "markdown",
   "metadata": {},
   "source": [
    "**Question 15 :** Pour comprendre un peu mieux comment fonctionne la boucle tant que, utiliser *Tutor Magic* sur les lignes de code de la cellule précédente."
   ]
  },
  {
   "cell_type": "code",
   "execution_count": null,
   "metadata": {
    "scrolled": true
   },
   "outputs": [],
   "source": [
    "%%tutor --lang python3 --heapPrimitives\n",
    "nombre = 1\n",
    "while nombre < 2000000:\n",
    "    print(nombre)\n",
    "    nombre = nombre * 16\n",
    "print(\"Exécution terminée\")"
   ]
  },
  {
   "cell_type": "markdown",
   "metadata": {},
   "source": [
    "Attention, il faut s'assurer que la condition qui définit la boucle devient fausse à un moment donné. Dans le cas contraire, on parle de **boucle infinie**, et le programme ne fonctionne pas car on ne sort jamais de la boucle.\n",
    "\n",
    "**Question 16 :** La cellule suivante contient une boucle infinie.\n",
    "\n",
    "*Une fois l'exécution lancée, appuyer sur le bouton carré (Interrompre le noyau) pour forcer l'arrêt de l'exécution.*"
   ]
  },
  {
   "cell_type": "code",
   "execution_count": null,
   "metadata": {},
   "outputs": [],
   "source": [
    "nombre = 1\n",
    "while nombre != 0: # ATTENTION : BOUCLE INFINIE !\n",
    "    nombre = nombre + 1\n",
    "print(\"Exécution terminée\") # Cette ligne ne sera jamais exécutée"
   ]
  },
  {
   "cell_type": "markdown",
   "metadata": {},
   "source": [
    "**Question 17 :** Recopier et modifier le code du *jeu du nombre mystère* de sorte que le joueur saisisse des entiers au clavier jusqu'à ce qu'il trouve le nombre mystère."
   ]
  },
  {
   "cell_type": "code",
   "execution_count": null,
   "metadata": {},
   "outputs": [],
   "source": []
  },
  {
   "cell_type": "markdown",
   "metadata": {},
   "source": [
    "## Ce que vous devez savoir"
   ]
  },
  {
   "cell_type": "markdown",
   "metadata": {},
   "source": [
    "<div class=\"rq2\">\n",
    "    <ul>\n",
    "        <li>Modifier et exécuter des cellules dans <i>Jupyter Notebook</i>.</li>\n",
    "        <li>Être capable de suivre la valeur d'une variable au cours de l'exécution d'une séquence d'instructions, à la main ou à l'aide de <i>Tutor Magic</i>.</li>\n",
    "        <li>Écrire une instruction conditionnelle.</li>\n",
    "        <li>Faire un affichage à l'écran avec la fonction <code>print</code>.</li>\n",
    "        <li>Tirer un nombre entier au hasard avec la fonction <code>randint</code>.</li>\n",
    "        <li>Demander à l'utilisateur de saisir un entier au clavier avec la commande <code>int(input())</code>.</li>\n",
    "        <li>Écrire une boucle bornée de la forme <code>for variable in range(nombre):</code>.</li>\n",
    "        <li>Connaître la différence entre les expressions <code>range(a)</code>, <code>range(a, b)</code> et <code>range(a, b, c)</code>.</li>\n",
    "        <li>Écrire une boucle non bornée...</li>\n",
    "        <li>... mais pas une boucle infinie.</li>\n",
    "        <li>Utiliser correctement l'indentation pour définir les séquences d'instructions.</li>\n",
    "    </ul>\n",
    "</div>"
   ]
  }
 ],
 "metadata": {
  "celltoolbar": "Format de la Cellule Texte Brut",
  "kernelspec": {
   "display_name": "Python 3 (ipykernel)",
   "language": "python",
   "name": "python3"
  },
  "language_info": {
   "codemirror_mode": {
    "name": "ipython",
    "version": 3
   },
   "file_extension": ".py",
   "mimetype": "text/x-python",
   "name": "python",
   "nbconvert_exporter": "python",
   "pygments_lexer": "ipython3",
   "version": "3.9.12"
  }
 },
 "nbformat": 4,
 "nbformat_minor": 2
}
