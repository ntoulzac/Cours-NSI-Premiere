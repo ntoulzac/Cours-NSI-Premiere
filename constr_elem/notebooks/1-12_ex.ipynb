{
 "cells": [
  {
   "cell_type": "markdown",
   "metadata": {},
   "source": [
    "### Exercice 5"
   ]
  },
  {
   "cell_type": "code",
   "execution_count": null,
   "metadata": {},
   "outputs": [],
   "source": [
    "from carres_couleur import *"
   ]
  },
  {
   "cell_type": "markdown",
   "metadata": {},
   "source": [
    "**(1)** Exécuter la cellule suivante et représenter sous forme de tableau les valeurs successives contenues dans les variables `x`, `y`, `cpt` et `colonne`."
   ]
  },
  {
   "cell_type": "code",
   "execution_count": null,
   "metadata": {},
   "outputs": [],
   "source": [
    "x = -150\n",
    "y = -50\n",
    "cpt = 0\n",
    "for colonne in range(15):\n",
    "    dessiner_carre(x, y, 20, NOIR)\n",
    "    cpt = cpt + 1\n",
    "    x = x + 20\n",
    "    if cpt == 3:\n",
    "        cpt = 0\n",
    "        y = y + 20"
   ]
  },
  {
   "cell_type": "markdown",
   "metadata": {},
   "source": [
    "**(2)** Compléter les lignes de code ci-dessous pour obtenir le même affichage que précédemment."
   ]
  },
  {
   "cell_type": "code",
   "execution_count": null,
   "metadata": {},
   "outputs": [],
   "source": [
    "x = -150\n",
    "y = -50\n",
    "for ...... in range(5):\n",
    "    for ...... in range(3):\n",
    "        dessiner_carre(x, y, 20, ROUGE)\n",
    "        x = ......\n",
    "    y = ......"
   ]
  },
  {
   "cell_type": "markdown",
   "metadata": {},
   "source": [
    "**(3)** Faire de même pour les lignes de code ci-dessous."
   ]
  },
  {
   "cell_type": "code",
   "execution_count": null,
   "metadata": {},
   "outputs": [],
   "source": [
    "x = -150\n",
    "y = -50\n",
    "while ......:\n",
    "    for k in range(3):\n",
    "        dessiner_carre(x, y, 20, BLANC)\n",
    "        x = ......\n",
    "    y = ......"
   ]
  },
  {
   "cell_type": "markdown",
   "metadata": {},
   "source": [
    "Pour fermer la fenêtre _Turtle_, exécuter la cellule suivante :"
   ]
  },
  {
   "cell_type": "code",
   "execution_count": null,
   "metadata": {},
   "outputs": [],
   "source": [
    "turtle.bye()"
   ]
  }
 ],
 "metadata": {
  "celltoolbar": "Format de la Cellule Texte Brut",
  "kernelspec": {
   "display_name": "Python 3 (ipykernel)",
   "language": "python",
   "name": "python3"
  },
  "language_info": {
   "codemirror_mode": {
    "name": "ipython",
    "version": 3
   },
   "file_extension": ".py",
   "mimetype": "text/x-python",
   "name": "python",
   "nbconvert_exporter": "python",
   "pygments_lexer": "ipython3",
   "version": "3.9.12"
  }
 },
 "nbformat": 4,
 "nbformat_minor": 2
}
