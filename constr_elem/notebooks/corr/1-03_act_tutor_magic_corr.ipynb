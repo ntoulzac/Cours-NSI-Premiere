{
 "cells": [
  {
   "cell_type": "markdown",
   "metadata": {},
   "source": [
    "<div style='background-color: #87ceeb;\n",
    "    border: 0.5em solid black;\n",
    "    border-radius: 0.5em;\n",
    "    padding: 1em;'>\n",
    "    <h2>Activité 1-03</h2>\n",
    "    <h1>Utilisation de <i>Tutor Magic</i></h1>\n",
    "</div>"
   ]
  },
  {
   "cell_type": "markdown",
   "metadata": {},
   "source": [
    "On redonne l'algorithme suivant, vu dans l'exercice 1-02. La flèche `<--` symbolise une affectation.\n",
    "\n",
    "```\n",
    "a <-- 3\n",
    "b <-- 7\n",
    "a <-- a + b\n",
    "b <-- a - b\n",
    "a <-- a - b\n",
    "```\n",
    "\n",
    "**(1)** Traduire l'algorithme en Python puis utiliser l'outil _Tutor Magic_ pour suivre l'évolution des variables au cours de l'exécution."
   ]
  },
  {
   "cell_type": "code",
   "execution_count": null,
   "metadata": {},
   "outputs": [],
   "source": [
    "%load_ext tutormagic"
   ]
  },
  {
   "cell_type": "code",
   "execution_count": null,
   "metadata": {},
   "outputs": [],
   "source": [
    "%%tutor --lang python3 --heapPrimitives\n",
    "a = 3\n",
    "b = 7\n",
    "a = a + b\n",
    "b = a - b\n",
    "a = a - b"
   ]
  },
  {
   "cell_type": "markdown",
   "metadata": {},
   "source": [
    "**(2)** Recommencer avec d'autres valeurs initiales pour les variables `a` et `b`. Que peut-on constater ?"
   ]
  },
  {
   "cell_type": "code",
   "execution_count": null,
   "metadata": {},
   "outputs": [],
   "source": [
    "%%tutor --lang python3 --heapPrimitives\n",
    "a = 12\n",
    "b = -15\n",
    "a = a + b\n",
    "b = a - b\n",
    "a = a - b"
   ]
  },
  {
   "cell_type": "markdown",
   "metadata": {},
   "source": [
    "L'algorithme permet d'échanger la valeur des variables `a` et `b`."
   ]
  }
 ],
 "metadata": {
  "celltoolbar": "Format de la Cellule Texte Brut",
  "kernelspec": {
   "display_name": "Python 3 (ipykernel)",
   "language": "python",
   "name": "python3"
  },
  "language_info": {
   "codemirror_mode": {
    "name": "ipython",
    "version": 3
   },
   "file_extension": ".py",
   "mimetype": "text/x-python",
   "name": "python",
   "nbconvert_exporter": "python",
   "pygments_lexer": "ipython3",
   "version": "3.9.12"
  }
 },
 "nbformat": 4,
 "nbformat_minor": 2
}
