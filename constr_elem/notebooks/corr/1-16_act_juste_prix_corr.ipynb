{
 "cells": [
  {
   "cell_type": "markdown",
   "metadata": {},
   "source": [
    "<div style='background-color: #87ceeb;\n",
    "    border: 0.5em solid black;\n",
    "    border-radius: 0.5em;\n",
    "    padding: 1em;'>\n",
    "    <h2>Activité 1-16</h2>\n",
    "    <h1>Le jeu du Juste prix</h1>\n",
    "</div>"
   ]
  },
  {
   "cell_type": "markdown",
   "metadata": {},
   "source": [
    "Écrire des lignes de code permettant de réaliser une partie du jeu du _Juste Prix_, dont le principe est le suivant :\n",
    "\n",
    "- L'ordinateur tire un nombre entier au hasard entre 1000 et 2000 et le stocke dans une variable `prix`. Ce nombre correspond au prix que le joueur doit deviner.\n",
    "- Le joueur propose un prix en entrant au clavier un entier qui est stocké dans une variable `proposition`.\n",
    "- L'ordinateur annonce au joueur soit qu'il a trouvé le prix exact, soit que sa proposition est trop petite, soit qu'elle est trop grande.\n",
    "- Le joueur propose des nouveaux prix jusqu'à ce qu'il trouve le prix exact.\n",
    "- Le nombre de tentatives qui ont été nécessaires s'affiche à l'écran à la fin du jeu."
   ]
  },
  {
   "cell_type": "code",
   "execution_count": null,
   "metadata": {},
   "outputs": [],
   "source": [
    "from random import randint"
   ]
  },
  {
   "cell_type": "code",
   "execution_count": null,
   "metadata": {},
   "outputs": [],
   "source": [
    "prix = randint(1000, 2000)\n",
    "proposition = int(input(\"Saisir une proposition : \"))\n",
    "nb_tentatives = 1\n",
    "while proposition != prix:\n",
    "    if prix > proposition:\n",
    "        print(\"Le prix à deviner est plus haut !\")\n",
    "    else:\n",
    "        print(\"Le prix à deviner est plus bas !\")\n",
    "    proposition = int(input(\"Saisir une nouvelle proposition : \"))\n",
    "    nb_tentatives = nb_tentatives + 1\n",
    "print(f\"Bravo. Vous avez trouvé le prix exact en {nb_tentatives} tentative(s).\")"
   ]
  }
 ],
 "metadata": {
  "celltoolbar": "Format de la Cellule Texte Brut",
  "kernelspec": {
   "display_name": "Python 3 (ipykernel)",
   "language": "python",
   "name": "python3"
  },
  "language_info": {
   "codemirror_mode": {
    "name": "ipython",
    "version": 3
   },
   "file_extension": ".py",
   "mimetype": "text/x-python",
   "name": "python",
   "nbconvert_exporter": "python",
   "pygments_lexer": "ipython3",
   "version": "3.9.12"
  }
 },
 "nbformat": 4,
 "nbformat_minor": 2
}
