{
 "cells": [
  {
   "cell_type": "markdown",
   "metadata": {},
   "source": [
    "<div style='background-color: #e3a8b6;\n",
    "    border: 0.5em solid black;\n",
    "    border-radius: 0.5em;\n",
    "    padding: 1em;'>\n",
    "    <h2>Exercice 1-05</h2>\n",
    "    <h1>Différentes utilisations de <code>range</code></h1>\n",
    "</div>"
   ]
  },
  {
   "cell_type": "markdown",
   "metadata": {},
   "source": [
    "**(1)** Après avoir exécuté les cellules suivantes, expliquer dans quel cas utiliser `range(...)` avec un, deux ou trois arguments.\n",
    "\n",
    "À l'intérieur du `print`, l'argument optionnel `end=\" \"` permet de remplacer après chaque affichage un saut de ligne par une espace.\n",
    "\n",
    "***Exemples avec un argument***"
   ]
  },
  {
   "cell_type": "code",
   "execution_count": null,
   "metadata": {},
   "outputs": [],
   "source": [
    "for nombre in range(10):\n",
    "    print(nombre, end=\" \")"
   ]
  },
  {
   "cell_type": "code",
   "execution_count": null,
   "metadata": {},
   "outputs": [],
   "source": [
    "for nombre in range(40):\n",
    "    print(nombre, end=\" \")"
   ]
  },
  {
   "cell_type": "markdown",
   "metadata": {},
   "source": [
    "***Exemples avec deux arguments***"
   ]
  },
  {
   "cell_type": "code",
   "execution_count": null,
   "metadata": {},
   "outputs": [],
   "source": [
    "for nombre in range(5, 20):\n",
    "    print(nombre, end=\" \")"
   ]
  },
  {
   "cell_type": "code",
   "execution_count": null,
   "metadata": {},
   "outputs": [],
   "source": [
    "for nombre in range(-10, 10):\n",
    "    print(nombre, end=\" \")"
   ]
  },
  {
   "cell_type": "markdown",
   "metadata": {},
   "source": [
    "***Exemples avec trois arguments***"
   ]
  },
  {
   "cell_type": "code",
   "execution_count": null,
   "metadata": {},
   "outputs": [],
   "source": [
    "for nombre in range(3, 33, 5):\n",
    "    print(nombre, end=\" \")"
   ]
  },
  {
   "cell_type": "code",
   "execution_count": null,
   "metadata": {},
   "outputs": [],
   "source": [
    "for nombre in range(10, 0, -1):\n",
    "    print(nombre, end=\" \")"
   ]
  },
  {
   "cell_type": "markdown",
   "metadata": {},
   "source": [
    "- La boucle `for nombre in range(a)` permet que la variable `nombre` prenne successivement toutes les valeurs entières comprises entre `0` et `a-1` (dans le cas où `a > 0`).\n",
    "- La boucle `for nombre in range(a, b)` permet que la variable `nombre` prenne successivement toutes les valeurs entières comprises entre `a` et `b-1` (dans le cas où `b < a`).\n",
    "- La boucle `for nombre in range(a, b, c)` permet que la variable `nombre` prenne successivement toutes les valeurs entières comprises entre `a` et `b-1` avec un pas égal à `c` (dans le cas où `c` est du signe de `b-a`)."
   ]
  },
  {
   "cell_type": "markdown",
   "metadata": {},
   "source": [
    "**(2)** Ecrire des lignes de code permettant d'afficher dans l'ordre décroissant tous les entiers pairs compris entre 10 et 50."
   ]
  },
  {
   "cell_type": "code",
   "execution_count": null,
   "metadata": {},
   "outputs": [],
   "source": [
    "for nombre in range(50, 9, -2):\n",
    "    print(nombre, end=\" \")"
   ]
  }
 ],
 "metadata": {
  "celltoolbar": "Format de la Cellule Texte Brut",
  "kernelspec": {
   "display_name": "Python 3 (ipykernel)",
   "language": "python",
   "name": "python3"
  },
  "language_info": {
   "codemirror_mode": {
    "name": "ipython",
    "version": 3
   },
   "file_extension": ".py",
   "mimetype": "text/x-python",
   "name": "python",
   "nbconvert_exporter": "python",
   "pygments_lexer": "ipython3",
   "version": "3.9.12"
  }
 },
 "nbformat": 4,
 "nbformat_minor": 2
}
