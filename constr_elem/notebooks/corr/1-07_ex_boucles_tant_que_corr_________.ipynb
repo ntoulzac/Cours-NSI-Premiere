{
 "cells": [
  {
   "cell_type": "markdown",
   "metadata": {},
   "source": [
    "<div style='background-color: #e3a8b6;\n",
    "    border: 0.5em solid black;\n",
    "    border-radius: 0.5em;\n",
    "    padding: 1em;'>\n",
    "    <h2>Exercice 1-07</h2>\n",
    "    <h1>Boucles non bornées</h1>\n",
    "</div>"
   ]
  },
  {
   "cell_type": "markdown",
   "metadata": {},
   "source": [
    "**(1)** On calcule la somme des entiers de `1` à `n`. Quelle est la plus petite valeur de `n` pour laquelle cette somme est supérieure ou égale à `1000000` ?"
   ]
  },
  {
   "cell_type": "code",
   "execution_count": 1,
   "metadata": {},
   "outputs": [
    {
     "name": "stdout",
     "output_type": "stream",
     "text": [
      "1414\n"
     ]
    }
   ],
   "source": [
    "somme = 0\n",
    "n = 0\n",
    "while somme < 1000000:\n",
    "    n = n + 1\n",
    "    somme = somme + n\n",
    "print(n)"
   ]
  },
  {
   "cell_type": "markdown",
   "metadata": {},
   "source": [
    "**(2)** On calcule la somme des nombres de la forme $\\dfrac{1}{k}$ pour $1 \\leq k \\leq n$. Quelle est la plus petite valeur de `n` pour laquelle cette somme est supérieure ou égale à `15` ?"
   ]
  },
  {
   "cell_type": "code",
   "execution_count": 2,
   "metadata": {},
   "outputs": [
    {
     "name": "stdout",
     "output_type": "stream",
     "text": [
      "1835421\n"
     ]
    }
   ],
   "source": [
    "somme = 0\n",
    "n = 0\n",
    "while somme < 15:\n",
    "    n = n + 1\n",
    "    somme = somme + 1/n\n",
    "print(n)"
   ]
  },
  {
   "cell_type": "markdown",
   "metadata": {},
   "source": [
    "**(3)** Au cours d'une expérience, une population de bactéries augmente de 4% toutes les heures. Au bout de combien d'heures la population de bactéries aura-t-elle été multipliée par 10 ?"
   ]
  },
  {
   "cell_type": "code",
   "execution_count": 3,
   "metadata": {},
   "outputs": [
    {
     "name": "stdout",
     "output_type": "stream",
     "text": [
      "59\n"
     ]
    }
   ],
   "source": [
    "population = 1\n",
    "temps = 0\n",
    "while population < 10:\n",
    "    population = population * 1.04\n",
    "    temps = temps + 1\n",
    "print(temps)"
   ]
  }
 ],
 "metadata": {
  "celltoolbar": "Format de la Cellule Texte Brut",
  "kernelspec": {
   "display_name": "Python 3 (ipykernel)",
   "language": "python",
   "name": "python3"
  },
  "language_info": {
   "codemirror_mode": {
    "name": "ipython",
    "version": 3
   },
   "file_extension": ".py",
   "mimetype": "text/x-python",
   "name": "python",
   "nbconvert_exporter": "python",
   "pygments_lexer": "ipython3",
   "version": "3.9.12"
  }
 },
 "nbformat": 4,
 "nbformat_minor": 2
}
