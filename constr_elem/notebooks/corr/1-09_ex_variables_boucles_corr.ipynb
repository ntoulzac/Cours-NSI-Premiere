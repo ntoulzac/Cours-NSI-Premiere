{
 "cells": [
  {
   "cell_type": "markdown",
   "metadata": {},
   "source": [
    "<div style='background-color: #e3a8b6;\n",
    "    border: 0.5em solid black;\n",
    "    border-radius: 0.5em;\n",
    "    padding: 1em;'>\n",
    "    <h2>Exercice 1-09</h2>\n",
    "    <h1>Variables et boucles</h1>\n",
    "</div>"
   ]
  },
  {
   "cell_type": "markdown",
   "metadata": {},
   "source": [
    "**(1)** Quelle est la valeur de la variable `a` à la fin de l'exécution de la cellule suivante ? Justifier avec un tableau de valeurs."
   ]
  },
  {
   "cell_type": "code",
   "execution_count": null,
   "metadata": {},
   "outputs": [],
   "source": [
    "a = 1\n",
    "b = 5\n",
    "while b > 1:\n",
    "    a = a * b\n",
    "    b = b - 1"
   ]
  },
  {
   "cell_type": "markdown",
   "metadata": {},
   "source": [
    "La variable `a` a pour valeur `120` à la fin de l'exécution.\n",
    "\n",
    "Ligne de code       | a   | b   | Test\n",
    ":------------------:|:---:|:---:|:------:\n",
    "`a = 1`             | 1   |     |\n",
    "`b = 5`             | 1   | 5   |\n",
    "`while b > 1:`      |     |     | Vrai\n",
    "`a = a * b`         | 5   | 5   |\n",
    "`b = b - 1`         | 5   | 4   |\n",
    "`while b > 1:`      |     |     | Vrai\n",
    "`a = a * b`         | 20  | 4   |\n",
    "`b = b - 1`         | 20  | 3   |\n",
    "`while b > 1:`      |     |     | Vrai\n",
    "`a = a * b`         | 60  | 3   |\n",
    "`b = b - 1`         | 60  | 2   |\n",
    "`while b > 1:`      |     |     | Vrai\n",
    "`a = a * b`         | 120 | 2   |\n",
    "`b = b - 1`         | 120 | 1   |\n",
    "`while b > 1:`      |     |     | Faux"
   ]
  },
  {
   "cell_type": "markdown",
   "metadata": {},
   "source": [
    "**(2)** Quelle est la valeur de la variable `c` à la fin de l'exécution de la cellule suivante ? Justifier avec un tableau de valeurs."
   ]
  },
  {
   "cell_type": "code",
   "execution_count": null,
   "metadata": {},
   "outputs": [],
   "source": [
    "c = 0\n",
    "for d in range(2):\n",
    "    c = c + d\n",
    "    for e in range(2, 5):\n",
    "        c = c + e"
   ]
  },
  {
   "cell_type": "markdown",
   "metadata": {},
   "source": [
    "La variable `c` a pour valeur `19` à la fin de l'exécution.\n",
    "\n",
    "Ligne de code          | c   | d   | e\n",
    ":---------------------:|:---:|:---:|:---:\n",
    "`c = 0`                | 0   |     |\n",
    "`for d in range(2):`   | 0   | 0   |\n",
    "`c = c + d`            | 0   | 0   |\n",
    "`for e in range(2, 5):`| 0   | 0   | 2\n",
    "`c = c + e`            | 2   | 0   | 2\n",
    "`for e in range(2, 5):`| 2   | 0   | 3\n",
    "`c = c + e`            | 5   | 0   | 3\n",
    "`for e in range(2, 5):`| 5   | 0   | 4\n",
    "`c = c + e`            | 9   | 0   | 4\n",
    "`for d in range(2):`   | 9   | 1   |\n",
    "`c = c + d`            | 10  | 1   |\n",
    "`for e in range(2, 5):`| 10  | 1   | 2\n",
    "`c = c + e`            | 12  | 1   | 2\n",
    "`for e in range(2, 5):`| 12  | 1   | 3\n",
    "`c = c + e`            | 15  | 1   | 3\n",
    "`for e in range(2, 5):`| 15  | 1   | 4\n",
    "`c = c + e`            | 19  | 1   | 4"
   ]
  }
 ],
 "metadata": {
  "celltoolbar": "Format de la Cellule Texte Brut",
  "kernelspec": {
   "display_name": "Python 3 (ipykernel)",
   "language": "python",
   "name": "python3"
  },
  "language_info": {
   "codemirror_mode": {
    "name": "ipython",
    "version": 3
   },
   "file_extension": ".py",
   "mimetype": "text/x-python",
   "name": "python",
   "nbconvert_exporter": "python",
   "pygments_lexer": "ipython3",
   "version": "3.9.12"
  }
 },
 "nbformat": 4,
 "nbformat_minor": 2
}
