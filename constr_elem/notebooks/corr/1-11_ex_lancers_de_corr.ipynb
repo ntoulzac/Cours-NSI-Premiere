{
 "cells": [
  {
   "cell_type": "markdown",
   "metadata": {},
   "source": [
    "<div style='background-color: #e3a8b6;\n",
    "    border: 0.5em solid black;\n",
    "    border-radius: 0.5em;\n",
    "    padding: 1em;'>\n",
    "    <h2>Exercice 1-11</h2>\n",
    "    <h1>Lancers d'un dé</h1>\n",
    "</div>"
   ]
  },
  {
   "cell_type": "markdown",
   "metadata": {},
   "source": [
    "Voici les règles d'un jeu, au cours duquel l'ordinateur va simuler plusieurs lancers d'un dé équilibré :\n",
    "- L'ordinateur demande au joueur de saisir au clavier un entier ``nb_tirages`` compris entre 10 et 100. C'est le nombre de lancers souhaités.\n",
    "- L'ordinateur tire au hasard plusieurs fois de suite un entier compris entre 1 et 6, autant de fois que le joueur l'a décidé.\n",
    "- L'ordinateur compte le nombre total de fois où le dé est tombé sur 6.\n",
    "- Si la proportion de 6 est supérieure ou égale à 17%, le message \"Bravo, vous avez gagné\" apparaît à l'écran. Dans le cas contraire, c'est le message \"Dommage, vous avez perdu\" qui apparaît à l'écran.\n",
    "\n",
    "Coder ce jeu."
   ]
  },
  {
   "cell_type": "code",
   "execution_count": 1,
   "metadata": {},
   "outputs": [],
   "source": [
    "from random import randint"
   ]
  },
  {
   "cell_type": "code",
   "execution_count": 7,
   "metadata": {},
   "outputs": [
    {
     "name": "stdout",
     "output_type": "stream",
     "text": [
      "Saisir un entier compris entre 10 et 100 : 100\n",
      "Dommage, vous avez perdu\n"
     ]
    }
   ],
   "source": [
    "nb_tirages = int(input(\"Saisir un entier compris entre 10 et 100 : \"))\n",
    "cpt_6 = 0\n",
    "for k in range(nb_tirages):\n",
    "    de = randint(1, 6)\n",
    "    if de == 6:\n",
    "        cpt_6 = cpt_6 + 1\n",
    "if cpt_6 / nb_tirages >= 0.17:\n",
    "    print(\"Bravo, vous avez gagné\")\n",
    "else:\n",
    "    print(\"Dommage, vous avez perdu\")"
   ]
  }
 ],
 "metadata": {
  "celltoolbar": "Format de la Cellule Texte Brut",
  "kernelspec": {
   "display_name": "Python 3 (ipykernel)",
   "language": "python",
   "name": "python3"
  },
  "language_info": {
   "codemirror_mode": {
    "name": "ipython",
    "version": 3
   },
   "file_extension": ".py",
   "mimetype": "text/x-python",
   "name": "python",
   "nbconvert_exporter": "python",
   "pygments_lexer": "ipython3",
   "version": "3.9.12"
  }
 },
 "nbformat": 4,
 "nbformat_minor": 2
}
