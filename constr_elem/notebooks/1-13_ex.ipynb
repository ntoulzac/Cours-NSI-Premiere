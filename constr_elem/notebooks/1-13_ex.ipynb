{
 "cells": [
  {
   "cell_type": "markdown",
   "metadata": {},
   "source": [
    "### Exercice 6"
   ]
  },
  {
   "cell_type": "code",
   "execution_count": null,
   "metadata": {},
   "outputs": [],
   "source": [
    "from carres_couleur import *"
   ]
  },
  {
   "cell_type": "markdown",
   "metadata": {},
   "source": [
    "**(1)** En utilisant la fonction `dessiner_carre`, écrire une séquence d'instruction permettant d'afficher des carrés de taille aléatoire (comprise entre 10 et 100 pixels de côté). La position des carrés sera également aléatoire. De plus, l'affichage devra s'arrêter dès lors qu'un carré de taille supérieure ou égale à 95 pixels aura été dessiné. Enfin, le nombre total de carrés dessinés sera affiché à l'écran."
   ]
  },
  {
   "cell_type": "code",
   "execution_count": null,
   "metadata": {},
   "outputs": [],
   "source": []
  },
  {
   "cell_type": "markdown",
   "metadata": {},
   "source": [
    "<img src='https://ntoulzac.github.io/Cours-NSI-Terminale/premiere_NSI/Images/carres.png' width='40%'>"
   ]
  },
  {
   "cell_type": "markdown",
   "metadata": {},
   "source": [
    "**(2)** En utilisant la fonction `dessiner_carre`, écrire deux séquences d'instructions permettant d'obtenir les affichages suivants."
   ]
  },
  {
   "cell_type": "markdown",
   "metadata": {},
   "source": [
    "<table><tr><td>\n",
    "    <img src='https://ntoulzac.github.io/Cours-NSI-Terminale/premiere_NSI/Images/drapeau.png'></td><td><img src='https://ntoulzac.github.io/Cours-NSI-Terminale/premiere_NSI/Images/damier.png'>\n",
    "    </td></tr></table>"
   ]
  },
  {
   "cell_type": "code",
   "execution_count": null,
   "metadata": {},
   "outputs": [],
   "source": []
  },
  {
   "cell_type": "code",
   "execution_count": null,
   "metadata": {},
   "outputs": [],
   "source": []
  }
 ],
 "metadata": {
  "celltoolbar": "Format de la Cellule Texte Brut",
  "kernelspec": {
   "display_name": "Python 3 (ipykernel)",
   "language": "python",
   "name": "python3"
  },
  "language_info": {
   "codemirror_mode": {
    "name": "ipython",
    "version": 3
   },
   "file_extension": ".py",
   "mimetype": "text/x-python",
   "name": "python",
   "nbconvert_exporter": "python",
   "pygments_lexer": "ipython3",
   "version": "3.9.12"
  }
 },
 "nbformat": 4,
 "nbformat_minor": 2
}
