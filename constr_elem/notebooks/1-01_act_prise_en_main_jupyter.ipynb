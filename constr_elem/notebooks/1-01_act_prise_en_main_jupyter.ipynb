{
 "cells": [
  {
   "cell_type": "markdown",
   "metadata": {},
   "source": [
    "<div style='background-color: #87ceeb;\n",
    "    border: 0.5em solid black;\n",
    "    border-radius: 0.5em;\n",
    "    padding: 1em;'>\n",
    "    <h2>Activité 1-01</h2>\n",
    "    <h1>Prise en main de <i>Jupyter</i></h1>\n",
    "</div>"
   ]
  },
  {
   "cell_type": "markdown",
   "metadata": {},
   "source": [
    "Un document *Jupyter Notebook* est un fichier (extension `.ipynb`) composé de cellules dans lesquelles il est possible d'écrire, dans le langage de programmation Python, des **expressions** qui peuvent être **évaluées** et des **instructions** qui peuvent être **exécutées** en appuyant sur les touches `Majuscule` et `Entrée`.\n",
    "\n",
    "La valeur des expressions apparait sous la cellule, de même que d'éventuels affichages (obtenus via la fonction `print`).\n",
    "\n",
    "**(1)** Appuyer sur `Majuscule` et `Entrée` pour chacune des trois cellules suivantes.\n",
    "\n",
    "#### Première cellule"
   ]
  },
  {
   "cell_type": "code",
   "execution_count": null,
   "metadata": {},
   "outputs": [],
   "source": [
    "4 * 8 # Ceci est une expression"
   ]
  },
  {
   "cell_type": "markdown",
   "metadata": {},
   "source": [
    "Lorsqu'on exécute dans _Jupyter_ une cellule contenant une **expression**, l'expression est **évaluée** et sa valeur s'affiche sous la cellule.\n",
    "\n",
    "#### Deuxième cellule"
   ]
  },
  {
   "cell_type": "code",
   "execution_count": null,
   "metadata": {},
   "outputs": [],
   "source": [
    "nom = 'Toulzac' # Ceci est une instruction, appelée affectation (voir plus bas)"
   ]
  },
  {
   "cell_type": "markdown",
   "metadata": {},
   "source": [
    "Lorsqu'on exécute dans _Jupyter_ une cellule contenant une **instruction**, aucun affichage n'apparaît sous la cellule. En revanche, l'état de la mémoire de l'ordinateur a été modifié.\n",
    "\n",
    "#### Troisième cellule"
   ]
  },
  {
   "cell_type": "code",
   "execution_count": null,
   "metadata": {},
   "outputs": [],
   "source": [
    "print('Le nom du professeur est', nom) # Ceci est un affichage à l'écran"
   ]
  },
  {
   "cell_type": "markdown",
   "metadata": {},
   "source": [
    "La fonction `print` permet d'**afficher** sous la cellule un message et/ou la valeur d'une variable."
   ]
  },
  {
   "cell_type": "markdown",
   "metadata": {},
   "source": [
    "Il est possible de modifier les lignes de code, et de les exécuter à nouveau.\n",
    "\n",
    "**(2)** Remplacer le nom du professeur par votre nom, puis appuyer sur ``Majuscule`` et ``Entrée``."
   ]
  },
  {
   "cell_type": "code",
   "execution_count": null,
   "metadata": {},
   "outputs": [],
   "source": [
    "nom = 'Monsieur Toulzac'\n",
    "print('Mon nom est', nom)"
   ]
  },
  {
   "cell_type": "markdown",
   "metadata": {},
   "source": [
    "**(3)** Après avoir lu le code écrit dans la cellule ci-dessous, lister quelles sont les expressions et les instructions qui apparaissent."
   ]
  },
  {
   "cell_type": "code",
   "execution_count": null,
   "metadata": {},
   "outputs": [],
   "source": [
    "nombre = 6\n",
    "nombre = nombre + 3\n",
    "carre = nombre * nombre\n",
    "print(carre)"
   ]
  },
  {
   "cell_type": "markdown",
   "metadata": {},
   "source": [
    "_Réponse..._"
   ]
  },
  {
   "cell_type": "markdown",
   "metadata": {},
   "source": [
    "<div style='background-color: #87ceeb;\n",
    "    border-radius: 0.5em;\n",
    "    padding: 1em;'>\n",
    "    <h2>Boutons et menu d'un carnet <i>Jupyter</i></h2>\n",
    "</div>"
   ]
  },
  {
   "cell_type": "markdown",
   "metadata": {},
   "source": [
    "![Boutons Jupyter](https://ntoulzac.github.io/Cours-NSI-Premiere/constr_elem/images/boutons_Jupyter.png)\n",
    "\n",
    "Voici les boutons qu'il faut savoir utiliser :\n",
    "\n",
    "- Bouton 1 : Permet d'enregistrer les modifications apportées au carnet.\n",
    "- Bouton 2 : Permet d'ajouter une nouvelle cellule au dessous de la cellule courante.\n",
    "- Bouton 3 : Permet de couper la cellule courante, c'est-à-dire la supprimer en la gardant provisoirement en mémoire.\n",
    "- Bouton 4 : Permet de copier la cellule courante.\n",
    "- Bouton 5 : Permet de coller sous la cellule courante une cellule précédemment coupée ou copiée.\n",
    "- Bouton 6 : Permet de déplacer la cellule courante vers le haut.\n",
    "- Bouton 7 : Permet de déplacer la cellule courante vers le bas.\n",
    "- Bouton 8 : Permet d'exécuter la cellule courante, comme lorsqu'on appuie sur les touches ``Majuscule`` et ``Entrée``.\n",
    "- Bouton 9 : Permet d'arrêter le noyau en cas de problème d'exécution d'une cellule, par exemple en cas de boucle infinie.\n",
    "- Bouton 10 : Permet de redémarrer le noyau en cas de problème.\n",
    "- Bouton 11 : Permet de redémarrer le noyau et d'exécuter toute les cellules du carnet.\n",
    "- Bouton 12 : Permet de choisir le type de cellule : `Code` pour écrire du code Python exécutable, `Markdown` pour écrire du texte non exécutable."
   ]
  },
  {
   "cell_type": "markdown",
   "metadata": {},
   "source": [
    "<div style='background-color: #87ceeb;\n",
    "    border-radius: 0.5em;\n",
    "    padding: 1em;'>\n",
    "    <h2>Avant d'aller plus loin...</h2>\n",
    "</div>"
   ]
  },
  {
   "cell_type": "markdown",
   "metadata": {},
   "source": [
    "Tout au long de l'année, vous serez amenés à utiliser un certain nombre de **modules complémentaires** qui ne sont pas disponibles nativement sur votre machine.\n",
    "\n",
    "Vous pouvez néanmoins les installer en exécutant les cellules ci-dessous."
   ]
  },
  {
   "cell_type": "code",
   "execution_count": null,
   "metadata": {},
   "outputs": [],
   "source": [
    "from sys import executable"
   ]
  },
  {
   "cell_type": "code",
   "execution_count": null,
   "metadata": {},
   "outputs": [],
   "source": [
    "!{executable} -m pip install pip --upgrade"
   ]
  },
  {
   "cell_type": "code",
   "execution_count": null,
   "metadata": {},
   "outputs": [],
   "source": [
    "!{executable} -m pip install tutormagic --upgrade"
   ]
  },
  {
   "cell_type": "code",
   "execution_count": null,
   "metadata": {},
   "outputs": [],
   "source": [
    "!{executable} -m pip install pygame --upgrade"
   ]
  },
  {
   "cell_type": "code",
   "execution_count": null,
   "metadata": {},
   "outputs": [],
   "source": [
    "!{executable} -m pip install folium --upgrade"
   ]
  },
  {
   "cell_type": "code",
   "execution_count": null,
   "metadata": {},
   "outputs": [],
   "source": [
    "!{executable} -m pip install pyxel --upgrade"
   ]
  },
  {
   "cell_type": "code",
   "execution_count": null,
   "metadata": {},
   "outputs": [],
   "source": [
    "!{executable} -m pip install pycairo --upgrade"
   ]
  },
  {
   "cell_type": "code",
   "execution_count": null,
   "metadata": {},
   "outputs": [],
   "source": [
    "!{executable} -m pip install cairosvg --upgrade"
   ]
  },
  {
   "cell_type": "code",
   "execution_count": null,
   "metadata": {},
   "outputs": [],
   "source": [
    "!{executable} -m pip install pyxel --upgrade"
   ]
  }
 ],
 "metadata": {
  "celltoolbar": "Format de la Cellule Texte Brut",
  "kernelspec": {
   "display_name": "Python 3 (ipykernel)",
   "language": "python",
   "name": "python3"
  },
  "language_info": {
   "codemirror_mode": {
    "name": "ipython",
    "version": 3
   },
   "file_extension": ".py",
   "mimetype": "text/x-python",
   "name": "python",
   "nbconvert_exporter": "python",
   "pygments_lexer": "ipython3",
   "version": "3.9.12"
  }
 },
 "nbformat": 4,
 "nbformat_minor": 2
}
