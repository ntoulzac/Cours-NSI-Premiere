{
 "cells": [
  {
   "cell_type": "markdown",
   "metadata": {},
   "source": [
    "<div style='background-color: #87ceeb;\n",
    "    border: 0.5em solid black;\n",
    "    border-radius: 0.5em;\n",
    "    padding: 1em;'>\n",
    "    <h2>Activité 1-1</h2>\n",
    "    <h1>Prise en main de <i>Jupyter</i></h1>\n",
    "</div>"
   ]
  },
  {
   "cell_type": "markdown",
   "metadata": {},
   "source": [
    "Un document *Jupyter Notebook* est un fichier (extension ``.ipynb``) composé de cellules dans lesquelles il est possible d'écrire, dans le langage de programmation Python, des **expressions** qui peuvent être **évaluées** et des **instructions** qui peuvent être **exécutées** en appuyant sur les touches ``Majuscule`` et ``Entrée``.\n",
    "\n",
    "La valeur des expressions apparait sous la cellule, de même que d'éventuels affichages (obtenus via la fonction ``print``).\n",
    "\n",
    "**(1)** Appuyer sur ``Majuscule`` et ``Entrée`` pour chacune des trois cellules suivantes.\n",
    "\n",
    "#### Première cellule"
   ]
  },
  {
   "cell_type": "code",
   "execution_count": null,
   "metadata": {},
   "outputs": [],
   "source": [
    "4 * 8 # Ceci est une expression"
   ]
  },
  {
   "cell_type": "markdown",
   "metadata": {},
   "source": [
    "Lorsqu'on exécute dans _Jupyter_ une cellule contenant une **expression**, l'expression est **évaluée** et sa valeur s'affiche sous la cellule.\n",
    "\n",
    "#### Deuxième cellule"
   ]
  },
  {
   "cell_type": "code",
   "execution_count": null,
   "metadata": {},
   "outputs": [],
   "source": [
    "nom = 'Toulzac' # Ceci est une instruction, appelée affectation (voir plus bas)"
   ]
  },
  {
   "cell_type": "markdown",
   "metadata": {},
   "source": [
    "Lorsqu'on exécute dans _Jupyter_ une cellule contenant une **instruction**, aucun affichage n'apparaît sous la cellule. En revanche, l'état de la mémoire de l'ordinateur a été modifié.\n",
    "\n",
    "#### Troisième cellule"
   ]
  },
  {
   "cell_type": "code",
   "execution_count": null,
   "metadata": {},
   "outputs": [],
   "source": [
    "print('Le nom du professeur est', nom) # Ceci est un affichage à l'écran"
   ]
  },
  {
   "cell_type": "markdown",
   "metadata": {},
   "source": [
    "La fonction `print` permet d'**afficher** sous la cellule un message et/ou la valeur d'une variable."
   ]
  },
  {
   "cell_type": "markdown",
   "metadata": {},
   "source": [
    "Il est possible de modifier les lignes de code, et de les exécuter à nouveau.\n",
    "\n",
    "**(2)** Remplacer le nom du professeur par votre nom, puis appuyer sur ``Majuscule`` et ``Entrée``."
   ]
  },
  {
   "cell_type": "code",
   "execution_count": null,
   "metadata": {},
   "outputs": [],
   "source": [
    "nom = 'Monsieur Toulzac'\n",
    "print('Mon nom est', nom)"
   ]
  },
  {
   "cell_type": "markdown",
   "metadata": {},
   "source": [
    "**(3)** Après avoir lu le code écrit dans la cellule ci-dessous, lister quelles sont les expressions et les instructions qui apparaissent."
   ]
  },
  {
   "cell_type": "code",
   "execution_count": null,
   "metadata": {},
   "outputs": [],
   "source": [
    "nombre = 6\n",
    "nombre = nombre + 3\n",
    "carre = nombre * nombre\n",
    "print(carre)"
   ]
  },
  {
   "cell_type": "markdown",
   "metadata": {},
   "source": [
    "_Réponse..._"
   ]
  },
  {
   "cell_type": "markdown",
   "metadata": {},
   "source": [
    "<div style='background-color: #87ceeb;\n",
    "    border-radius: 0.5em;\n",
    "    padding: 1em;'>\n",
    "    <h2>Boutons et menu d'un carnet <i>Jupyter</i></h2>\n",
    "</div>"
   ]
  },
  {
   "cell_type": "markdown",
   "metadata": {},
   "source": [
    "Voici les boutons dont il faut connaître le rôle :\n",
    "\n",
    "[Boutons Jupyter](https://ntoulzac.github.io/Cours-NSI-Premiere/constr_elem/images/boutons_Jupyter.png)"
   ]
  },
  {
   "cell_type": "code",
   "execution_count": null,
   "metadata": {},
   "outputs": [],
   "source": []
  },
  {
   "cell_type": "code",
   "execution_count": null,
   "metadata": {},
   "outputs": [],
   "source": []
  },
  {
   "cell_type": "markdown",
   "metadata": {},
   "source": [
    "<div style='background-color: #87ceeb;\n",
    "    border-radius: 0.5em;\n",
    "    padding: 1em;'>\n",
    "    <h2>Avant d'aller plus loin...</h2>\n",
    "</div>"
   ]
  },
  {
   "cell_type": "markdown",
   "metadata": {},
   "source": [
    "Tout au long de l'année, vous serez amenés à utiliser un certain nombre de **modules complémentaires** qui ne sont pas disponibles nativement sur votre machine.\n",
    "\n",
    "Vous pouvez néanmoins les installer en exécutant les cellules ci-dessous."
   ]
  },
  {
   "cell_type": "code",
   "execution_count": 2,
   "metadata": {},
   "outputs": [],
   "source": [
    "from sys import executable"
   ]
  },
  {
   "cell_type": "code",
   "execution_count": null,
   "metadata": {},
   "outputs": [],
   "source": [
    "!{executable} -m pip install pip --upgrade"
   ]
  },
  {
   "cell_type": "code",
   "execution_count": 3,
   "metadata": {},
   "outputs": [
    {
     "name": "stdout",
     "output_type": "stream",
     "text": [
      "Defaulting to user installation because normal site-packages is not writeable\n",
      "Requirement already satisfied: tutormagic in c:\\users\\nicolas\\appdata\\roaming\\python\\python39\\site-packages (0.3.1)\n",
      "Requirement already satisfied: jupyter>=1.0 in c:\\programdata\\anaconda3\\lib\\site-packages (from tutormagic) (1.0.0)\n",
      "Requirement already satisfied: notebook in c:\\users\\nicolas\\appdata\\roaming\\python\\python39\\site-packages (from jupyter>=1.0->tutormagic) (6.5.2)\n",
      "Requirement already satisfied: qtconsole in c:\\programdata\\anaconda3\\lib\\site-packages (from jupyter>=1.0->tutormagic) (5.3.0)\n",
      "Requirement already satisfied: jupyter-console in c:\\programdata\\anaconda3\\lib\\site-packages (from jupyter>=1.0->tutormagic) (6.4.0)\n",
      "Requirement already satisfied: nbconvert in c:\\users\\nicolas\\appdata\\roaming\\python\\python39\\site-packages (from jupyter>=1.0->tutormagic) (7.2.7)\n",
      "Requirement already satisfied: ipykernel in c:\\users\\nicolas\\appdata\\roaming\\python\\python39\\site-packages (from jupyter>=1.0->tutormagic) (6.19.3)\n",
      "Requirement already satisfied: ipywidgets in c:\\users\\nicolas\\appdata\\roaming\\python\\python39\\site-packages (from jupyter>=1.0->tutormagic) (8.0.3)\n",
      "Requirement already satisfied: comm>=0.1.1 in c:\\users\\nicolas\\appdata\\roaming\\python\\python39\\site-packages (from ipykernel->jupyter>=1.0->tutormagic) (0.1.2)\n",
      "Requirement already satisfied: debugpy>=1.0 in c:\\programdata\\anaconda3\\lib\\site-packages (from ipykernel->jupyter>=1.0->tutormagic) (1.5.1)\n",
      "Requirement already satisfied: ipython>=7.23.1 in c:\\users\\nicolas\\appdata\\roaming\\python\\python39\\site-packages (from ipykernel->jupyter>=1.0->tutormagic) (7.34.0)\n",
      "Requirement already satisfied: jupyter-client>=6.1.12 in c:\\users\\nicolas\\appdata\\roaming\\python\\python39\\site-packages (from ipykernel->jupyter>=1.0->tutormagic) (7.4.8)\n",
      "Requirement already satisfied: matplotlib-inline>=0.1 in c:\\users\\nicolas\\appdata\\roaming\\python\\python39\\site-packages (from ipykernel->jupyter>=1.0->tutormagic) (0.1.6)\n",
      "Requirement already satisfied: nest-asyncio in c:\\programdata\\anaconda3\\lib\\site-packages (from ipykernel->jupyter>=1.0->tutormagic) (1.5.5)\n",
      "Requirement already satisfied: packaging in c:\\programdata\\anaconda3\\lib\\site-packages (from ipykernel->jupyter>=1.0->tutormagic) (21.3)\n",
      "Requirement already satisfied: psutil in c:\\programdata\\anaconda3\\lib\\site-packages (from ipykernel->jupyter>=1.0->tutormagic) (5.8.0)\n",
      "Requirement already satisfied: pyzmq>=17 in c:\\users\\nicolas\\appdata\\roaming\\python\\python39\\site-packages (from ipykernel->jupyter>=1.0->tutormagic) (24.0.1)\n",
      "Requirement already satisfied: tornado>=6.1 in c:\\users\\nicolas\\appdata\\roaming\\python\\python39\\site-packages (from ipykernel->jupyter>=1.0->tutormagic) (6.2)\n",
      "Requirement already satisfied: traitlets>=5.4.0 in c:\\users\\nicolas\\appdata\\roaming\\python\\python39\\site-packages (from ipykernel->jupyter>=1.0->tutormagic) (5.8.0)\n",
      "Requirement already satisfied: widgetsnbextension~=4.0 in c:\\users\\nicolas\\appdata\\roaming\\python\\python39\\site-packages (from ipywidgets->jupyter>=1.0->tutormagic) (4.0.4)\n",
      "Requirement already satisfied: jupyterlab-widgets~=3.0 in c:\\users\\nicolas\\appdata\\roaming\\python\\python39\\site-packages (from ipywidgets->jupyter>=1.0->tutormagic) (3.0.4)\n",
      "Requirement already satisfied: prompt-toolkit!=3.0.0,!=3.0.1,<3.1.0,>=2.0.0 in c:\\programdata\\anaconda3\\lib\\site-packages (from jupyter-console->jupyter>=1.0->tutormagic) (3.0.20)\n",
      "Requirement already satisfied: pygments in c:\\users\\nicolas\\appdata\\roaming\\python\\python39\\site-packages (from jupyter-console->jupyter>=1.0->tutormagic) (2.13.0)\n",
      "Requirement already satisfied: beautifulsoup4 in c:\\programdata\\anaconda3\\lib\\site-packages (from nbconvert->jupyter>=1.0->tutormagic) (4.11.1)\n",
      "Requirement already satisfied: bleach in c:\\programdata\\anaconda3\\lib\\site-packages (from nbconvert->jupyter>=1.0->tutormagic) (4.1.0)\n",
      "Requirement already satisfied: defusedxml in c:\\programdata\\anaconda3\\lib\\site-packages (from nbconvert->jupyter>=1.0->tutormagic) (0.7.1)\n",
      "Requirement already satisfied: importlib-metadata>=3.6 in c:\\programdata\\anaconda3\\lib\\site-packages (from nbconvert->jupyter>=1.0->tutormagic) (4.11.3)\n",
      "Requirement already satisfied: jinja2>=3.0 in c:\\users\\nicolas\\appdata\\roaming\\python\\python39\\site-packages (from nbconvert->jupyter>=1.0->tutormagic) (3.1.2)\n",
      "Requirement already satisfied: jupyter-core>=4.7 in c:\\users\\nicolas\\appdata\\roaming\\python\\python39\\site-packages (from nbconvert->jupyter>=1.0->tutormagic) (5.1.0)\n",
      "Requirement already satisfied: jupyterlab-pygments in c:\\programdata\\anaconda3\\lib\\site-packages (from nbconvert->jupyter>=1.0->tutormagic) (0.1.2)\n",
      "Requirement already satisfied: markupsafe>=2.0 in c:\\users\\nicolas\\appdata\\roaming\\python\\python39\\site-packages (from nbconvert->jupyter>=1.0->tutormagic) (2.1.1)\n",
      "Requirement already satisfied: mistune<3,>=2.0.3 in c:\\users\\nicolas\\appdata\\roaming\\python\\python39\\site-packages (from nbconvert->jupyter>=1.0->tutormagic) (2.0.4)\n",
      "Requirement already satisfied: nbclient>=0.5.0 in c:\\users\\nicolas\\appdata\\roaming\\python\\python39\\site-packages (from nbconvert->jupyter>=1.0->tutormagic) (0.7.2)\n",
      "Requirement already satisfied: nbformat>=5.1 in c:\\users\\nicolas\\appdata\\roaming\\python\\python39\\site-packages (from nbconvert->jupyter>=1.0->tutormagic) (5.7.1)\n",
      "Requirement already satisfied: pandocfilters>=1.4.1 in c:\\programdata\\anaconda3\\lib\\site-packages (from nbconvert->jupyter>=1.0->tutormagic) (1.5.0)\n",
      "Requirement already satisfied: tinycss2 in c:\\users\\nicolas\\appdata\\roaming\\python\\python39\\site-packages (from nbconvert->jupyter>=1.0->tutormagic) (1.2.1)\n",
      "Requirement already satisfied: argon2-cffi in c:\\programdata\\anaconda3\\lib\\site-packages (from notebook->jupyter>=1.0->tutormagic) (21.3.0)\n",
      "Requirement already satisfied: ipython-genutils in c:\\programdata\\anaconda3\\lib\\site-packages (from notebook->jupyter>=1.0->tutormagic) (0.2.0)\n",
      "Requirement already satisfied: Send2Trash>=1.8.0 in c:\\programdata\\anaconda3\\lib\\site-packages (from notebook->jupyter>=1.0->tutormagic) (1.8.0)\n",
      "Requirement already satisfied: terminado>=0.8.3 in c:\\programdata\\anaconda3\\lib\\site-packages (from notebook->jupyter>=1.0->tutormagic) (0.13.1)\n",
      "Requirement already satisfied: prometheus-client in c:\\programdata\\anaconda3\\lib\\site-packages (from notebook->jupyter>=1.0->tutormagic) (0.13.1)\n",
      "Requirement already satisfied: nbclassic>=0.4.7 in c:\\users\\nicolas\\appdata\\roaming\\python\\python39\\site-packages (from notebook->jupyter>=1.0->tutormagic) (0.4.8)\n",
      "Requirement already satisfied: qtpy>=2.0.1 in c:\\programdata\\anaconda3\\lib\\site-packages (from qtconsole->jupyter>=1.0->tutormagic) (2.0.1)\n",
      "Requirement already satisfied: zipp>=0.5 in c:\\programdata\\anaconda3\\lib\\site-packages (from importlib-metadata>=3.6->nbconvert->jupyter>=1.0->tutormagic) (3.7.0)\n",
      "Requirement already satisfied: setuptools>=18.5 in c:\\programdata\\anaconda3\\lib\\site-packages (from ipython>=7.23.1->ipykernel->jupyter>=1.0->tutormagic) (61.2.0)\n",
      "Requirement already satisfied: jedi>=0.16 in c:\\programdata\\anaconda3\\lib\\site-packages (from ipython>=7.23.1->ipykernel->jupyter>=1.0->tutormagic) (0.18.1)\n",
      "Requirement already satisfied: decorator in c:\\programdata\\anaconda3\\lib\\site-packages (from ipython>=7.23.1->ipykernel->jupyter>=1.0->tutormagic) (5.1.1)\n",
      "Requirement already satisfied: pickleshare in c:\\programdata\\anaconda3\\lib\\site-packages (from ipython>=7.23.1->ipykernel->jupyter>=1.0->tutormagic) (0.7.5)\n",
      "Requirement already satisfied: backcall in c:\\programdata\\anaconda3\\lib\\site-packages (from ipython>=7.23.1->ipykernel->jupyter>=1.0->tutormagic) (0.2.0)\n",
      "Requirement already satisfied: colorama in c:\\programdata\\anaconda3\\lib\\site-packages (from ipython>=7.23.1->ipykernel->jupyter>=1.0->tutormagic) (0.4.4)\n",
      "Requirement already satisfied: entrypoints in c:\\programdata\\anaconda3\\lib\\site-packages (from jupyter-client>=6.1.12->ipykernel->jupyter>=1.0->tutormagic) (0.4)\n",
      "Requirement already satisfied: python-dateutil>=2.8.2 in c:\\programdata\\anaconda3\\lib\\site-packages (from jupyter-client>=6.1.12->ipykernel->jupyter>=1.0->tutormagic) (2.8.2)\n",
      "Requirement already satisfied: platformdirs>=2.5 in c:\\users\\nicolas\\appdata\\roaming\\python\\python39\\site-packages (from jupyter-core>=4.7->nbconvert->jupyter>=1.0->tutormagic) (2.6.0)\n",
      "Requirement already satisfied: pywin32>=1.0 in c:\\users\\nicolas\\appdata\\roaming\\python\\python39\\site-packages (from jupyter-core>=4.7->nbconvert->jupyter>=1.0->tutormagic) (305)\n",
      "Requirement already satisfied: jupyter-server>=1.8 in c:\\programdata\\anaconda3\\lib\\site-packages (from nbclassic>=0.4.7->notebook->jupyter>=1.0->tutormagic) (1.13.5)\n",
      "Requirement already satisfied: notebook-shim>=0.1.0 in c:\\users\\nicolas\\appdata\\roaming\\python\\python39\\site-packages (from nbclassic>=0.4.7->notebook->jupyter>=1.0->tutormagic) (0.2.2)\n",
      "Requirement already satisfied: fastjsonschema in c:\\programdata\\anaconda3\\lib\\site-packages (from nbformat>=5.1->nbconvert->jupyter>=1.0->tutormagic) (2.15.1)\n",
      "Requirement already satisfied: jsonschema>=2.6 in c:\\programdata\\anaconda3\\lib\\site-packages (from nbformat>=5.1->nbconvert->jupyter>=1.0->tutormagic) (4.4.0)\n",
      "Requirement already satisfied: wcwidth in c:\\programdata\\anaconda3\\lib\\site-packages (from prompt-toolkit!=3.0.0,!=3.0.1,<3.1.0,>=2.0.0->jupyter-console->jupyter>=1.0->tutormagic) (0.2.5)\n",
      "Requirement already satisfied: pywinpty>=1.1.0 in c:\\users\\nicolas\\appdata\\roaming\\python\\python39\\site-packages (from terminado>=0.8.3->notebook->jupyter>=1.0->tutormagic) (1.1.6)\n",
      "Requirement already satisfied: argon2-cffi-bindings in c:\\programdata\\anaconda3\\lib\\site-packages (from argon2-cffi->notebook->jupyter>=1.0->tutormagic) (21.2.0)\n",
      "Requirement already satisfied: soupsieve>1.2 in c:\\programdata\\anaconda3\\lib\\site-packages (from beautifulsoup4->nbconvert->jupyter>=1.0->tutormagic) (2.3.1)\n",
      "Requirement already satisfied: six>=1.9.0 in c:\\programdata\\anaconda3\\lib\\site-packages (from bleach->nbconvert->jupyter>=1.0->tutormagic) (1.16.0)\n",
      "Requirement already satisfied: webencodings in c:\\programdata\\anaconda3\\lib\\site-packages (from bleach->nbconvert->jupyter>=1.0->tutormagic) (0.5.1)\n",
      "Requirement already satisfied: pyparsing!=3.0.5,>=2.0.2 in c:\\programdata\\anaconda3\\lib\\site-packages (from packaging->ipykernel->jupyter>=1.0->tutormagic) (3.0.4)\n",
      "Requirement already satisfied: parso<0.9.0,>=0.8.0 in c:\\programdata\\anaconda3\\lib\\site-packages (from jedi>=0.16->ipython>=7.23.1->ipykernel->jupyter>=1.0->tutormagic) (0.8.3)\n",
      "Requirement already satisfied: attrs>=17.4.0 in c:\\programdata\\anaconda3\\lib\\site-packages (from jsonschema>=2.6->nbformat>=5.1->nbconvert->jupyter>=1.0->tutormagic) (21.4.0)\n",
      "Requirement already satisfied: pyrsistent!=0.17.0,!=0.17.1,!=0.17.2,>=0.14.0 in c:\\programdata\\anaconda3\\lib\\site-packages (from jsonschema>=2.6->nbformat>=5.1->nbconvert->jupyter>=1.0->tutormagic) (0.18.0)\n",
      "Requirement already satisfied: anyio<4,>=3.1.0 in c:\\programdata\\anaconda3\\lib\\site-packages (from jupyter-server>=1.8->nbclassic>=0.4.7->notebook->jupyter>=1.0->tutormagic) (3.5.0)\n",
      "Requirement already satisfied: websocket-client in c:\\programdata\\anaconda3\\lib\\site-packages (from jupyter-server>=1.8->nbclassic>=0.4.7->notebook->jupyter>=1.0->tutormagic) (0.58.0)\n",
      "Requirement already satisfied: cffi>=1.0.1 in c:\\programdata\\anaconda3\\lib\\site-packages (from argon2-cffi-bindings->argon2-cffi->notebook->jupyter>=1.0->tutormagic) (1.15.0)\n",
      "Requirement already satisfied: idna>=2.8 in c:\\programdata\\anaconda3\\lib\\site-packages (from anyio<4,>=3.1.0->jupyter-server>=1.8->nbclassic>=0.4.7->notebook->jupyter>=1.0->tutormagic) (3.3)\n",
      "Requirement already satisfied: sniffio>=1.1 in c:\\programdata\\anaconda3\\lib\\site-packages (from anyio<4,>=3.1.0->jupyter-server>=1.8->nbclassic>=0.4.7->notebook->jupyter>=1.0->tutormagic) (1.2.0)\n",
      "Requirement already satisfied: pycparser in c:\\programdata\\anaconda3\\lib\\site-packages (from cffi>=1.0.1->argon2-cffi-bindings->argon2-cffi->notebook->jupyter>=1.0->tutormagic) (2.21)\n"
     ]
    }
   ],
   "source": [
    "!{executable} -m pip install tutormagic --upgrade"
   ]
  },
  {
   "cell_type": "code",
   "execution_count": null,
   "metadata": {},
   "outputs": [],
   "source": [
    "!{executable} -m pip install pygame --upgrade"
   ]
  },
  {
   "cell_type": "code",
   "execution_count": null,
   "metadata": {},
   "outputs": [],
   "source": [
    "!{executable} -m pip install folium --upgrade"
   ]
  },
  {
   "cell_type": "code",
   "execution_count": null,
   "metadata": {},
   "outputs": [],
   "source": [
    "!{executable} -m pip install pyxel --upgrade"
   ]
  },
  {
   "cell_type": "code",
   "execution_count": null,
   "metadata": {},
   "outputs": [],
   "source": [
    "!{executable} -m pip install pycairo --upgrade"
   ]
  },
  {
   "cell_type": "code",
   "execution_count": null,
   "metadata": {},
   "outputs": [],
   "source": [
    "!{executable} -m pip install cairosvg --upgrade"
   ]
  },
  {
   "cell_type": "code",
   "execution_count": null,
   "metadata": {},
   "outputs": [],
   "source": [
    "!{executable} -m pip install pyxel --upgrade"
   ]
  },
  {
   "cell_type": "code",
   "execution_count": null,
   "metadata": {},
   "outputs": [],
   "source": []
  },
  {
   "cell_type": "code",
   "execution_count": null,
   "metadata": {},
   "outputs": [],
   "source": []
  },
  {
   "cell_type": "code",
   "execution_count": null,
   "metadata": {},
   "outputs": [],
   "source": [
    "\n",
    "\n",
    "\n",
    "\n",
    "\n",
    "\n",
    "\n",
    "\n",
    "\n",
    "\n",
    "\n",
    "\n",
    "\n",
    "\n",
    "\n",
    "\n",
    "\n",
    "\n",
    "\n",
    "\n",
    "\n",
    "\n",
    "\n",
    "\n"
   ]
  },
  {
   "cell_type": "code",
   "execution_count": null,
   "metadata": {},
   "outputs": [],
   "source": []
  },
  {
   "cell_type": "code",
   "execution_count": null,
   "metadata": {},
   "outputs": [],
   "source": []
  }
 ],
 "metadata": {
  "celltoolbar": "Format de la Cellule Texte Brut",
  "kernelspec": {
   "display_name": "Python 3 (ipykernel)",
   "language": "python",
   "name": "python3"
  },
  "language_info": {
   "codemirror_mode": {
    "name": "ipython",
    "version": 3
   },
   "file_extension": ".py",
   "mimetype": "text/x-python",
   "name": "python",
   "nbconvert_exporter": "python",
   "pygments_lexer": "ipython3",
   "version": "3.9.12"
  }
 },
 "nbformat": 4,
 "nbformat_minor": 2
}
