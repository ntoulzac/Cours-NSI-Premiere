{
 "cells": [
  {
   "cell_type": "markdown",
   "metadata": {},
   "source": [
    "**Question 18 :** ***une variante du jeu du Pendu***\n",
    "\n",
    "Analyser le code suivant, en indiquant :\n",
    "- quelles **variables** sont utilisées,\n",
    "- combien d'**affectations** sont réalisées,\n",
    "- où se trouvent les éventuelles **instructions conditionnelles**, **boucles bornées** et **boucles non bornées**, en précisant à chaque fois quelle est la **séquence d'instructions** associée.\n",
    "\n",
    "Il n'est pas demandé de comprendre le code, car il fait appel à des notions que nous étudierons plus tard dans l'année."
   ]
  },
  {
   "cell_type": "code",
   "execution_count": null,
   "metadata": {},
   "outputs": [],
   "source": [
    "mot_liste = [65, 76, 71, 79, 82, 73, 84, 72, 77, 73, 81, 85, 69, 77, 69, 78, 84]\n",
    "reponse_liste = [45] * len(mot_liste)\n",
    "mot = '-' * len(mot_liste)\n",
    "print('Mot à deviner :', mot)\n",
    "coups = 0\n",
    "while reponse_liste != mot_liste:\n",
    "    lettre = input('Choisissez une lettre : ').upper()\n",
    "    coups = coups + 1\n",
    "    for k in range(len(mot_liste)):\n",
    "        if mot_liste[k] == ord(lettre):\n",
    "            reponse_liste[k] = ord(lettre)\n",
    "    mot = ''\n",
    "    for k in range(len(reponse_liste)):\n",
    "        mot = mot + str(chr(reponse_liste[k]))\n",
    "    print('Mot à deviner :', mot)\n",
    "print('Vous avez trouvé le mot en', coups, 'coups.')"
   ]
  }
 ],
 "metadata": {
  "celltoolbar": "Format de la Cellule Texte Brut",
  "kernelspec": {
   "display_name": "Python 3 (ipykernel)",
   "language": "python",
   "name": "python3"
  },
  "language_info": {
   "codemirror_mode": {
    "name": "ipython",
    "version": 3
   },
   "file_extension": ".py",
   "mimetype": "text/x-python",
   "name": "python",
   "nbconvert_exporter": "python",
   "pygments_lexer": "ipython3",
   "version": "3.9.12"
  }
 },
 "nbformat": 4,
 "nbformat_minor": 2
}
