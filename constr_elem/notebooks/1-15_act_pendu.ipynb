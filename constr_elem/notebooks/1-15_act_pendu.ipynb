{
 "cells": [
  {
   "cell_type": "markdown",
   "metadata": {},
   "source": [
    "<div style='background-color: #87ceeb;\n",
    "    border: 0.5em solid black;\n",
    "    border-radius: 0.5em;\n",
    "    padding: 1em;'>\n",
    "    <h2>Activité 1-15</h2>\n",
    "    <h1>Une variante du jeu du Pendu</h1>\n",
    "</div>"
   ]
  },
  {
   "cell_type": "markdown",
   "metadata": {},
   "source": [
    "On donne le code ci-dessous. Il n'est pas demandé de le comprendre car il fait appel à des notions que nous étudierons plus tard dans l'année."
   ]
  },
  {
   "cell_type": "code",
   "execution_count": null,
   "metadata": {},
   "outputs": [],
   "source": [
    "mot_liste = [65, 76, 71, 79, 82, 73, 84, 72, 77, 73, 81, 85, 69, 77, 69, 78, 84]\n",
    "reponse_liste = [45] * len(mot_liste)\n",
    "mot = \"-\" * len(mot_liste)\n",
    "print(\"Mot à deviner :\", mot)\n",
    "nb_coups = 0\n",
    "while reponse_liste != mot_liste:\n",
    "    lettre = input(\"Choisissez une lettre : \").upper()\n",
    "    nb_coups = nb_coups + 1\n",
    "    for k in range(len(mot_liste)):\n",
    "        if mot_liste[k] == ord(lettre):\n",
    "            reponse_liste[k] = ord(lettre)\n",
    "    mot = \"\"\n",
    "    for k in range(len(reponse_liste)):\n",
    "        mot = mot + str(chr(reponse_liste[k]))\n",
    "    print(\"Mot à deviner :\", mot)\n",
    "print(\"Vous avez trouvé le mot en\", nb_coups, \"coups.\")"
   ]
  },
  {
   "cell_type": "markdown",
   "metadata": {},
   "source": [
    "**(1)** Lister quelles sont les variables utilisées."
   ]
  },
  {
   "cell_type": "markdown",
   "metadata": {},
   "source": [
    "_Réponse..._"
   ]
  },
  {
   "cell_type": "markdown",
   "metadata": {},
   "source": [
    "**(2)** Dire combien d'affectations sont réalisées, en précisant leur numéro de ligne."
   ]
  },
  {
   "cell_type": "markdown",
   "metadata": {},
   "source": [
    "_Réponse..._"
   ]
  },
  {
   "cell_type": "markdown",
   "metadata": {},
   "source": [
    "**(3)** Dire où se trouvent les éventuelles instructions conditionnelles en précisant à chaque fois quelle est la séquence d'instructions associée."
   ]
  },
  {
   "cell_type": "markdown",
   "metadata": {},
   "source": [
    "_Réponse..._"
   ]
  },
  {
   "cell_type": "markdown",
   "metadata": {},
   "source": [
    "**(4)** Dire où se trouvent les éventuelles boucles en précisant à chaque fois quelle est la séquence d'instructions associée."
   ]
  },
  {
   "cell_type": "markdown",
   "metadata": {},
   "source": [
    "_Réponse..._"
   ]
  }
 ],
 "metadata": {
  "celltoolbar": "Format de la Cellule Texte Brut",
  "kernelspec": {
   "display_name": "Python 3 (ipykernel)",
   "language": "python",
   "name": "python3"
  },
  "language_info": {
   "codemirror_mode": {
    "name": "ipython",
    "version": 3
   },
   "file_extension": ".py",
   "mimetype": "text/x-python",
   "name": "python",
   "nbconvert_exporter": "python",
   "pygments_lexer": "ipython3",
   "version": "3.9.12"
  }
 },
 "nbformat": 4,
 "nbformat_minor": 2
}
