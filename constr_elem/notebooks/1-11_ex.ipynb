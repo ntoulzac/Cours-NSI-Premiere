{
 "cells": [
  {
   "cell_type": "markdown",
   "metadata": {},
   "source": [
    "### Exercice 4"
   ]
  },
  {
   "cell_type": "markdown",
   "metadata": {},
   "source": [
    "Voici les règles d'un jeu, au cours duquel l'ordinateur va simuler plusieurs lancers d'un dé équilibré :\n",
    "- L'ordinateur demande au joueur de saisir au clavier un entier ``nb_tirages`` compris entre 10 et 100. C'est le nombre de lancers souhaités.\n",
    "- L'ordinateur tire au hasard plusieurs fois de suite un entier compris entre 1 et 6, autant de fois que le joueur l'a décidé.\n",
    "- L'ordinateur compte le nombre total de fois où le dé est tombé sur 6.\n",
    "- Si la proportion de 6 est supérieure ou égale à 17%, le message \"Bravo, vous avez gagné\" apparaît à l'écran. Dans le cas contraire, c'est le message \"Dommage, vous avez perdu\" qui apparaît à l'écran."
   ]
  },
  {
   "cell_type": "code",
   "execution_count": null,
   "metadata": {},
   "outputs": [],
   "source": []
  }
 ],
 "metadata": {
  "celltoolbar": "Format de la Cellule Texte Brut",
  "kernelspec": {
   "display_name": "Python 3 (ipykernel)",
   "language": "python",
   "name": "python3"
  },
  "language_info": {
   "codemirror_mode": {
    "name": "ipython",
    "version": 3
   },
   "file_extension": ".py",
   "mimetype": "text/x-python",
   "name": "python",
   "nbconvert_exporter": "python",
   "pygments_lexer": "ipython3",
   "version": "3.9.12"
  }
 },
 "nbformat": 4,
 "nbformat_minor": 2
}
