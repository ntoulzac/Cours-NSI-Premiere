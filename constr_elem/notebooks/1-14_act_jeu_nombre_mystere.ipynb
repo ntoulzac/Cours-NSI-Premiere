{
 "cells": [
  {
   "cell_type": "markdown",
   "metadata": {},
   "source": [
    "<div style='background-color: #87ceeb;\n",
    "    border: 0.5em solid black;\n",
    "    border-radius: 0.5em;\n",
    "    padding: 1em;'>\n",
    "    <h2>Activité 1-14</h2>\n",
    "    <h1>Le jeu du nombre mystère</h1>\n",
    "</div>"
   ]
  },
  {
   "cell_type": "markdown",
   "metadata": {},
   "source": [
    "On souhaite jouer une partie du jeu du nombre mystère, dont le principe est le suivant :\n",
    "\n",
    "- L'ordinateur tire un nombre entier au hasard entre 0 et 10 et le stocke dans une variable `mystere`.\n",
    "- L'ordinateur demande au joueur d'entrer au clavier un entier et le stocke dans une variable `proposition`.\n",
    "\n",
    "Les instructions nécessaires pour faire tout cela sont données ci-dessous.\n",
    "\n",
    "**(1)** Compléter la séquence d'instructions de sorte que l'ordinateur affiche à l'écran `\"Bravo\"` dans le cas où le joueur a trouvé le nombre mystère, et `\"Perdu\"` dans le cas contraire."
   ]
  },
  {
   "cell_type": "code",
   "execution_count": 1,
   "metadata": {},
   "outputs": [
    {
     "name": "stdout",
     "output_type": "stream",
     "text": [
      "Saisir un entier entre 0 et 10 : 4\n"
     ]
    }
   ],
   "source": [
    "from random import randint  # la fonction randint est désormais disponible\n",
    "mystere = randint(0, 10)  # l'ordinateur tire un entier au hasard entre 0 et 10\n",
    "proposition = int(input('Saisir un entier entre 0 et 10 : '))  # le joueur saisit un entier au clavier"
   ]
  },
  {
   "cell_type": "markdown",
   "metadata": {},
   "source": [
    "**(2)** Recopier et modifier la séquence d'instructions pour faire en sorte que le joueur puisse saisir autant de propositions que nécessaire jusqu'à ce qu'il trouve le nombre mystère."
   ]
  },
  {
   "cell_type": "code",
   "execution_count": null,
   "metadata": {},
   "outputs": [],
   "source": []
  },
  {
   "cell_type": "markdown",
   "metadata": {},
   "source": [
    "**(3)** Recopier et modifier la séquence d'instructions pour que s'affiche le nombre de tentatives que le joueur a du réaliser pour trouver le nombre mystère."
   ]
  },
  {
   "cell_type": "code",
   "execution_count": null,
   "metadata": {},
   "outputs": [],
   "source": []
  }
 ],
 "metadata": {
  "celltoolbar": "Format de la Cellule Texte Brut",
  "kernelspec": {
   "display_name": "Python 3 (ipykernel)",
   "language": "python",
   "name": "python3"
  },
  "language_info": {
   "codemirror_mode": {
    "name": "ipython",
    "version": 3
   },
   "file_extension": ".py",
   "mimetype": "text/x-python",
   "name": "python",
   "nbconvert_exporter": "python",
   "pygments_lexer": "ipython3",
   "version": "3.9.12"
  }
 },
 "nbformat": 4,
 "nbformat_minor": 2
}
