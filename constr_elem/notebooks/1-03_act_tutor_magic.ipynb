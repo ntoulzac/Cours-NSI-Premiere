{
 "cells": [
  {
   "cell_type": "markdown",
   "metadata": {},
   "source": [
    "### Remarque préalable à propos de *Jupyter Notebook*"
   ]
  },
  {
   "cell_type": "markdown",
   "metadata": {},
   "source": [
    "Un document *Jupyter Notebook* est un fichier (extension ``.ipynb``) composé de cellules dans lesquelles il est possible d'écrire, dans le langage de programmation Python, des **expressions** qui peuvent être **évaluées** et des **instructions** qui peuvent être **exécutées** en appuyant sur les touches ``Majuscule`` et ``Entrée``.\n",
    "\n",
    "La valeur des expressions apparait sous la cellule, de même que d'éventuels affichages (obtenus via la fonction ``print``).\n",
    "\n",
    "**Question 1 :** Appuyer sur ``Majuscule`` et ``Entrée`` pour chacune des cellules suivantes."
   ]
  },
  {
   "cell_type": "code",
   "execution_count": null,
   "metadata": {},
   "outputs": [],
   "source": [
    "4 * 8 # Ceci est une expression"
   ]
  },
  {
   "cell_type": "markdown",
   "metadata": {},
   "source": [
    "<div class=\"rq\">\n",
    "    Lorsqu'on exécute dans <i>Jupyter Notebook</i> une cellule contenant une <b>expression</b>, l'expression est <b>évaluée</b> et sa valeur s'affiche sous la cellule.\n",
    "</div>"
   ]
  },
  {
   "cell_type": "code",
   "execution_count": null,
   "metadata": {},
   "outputs": [],
   "source": [
    "nom = 'Toulzac' # Ceci est une instruction, appelée affectation (voir plus bas)"
   ]
  },
  {
   "cell_type": "markdown",
   "metadata": {},
   "source": [
    "<div class=\"rq\">\n",
    "    Lorsqu'on exécute dans <i>Jupyter Notebook</i> une cellule contenant une <b>instruction</b>, aucun affichage n'apparaît sous la cellule. En revanche, l'état de la mémoire de l'ordinateur a été modifié.\n",
    "</div>"
   ]
  },
  {
   "cell_type": "code",
   "execution_count": null,
   "metadata": {},
   "outputs": [],
   "source": [
    "print('Le nom du professeur est', nom) # Ceci est un affichage à l'écran"
   ]
  },
  {
   "cell_type": "markdown",
   "metadata": {},
   "source": [
    "<div class=\"rq\">\n",
    "    La fonction <code>print</code> permet d'<b>afficher</b> sous la cellule un message et/ou la valeur d'une variable.\n",
    "</div>"
   ]
  },
  {
   "cell_type": "markdown",
   "metadata": {},
   "source": [
    "Il est possible de modifier les lignes de code, et de les exécuter à nouveau.\n",
    "\n",
    "**Question 2 :** Remplacer le nom du professeur par votre nom, puis appuyer sur ``Majuscule`` et ``Entrée``."
   ]
  },
  {
   "cell_type": "code",
   "execution_count": null,
   "metadata": {},
   "outputs": [],
   "source": [
    "nom = 'Monsieur Toulzac'\n",
    "print('Mon nom est', nom)"
   ]
  }
 ],
 "metadata": {
  "celltoolbar": "Format de la Cellule Texte Brut",
  "kernelspec": {
   "display_name": "Python 3 (ipykernel)",
   "language": "python",
   "name": "python3"
  },
  "language_info": {
   "codemirror_mode": {
    "name": "ipython",
    "version": 3
   },
   "file_extension": ".py",
   "mimetype": "text/x-python",
   "name": "python",
   "nbconvert_exporter": "python",
   "pygments_lexer": "ipython3",
   "version": "3.9.12"
  }
 },
 "nbformat": 4,
 "nbformat_minor": 2
}
