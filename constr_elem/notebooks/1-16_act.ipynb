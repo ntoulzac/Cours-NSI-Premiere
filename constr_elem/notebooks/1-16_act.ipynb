{
 "cells": [
  {
   "cell_type": "markdown",
   "metadata": {},
   "source": [
    "**Question 19 :** ***le jeu du Juste Prix***\n",
    "\n",
    "On souhaite réaliser une partie du *jeu du Juste Prix*, dont le principe est le suivant :\n",
    "- L'ordinateur tire un nombre entier au hasard entre 1000 et 2000 et le stocke dans une variable ``prix``. Ce nombre correspond au prix que le joueur doit deviner.\n",
    "- Le joueur propose un prix en entrant au clavier un entier qui est stocké dans une variable ``proposition``.\n",
    "- L'ordinateur annonce au joueur soit qu'il a trouvé le prix exact, soit que sa proposition est trop petite, soit qu'elle est trop grande.\n",
    "- Le joueur propose des nouveaux prix jusqu'à ce qu'il trouve le prix exact.\n",
    "- Le nombre de tentatives qui ont été nécessaires s'affiche à l'écran à la fin du jeu."
   ]
  },
  {
   "cell_type": "code",
   "execution_count": null,
   "metadata": {},
   "outputs": [],
   "source": []
  }
 ],
 "metadata": {
  "celltoolbar": "Format de la Cellule Texte Brut",
  "kernelspec": {
   "display_name": "Python 3 (ipykernel)",
   "language": "python",
   "name": "python3"
  },
  "language_info": {
   "codemirror_mode": {
    "name": "ipython",
    "version": 3
   },
   "file_extension": ".py",
   "mimetype": "text/x-python",
   "name": "python",
   "nbconvert_exporter": "python",
   "pygments_lexer": "ipython3",
   "version": "3.9.12"
  }
 },
 "nbformat": 4,
 "nbformat_minor": 2
}
