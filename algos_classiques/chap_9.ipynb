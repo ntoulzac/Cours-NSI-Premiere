{
 "cells": [
  {
   "cell_type": "markdown",
   "metadata": {},
   "source": [
    "# Chapitre 9 : Algorithmes classiques\n",
    "\n",
    "***Recherche dichotomique dans un tableau trié, algorithmes gloutons, algorithme des k plus proches voisins***"
   ]
  },
  {
   "cell_type": "markdown",
   "metadata": {},
   "source": [
    "## Partie A - Recherche d'une valeur dans un tableau"
   ]
  },
  {
   "cell_type": "markdown",
   "metadata": {},
   "source": [
    "L'objectif de cette partie est d'écrire un algorithme qui détermine si une valeur `v` est présente ou non dans un tableau `tab`."
   ]
  },
  {
   "cell_type": "markdown",
   "metadata": {},
   "source": [
    "### Recherche séquentielle"
   ]
  },
  {
   "cell_type": "markdown",
   "metadata": {},
   "source": [
    "La première idée que nous pouvons avoir pour rechercher une valeur dans un tableau, c'est de parcourir le tableau et de regarder si les éléments successifs du tableau correspondent à la valeur cherchée. On parle de **recherche séquentielle**.\n",
    "\n",
    "Voici deux illustrations pour des tableaux de 40 éléments dans lesquels on recherche la valeur `63`."
   ]
  },
  {
   "cell_type": "markdown",
   "metadata": {},
   "source": [
    "<div>\n",
    "    <img src='https://ntoulzac.github.io/Cours-NSI-Terminale/premiere_NSI/Images/rech_valeur_trouvee.gif'>\n",
    "</div>"
   ]
  },
  {
   "cell_type": "markdown",
   "metadata": {},
   "source": [
    "<div>\n",
    "    <img src='https://ntoulzac.github.io/Cours-NSI-Terminale/premiere_NSI/Images/rech_valeur_non_trouvee.gif'>\n",
    "</div>\n",
    "<center><i>En vert, la partie du tableau où la valeur cherchée est susceptible de se trouver. En jaune, la valeur regardée. </i></center>"
   ]
  },
  {
   "cell_type": "markdown",
   "metadata": {},
   "source": [
    "<div class='rq3'>\n",
    "<p><b>Algorithme de recherche séquentielle d'une valeur <code>v</code> dans un tableau <code>tab</code></b></p>\n",
    "<p><b>Début</b></p>\n",
    "<p STYLE=\"padding:0 0 0 40px;\">Pour <code>k</code> allant de 0 à longueur(<code>tab</code>)-1 faire</p>\n",
    "<p STYLE=\"padding:0 0 0 80px;\">Si <code>tab[k]</code> = <code>v</code> alors</p>\n",
    "<p STYLE=\"padding:0 0 0 120px;\">Retourner Vrai</p>\n",
    "<p STYLE=\"padding:0 0 0 80px;\">Fin Si</p>\n",
    "<p STYLE=\"padding:0 0 0 40px;\">Fin Pour</p>\n",
    "<p STYLE=\"padding:0 0 0 40px;\">Retourner Faux</p>\n",
    "<p><b>Fin</b></p>\n",
    "</div>"
   ]
  },
  {
   "cell_type": "markdown",
   "metadata": {},
   "source": [
    "**Question 1 :** Ecrire le code de la fonction `recherche` qui parcourt le tableau `tab` et qui retourne `True` si la valeur `v` est trouvée dans le tableau et `False` sinon."
   ]
  },
  {
   "cell_type": "code",
   "execution_count": null,
   "metadata": {},
   "outputs": [],
   "source": [
    "def recherche(tab, v):\n",
    "    \"\"\"\n",
    "    Recherche la présence ou l'absence d'une valeur v dans un tableau tab\n",
    "    - Entrées : tab (tableau), v\n",
    "    - Sortie : (booléen égal à True si la valeur v est présente dans le tableau tab, et False sinon)\n",
    "    \"\"\"\n",
    "    ??????"
   ]
  },
  {
   "cell_type": "code",
   "execution_count": null,
   "metadata": {},
   "outputs": [],
   "source": [
    "print(recherche([0, 3, 1, 7, 4, 9, 5, 1, 6, 8], 5))"
   ]
  },
  {
   "cell_type": "code",
   "execution_count": null,
   "metadata": {},
   "outputs": [],
   "source": [
    "print(recherche([0, 3, 1, 7, 4, 9, 5, 1, 6, 8], 2))"
   ]
  },
  {
   "cell_type": "markdown",
   "metadata": {},
   "source": [
    "**Question 2 :** Mesurer le temps d'exécution de la fonction `recherche` dans le cas où `v = 63` et où :\n",
    "- `tab` contient 1000 éléments choisis au hasard entre 0 et 2000,\n",
    "- `tab` contient 100000 éléments choisis au hasard entre 0 et 200000,\n",
    "- `tab` contient 10000000 éléments choisis au hasard entre 0 et 20000000.\n",
    "\n",
    "Pour chaque situation, faire 10 mesures et calculer la moyenne des 10 temps d'exécution obtenus."
   ]
  },
  {
   "cell_type": "code",
   "execution_count": null,
   "metadata": {},
   "outputs": [],
   "source": []
  },
  {
   "cell_type": "code",
   "execution_count": null,
   "metadata": {},
   "outputs": [],
   "source": [
    "def mesure_duree_recherche(nb_mesures, taille_tableau):\n",
    "    \"\"\"\n",
    "    Calcule la durée moyenne d'exécution de la fonction recherche\n",
    "    - Entrées : nb_mesures (entier), taille_tableau (entier)\n",
    "    - Sortie : duree (flottant)\n",
    "    \"\"\"\n",
    "    ??????"
   ]
  },
  {
   "cell_type": "code",
   "execution_count": null,
   "metadata": {},
   "outputs": [],
   "source": [
    "n = 1000\n",
    "print('Durée moyenne de la recherche pour', n, 'élements :', mesure_duree_recherche(10, n), 's')"
   ]
  },
  {
   "cell_type": "code",
   "execution_count": null,
   "metadata": {},
   "outputs": [],
   "source": [
    "n = 100000\n",
    "print('Durée moyenne de la recherche pour', n, 'élements :', mesure_duree_recherche(10, n), 's')"
   ]
  },
  {
   "cell_type": "code",
   "execution_count": null,
   "metadata": {},
   "outputs": [],
   "source": [
    "n = 10000000\n",
    "print('Durée moyenne de la recherche pour', n, 'élements :', mesure_duree_recherche(10, n), 's')"
   ]
  },
  {
   "cell_type": "markdown",
   "metadata": {},
   "source": [
    "<div class = 'rq'>\n",
    "    Dans le pire des cas (cas où le tableau <code>tab</code> ne contient pas la valeur <code>v</code>), la fonction <code>recherche</code> parcourt le tableau en entier. Le temps d'exécution est alors proportionnel à la taille du tableau. On dit que la recherche séquentielle a une <b>complexité linéaire</b>.\n",
    "</div>"
   ]
  },
  {
   "cell_type": "markdown",
   "metadata": {},
   "source": [
    "**Question 3 :** Déterminer l'ordre de grandeur du temps d'exécution (dans le pire cas) de la fonction ``recherche`` pour un tableau qui contiendrait un milliard de valeurs, et pour un tableau qui contiendrait mille milliards de valeurs."
   ]
  },
  {
   "cell_type": "markdown",
   "metadata": {},
   "source": [
    "<div class='rq'>\n",
    "    Voici l'ordre de grandeur de la durée d'exécution de la fonction <code>recherche</code> pour des tableaux de très grande taille :\n",
    "</div>"
   ]
  },
  {
   "cell_type": "markdown",
   "metadata": {},
   "source": [
    "<div>\n",
    "    <table>\n",
    "        <tr>\n",
    "            <th><center>Taille du tableau (nombre d'éléments)</center></th>\n",
    "            <td><center>10 000 000</center></td>\n",
    "            <td><center>1 000 000 000</center></td>\n",
    "            <td><center>1 000 000 000 000</center></td>\n",
    "        </tr>\n",
    "        <tr>\n",
    "            <th><center>Durée d'exécution estimée<br>(secondes)</center></th>\n",
    "            <td><center>1</center></td>\n",
    "            <td><center>??????</center></td>\n",
    "            <td><center>??????</center></td>\n",
    "        </tr>\n",
    "        <tr>\n",
    "            <th><center>Durée d'exécution estimée<br>(ordre de grandeur)</center></th>\n",
    "            <td><center>seconde</center></td>\n",
    "            <td><center>??????</center></td>\n",
    "            <td><center>??????</center></td>\n",
    "        </tr>\n",
    "    </table>\n",
    "</div>"
   ]
  },
  {
   "cell_type": "markdown",
   "metadata": {},
   "source": [
    "### Recherche dichotomique dans un tableau trié"
   ]
  },
  {
   "cell_type": "markdown",
   "metadata": {},
   "source": [
    "Dans le cas d'un **tableau trié**, il existe un algorithme beaucoup plus efficace pour déterminer si une valeur est présente ou non dans le tableau : l'algorithme de **recherche dichotomique**. Il s'agit d'un algorithme dont le principe est ***diviser pour régner***.\n",
    "\n",
    "On regarde d'abord la valeur située au milieu du tableau.\n",
    "- Si la valeur médiane est supérieure à la valeur cherchée, cela signifie que la valeur cherchée ne peut être que dans la première moitié du tableau. On recommence donc l'opération sur la première moitié du tableau.\n",
    "- Si la valeur médiane est inférieure à la valeur cherchée, cela signifie que la valeur cherchée ne peut être que dans la seconde moitié du tableau. On recommence donc l'opération sur la seconde moitié du tableau.\n",
    "\n",
    "Voici deux illustrations pour des tableaux triés de 40 éléments dans lesquels on recherche la valeur `63`."
   ]
  },
  {
   "cell_type": "markdown",
   "metadata": {},
   "source": [
    "<div>\n",
    "    <img src='https://ntoulzac.github.io/Cours-NSI-Terminale/premiere_NSI/Images/dicho_valeur_trouvee.gif'>\n",
    "</div>"
   ]
  },
  {
   "cell_type": "markdown",
   "metadata": {},
   "source": [
    "<div>\n",
    "    <img src='https://ntoulzac.github.io/Cours-NSI-Terminale/premiere_NSI/Images/dicho_valeur_non_trouvee.gif'>\n",
    "</div>\n",
    "<center><i>En vert, la partie du tableau où la valeur cherchée est susceptible de se trouver. En jaune, la valeur médiane à chaque étape. </i></center>"
   ]
  },
  {
   "cell_type": "markdown",
   "metadata": {},
   "source": [
    "L'exécution des deux cellules suivantes permet d'obtenir d'autres illustrations du même type."
   ]
  },
  {
   "cell_type": "code",
   "execution_count": null,
   "metadata": {},
   "outputs": [],
   "source": [
    "from dichotomie import illustration_dichotomie\n",
    "from random import randint"
   ]
  },
  {
   "cell_type": "code",
   "execution_count": null,
   "metadata": {},
   "outputs": [],
   "source": [
    "tableau = sorted([randint(0, 100) for _ in range(40)])\n",
    "illustration_dichotomie(tableau, 63)"
   ]
  },
  {
   "cell_type": "markdown",
   "metadata": {},
   "source": [
    "On donne l'algorithme de recherche dichotomique en français :"
   ]
  },
  {
   "cell_type": "markdown",
   "metadata": {},
   "source": [
    "<div class='rq3'>\n",
    "<p><b>Algorithme de recherche dichotomique d'une valeur <code>v</code> dans un tableau trié <code>tab</code></b></p>\n",
    "<p><b>Début</b></p>\n",
    "<p STYLE=\"padding:0 0 0 40px;\"><code>g</code> ← 0</p>\n",
    "<p STYLE=\"padding:0 0 0 40px;\"><code>d</code> ← (longueur du tableau <code>tab</code>) - 1</p>\n",
    "<p STYLE=\"padding:0 0 0 40px;\">Tant que <code>g</code> &leq; <code>d</code> faire</p>\n",
    "<p STYLE=\"padding:0 0 0 80px;\"><code>m</code> ← valeur moyenne de <code>g</code> et <code>d</code> (arrondi entier par défaut)</p>\n",
    "<p STYLE=\"padding:0 0 0 80px;\">Si <code>tab[m]</code> &gt; <code>v</code> alors</p>\n",
    "<p STYLE=\"padding:0 0 0 120px;\"><code>d</code> ← <code>m</code> - 1</p>\n",
    "<p STYLE=\"padding:0 0 0 80px;\">Sinon si <code>tab[m]</code> &lt; <code>v</code> alors</p>\n",
    "<p STYLE=\"padding:0 0 0 120px;\"><code>g</code> ← <code>m</code> + 1</p>\n",
    "<p STYLE=\"padding:0 0 0 80px;\">Sinon\n",
    "<p STYLE=\"padding:0 0 0 120px;\">Retourner Vrai</p>\n",
    "<p STYLE=\"padding:0 0 0 80px;\">Fin Si</p>\n",
    "<p STYLE=\"padding:0 0 0 40px;\">Fin Tant que</p>\n",
    "    <p STYLE=\"padding:0 0 0 40px;\">Retourner Faux</p>\n",
    "<p><b>Fin</b></p>\n",
    "</div>"
   ]
  },
  {
   "cell_type": "markdown",
   "metadata": {},
   "source": [
    "**Question 4 :** Implémenter l'algorithme ci-dessus sous la forme d'une fonction ``dichotomie`` prenant deux paramètres d'entrée."
   ]
  },
  {
   "cell_type": "code",
   "execution_count": null,
   "metadata": {},
   "outputs": [],
   "source": [
    "def dichotomie(tab, v):\n",
    "    \"\"\"\n",
    "    Recherche par dichotomie la présence ou l'absence d'une valeur v dans un tableau tab\n",
    "    - Entrées : tab (tableau), v\n",
    "    - Sortie : (booléen égal à True si la valeur v est présente dans le tableau tab, et False sinon)\n",
    "    \"\"\"\n",
    "    ??????"
   ]
  },
  {
   "cell_type": "code",
   "execution_count": null,
   "metadata": {},
   "outputs": [],
   "source": [
    "print(dichotomie([0, 1, 1, 3, 4, 5, 6, 7, 8, 9], 5))"
   ]
  },
  {
   "cell_type": "code",
   "execution_count": null,
   "metadata": {},
   "outputs": [],
   "source": [
    "print(dichotomie([0, 1, 1, 3, 4, 5, 6, 7, 8, 9], 2))"
   ]
  },
  {
   "cell_type": "markdown",
   "metadata": {},
   "source": [
    "### Correction de l'algorithme de recherche dichotomique"
   ]
  },
  {
   "cell_type": "markdown",
   "metadata": {},
   "source": [
    "Pour savoir si un algorithme fait ce qu'on attend de lui, il faut se poser deux questions :\n",
    "\n",
    "- Est-ce que l'algorithme se termine et renvoie un résultat ? Une preuve de **terminaison** permet de répondre oui.\n",
    "- Est-ce qu'un résultat renvoyé par l'algorithme est correct ? Une preuve de **correction partielle** permet de répondre oui.\n",
    "\n",
    "Répondre oui aux deux questions à la fois, c'est prouver la **correction totale** de l'algorithme, c'est-à-dire prouver que l'algorithme remplit son rôle."
   ]
  },
  {
   "cell_type": "markdown",
   "metadata": {},
   "source": [
    "#### **Terminaison de l'algorithme de recherche dichotomique** *pour prouver que l'algorithme renvoie toujours un résultat*"
   ]
  },
  {
   "cell_type": "markdown",
   "metadata": {},
   "source": [
    "Il y a deux cas possibles : soit `tab[m]` est égal à la valeur cherchée `v` lors d'un des tours de boucle, soit `tab[m]` n'est jamais égal à `v`.\n",
    "\n",
    "Dans le premier cas, les deux conditions `tab[m]` > `v` et `tab[m]` < `v` sont fausses toutes les deux, et donc l'instruction *Retourner Vrai* est exécutée. Cela prouve que l'algorithme termine dans ce premier cas.\n",
    "\n",
    "Dans le second cas, l'instruction *Retourner Vrai* n'est jamais exécutée. Il faut donc s'assurer que la boucle Tant s'interrompt nécessairement au bout d'un certain nombre d'itérations, permettant l'exécution de l'instruction *Retourner Faux*.\n",
    "\n",
    "Pour justifier qu'il ne peut y avoir de boucle infinie, on considère le nombre `d` - `g` + 1, qui correspond au nombre d'éléments du tableau dont l'indice est compris entre `g` et `d`. Il s'agit du nombre d'éléments affichés en vert sur les illustrations précédentes. Ce nombre `d` - `g` + 1 est appelé un **variant de boucle**, parce que sa valeur change à chaque itération. Plus précisément, il s'agit d'une valeur entière qui diminue au moins d'une unité à chaque itération (en fait, elle est au moins divisée par 2 pour l'algorithme de recherche dichotomique), et qui finit donc par devenir nulle.\n",
    "\n",
    "On en déduit que, au bout d'un certain nombre d'itérations, `d` - `g` + 1 = 0, d'où `d` = `g` - 1. La condition `g` &leq; `d` finit donc par être fausse, ce qui interrompt la boucle Tant que."
   ]
  },
  {
   "cell_type": "markdown",
   "metadata": {},
   "source": [
    "#### **Correction partielle de l'algorithme de recherche dichotomique** *pour prouver que le résultat renvoyé est toujours le bon*"
   ]
  },
  {
   "cell_type": "markdown",
   "metadata": {},
   "source": [
    "Il y a deux cas possibles : soit l'algorithme renvoie Vrai, soit il renvoie Faux.\n",
    "\n",
    "Dans le premier cas, l'algorithme a renvoyé Vrai parce que les deux conditions `tab[m]` > `v` et `tab[m]` < `v` étaient fausses. Autrement dit, `tab[m]` était égal à la valeur cherchée `v`, et l'algorithme a donc eu raison de renvoyer Vrai.\n",
    "\n",
    "Dans le second cas, l'algorithme a renvoyé Faux parce que la boucle Tant que a terminé son exécution. Il faut justifier que, dans ce cas, la valeur `v` ne pouvait pas être présente dans le tableau.\n",
    "\n",
    "On considère pour cela la propriété *<< la valeur `v` ne peut qu'avoir un indice compris entre `g` et `d` >>*. Autrement dit, la valeur `v` ne peut être que parmi les éléments affichés en vert sur les illustrations précédentes. Cette propriété est appelée un **invariant de boucle**, parce qu'elle est reste vraie à chaque itération.\n",
    "\n",
    "Avant la première itération, `g` et `d` sont les indices des extrémités du tableau, et donc la propriété est évidemment vraie. Elle reste vraie après chaque itération parce que le tableau est trié et parce que :\n",
    "- dans le cas où `tab[m]` > `v`, la valeur `v` ne peut qu'avoir un indice compris entre `g` et `m-1` (valeur qu'on affecte à `d`).\n",
    "- dans le cas où `tab[m]` < `v`, la valeur `v` ne peut qu'avoir un indice compris entre `m+1` (valeur qu'on affecte à `g`) et `d`."
   ]
  },
  {
   "cell_type": "markdown",
   "metadata": {},
   "source": [
    "### Complexité de l'algorithme de recherche dichotomique"
   ]
  },
  {
   "cell_type": "markdown",
   "metadata": {},
   "source": [
    "**Question 5 :** Quel est, dans le pire cas, le nombre d'itérations de la boucle Tant que, lorsque `tab` contient :\n",
    "- 1 000 éléments ?\n",
    "- 1 000 000 éléments ?\n",
    "- 1 000 000 000 éléments ?\n",
    "- 1 000 000 000 000 élements ?"
   ]
  },
  {
   "cell_type": "markdown",
   "metadata": {},
   "source": [
    "<div class='rq'>\n",
    "    Le temps d'exécution de la fonction <code>dichotomie</code> est proportionnel au nombre d'itérations de la boucle Tant que. L'algorithme de recherche dichotomique est donc extrêmement efficace, puisqu'une multiplication par 1000 de la taille du tableau entraîne simplement 10 itérations supplémentaires. On dit que la recherche dichotomique a une <b>complexité logarithmique</b>. Rappelons cependant qu'elle n'est possible que si le tableau est trié.\n",
    "</div>"
   ]
  },
  {
   "cell_type": "markdown",
   "metadata": {},
   "source": [
    "## Partie B - Algorithmes gloutons"
   ]
  },
  {
   "cell_type": "markdown",
   "metadata": {},
   "source": [
    "L'objectif de cette partie est de découvrir un type d'algorithmes particuliers, les **algorithmes gloutons**, qui sont utilisés pour résoudre des **problèmes d'optimisation** : on recherche, parmi de nombreuses solutions possibles d'un problème, une solution qui soit meilleure que les autres, selon un critère donné."
   ]
  },
  {
   "cell_type": "markdown",
   "metadata": {},
   "source": [
    "### Problème du rendu de monnaie"
   ]
  },
  {
   "cell_type": "markdown",
   "metadata": {},
   "source": [
    "Un commerçant souhaite rendre la monnaie à son client en utilisant le moins de pièces possibles. On suppose que le commerçant dispose d'une quantité importante de chaque pièce et que les pièces disponibles sont les suivantes :"
   ]
  },
  {
   "cell_type": "markdown",
   "metadata": {},
   "source": [
    "<div>\n",
    "    <img src='https://ntoulzac.github.io/Cours-NSI-Terminale/premiere_NSI/Images/pieces_euros.png'>\n",
    "</div>"
   ]
  },
  {
   "cell_type": "markdown",
   "metadata": {},
   "source": [
    "**Question 6 :** Quel est le plus petit nombre de pièces possible dans le cas où le commerçant doit rendre 16 centimes ? 1 euro et 62 centimes ? Expliquer la méthode utilisée."
   ]
  },
  {
   "cell_type": "markdown",
   "metadata": {},
   "source": [
    "On donne maintenant l'algorithme suivant, appelé **algorithme glouton pour le rendu du monnaie**."
   ]
  },
  {
   "cell_type": "markdown",
   "metadata": {},
   "source": [
    "<div class='rq3'>\n",
    "    <p><b>Algorithme glouton pour le rendu de monnaie lorsque la somme à rendre est de <code>S</code> centimes</b></p>\n",
    "<p><b>Début</b></p>\n",
    "<p STYLE=\"padding:0 0 0 40px;\"><code>pieces</code> ← [200, 100, 50, 20, 10, 5, 2, 1]</p>\n",
    "<p STYLE=\"padding:0 0 0 40px;\"><code>k</code> ← 0</p>  \n",
    "<p STYLE=\"padding:0 0 0 40px;\"><code>nb_pieces_rendues</code> ← 0</p>  \n",
    "<p STYLE=\"padding:0 0 0 40px;\">Tant que <code>S</code> > 0 faire</p>\n",
    "<p STYLE=\"padding:0 0 0 80px;\">Si <code>S</code> &geq; <code>pieces[k]</code> alors</p>\n",
    "<p STYLE=\"padding:0 0 0 120px;\"><code>S</code> ← <code>S</code> - <code>pieces[k]</code></p>  \n",
    "<p STYLE=\"padding:0 0 0 120px;\"><code>nb_pieces_rendues</code> ← <code>nb_pieces_rendues</code> + 1</p>\n",
    "<p STYLE=\"padding:0 0 0 80px;\">Sinon</p>\n",
    "<p STYLE=\"padding:0 0 0 120px;\"><code>k</code> ← <code>k</code> + 1</p>\n",
    "<p STYLE=\"padding:0 0 0 80px;\">Fin Si</p>\n",
    "<p STYLE=\"padding:0 0 0 40px;\">Fin Tant que</p>\n",
    "<p STYLE=\"padding:0 0 0 40px;\">Retourner <code>nb_pieces_rendues</code></p>\n",
    "<p><b>Fin</b></p>\n",
    "</div>"
   ]
  },
  {
   "cell_type": "markdown",
   "metadata": {},
   "source": [
    "**Question 7 :** Ecrire le code de la fonction `rendre_monnaie` qui prend en paramètre d'entrée un entier `S` correspondant à la somme à rendre (en centimes) et qui retourne le nombre minimal de pièces à rendre."
   ]
  },
  {
   "cell_type": "code",
   "execution_count": null,
   "metadata": {},
   "outputs": [],
   "source": [
    "def rendre_monnaie(S):\n",
    "    \"\"\"\n",
    "    Détermine (par méthode gloutonne) le nombre minimal de pièces à rendre pour rendre S centimes\n",
    "    - Entrées : S (entier)\n",
    "    - Sortie : nb_pieces_rendues (entier)\n",
    "    \"\"\"\n",
    "    ??????"
   ]
  },
  {
   "cell_type": "code",
   "execution_count": null,
   "metadata": {},
   "outputs": [],
   "source": [
    "rendre_monnaie(16)"
   ]
  },
  {
   "cell_type": "code",
   "execution_count": null,
   "metadata": {},
   "outputs": [],
   "source": [
    "rendre_monnaie(162)"
   ]
  },
  {
   "cell_type": "markdown",
   "metadata": {},
   "source": [
    "**Question 8 :** Réécrire le code de la fonction `rendre_monnaie` pour qu'elle retourne le nombre de pièces à rendre de chaque type."
   ]
  },
  {
   "cell_type": "code",
   "execution_count": null,
   "metadata": {},
   "outputs": [],
   "source": [
    "def rendre_monnaie(S):\n",
    "    \"\"\"\n",
    "    Détermine (par méthode gloutonne) les pièces à rendre pour rendre S centimes\n",
    "    - Entrées : S (entier)\n",
    "    - Sortie : pieces_rendues (dictionnaire ayant pour clés les différents types de pièces)\n",
    "    \"\"\"\n",
    "    ??????"
   ]
  },
  {
   "cell_type": "code",
   "execution_count": null,
   "metadata": {},
   "outputs": [],
   "source": [
    "rendre_monnaie(16)"
   ]
  },
  {
   "cell_type": "code",
   "execution_count": null,
   "metadata": {},
   "outputs": [],
   "source": [
    "rendre_monnaie(162)"
   ]
  },
  {
   "cell_type": "markdown",
   "metadata": {},
   "source": [
    "On peut démontrer que l'algorithme glouton pour le rendu de monnaie donne toujours une réponse optimale lorsqu'on utilise les pièces en euros. Mais ce n'est pas le cas dans n'importe quel système monétaire.\n",
    "\n",
    "**Question 9 :** Imaginons un système monétaire où les seules pièces disponibles seraient des pièces de 10 centimes, de 6 centimes et de 1 centime. Quel rendu de monnaie l'algorithme glouton proposerait-il pour une somme à rendre de 12 centimes ? Cette solution serait-elle optimale ?"
   ]
  },
  {
   "cell_type": "markdown",
   "metadata": {},
   "source": [
    "## Partie C - Algorithme des k plus proches voisins"
   ]
  },
  {
   "cell_type": "markdown",
   "metadata": {},
   "source": [
    "Sur le graphique ci-dessous, chaque point représente un joueur de l'équipe de France de rugby ayant participé à la Coupe du monde 2015. La position du point correspond à la masse du joueur (en abscisses) et à sa taille (en ordonnée) ; la couleur du point correspond à son poste sur le terrain."
   ]
  },
  {
   "cell_type": "markdown",
   "metadata": {},
   "source": [
    "<img src='https://ntoulzac.github.io/Cours-NSI-Terminale/premiere_NSI/Images/knn_joueurs_France.svg'>"
   ]
  },
  {
   "cell_type": "markdown",
   "metadata": {},
   "source": [
    "On se pose la question de savoir, pour un joueur de rugby dont on connaît la masse et la taille, quel serait le poste qu'il aurait le plus de chance d'occuper sur le terrain.\n",
    "\n",
    "**Question 10 :** Si on suppose qu'un joueur `J` pèse 85 kg et mesure 1,78 m, déterminer le poste occupé par les cinq joueurs de l'équipe de France qui ont des mensurations les plus proches de `J`."
   ]
  },
  {
   "cell_type": "code",
   "execution_count": null,
   "metadata": {},
   "outputs": [],
   "source": []
  },
  {
   "cell_type": "markdown",
   "metadata": {},
   "source": [
    "**Question 11 :** Si on suppose qu'un joueur `J` pèse 100 kg et mesure 1,90 m, déterminer le poste occupé par les sept joueurs de l'équipe de France qui ont des mensurations les plus proches de `J`."
   ]
  },
  {
   "cell_type": "code",
   "execution_count": null,
   "metadata": {},
   "outputs": [],
   "source": []
  },
  {
   "cell_type": "markdown",
   "metadata": {},
   "source": [
    "L'**algorithme des `k` plus proches voisins** permet d'estimer le poste d'un joueur, à partir de sa masse et de sa taille, en regardant quel est le poste majoritaire parmi ses `k` voisins (c'est-à-dire les joueurs ayant les mensurations les plus proches des siennes). On parle aussi d'**algorithme knn** (*k nearest neighbours*). \n",
    "\n",
    "Il s'agit d'un **algorithme d'apprentissage** puisqu'on estime une donnée inconnue par comparaison avec une série de données connues.\n",
    "\n",
    "Le graphique ci-dessous est construit comme le précédent, mais en prenant en compte les joueurs de toutes les équipes nationales ayant participé à la Coupe du monde de 2015. Les données proviennent du fichier `joueurs_rugby.csv`."
   ]
  },
  {
   "cell_type": "markdown",
   "metadata": {},
   "source": [
    "<img src='https://ntoulzac.github.io/Cours-NSI-Terminale/premiere_NSI/Images/knn_joueurs_monde.svg'>"
   ]
  },
  {
   "cell_type": "markdown",
   "metadata": {},
   "source": [
    "**Question 12 :** Ecrire une fonction `importer_donnees` permettant de récupérer la taille, le poids et le poste de tous les joueurs ayant participé à la Coupe du monde 2015. Les données de chaque joueur seront stockées dans un dictionnaire ayant pour clés `taille`, `poids` et `poste`, et l'ensemble des dictionnaires sera stocké dans un tableau. "
   ]
  },
  {
   "cell_type": "code",
   "execution_count": null,
   "metadata": {},
   "outputs": [],
   "source": [
    "def importer_donnees():\n",
    "    \"\"\"\n",
    "    Récupère la taille, le poids et le poste de tous les rugbymans ayant participé à la Coupe du monde 2015.\n",
    "    - Sortie : tab (tableau dont les éléments sont des dictionnaires)\n",
    "    \"\"\"\n",
    "    ??????"
   ]
  },
  {
   "cell_type": "code",
   "execution_count": null,
   "metadata": {},
   "outputs": [],
   "source": [
    "joueurs = importer_donnees()"
   ]
  },
  {
   "cell_type": "markdown",
   "metadata": {},
   "source": [
    "**Question 13 :** Ecrire une fonction `k_voisins` qui prend en paramètres d'entrée un entier strictement positif `k`, un tableau de données `donnees` et deux nombres positifs `taille` et `poids` et qui renvoie un tableau contenant le poste des `k` joueurs de rugby ayant les mensurations les plus proches de `taille` et `poids`. "
   ]
  },
  {
   "cell_type": "code",
   "execution_count": null,
   "metadata": {},
   "outputs": [],
   "source": [
    "def k_voisins(k, donnees, taille, poids):\n",
    "    \"\"\"\n",
    "    Détermine, parmi les donnees, quels sont les k joueurs qui ont les mensurations les plus proches\n",
    "    de la taille et du poids passés en paramètres.\n",
    "    - Entrées : k (entier, nombre de voisins souhaité), donnees (tableau de dictionnaires),\n",
    "                taille, poids (nombres)\n",
    "    - Sortie : tab (tableau de chaînes de caractères, les postes des k voisins les plus proches)\n",
    "    \"\"\"\n",
    "    ??????"
   ]
  },
  {
   "cell_type": "markdown",
   "metadata": {},
   "source": [
    "**Question 14 :** Ecrire une fonction `element_majoritaire` qui prend en paramètre d'entrée un tableau et qui renvoie la valeur majoritaire dans le tableau. En cas d'*ex aequo*, la fonction renvoie une des valeurs majoritaires."
   ]
  },
  {
   "cell_type": "code",
   "execution_count": null,
   "metadata": {},
   "outputs": [],
   "source": [
    "def element_majoritaire(tab):\n",
    "    \"\"\"\n",
    "    Détermine l'élément majoritaire dans un tableau.\n",
    "    - Entrée : tab (tableau)\n",
    "    - Sortie : (élément majoritaire du tableau)\n",
    "    \"\"\"\n",
    "    ??????"
   ]
  },
  {
   "cell_type": "markdown",
   "metadata": {},
   "source": [
    "**Question 15 :** Ecrire des lignes de code permettant de déterminer, grâce à l'algorithme des `k` plus proches voisins et pour différentes valeurs de `k`, le poste d'un joueur de rugby de 90 kg et 1,90 m."
   ]
  },
  {
   "cell_type": "code",
   "execution_count": null,
   "metadata": {},
   "outputs": [],
   "source": []
  },
  {
   "cell_type": "markdown",
   "metadata": {},
   "source": [
    "## Ce que vous devez savoir"
   ]
  },
  {
   "cell_type": "markdown",
   "metadata": {},
   "source": [
    "<div class=\"rq2\">\n",
    "    <b>Ce que vous devez savoir :</b>\n",
    "    <ul>\n",
    "        <li>Ecrire un algorithme de recherche séquentielle d'une valeur dans un tableau.</li>\n",
    "        <li>Savoir qu'un algorithme de recherche séquentielle a une complexité linéaire.</li>\n",
    "        <li>Ecrire un algorithme de recherche dichotomique d'une valeur dans un tableau trié.</li>\n",
    "        <li>Savoir qu'un algorithme de recherche dichotomique a une complexité logarithmique.</li>\n",
    "        <li>Déterminer le nombre d'itérations nécessaires pour trouver (par recherche dichotomique) une valeur donnée dans un tableau trié donné.</li>\n",
    "        <li>Connaître la notion de terminaison (et de variant de boucle) et la notion de correction partielle (et d'invariant de boucle) d'un algorithme.</li>\n",
    "        <li>Utiliser un algorithme glouton pour résoudre un problème d'optimisation.</li>\n",
    "        <li>Utiliser l'algorithme des k plus proches voisins.</li>\n",
    "    </ul>\n",
    "</div>"
   ]
  },
  {
   "cell_type": "markdown",
   "metadata": {},
   "source": [
    "## Exercices bilan"
   ]
  },
  {
   "cell_type": "markdown",
   "metadata": {},
   "source": [
    "### Exercice 1"
   ]
  },
  {
   "cell_type": "markdown",
   "metadata": {},
   "source": [
    "Exécuter l'algorithme de recherche dichotomique *à la main* pour le tableau suivant :"
   ]
  },
  {
   "cell_type": "markdown",
   "metadata": {},
   "source": [
    "<div>\n",
    "    <img src='https://ntoulzac.github.io/Cours-NSI-Terminale/premiere_NSI/Images/ex1.png'>\n",
    "</div>"
   ]
  },
  {
   "cell_type": "markdown",
   "metadata": {},
   "source": [
    "pour rechercher successivement dans le tableau :\n",
    "\n",
    "- la valeur 27."
   ]
  },
  {
   "cell_type": "markdown",
   "metadata": {},
   "source": [
    "- la valeur 6."
   ]
  },
  {
   "cell_type": "markdown",
   "metadata": {},
   "source": [
    "- la valeur 18."
   ]
  },
  {
   "cell_type": "markdown",
   "metadata": {},
   "source": [
    "### Exercice 2"
   ]
  },
  {
   "cell_type": "markdown",
   "metadata": {},
   "source": [
    "Voici une variante du **problème du sac à dos**.\n",
    "\n",
    "Un libraire propose de racheter des livres à ses clients, et met en ligne une application qui permet aux clients d'estimer le prix de rachat de chaque livre par le libraire. Par contre, ce dernier refuse de reprendre plus d'un kilogramme de livres.\n",
    "\n",
    "Voici la masse et la valeur estimée de six livres qu'un client est susceptible de revendre au libraire :"
   ]
  },
  {
   "cell_type": "markdown",
   "metadata": {},
   "source": [
    "<div>\n",
    "    <table>\n",
    "        <tr>\n",
    "            <th><center>Livre</center></th>\n",
    "            <td><center>A</center></td>\n",
    "            <td><center>B</center></td>\n",
    "            <td><center>C</center></td>\n",
    "            <td><center>D</center></td>\n",
    "            <td><center>E</center></td>\n",
    "            <td><center>F</center></td>\n",
    "        </tr>\n",
    "        <tr>\n",
    "            <th><center>Valeur<br>(en euros)</center></th>\n",
    "            <td><center>4,55</center></td>\n",
    "            <td><center>3,60</center></td>\n",
    "            <td><center>2,40</center></td>\n",
    "            <td><center>1,35</center></td>\n",
    "            <td><center>1,30</center></td>\n",
    "            <td><center>0,10</center></td>\n",
    "        </tr>\n",
    "        <tr>\n",
    "            <th><center>Masse<br>(en grammes)</center></th>\n",
    "            <td><center>700</center></td>\n",
    "            <td><center>600</center></td>\n",
    "            <td><center>400</center></td>\n",
    "            <td><center>300</center></td>\n",
    "            <td><center>200</center></td>\n",
    "            <td><center>100</center></td>\n",
    "        </tr>\n",
    "    </table>\n",
    "</div>"
   ]
  },
  {
   "cell_type": "markdown",
   "metadata": {},
   "source": [
    "Lister toutes les combinaisons possibles qui peuvent être formées par le client et indiquer la somme d'argent que le client peut obtenir pour chaque combinaison."
   ]
  },
  {
   "cell_type": "markdown",
   "metadata": {},
   "source": [
    "Appliquer successivement les trois stratégies gloutonnes suivantes :\n",
    "- choisir les livres par ordre décroissant de valeur (parmi ceux dont la masse ne dépasse pas la capacité restante)."
   ]
  },
  {
   "cell_type": "markdown",
   "metadata": {},
   "source": [
    "- choisir les livres par ordre de masse décroissante."
   ]
  },
  {
   "cell_type": "markdown",
   "metadata": {},
   "source": [
    "- choisir les livres par ordre décroissant de rapport valeur/masse (parmi ceux dont la masse ne dépasse pas la capacité restante)."
   ]
  }
 ],
 "metadata": {
  "kernelspec": {
   "display_name": "Python 3",
   "language": "python",
   "name": "python3"
  },
  "language_info": {
   "codemirror_mode": {
    "name": "ipython",
    "version": 3
   },
   "file_extension": ".py",
   "mimetype": "text/x-python",
   "name": "python",
   "nbconvert_exporter": "python",
   "pygments_lexer": "ipython3",
   "version": "3.8.5"
  }
 },
 "nbformat": 4,
 "nbformat_minor": 2
}
