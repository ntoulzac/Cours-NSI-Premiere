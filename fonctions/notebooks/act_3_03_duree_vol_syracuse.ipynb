{
 "cells": [
  {
   "cell_type": "markdown",
   "metadata": {},
   "source": [
    "<div style='background-color: #87ceeb;\n",
    "    border: 0.5em solid black;\n",
    "    border-radius: 0.5em;\n",
    "    padding: 1em;'>\n",
    "    <h2>Activité 3-03</h2>\n",
    "    <h1>Retour sur la suite de Syracuse</h1>\n",
    "</div>"
   ]
  },
  {
   "cell_type": "markdown",
   "metadata": {},
   "source": [
    "On rappelle que la **suite de Syracuse** est une suite mathématique définie de la façon suivante :\n",
    "- On considère une valeur initiale ``s`` entière strictement positive.\n",
    "- On remplace ``s`` par ``s // 2`` dans le cas où ``s`` est paire, et par ``3 * s + 1`` dans le cas où ``s`` est impaire.\n",
    "- On répète l'opération précédente, et on s'arrête dans le cas où ``s`` vaut ``1``.\n",
    "\n",
    "**Question 5 :** Ecrire une fonction ``successeur`` prenant un entier ``s`` en paramètre d'entrée et retournant le successeur de ``s`` dans la suite de Syracuse, tel que défini ci-dessus."
   ]
  },
  {
   "cell_type": "code",
   "execution_count": null,
   "metadata": {},
   "outputs": [],
   "source": []
  },
  {
   "cell_type": "markdown",
   "metadata": {},
   "source": [
    "**Question 6 :** Tester la fonction ``successeur`` en vérifiant que les termes de la suite commençant par ``6`` sont : ``3``, ``10``, ``5``, ``16``, ``8``, ``4``, ``2`` et ``1``."
   ]
  },
  {
   "cell_type": "code",
   "execution_count": null,
   "metadata": {},
   "outputs": [],
   "source": []
  },
  {
   "cell_type": "markdown",
   "metadata": {},
   "source": [
    "On appelle **durée de vol** de l'entier ``s`` le nombre de calculs nécessaires dans la suite de Syracuse pour arriver à ``1`` à partir de ``s``. Par exemple, au vu de ce qui précède, la durée de vol de l'entier ``6`` est égale à 8."
   ]
  },
  {
   "cell_type": "markdown",
   "metadata": {},
   "source": [
    "**Question 7 :** Ecrire une fonction ``duree_de_vol`` prenant un entier ``s`` en paramètre d'entrée et retournant la durée de vol de ``s`` telle que définie ci-dessus. La séquence d'instructions de la fonction ``duree_de_vol`` devra faire appel à la fonction ``successeur``."
   ]
  },
  {
   "cell_type": "code",
   "execution_count": null,
   "metadata": {},
   "outputs": [],
   "source": []
  },
  {
   "cell_type": "markdown",
   "metadata": {},
   "source": [
    "**Question 8 :** Tester la fonction ``duree_de_vol`` pour plusieurs valeurs de ``s``, en commençant par ``s = 6``."
   ]
  },
  {
   "cell_type": "code",
   "execution_count": null,
   "metadata": {},
   "outputs": [],
   "source": []
  },
  {
   "cell_type": "markdown",
   "metadata": {},
   "source": [
    "Il est intéressant d'utiliser l'outil *Tutor magic* pour observer l'évolution de la mémoire lors d'un appel de la fonction ``duree_de_vol``.\n",
    "\n",
    "**Question 9 :** Exécuter les deux cellules suivantes, après avoir recopié la définition des fonctions ``successeur`` et ``duree_de_vol`` à leur place respective :"
   ]
  },
  {
   "cell_type": "code",
   "execution_count": null,
   "metadata": {},
   "outputs": [],
   "source": [
    "%load_ext tutormagic"
   ]
  },
  {
   "cell_type": "code",
   "execution_count": null,
   "metadata": {
    "scrolled": true
   },
   "outputs": [],
   "source": [
    "%%tutor --lang python3 --heapPrimitives\n",
    "def successeur(s):\n",
    "    # Code à recopier...\n",
    "    \n",
    "def duree_de_vol(s):\n",
    "    # Code à recopier...\n",
    "\n",
    "s = 6\n",
    "print(duree_de_vol(s))"
   ]
  },
  {
   "cell_type": "markdown",
   "metadata": {},
   "source": [
    "<div class=\"rq\">\n",
    "    Les <b>variables globales</b> du programme apparaissent dans le cadre <code>Global frame</code>. Il s'agit de la fonction <code>successeur</code> (définie à la ligne 1), de la fonction <code>duree_de_vol</code> (définie à la ligne 6) et de la variable <code>s</code> (initialisée à la ligne 12).<br>\n",
    "    Lors de l'appel <code>duree_de_vol(s)</code> (ligne 13), un nouveau cadre apparaît : le cadre des <b>variables locales</b> de la fonction <code>duree_de_vol</code>. La valeur du paramètre d'entrée <code>s</code> (variable locale) est égale à <code>6</code> au début de l'exécution de la fonction, puisque c'est la valeur de la variable <code>s</code> (variable globale) qui est passée en argument.<br>\n",
    "    La variable locale <code>compteur</code> est initialisée à la valeur <code>0</code> et elle est associée à la fonction <code>duree_de_vol</code>. Elle disparaît donc de la mémoire lorsque l'exécution de <code>duree_de_vol</code> se termine.\n",
    "</div>"
   ]
  },
  {
   "cell_type": "markdown",
   "metadata": {},
   "source": [
    "**Question 10 :** Afficher la durée de vol de tous les entiers compris entre 1 et 100, chaque valeur étant séparée de la précédente par deux espaces."
   ]
  },
  {
   "cell_type": "code",
   "execution_count": null,
   "metadata": {},
   "outputs": [],
   "source": []
  },
  {
   "cell_type": "markdown",
   "metadata": {},
   "source": [
    "**Question 11 :** Écrire des lignes de code permettant de savoir quel est le plus petit entier ``s`` ayant une durée de vol supérieure ou égale à 200."
   ]
  },
  {
   "cell_type": "code",
   "execution_count": null,
   "metadata": {},
   "outputs": [],
   "source": []
  },
  {
   "cell_type": "markdown",
   "metadata": {},
   "source": [
    "**Question 12 :** Transformer le code de la cellule précédente en une fonction ``duree_de_vol_minimale`` prenant un entier ``duree_min`` en entrée et retournant la valeur du plus petit entier ``s`` ayant une durée de vol supérieure ou égale à ``duree_min``.\n",
    "\n",
    "Tester ensuite la fonction pour ``duree_min = 200`` et vérifier qu'on retrouve le même résultat qu'à la question précédente."
   ]
  },
  {
   "cell_type": "code",
   "execution_count": null,
   "metadata": {},
   "outputs": [],
   "source": []
  },
  {
   "cell_type": "code",
   "execution_count": null,
   "metadata": {},
   "outputs": [],
   "source": [
    "x = 200\n",
    "print('Le plus petit entier ayant une durée de vol supérieure ou égale à', x, 'est', duree_de_vol_minimale(x))"
   ]
  },
  {
   "cell_type": "code",
   "execution_count": null,
   "metadata": {},
   "outputs": [],
   "source": [
    "x = 300\n",
    "print('Le plus petit entier ayant une durée de vol supérieure ou égale à', x, 'est', duree_de_vol_minimale(x))"
   ]
  },
  {
   "cell_type": "markdown",
   "metadata": {},
   "source": [
    "**Question 13 :** En utilisant l'outil *Time it*, estimer le temps que dure l'exécution de la fonction ``duree_de_vol_minimale`` lorsqu'elle est appelée pour ``duree_min = 400``."
   ]
  },
  {
   "cell_type": "code",
   "execution_count": null,
   "metadata": {},
   "outputs": [],
   "source": []
  }
 ],
 "metadata": {
  "kernelspec": {
   "display_name": "Python 3 (ipykernel)",
   "language": "python",
   "name": "python3"
  },
  "language_info": {
   "codemirror_mode": {
    "name": "ipython",
    "version": 3
   },
   "file_extension": ".py",
   "mimetype": "text/x-python",
   "name": "python",
   "nbconvert_exporter": "python",
   "pygments_lexer": "ipython3",
   "version": "3.9.12"
  }
 },
 "nbformat": 4,
 "nbformat_minor": 2
}
