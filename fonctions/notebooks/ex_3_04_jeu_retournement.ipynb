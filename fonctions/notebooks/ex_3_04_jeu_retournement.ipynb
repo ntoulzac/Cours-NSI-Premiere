{
 "cells": [
  {
   "cell_type": "markdown",
   "metadata": {},
   "source": [
    "<div style='background-color: #e3a8b6;\n",
    "    border: 0.5em solid black;\n",
    "    border-radius: 0.5em;\n",
    "    padding: 1em;'>\n",
    "    <h2>Exercice 3-04</h2>\n",
    "    <h1>Jeu du retournement</h1>\n",
    "</div>"
   ]
  },
  {
   "cell_type": "markdown",
   "metadata": {},
   "source": []
  },
  {
   "cell_type": "markdown",
   "metadata": {},
   "source": [
    "L'exécution de la cellule qui suit lance une partie du *Jeu de retournement* : en cliquant sur une case, on change sa couleur ainsi que celle de ses quatre voisines. Le but du jeu est de retourner toutes les cases.\n",
    "\n",
    "Êtes-vous capable de gagner une partie pour un plateau de taille 3 x 3, puis pour un plateau de taille 4 x 4 ?"
   ]
  },
  {
   "cell_type": "markdown",
   "metadata": {},
   "source": [
    "Voici la spécification de chacune des fonctions définies pour le *Jeu de retournement*. Le code à proprement parler n'est pas commenté et n'est pas à comprendre pour le moment. Il utilise en effet plusieurs concepts que nous étudierons plus tard dans l'année."
   ]
  },
  {
   "cell_type": "code",
   "execution_count": null,
   "metadata": {},
   "outputs": [],
   "source": [
    "def afficher(grille, fenetre):\n",
    "    \"\"\"\n",
    "    Affiche la grille dans la fenêtre graphique (case retournée jaune, non retournée bleue)\n",
    "    - Entrees : grille (tableau), fenetre (fenetre Pygame)\n",
    "    - Effet de bord : modification de la fenêtre graphique\n",
    "    \"\"\"\n",
    "    for L in range(NBLC):\n",
    "        for C in range(NBLC):\n",
    "            rectangle = (C*TAILLE_CASE, L*TAILLE_CASE, (C+1)*TAILLE_CASE, (L+1)*TAILLE_CASE)\n",
    "            if grille[L][C] != 0:\n",
    "                pygame.draw.rect(fenetre, BLEU, rectangle)\n",
    "            else :\n",
    "                pygame.draw.rect(fenetre, JAUNE, rectangle)\n",
    "    for i in range (1, NBLC):\n",
    "        pygame.draw.line(fenetre, BLANC, (i*TAILLE_CASE, 0), (i*TAILLE_CASE, NBLC*TAILLE_CASE), 2)\n",
    "        pygame.draw.line(fenetre, BLANC, (0, i*TAILLE_CASE), (NBLC*TAILLE_CASE, i*TAILLE_CASE), 2)\n",
    "    pygame.display.flip()"
   ]
  },
  {
   "cell_type": "code",
   "execution_count": null,
   "metadata": {},
   "outputs": [],
   "source": [
    "def clic():\n",
    "    \"\"\"\n",
    "    Attend que le joueur clique dans la fenêtre graphique et détermine sur quelle case le joueur a cliqué\n",
    "    - Sortie : un couple d'entiers (ligne et colonne sur laquelle le joueur a cliqué)\n",
    "    \"\"\"\n",
    "    while True:\n",
    "        pygame.time.Clock().tick(30)\n",
    "        for event in pygame.event.get():\n",
    "            if event.type == QUIT or event.type == KEYDOWN and event.key == K_ESCAPE:\n",
    "                pygame.quit()\n",
    "            elif event.type == MOUSEBUTTONDOWN:\n",
    "                x, y = pygame.mouse.get_pos()\n",
    "                return y // TAILLE_CASE, x // TAILLE_CASE"
   ]
  },
  {
   "cell_type": "code",
   "execution_count": null,
   "metadata": {},
   "outputs": [],
   "source": [
    "def ecran_final(fenetre):\n",
    "    \"\"\"\n",
    "    Affiche un message de victoire dans la fenêtre graphique\n",
    "    - Entree : fenetre (fenetre Pygame)\n",
    "    - Effet de bord : modification de la fenêtre graphique\n",
    "    \"\"\"\n",
    "    fenetre.fill(BLEU)\n",
    "    pygame.font.init()\n",
    "    texte = pygame.font.SysFont('Arial', 64).render('Victoire', False, JAUNE, BLEU)\n",
    "    coin_du_texte = (TAILLE_FENETRE - texte.get_width()) // 2, (TAILLE_FENETRE - texte.get_height()) // 2\n",
    "    fenetre.blit(texte, coin_du_texte)\n",
    "    pygame.display.flip()"
   ]
  },
  {
   "cell_type": "code",
   "execution_count": null,
   "metadata": {},
   "outputs": [],
   "source": [
    "def jouer_coup(grille, l, c):\n",
    "    \"\"\"\n",
    "    Retourne la case située sur la ligne l et la colonne c ainsi que ses voisines\n",
    "    - Entrées : grille (tableau), l et c (entiers)\n",
    "    - Sortie : grille (tableau)\n",
    "    \"\"\"\n",
    "    for i, j in [(0, 0), (-1, 0), (1, 0), (0, 1), (0, -1)]:\n",
    "        if l + i in range(NBLC) and c + j in range(NBLC):\n",
    "            grille[l + i][c + j] = (grille[l + i][c + j] + 1) % 2\n",
    "    return grille"
   ]
  },
  {
   "cell_type": "code",
   "execution_count": null,
   "metadata": {},
   "outputs": [],
   "source": [
    "def plateau_vide():\n",
    "    \"\"\"\n",
    "    Crée un tableau composé de 0 (cases non retournées)\n",
    "    - Sortie : grille (tableau de taille NBLC x NBLC composé d'entiers)\n",
    "    \"\"\"\n",
    "    grille = []\n",
    "    for i in range(NBLC):\n",
    "        ligne = []\n",
    "        for j in range(NBLC):\n",
    "            ligne.append(0)\n",
    "        grille.append(ligne)\n",
    "    return grille"
   ]
  },
  {
   "cell_type": "code",
   "execution_count": null,
   "metadata": {},
   "outputs": [],
   "source": [
    "def programme_principal():\n",
    "    \"\"\"\n",
    "    Lance une partie du Jeu de retournement\n",
    "    \"\"\"\n",
    "    # Lancement de Pygame et ouverture de la fenêtre de jeu\n",
    "    pygame.init()\n",
    "    fenetre_de_jeu = pygame.display.set_mode((TAILLE_FENETRE, TAILLE_FENETRE))\n",
    "    pygame.display.set_caption('Retourner toutes les cases')\n",
    "\n",
    "    # Création d'un plateau de jeu vide\n",
    "    plateau_de_jeu = plateau_vide()\n",
    "    afficher(plateau_de_jeu, fenetre_de_jeu)\n",
    "\n",
    "    # Boucle de jeu\n",
    "    while not victoire(plateau_de_jeu):\n",
    "        l, c = clic()\n",
    "        plateau_de_jeu = jouer_coup(plateau_de_jeu, l, c)\n",
    "        afficher(plateau_de_jeu, fenetre_de_jeu)\n",
    "\n",
    "    # Ecran de victoire et fermeture de la fenêtre de jeu\n",
    "    ecran_final(fenetre_de_jeu)\n",
    "    sleep(2)\n",
    "    pygame.quit()"
   ]
  },
  {
   "cell_type": "code",
   "execution_count": null,
   "metadata": {},
   "outputs": [],
   "source": [
    "def victoire(grille):\n",
    "    \"\"\"\n",
    "    Détermine si la partie est terminée ou non\n",
    "    - Entrée : grille (tableau)\n",
    "    - Sortie : booléen (True si la partie est finie, False sinon)\n",
    "    \"\"\"\n",
    "    for ligne in grille:\n",
    "        for elem in ligne:\n",
    "            if elem == 0:\n",
    "                return False\n",
    "    return True"
   ]
  },
  {
   "cell_type": "code",
   "execution_count": null,
   "metadata": {},
   "outputs": [],
   "source": [
    "import pygame\n",
    "from pygame.locals import *\n",
    "from random import randint\n",
    "from time import sleep\n",
    "\n",
    "JAUNE = (255, 255, 0) # Composantes RVB (Rouge-Vert-Bleu) de la couleur jaune\n",
    "BLEU = (0, 0, 255)\n",
    "BLANC = (255, 255, 255)\n",
    "\n",
    "NBLC = 3 # Nombre de lignes et de colonnes du plateau\n",
    "\n",
    "TAILLE_FENETRE = 540 # En pixels\n",
    "TAILLE_CASE = TAILLE_FENETRE // NBLC # En pixels\n",
    "TAILLE_FENETRE = NBLC * TAILLE_CASE\n",
    "\n",
    "programme_principal()"
   ]
  }
 ],
 "metadata": {
  "kernelspec": {
   "display_name": "Python 3 (ipykernel)",
   "language": "python",
   "name": "python3"
  },
  "language_info": {
   "codemirror_mode": {
    "name": "ipython",
    "version": 3
   },
   "file_extension": ".py",
   "mimetype": "text/x-python",
   "name": "python",
   "nbconvert_exporter": "python",
   "pygments_lexer": "ipython3",
   "version": "3.9.12"
  }
 },
 "nbformat": 4,
 "nbformat_minor": 2
}
