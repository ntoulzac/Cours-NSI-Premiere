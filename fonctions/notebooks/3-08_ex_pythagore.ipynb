{
 "cells": [
  {
   "cell_type": "markdown",
   "metadata": {},
   "source": [
    "<div style='background-color: #e3a8b6;\n",
    "    border: 0.5em solid black;\n",
    "    border-radius: 0.5em;\n",
    "    padding: 1em;'>\n",
    "    <h2>Exercice 3-08</h2>\n",
    "    <h1>Théorème de Pythagore</h1>\n",
    "</div>"
   ]
  },
  {
   "cell_type": "markdown",
   "metadata": {},
   "source": [
    "On considère un triangle dont les longueurs des côtés sont trois entiers `a`, `b` et `c`.\n",
    "\n",
    "**1.** Définir une fonction `est_rectangle` qui prend en paramètres d'entrée `a`, `b` et `c` et qui renvoie `True` si le triangle est rectangle et `False` sinon."
   ]
  },
  {
   "cell_type": "code",
   "execution_count": null,
   "metadata": {},
   "outputs": [],
   "source": []
  },
  {
   "cell_type": "code",
   "execution_count": null,
   "metadata": {},
   "outputs": [],
   "source": [
    "print(est_rectangle(3, 4, 5), end=\" \")  # est rectangle\n",
    "print(est_rectangle(4, 5, 3), end=\" \")  # est rectangle\n",
    "print(est_rectangle(5, 4, 5), end=\" \")  # n'est pas rectangle"
   ]
  },
  {
   "cell_type": "markdown",
   "metadata": {},
   "source": [
    "**2.** Recopier et modifier la définition de la fonction en ajoutant des assertions pour vérifier que les arguments passés en paramètre sont bien des entiers positifs."
   ]
  },
  {
   "cell_type": "code",
   "execution_count": null,
   "metadata": {},
   "outputs": [],
   "source": []
  }
 ],
 "metadata": {
  "kernelspec": {
   "display_name": "Python 3 (ipykernel)",
   "language": "python",
   "name": "python3"
  },
  "language_info": {
   "codemirror_mode": {
    "name": "ipython",
    "version": 3
   },
   "file_extension": ".py",
   "mimetype": "text/x-python",
   "name": "python",
   "nbconvert_exporter": "python",
   "pygments_lexer": "ipython3",
   "version": "3.9.12"
  }
 },
 "nbformat": 4,
 "nbformat_minor": 2
}
