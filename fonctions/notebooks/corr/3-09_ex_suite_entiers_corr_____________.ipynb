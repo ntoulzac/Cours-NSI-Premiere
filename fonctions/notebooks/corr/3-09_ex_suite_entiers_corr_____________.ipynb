{
 "cells": [
  {
   "cell_type": "markdown",
   "metadata": {},
   "source": [
    "<div style='background-color: #e3a8b6;\n",
    "    border: 0.5em solid black;\n",
    "    border-radius: 0.5em;\n",
    "    padding: 1em;'>\n",
    "    <h2>Exercice 3-09</h2>\n",
    "    <h1>Suite d'entiers</h1>\n",
    "</div>"
   ]
  },
  {
   "cell_type": "markdown",
   "metadata": {},
   "source": [
    "**1.** Après avoir testé la fonction `decomposition` définie ci-dessous, écrire sa spécification."
   ]
  },
  {
   "cell_type": "code",
   "execution_count": null,
   "metadata": {},
   "outputs": [],
   "source": [
    "def decomposition(n):\n",
    "    \"\"\"\n",
    "    Décompose un entier en chiffre des centaines, chiffre des dizaines et chiffre des unités.\n",
    "    - Entrée : n (entier)\n",
    "    - Sortie : c, d, u (triplet d'entiers)\n",
    "    \"\"\"\n",
    "    c = n // 100\n",
    "    d = (n - 100*c) // 10\n",
    "    u = n % 10\n",
    "    return c, d, u"
   ]
  },
  {
   "cell_type": "code",
   "execution_count": null,
   "metadata": {},
   "outputs": [],
   "source": [
    "decomposition(628)"
   ]
  },
  {
   "cell_type": "markdown",
   "metadata": {},
   "source": [
    "**2.** Recopier et modifier la définition de la fonction `decomposition` pour qu'une erreur se produise lorsqu'elle est appelée avec un paramètre `n` entier non compris entre `1` et `999`."
   ]
  },
  {
   "cell_type": "code",
   "execution_count": null,
   "metadata": {},
   "outputs": [],
   "source": [
    "def decomposition(n):\n",
    "    \"\"\"\n",
    "    Décompose un entier en chiffre des centaines, chiffre des dizaines et chiffre des unités.\n",
    "    - Entrée : n (entier compris entre 1 et 999)\n",
    "    - Sortie : c, d, u (triplet d'entiers)\n",
    "    \"\"\"\n",
    "    assert type(n) == int and 1 <= n <= 999, \"n doit être un entier compris entre 1 et 999\"\n",
    "    c = n // 100\n",
    "    d = (n - 100*c) // 10\n",
    "    u = n % 10\n",
    "    return c, d, u"
   ]
  },
  {
   "cell_type": "markdown",
   "metadata": {},
   "source": [
    "On considère maintenant la suite de nombres définie de la façon suivante :\n",
    "\n",
    "- La valeur initiale de la suite est un entier compris entre `1` et `999`.\n",
    "- Tant que la valeur de la suite n'est ni égale à `1` ni égale à `4`, on remplace la valeur par la somme des carrés de ses chiffres. Par exemple, la valeur `23` doit être remplacée par la valeur `13` car les chiffres qui composent l'entier `23` sont $2$ et $3$, et on a $2^2 + 3^2 = 4 + 9 = 13$.\n",
    "\n",
    "**3.** Définir une fonction `successeur` qui prend en paramètre d'entrée un entier compris entre `1` et `999` et qui renvoie le terme suivant dans la suite, tel que défini précédemment. Par exemple, l'appel `successeur(23)` doit renvoyer `13`."
   ]
  },
  {
   "cell_type": "code",
   "execution_count": null,
   "metadata": {},
   "outputs": [],
   "source": [
    "def successeur(n):\n",
    "    \"\"\"\n",
    "    Calcule la somme des carrés des chiffres d'un entier compris entre 1 et 999.\n",
    "    - Entrée : n (entier compris entre 1 et 999)\n",
    "    - Sortie : (entier)\n",
    "    \"\"\"\n",
    "    c, d, u = decomposition(n)\n",
    "    return c**2 + d**2 + u**2"
   ]
  },
  {
   "cell_type": "code",
   "execution_count": null,
   "metadata": {},
   "outputs": [],
   "source": [
    "successeur(23)"
   ]
  },
  {
   "cell_type": "markdown",
   "metadata": {},
   "source": [
    "**4.** Définir une fonction `valeur_finale` qui prend en paramètre d'entrée un entier compris entre `1` et `999` et qui calcule les successeurs de cet entier jusqu'à aboutir à la valeur `1` ou à la valeur `4`. La fonction `valeur_finale` renvoie alors `1` ou `4` suivant le cas. "
   ]
  },
  {
   "cell_type": "code",
   "execution_count": null,
   "metadata": {},
   "outputs": [],
   "source": [
    "def valeur_finale(n):\n",
    "    \"\"\"\n",
    "    Détermine si la suite aboutit à la valeur 1 ou à la valeur 4.\n",
    "    - Entrée : n (entier, terme initial de la suite)\n",
    "    - Sortie : (entier, 1 ou 4)\n",
    "    \"\"\"\n",
    "    while n != 1 and n != 4:\n",
    "        n = successeur(n)\n",
    "    return n"
   ]
  },
  {
   "cell_type": "markdown",
   "metadata": {},
   "source": [
    "**5.** Parmi les entiers compris entre `1` et `999`, afficher tous ceux qui, étant pris comme valeur initiale pour la suite, finissent par aboutir à la valeur `1`."
   ]
  },
  {
   "cell_type": "code",
   "execution_count": null,
   "metadata": {},
   "outputs": [],
   "source": [
    "for n in range(1, 1000):\n",
    "    if valeur_finale(n) == 1:\n",
    "        print(n, end=\" \")"
   ]
  },
  {
   "cell_type": "markdown",
   "metadata": {},
   "source": [
    "**6.** Parmi les entiers compris entre `1` et `999`, calculer la proportion de ceux qui, étant pris comme valeur initiale pour la suite, finissent par aboutir à la valeur `4`."
   ]
  },
  {
   "cell_type": "code",
   "execution_count": null,
   "metadata": {},
   "outputs": [],
   "source": [
    "cpt = 0\n",
    "for n in range(1, 1000):\n",
    "    if valeur_finale(n) == 1:\n",
    "        cpt = cpt + 1\n",
    "print(\"La proportion est de\", round(cpt / 999 * 100, 1), \"%.\")"
   ]
  }
 ],
 "metadata": {
  "kernelspec": {
   "display_name": "Python 3 (ipykernel)",
   "language": "python",
   "name": "python3"
  },
  "language_info": {
   "codemirror_mode": {
    "name": "ipython",
    "version": 3
   },
   "file_extension": ".py",
   "mimetype": "text/x-python",
   "name": "python",
   "nbconvert_exporter": "python",
   "pygments_lexer": "ipython3",
   "version": "3.9.12"
  }
 },
 "nbformat": 4,
 "nbformat_minor": 2
}
