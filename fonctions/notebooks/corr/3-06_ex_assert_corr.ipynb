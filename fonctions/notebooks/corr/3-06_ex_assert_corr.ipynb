{
 "cells": [
  {
   "cell_type": "markdown",
   "metadata": {},
   "source": [
    "<div style='background-color: #e3a8b6;\n",
    "    border: 0.5em solid black;\n",
    "    border-radius: 0.5em;\n",
    "    padding: 1em;'>\n",
    "    <h2>Exercice 3-06</h2>\n",
    "    <h1>Assertions avec <code>assert</code></h1>\n",
    "</div>"
   ]
  },
  {
   "cell_type": "markdown",
   "metadata": {},
   "source": [
    "On donne la définition d'une fonction `aire_triangle`.\n",
    "\n",
    "```python\n",
    "def aire_triangle(a, b, c):\n",
    "    \"\"\"\n",
    "    Calcule l'aire d'un triangle.\n",
    "    - Entrées : a, b, c (nombres positifs, longueurs des côtés du triangle)\n",
    "    - Sortie : aire (nombre positif)\n",
    "    \"\"\"\n",
    "    demi_perimetre = (a + b + c) / 2\n",
    "    aire = (demi_perimetre * (demi_perimetre - a) * (demi_perimetre - b) * (demi_perimetre - c)) ** 0.5\n",
    "    return aire\n",
    "```\n",
    "\n",
    "Ajouter des assertions (utilisant le mot-clé `assert`) pour vérifier que les paramètres d'entrée `a`, `b` et `c` sont des nombres positifs et que le paramètre de sortie `aire` est un nombre positif."
   ]
  },
  {
   "cell_type": "code",
   "execution_count": null,
   "metadata": {},
   "outputs": [],
   "source": [
    "def aire_triangle(a, b, c):\n",
    "    \"\"\"\n",
    "    Calcule l'aire d'un triangle.\n",
    "    - Entrées : a, b, c (nombres positifs, longueurs des côtés du triangle)\n",
    "    - Sortie : aire (nombre positif)\n",
    "    \"\"\"\n",
    "    assert (type(a) == int or type(a) == float) and a >= 0, \"a doit être un nombre positif\"\n",
    "    assert (type(b) == int or type(b) == float) and b >= 0, \"b doit être un nombre positif\"\n",
    "    assert (type(c) == int or type(c) == float) and c >= 0, \"c doit être un nombre positif\"\n",
    "    demi_perimetre = (a + b + c) / 2\n",
    "    aire = (demi_perimetre * (demi_perimetre - a) * (demi_perimetre - b) * (demi_perimetre - c)) ** 0.5\n",
    "    assert (type(aire) == int or type(aire) == float) and aire >= 0, \"aire doit être un nombre positif\"\n",
    "    return aire"
   ]
  },
  {
   "cell_type": "code",
   "execution_count": null,
   "metadata": {},
   "outputs": [],
   "source": []
  }
 ],
 "metadata": {
  "kernelspec": {
   "display_name": "Python 3 (ipykernel)",
   "language": "python",
   "name": "python3"
  },
  "language_info": {
   "codemirror_mode": {
    "name": "ipython",
    "version": 3
   },
   "file_extension": ".py",
   "mimetype": "text/x-python",
   "name": "python",
   "nbconvert_exporter": "python",
   "pygments_lexer": "ipython3",
   "version": "3.9.12"
  }
 },
 "nbformat": 4,
 "nbformat_minor": 2
}
