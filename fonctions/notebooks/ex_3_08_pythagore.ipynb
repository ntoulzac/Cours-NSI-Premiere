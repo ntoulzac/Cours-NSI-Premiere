{
 "cells": [
  {
   "cell_type": "markdown",
   "metadata": {},
   "source": [
    "<div style='background-color: #e3a8b6;\n",
    "    border: 0.5em solid black;\n",
    "    border-radius: 0.5em;\n",
    "    padding: 1em;'>\n",
    "    <h2>Exercice 3-08</h2>\n",
    "    <h1>Théorème de Pythagore</h1>\n",
    "</div>"
   ]
  },
  {
   "cell_type": "markdown",
   "metadata": {},
   "source": [
    "On considère un triangle dont les longueurs des côtés sont trois entiers ``a``, ``b`` et ``c``.\n",
    "Définir une fonction ``test_Pythagore`` prenant en paramètres d'entrée ``a``, ``b`` et ``c`` et renvoyant ``True`` si le triangle est rectangle et ``False`` sinon."
   ]
  },
  {
   "cell_type": "code",
   "execution_count": null,
   "metadata": {},
   "outputs": [],
   "source": []
  },
  {
   "cell_type": "code",
   "execution_count": null,
   "metadata": {},
   "outputs": [],
   "source": [
    "print(test_Pythagore(3, 4, 5), end = ' ') # est rectangle\n",
    "print(test_Pythagore(4, 5, 3), end = ' ') # est rectangle\n",
    "print(test_Pythagore(5, 4, 5), end = ' ') # n'est pas rectangle"
   ]
  }
 ],
 "metadata": {
  "kernelspec": {
   "display_name": "Python 3 (ipykernel)",
   "language": "python",
   "name": "python3"
  },
  "language_info": {
   "codemirror_mode": {
    "name": "ipython",
    "version": 3
   },
   "file_extension": ".py",
   "mimetype": "text/x-python",
   "name": "python",
   "nbconvert_exporter": "python",
   "pygments_lexer": "ipython3",
   "version": "3.9.12"
  }
 },
 "nbformat": 4,
 "nbformat_minor": 2
}
