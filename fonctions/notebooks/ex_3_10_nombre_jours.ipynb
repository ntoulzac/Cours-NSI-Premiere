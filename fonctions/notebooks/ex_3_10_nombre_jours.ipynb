{
 "cells": [
  {
   "cell_type": "markdown",
   "metadata": {},
   "source": [
    "<div style='background-color: #e3a8b6;\n",
    "    border: 0.5em solid black;\n",
    "    border-radius: 0.5em;\n",
    "    padding: 1em;'>\n",
    "    <h2>Exercice 3-10</h2>\n",
    "    <h1>Nombre de jours</h1>\n",
    "</div>"
   ]
  },
  {
   "cell_type": "markdown",
   "metadata": {},
   "source": [
    "Définir une fonction ``bissextile`` prenant en paramètre d'entrée un entier positif ``a`` et renvoyant ``True`` si l'année ``a`` est bissextile et ``False`` sinon.\n",
    "\n",
    "*On rappelle que les années bissextiles sont les années multiples de 4 mais pas multiples de 100, ou multiples de 400*."
   ]
  },
  {
   "cell_type": "code",
   "execution_count": null,
   "metadata": {},
   "outputs": [],
   "source": []
  },
  {
   "cell_type": "code",
   "execution_count": null,
   "metadata": {},
   "outputs": [],
   "source": [
    "print(bissextile(2019), end = ' ') # 2019 n'est pas bissextile\n",
    "print(bissextile(2020), end = ' ') # 2020 est bissextile\n",
    "print(bissextile(1900), end = ' ') # 1900 n'est pas bissextile\n",
    "print(bissextile(2000), end = ' ') # 2000 est bissextile"
   ]
  },
  {
   "cell_type": "markdown",
   "metadata": {},
   "source": [
    "Définir une fonction ``nb_jours_annee`` prenant en paramètre d'entrée un entier positif ``a`` et renvoyant le nombre de jours de l'année ``a``. Cette fonction fera appel à la fonction ``bissextile``."
   ]
  },
  {
   "cell_type": "code",
   "execution_count": null,
   "metadata": {},
   "outputs": [],
   "source": []
  },
  {
   "cell_type": "code",
   "execution_count": null,
   "metadata": {},
   "outputs": [],
   "source": [
    "print(nb_jours_annee(2019), end = ' ') # 365 jours\n",
    "print(nb_jours_annee(2020), end = ' ') # 366 jours\n",
    "print(nb_jours_annee(1900), end = ' ') # 365 jours\n",
    "print(nb_jours_annee(2000), end = ' ') # 366 jours"
   ]
  },
  {
   "cell_type": "markdown",
   "metadata": {},
   "source": [
    "Définir une fonction ``nb_jours_mois`` prenant en paramètres d'entrée deux entiers ``m`` (compris entre 1 et 12) et ``a`` (positif) et renvoyant le nombre de jours du mois ``m`` dans l'année ``a``. Cette fonction fera appel à la fonction ``bissextile``. "
   ]
  },
  {
   "cell_type": "code",
   "execution_count": null,
   "metadata": {},
   "outputs": [],
   "source": []
  },
  {
   "cell_type": "code",
   "execution_count": null,
   "metadata": {},
   "outputs": [],
   "source": [
    "print(nb_jours_mois(12, 1999), end = ' ') # 31 jours\n",
    "print(nb_jours_mois(2, 2000), end = ' ') # 29 jours\n",
    "print(nb_jours_mois(11, 2000), end = ' ') # 30 jours\n",
    "print(nb_jours_mois(2, 2001), end = ' ') # 28 jours"
   ]
  },
  {
   "cell_type": "markdown",
   "metadata": {},
   "source": [
    "En utilisant les fonctions précédentes, définir une fonction ``nb_jours`` prenant en paramètres d'entrée six entiers ``j1``, ``m1``, ``a1``, ``j2``, ``m2`` et ``a2`` et renvoyant le nombre de jours écoulés entre la date ``j1/m1/a1`` et la date ``j2/m2/a2``."
   ]
  },
  {
   "cell_type": "code",
   "execution_count": null,
   "metadata": {},
   "outputs": [],
   "source": []
  },
  {
   "cell_type": "code",
   "execution_count": null,
   "metadata": {},
   "outputs": [],
   "source": [
    "print(nb_jours(1, 9, 2019, 14, 11, 2019), end = ' ') # 30 + 31 + 13 = 74 jours entre 01/09/2019 et 14/11/2019\n",
    "print(nb_jours(1, 9, 2015, 1, 9, 2019), end = ' ') # 366 + 3*365 = 1461 jours entre 01/09/2017 et 01/09/2019\n",
    "print(nb_jours(8, 11, 1984, 14, 11, 2019), end = ' ') # 12789 jours entre 08/11/1984 et 14/11/2019\n",
    "print(nb_jours(1, 1, 2000, 14, 11, 2019), end = ' ') # 7257 jours entre 01/01/2000 et 14/11/2019"
   ]
  }
 ],
 "metadata": {
  "kernelspec": {
   "display_name": "Python 3 (ipykernel)",
   "language": "python",
   "name": "python3"
  },
  "language_info": {
   "codemirror_mode": {
    "name": "ipython",
    "version": 3
   },
   "file_extension": ".py",
   "mimetype": "text/x-python",
   "name": "python",
   "nbconvert_exporter": "python",
   "pygments_lexer": "ipython3",
   "version": "3.9.12"
  }
 },
 "nbformat": 4,
 "nbformat_minor": 2
}
