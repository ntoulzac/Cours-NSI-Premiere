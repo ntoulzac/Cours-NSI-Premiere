{
 "cells": [
  {
   "cell_type": "markdown",
   "metadata": {},
   "source": [
    "<div style='background-color: #87ceeb;\n",
    "    border: 0.5em solid black;\n",
    "    border-radius: 0.5em;\n",
    "    padding: 1em;'>\n",
    "    <h2>Activité 3-12</h2>\n",
    "    <h1>Carte de vigilance météorologique</h1>\n",
    "</div>"
   ]
  },
  {
   "cell_type": "code",
   "execution_count": null,
   "metadata": {},
   "outputs": [],
   "source": [
    "from annexe import initialiser_carte, attribuer_couleur, afficher_carte"
   ]
  },
  {
   "cell_type": "markdown",
   "metadata": {},
   "source": [
    "**1.** Afficher à l'écran la spécification de chacune des trois procédures mises en mémoire grâce à l'exécution de la cellule ci-dessus, puis justifier qu'il s'agit bien de trois procédures."
   ]
  },
  {
   "cell_type": "code",
   "execution_count": null,
   "metadata": {},
   "outputs": [],
   "source": []
  },
  {
   "cell_type": "code",
   "execution_count": null,
   "metadata": {},
   "outputs": [],
   "source": []
  },
  {
   "cell_type": "code",
   "execution_count": null,
   "metadata": {},
   "outputs": [],
   "source": []
  },
  {
   "cell_type": "markdown",
   "metadata": {},
   "source": [
    "**2.** Écrire des lignes de code permettant d'afficher en vert sur la carte le département du Cantal (code `15`)."
   ]
  },
  {
   "cell_type": "code",
   "execution_count": null,
   "metadata": {},
   "outputs": [],
   "source": []
  },
  {
   "cell_type": "markdown",
   "metadata": {},
   "source": [
    "**3.** Écrire des lignes de code permettant d'afficher en rouge sur la carte tous les départements dont le code est pair.\n",
    "\n",
    "_Remarque :_ Les codes des départements de l'Hexagone sont des entiers compris entre 1 et 19 ou entre 21 et 95."
   ]
  },
  {
   "cell_type": "code",
   "execution_count": null,
   "metadata": {},
   "outputs": [],
   "source": []
  },
  {
   "cell_type": "markdown",
   "metadata": {},
   "source": [
    "Les cartes de vigilance de Météo France permettent, depuis 2001, d'alerter la population avant la survenue de divers phénomènes tels que les vents violents, les fortes précipitations, les orages, les avalanches, etc. Elles ont été imaginées à la suite des deux tempêtes qui ont traversé la France les 26 et 27 décembre 1999 et ont tué 92 personnes.\n",
    "\n",
    "Si elles avaient existé à l'époque, voici quelles auraient été les cartes de vigilance des 26 et 27 décembre 1999 :\n",
    "\n",
    "<img src='https://ntoulzac.github.io/Cours-NSI-Terminale/api/images/vigilance_1999-12-26.svg' width=\"49%\" style=\"display:inline-block;\">\n",
    "<img src='https://ntoulzac.github.io/Cours-NSI-Terminale/api/images/vigilance_1999-12-27.svg' width=\"49%\" style=\"display:inline-block;\">"
   ]
  },
  {
   "cell_type": "code",
   "execution_count": null,
   "metadata": {},
   "outputs": [],
   "source": [
    "from annexe import vigilance_meteo, extraire"
   ]
  },
  {
   "cell_type": "markdown",
   "metadata": {},
   "source": [
    "**4.** Afficher à l'écran la spécification de chacune des deux fonctions mises en mémoire grâce à l'exécution de la cellule ci-dessus, puis justifier qu'il s'agit bien de deux fonctions."
   ]
  },
  {
   "cell_type": "code",
   "execution_count": null,
   "metadata": {},
   "outputs": [],
   "source": []
  },
  {
   "cell_type": "code",
   "execution_count": null,
   "metadata": {},
   "outputs": [],
   "source": []
  },
  {
   "cell_type": "markdown",
   "metadata": {},
   "source": [
    "**5.** Écrire la ligne de code permettant de stocker dans une variable `donnees` les couleurs de la carte de vigilance de Météo France, récupérées sur internet."
   ]
  },
  {
   "cell_type": "code",
   "execution_count": null,
   "metadata": {},
   "outputs": [],
   "source": []
  },
  {
   "cell_type": "markdown",
   "metadata": {},
   "source": [
    "**6.** Écrire des lignes de code permettant d'afficher le code de tous les départements classés verts sur la carte de vigilance de Météo France."
   ]
  },
  {
   "cell_type": "code",
   "execution_count": null,
   "metadata": {},
   "outputs": [],
   "source": []
  },
  {
   "cell_type": "markdown",
   "metadata": {},
   "source": [
    "**6.** Définir une procédure `afficher_carte_vigilance` qui affiche la carte de vigilance de Météo France."
   ]
  },
  {
   "cell_type": "code",
   "execution_count": null,
   "metadata": {},
   "outputs": [],
   "source": []
  },
  {
   "cell_type": "code",
   "execution_count": null,
   "metadata": {},
   "outputs": [],
   "source": []
  }
 ],
 "metadata": {
  "kernelspec": {
   "display_name": "Python 3 (ipykernel)",
   "language": "python",
   "name": "python3"
  },
  "language_info": {
   "codemirror_mode": {
    "name": "ipython",
    "version": 3
   },
   "file_extension": ".py",
   "mimetype": "text/x-python",
   "name": "python",
   "nbconvert_exporter": "python",
   "pygments_lexer": "ipython3",
   "version": "3.9.12"
  }
 },
 "nbformat": 4,
 "nbformat_minor": 4
}
