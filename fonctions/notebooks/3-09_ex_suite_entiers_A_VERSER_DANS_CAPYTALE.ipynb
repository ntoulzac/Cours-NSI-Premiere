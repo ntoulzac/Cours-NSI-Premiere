{
 "cells": [
  {
   "cell_type": "markdown",
   "metadata": {},
   "source": [
    "<div style='background-color: #e3a8b6;\n",
    "    border: 0.5em solid black;\n",
    "    border-radius: 0.5em;\n",
    "    padding: 1em;'>\n",
    "    <h2>Exercice 3-09</h2>\n",
    "    <h1>Suite d'entiers</h1>\n",
    "</div>"
   ]
  },
  {
   "cell_type": "markdown",
   "metadata": {},
   "source": [
    "**1.** Après avoir testé la fonction `decomposition` définie ci-dessous, écrire sa spécification."
   ]
  },
  {
   "cell_type": "code",
   "execution_count": null,
   "metadata": {},
   "outputs": [],
   "source": [
    "def decomposition(n):\n",
    "    c = n // 100\n",
    "    d = (n - 100*c) // 10\n",
    "    u = n % 10\n",
    "    return c, d, u"
   ]
  },
  {
   "cell_type": "markdown",
   "metadata": {},
   "source": [
    "**2.** Recopier et modifier la définition de la fonction `decomposition` pour qu'une erreur se produise lorsqu'elle est appelée avec un paramètre `n` entier non compris entre `1` et `999`."
   ]
  },
  {
   "cell_type": "code",
   "execution_count": null,
   "metadata": {},
   "outputs": [],
   "source": []
  },
  {
   "cell_type": "markdown",
   "metadata": {},
   "source": [
    "On considère maintenant la suite de nombres définie de la façon suivante :\n",
    "\n",
    "- La valeur initiale de la suite est un entier compris entre `1` et `999`.\n",
    "- Tant que la valeur de la suite n'est ni égale à `1` ni égale à `4`, on remplace la valeur par la somme des carrés de ses chiffres. Par exemple, la valeur `23` doit être remplacée par la valeur `13` car les chiffres qui composent l'entier `23` sont $2$ et $3$, et on a $2^2 + 3^2 = 4 + 9 = 13$.\n",
    "\n",
    "**3.** Définir une fonction `successeur` qui prend en paramètre d'entrée un entier compris entre `1` et `999` et qui renvoie le terme suivant dans la suite, tel que défini précédemment. Par exemple, l'appel `successeur(23)` doit renvoyer `13`."
   ]
  },
  {
   "cell_type": "code",
   "execution_count": null,
   "metadata": {},
   "outputs": [],
   "source": []
  },
  {
   "cell_type": "markdown",
   "metadata": {},
   "source": [
    "**4.** Définir une fonction `valeur_finale` qui prend en paramètre d'entrée un entier compris entre `1` et `999` et qui calcule les successeurs de cet entier jusqu'à aboutir à la valeur `1` ou à la valeur `4`. La fonction `valeur_finale` renvoie alors `1` ou `4` suivant le cas. "
   ]
  },
  {
   "cell_type": "code",
   "execution_count": null,
   "metadata": {},
   "outputs": [],
   "source": []
  },
  {
   "cell_type": "markdown",
   "metadata": {},
   "source": [
    "**5.** Parmi les entiers compris entre `1` et `999`, afficher tous ceux qui, étant pris comme valeur initiale pour la suite, finissent par aboutir à la valeur `1`."
   ]
  },
  {
   "cell_type": "code",
   "execution_count": null,
   "metadata": {},
   "outputs": [],
   "source": []
  },
  {
   "cell_type": "markdown",
   "metadata": {},
   "source": [
    "**6.** Parmi les entiers compris entre `1` et `999`, calculer la proportion de ceux qui, étant pris comme valeur initiale pour la suite, finissent par aboutir à la valeur `4`."
   ]
  },
  {
   "cell_type": "code",
   "execution_count": null,
   "metadata": {},
   "outputs": [],
   "source": []
  }
 ],
 "metadata": {
  "kernelspec": {
   "display_name": "Python 3 (ipykernel)",
   "language": "python",
   "name": "python3"
  },
  "language_info": {
   "codemirror_mode": {
    "name": "ipython",
    "version": 3
   },
   "file_extension": ".py",
   "mimetype": "text/x-python",
   "name": "python",
   "nbconvert_exporter": "python",
   "pygments_lexer": "ipython3",
   "version": "3.9.12"
  }
 },
 "nbformat": 4,
 "nbformat_minor": 2
}
