{
 "cells": [
  {
   "cell_type": "markdown",
   "metadata": {},
   "source": [
    "<div style='background-color: #87ceeb;\n",
    "    border: 0.5em solid black;\n",
    "    border-radius: 0.5em;\n",
    "    padding: 1em;'>\n",
    "    <h2>Activité 3-11</h2>\n",
    "    <h1>Triangles et carrés</h1>\n",
    "</div>"
   ]
  },
  {
   "cell_type": "markdown",
   "metadata": {},
   "source": [
    "Exécuter la cellule suivante :"
   ]
  },
  {
   "cell_type": "code",
   "execution_count": null,
   "metadata": {},
   "outputs": [],
   "source": [
    "from turtle import clear, up, down, goto, forward, left, right, bye"
   ]
  },
  {
   "cell_type": "markdown",
   "metadata": {},
   "source": [
    "Vous pouvez désormais faire appel à huit procédures permettant de réaliser des dessins simples dans une fenêtre."
   ]
  },
  {
   "cell_type": "markdown",
   "metadata": {},
   "source": [
    "<div>\n",
    "    \t\t<table align = \"center\">\n",
    "            <tr>\n",
    "                <th><center>Procédure</center></th>\n",
    "                <th><center>Paramètre(s) d'entrée</center></th>\n",
    "\t\t\t\t<th><center>Rôle</center></th>\n",
    "\t\t\t</tr>\n",
    "\t\t\t<tr>\n",
    "                <td><center><code>goto</code></center></td>\n",
    "                <td><center><code>x</code> et <code>y</code> (nombres)</center></td>\n",
    "                <td><center>Déplace le crayon vers le point de coordonnées <code>(x, y)</code></center></td>\n",
    "\t\t\t</tr>\n",
    "                \t\t\t<tr>\n",
    "                <td><center><code>forward</code></center></td>\n",
    "                <td><center><code>d</code> (nombre)</center></td>\n",
    "                <td><center>Avance le crayon d'une distance <code>d</code></center></td>\n",
    "\t\t\t</tr>\n",
    "                \t\t\t<tr>\n",
    "                <td><center><code>left</code></center></td>\n",
    "                <td><center><code>a</code> (nombre)</center></td>\n",
    "                <td><center>Pivote le crayon d'un angle <code>a</code> vers la gauche</center></td>\n",
    "\t\t\t</tr>\n",
    "                \t\t\t<tr>\n",
    "                <td><center><code>right</code></center></td>\n",
    "                <td><center><code>a</code> (nombre)</center></td>\n",
    "                <td><center>Pivote le crayon d'un angle <code>a</code> vers la droite</center></td>\n",
    "\t\t\t</tr>\n",
    "                \t\t\t<tr>\n",
    "                <td><center><code>up</code></center></td>\n",
    "                <td><center><i>Aucun</i></center></td>\n",
    "                <td><center>Lève le crayon : le tracé s'interrompt</center></td>\n",
    "\t\t\t</tr>\n",
    "                \t\t\t<tr>\n",
    "                <td><center><code>down</code></center></td>\n",
    "                <td><center><i>Aucun</i></center></td>\n",
    "                <td><center>Baisse le crayon : le tracé reprend</center></td>\n",
    "\t\t\t</tr>\n",
    "                                \t\t\t<tr>\n",
    "                <td><center><code>clear</code></center></td>\n",
    "                <td><center><i>Aucun</i></center></td>\n",
    "                <td><center>Efface le contenu de la fenêtre</center></td>\n",
    "\t\t\t</tr>\n",
    "                                \t\t\t<tr>\n",
    "                <td><center><code>bye</code></center></td>\n",
    "                <td><center><i>Aucun</i></center></td>\n",
    "                <td><center>Ferme la fenêtre</center></td>\n",
    "\t\t\t</tr>\n",
    "\t\t</table>\n",
    "</div>"
   ]
  },
  {
   "cell_type": "markdown",
   "metadata": {},
   "source": [
    "Ecrire une procédure ``carre`` prenant un paramètre d'entrée ``c`` et dessinant dans la fenêtre un carré de côté ``c``."
   ]
  },
  {
   "cell_type": "code",
   "execution_count": null,
   "metadata": {},
   "outputs": [],
   "source": []
  },
  {
   "cell_type": "code",
   "execution_count": null,
   "metadata": {},
   "outputs": [],
   "source": [
    "clear()\n",
    "carre(50)\n",
    "carre(100)\n",
    "carre(200)"
   ]
  },
  {
   "cell_type": "markdown",
   "metadata": {},
   "source": [
    "Ecrire une procédure ``triangle`` prenant un paramètre d'entrée ``c`` et dessinant dans la fenêtre un triangle équilatéral de côté ``c``."
   ]
  },
  {
   "cell_type": "code",
   "execution_count": null,
   "metadata": {},
   "outputs": [],
   "source": []
  },
  {
   "cell_type": "code",
   "execution_count": null,
   "metadata": {},
   "outputs": [],
   "source": [
    "clear()\n",
    "triangle(50)\n",
    "triangle(100)\n",
    "triangle(200)"
   ]
  },
  {
   "cell_type": "markdown",
   "metadata": {},
   "source": [
    "Ecrire un programme qui trace aléatoirement dans la fenêtre 10 carrés ou triangles de taille aléatoire."
   ]
  },
  {
   "cell_type": "code",
   "execution_count": null,
   "metadata": {},
   "outputs": [],
   "source": []
  },
  {
   "cell_type": "code",
   "execution_count": null,
   "metadata": {},
   "outputs": [],
   "source": []
  },
  {
   "cell_type": "markdown",
   "metadata": {},
   "source": [
    "Ecrire une procédure dessinant un cercle dans la fenêtre."
   ]
  },
  {
   "cell_type": "code",
   "execution_count": null,
   "metadata": {},
   "outputs": [],
   "source": []
  },
  {
   "cell_type": "code",
   "execution_count": null,
   "metadata": {},
   "outputs": [],
   "source": [
    "clear()\n",
    "cercle(10)"
   ]
  },
  {
   "cell_type": "markdown",
   "metadata": {},
   "source": [
    "Ecrire un programme qui trace aléatoirement dans la fenêtre 10 cercles de taille aléatoire."
   ]
  },
  {
   "cell_type": "code",
   "execution_count": null,
   "metadata": {},
   "outputs": [],
   "source": []
  },
  {
   "cell_type": "code",
   "execution_count": null,
   "metadata": {},
   "outputs": [],
   "source": [
    "bye() # Fermeture de la fenêtre Turtle"
   ]
  },
  {
   "cell_type": "markdown",
   "metadata": {},
   "source": [
    " <div>\n",
    "  <div style=\"float: left; width: 50%\">\n",
    "    <img src='https://ntoulzac.github.io/Cours-NSI-Terminale/premiere_NSI/Images/tortue1.png'>\n",
    "  </div>\n",
    "  <div style=\"float: left; width: 50%\">\n",
    "    <img src='https://ntoulzac.github.io/Cours-NSI-Terminale/premiere_NSI/Images/tortue2.png'>   \n",
    "  </div>\n",
    "</div>"
   ]
  }
 ],
 "metadata": {
  "kernelspec": {
   "display_name": "Python 3 (ipykernel)",
   "language": "python",
   "name": "python3"
  },
  "language_info": {
   "codemirror_mode": {
    "name": "ipython",
    "version": 3
   },
   "file_extension": ".py",
   "mimetype": "text/x-python",
   "name": "python",
   "nbconvert_exporter": "python",
   "pygments_lexer": "ipython3",
   "version": "3.9.12"
  }
 },
 "nbformat": 4,
 "nbformat_minor": 2
}
