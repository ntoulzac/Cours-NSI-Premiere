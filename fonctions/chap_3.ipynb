{
 "cells": [
  {
   "cell_type": "markdown",
   "metadata": {},
   "source": [
    "# Chapitre 3 : Fonctions\n",
    "\n",
    "***Appel et définition d'une fonction, spécification d'une fonction, assertions***"
   ]
  },
  {
   "cell_type": "markdown",
   "metadata": {},
   "source": [
    "## Partie A - Appel et définition d'une fonction"
   ]
  },
  {
   "cell_type": "markdown",
   "metadata": {},
   "source": [
    "### Appel d'une fonction"
   ]
  },
  {
   "cell_type": "markdown",
   "metadata": {},
   "source": [
    "**Question 1 :** Exécuter la cellule suivante :"
   ]
  },
  {
   "cell_type": "code",
   "execution_count": null,
   "metadata": {},
   "outputs": [],
   "source": [
    "from departements import nom_departement, prefecture # Mise à disposition de deux fonctions"
   ]
  },
  {
   "cell_type": "markdown",
   "metadata": {},
   "source": [
    "Deux **fonctions** sont désormais disponibles dans la mémoire :\n",
    "- La première fonction, ``nom_departement``, retourne le nom d'un département de la région Île-de-France à partir de son numéro.\n",
    "- La seconde fonction, ``prefecture``, retourne le nom du chef lieu d'un département de la région Île-de-France à partir de son numéro.\n",
    "\n",
    "Dans les deux cellules suivantes, on dit qu'on **appelle** la fonction ``nom_departement`` puis la fonction ``prefecture``."
   ]
  },
  {
   "cell_type": "code",
   "execution_count": null,
   "metadata": {},
   "outputs": [],
   "source": [
    "nom_departement(94) # Ceci est un appel de fonction (fonction nom_departement)"
   ]
  },
  {
   "cell_type": "code",
   "execution_count": null,
   "metadata": {},
   "outputs": [],
   "source": [
    "prefecture(94) # Ceci est un appel de fonction (fonction prefecture)"
   ]
  },
  {
   "cell_type": "markdown",
   "metadata": {},
   "source": [
    "Dans cet exemple, les **appels** ``nom_departement(94)`` et ``prefecture(94)`` sont des expressions. A ce titre, elles peuvent être affectées à des variables. La valeur ``94`` écrite entre parenthèses après le nom des deux fonctions s'appelle un **argument**. En changeant l'argument d'une fonction, son appel peut produire un résultat différent."
   ]
  },
  {
   "cell_type": "code",
   "execution_count": null,
   "metadata": {},
   "outputs": [],
   "source": [
    "numero = 94\n",
    "nom = nom_departement(numero)\n",
    "ville = prefecture(numero)\n",
    "print('Le département', numero, 's\\'appelle', nom, 'et sa préfecture est', ville)"
   ]
  },
  {
   "cell_type": "code",
   "execution_count": null,
   "metadata": {},
   "outputs": [],
   "source": [
    "numero = 93\n",
    "nom = nom_departement(numero)\n",
    "ville = prefecture(numero)\n",
    "print('Le département', numero, 's\\'appelle', nom, 'et sa préfecture est', ville)"
   ]
  },
  {
   "cell_type": "markdown",
   "metadata": {},
   "source": [
    "**Question 2 :** Modifier le code de la cellule suivante pour que l'utilisateur du programme ait la possibilité de saisir le numéro du département au clavier."
   ]
  },
  {
   "cell_type": "code",
   "execution_count": null,
   "metadata": {},
   "outputs": [],
   "source": [
    "numero = 94\n",
    "nom = nom_departement(numero)\n",
    "ville = prefecture(numero)\n",
    "print('Le département', numero, 's\\'appelle', nom, 'et sa préfecture est', ville)"
   ]
  },
  {
   "cell_type": "markdown",
   "metadata": {},
   "source": [
    "<div>\n",
    "    <img src=\"https://ntoulzac.github.io/Cours-NSI-Terminale/premiere_NSI/Images/carte_IDF.png\" width=\"500\">\n",
    "</div>"
   ]
  },
  {
   "cell_type": "markdown",
   "metadata": {},
   "source": [
    "### Définition d'une fonction"
   ]
  },
  {
   "cell_type": "markdown",
   "metadata": {},
   "source": [
    "Nous souhaitons maintenant **définir** une fonction ``nom_academie``, qui retourne le nom de l'académie dont fait partie un département désigné par son numéro. On rappelle que les trois académies d'Île-de-France sont composées de la façon suivante :"
   ]
  },
  {
   "cell_type": "markdown",
   "metadata": {},
   "source": [
    "<div>\n",
    "    \t\t<table align = \"center\">\n",
    "\t\t\t<tr>\n",
    "                <th><center>Académie de Créteil</center></th>\n",
    "                <td><center>77</center></td>\n",
    "\t\t\t\t<td><center>93</center></td>\n",
    "\t\t\t\t<td><center>94</center></td>\n",
    "            </tr>\n",
    "\t\t\t<tr>\n",
    "                <th><center>Académie de Paris</center></th>                \n",
    "                <td><center>75</center></td>\n",
    "            </tr>\n",
    "\t\t\t<tr>\n",
    "                <th><center>Académie de Versailles</center></th>                \n",
    "                <td><center>78</center></td>\n",
    "\t\t\t\t<td><center>91</center></td>\n",
    "\t\t\t\t<td><center>92</center></td>\n",
    "\t\t\t\t<td><center>95</center></td>\n",
    "            </tr>\n",
    "\t\t</table>\n",
    "</div>"
   ]
  },
  {
   "cell_type": "code",
   "execution_count": null,
   "metadata": {},
   "outputs": [],
   "source": [
    "def nom_academie(num):\n",
    "    if num == 75:\n",
    "        ac = 'Académie de Paris'\n",
    "    elif num == 77 or num == 93 or num == 94:\n",
    "        ac = 'Académie de Créteil'\n",
    "    else:\n",
    "        ac = 'Académie de Versailles'\n",
    "    return ac"
   ]
  },
  {
   "cell_type": "markdown",
   "metadata": {},
   "source": [
    "Lors qu'on définit une fonction, la première ligne commence toujours par le mot clé ``def``, suivi du nom de la fonction, et se termine par un couple de parenthèses suivi de deux points. A l'intérieur des parenthèses, on fait apparaître le ou les éventuel(s) **paramètre(s) d'entrée** de la fonction. Il s'agit de **variables locales**, qui n'existent dans la mémoire que pendant l'exécution de la fonction, et qui ont pour valeur un **argument** fixé au moment de l'appel de la fonction.\n",
    "\n",
    "Sous la première ligne figure la séquence d'instructions qui est exécutée lors de l'appel de la fonction. Cette séquence s'exécute soit jusqu'à la fin, soit jusqu'à l'instruction ``return variable_ou_expression``. C'est cette instruction qui permet de retourner une valeur, appelée **paramètre de sortie**, qui est conservée dans la mémoire pour la suite de l'exécution du programme.\n",
    "\n",
    "**Question 3 :** Quels sont les paramètres d'entrée et de sortie de la fonction ``academie`` ?"
   ]
  },
  {
   "cell_type": "markdown",
   "metadata": {},
   "source": [
    "*Remarque :* Lorsqu'on exécute une cellule contenant seulement la définition d'une fonction, aucune exécution n'est réalisée. C'est seulement lors d'un appel de la fonction que les instructions correspondantes sont exécutées.\n",
    "\n",
    "**Question 4 :** Ecrire le code permettant à l'utilisateur de saisir le numéro d'un département d'Île-de-France au clavier et affichant à l'écran un message du type \"nom_du_département : académie_correspondante\"."
   ]
  },
  {
   "cell_type": "code",
   "execution_count": null,
   "metadata": {},
   "outputs": [],
   "source": []
  },
  {
   "cell_type": "markdown",
   "metadata": {},
   "source": [
    "### Exemple : compléments sur la suite de Syracuse"
   ]
  },
  {
   "cell_type": "markdown",
   "metadata": {},
   "source": [
    "On rappelle que la **suite de Syracuse** est une suite mathématique définie de la façon suivante :\n",
    "- On considère une valeur initiale ``s`` entière strictement positive.\n",
    "- On remplace ``s`` par ``s // 2`` dans le cas où ``s`` est paire, et par ``3 * s + 1`` dans le cas où ``s`` est impaire.\n",
    "- On répète l'opération précédente, et on s'arrête dans le cas où ``s`` vaut ``1``.\n",
    "\n",
    "**Question 5 :** Ecrire une fonction ``successeur`` prenant un entier ``s`` en paramètre d'entrée et retournant le successeur de ``s`` dans la suite de Syracuse, tel que défini ci-dessus."
   ]
  },
  {
   "cell_type": "code",
   "execution_count": null,
   "metadata": {},
   "outputs": [],
   "source": []
  },
  {
   "cell_type": "markdown",
   "metadata": {},
   "source": [
    "**Question 6 :** Tester la fonction ``successeur`` en vérifiant que les termes de la suite commençant par ``6`` sont : ``3``, ``10``, ``5``, ``16``, ``8``, ``4``, ``2`` et ``1``."
   ]
  },
  {
   "cell_type": "code",
   "execution_count": null,
   "metadata": {},
   "outputs": [],
   "source": []
  },
  {
   "cell_type": "markdown",
   "metadata": {},
   "source": [
    "On appelle **durée de vol** de l'entier ``s`` le nombre de calculs nécessaires dans la suite de Syracuse pour arriver à ``1`` à partir de ``s``. Par exemple, au vu de ce qui précède, la durée de vol de l'entier ``6`` est égale à 8."
   ]
  },
  {
   "cell_type": "markdown",
   "metadata": {},
   "source": [
    "**Question 7 :** Ecrire une fonction ``duree_de_vol`` prenant un entier ``s`` en paramètre d'entrée et retournant la durée de vol de ``s`` telle que définie ci-dessus. La séquence d'instructions de la fonction ``duree_de_vol`` devra faire appel à la fonction ``successeur``."
   ]
  },
  {
   "cell_type": "code",
   "execution_count": null,
   "metadata": {},
   "outputs": [],
   "source": []
  },
  {
   "cell_type": "markdown",
   "metadata": {},
   "source": [
    "**Question 8 :** Tester la fonction ``duree_de_vol`` pour plusieurs valeurs de ``s``, en commençant par ``s = 6``."
   ]
  },
  {
   "cell_type": "code",
   "execution_count": null,
   "metadata": {},
   "outputs": [],
   "source": []
  },
  {
   "cell_type": "markdown",
   "metadata": {},
   "source": [
    "Il est intéressant d'utiliser l'outil *Tutor magic* pour observer l'évolution de la mémoire lors d'un appel de la fonction ``duree_de_vol``.\n",
    "\n",
    "**Question 9 :** Exécuter les deux cellules suivantes, après avoir recopié la définition des fonctions ``successeur`` et ``duree_de_vol`` à leur place respective :"
   ]
  },
  {
   "cell_type": "code",
   "execution_count": null,
   "metadata": {},
   "outputs": [],
   "source": [
    "%load_ext tutormagic"
   ]
  },
  {
   "cell_type": "code",
   "execution_count": null,
   "metadata": {
    "scrolled": true
   },
   "outputs": [],
   "source": [
    "%%tutor --lang python3 --heapPrimitives\n",
    "def successeur(s):\n",
    "    # Code à recopier...\n",
    "    \n",
    "def duree_de_vol(s):\n",
    "    # Code à recopier...\n",
    "\n",
    "s = 6\n",
    "print(duree_de_vol(s))"
   ]
  },
  {
   "cell_type": "markdown",
   "metadata": {},
   "source": [
    "<div class=\"rq\">\n",
    "    Les <b>variables globales</b> du programme apparaissent dans le cadre <code>Global frame</code>. Il s'agit de la fonction <code>successeur</code> (définie à la ligne 1), de la fonction <code>duree_de_vol</code> (définie à la ligne 6) et de la variable <code>s</code> (initialisée à la ligne 12).<br>\n",
    "    Lors de l'appel <code>duree_de_vol(s)</code> (ligne 13), un nouveau cadre apparaît : le cadre des <b>variables locales</b> de la fonction <code>duree_de_vol</code>. La valeur du paramètre d'entrée <code>s</code> (variable locale) est égale à <code>6</code> au début de l'exécution de la fonction, puisque c'est la valeur de la variable <code>s</code> (variable globale) qui est passée en argument.<br>\n",
    "    La variable locale <code>compteur</code> est initialisée à la valeur <code>0</code> et elle est associée à la fonction <code>duree_de_vol</code>. Elle disparaît donc de la mémoire lorsque l'exécution de <code>duree_de_vol</code> se termine.\n",
    "</div>"
   ]
  },
  {
   "cell_type": "markdown",
   "metadata": {},
   "source": [
    "**Question 10 :** Afficher la durée de vol de tous les entiers compris entre 1 et 100, chaque valeur étant séparée de la précédente par deux espaces."
   ]
  },
  {
   "cell_type": "code",
   "execution_count": null,
   "metadata": {},
   "outputs": [],
   "source": []
  },
  {
   "cell_type": "markdown",
   "metadata": {},
   "source": [
    "**Question 11 :** Écrire des lignes de code permettant de savoir quel est le plus petit entier ``s`` ayant une durée de vol supérieure ou égale à 200."
   ]
  },
  {
   "cell_type": "code",
   "execution_count": null,
   "metadata": {},
   "outputs": [],
   "source": []
  },
  {
   "cell_type": "markdown",
   "metadata": {},
   "source": [
    "**Question 12 :** Transformer le code de la cellule précédente en une fonction ``duree_de_vol_minimale`` prenant un entier ``duree_min`` en entrée et retournant la valeur du plus petit entier ``s`` ayant une durée de vol supérieure ou égale à ``duree_min``.\n",
    "\n",
    "Tester ensuite la fonction pour ``duree_min = 200`` et vérifier qu'on retrouve le même résultat qu'à la question précédente."
   ]
  },
  {
   "cell_type": "code",
   "execution_count": null,
   "metadata": {},
   "outputs": [],
   "source": []
  },
  {
   "cell_type": "code",
   "execution_count": null,
   "metadata": {},
   "outputs": [],
   "source": [
    "x = 200\n",
    "print('Le plus petit entier ayant une durée de vol supérieure ou égale à', x, 'est', duree_de_vol_minimale(x))"
   ]
  },
  {
   "cell_type": "code",
   "execution_count": null,
   "metadata": {},
   "outputs": [],
   "source": [
    "x = 300\n",
    "print('Le plus petit entier ayant une durée de vol supérieure ou égale à', x, 'est', duree_de_vol_minimale(x))"
   ]
  },
  {
   "cell_type": "markdown",
   "metadata": {},
   "source": [
    "**Question 13 :** En utilisant l'outil *Time it*, estimer le temps que dure l'exécution de la fonction ``duree_de_vol_minimale`` lorsqu'elle est appelée pour ``duree_min = 400``."
   ]
  },
  {
   "cell_type": "code",
   "execution_count": null,
   "metadata": {},
   "outputs": [],
   "source": []
  },
  {
   "cell_type": "markdown",
   "metadata": {},
   "source": [
    "### Cas particulier des procédures"
   ]
  },
  {
   "cell_type": "markdown",
   "metadata": {},
   "source": [
    "Une **procédure** est une fonction qui ne retourne aucune valeur, et ne possède donc **pas de paramètre de sortie**. Elle peut, en revanche, posséder un ou plusieurs paramètres d'entrée.\n",
    "\n",
    "**Question 14 :** Déterminer, parmi les sept fonctions qui suivent, lesquelles sont en réalité des procédures ? On ne demande pas de comprendre la manière dont ces fonctions sont codées."
   ]
  },
  {
   "cell_type": "code",
   "execution_count": null,
   "metadata": {},
   "outputs": [],
   "source": [
    "def afficher(grille, fenetre):\n",
    "    for L in range(NBLC):\n",
    "        for C in range(NBLC):\n",
    "            rectangle = (C*TAILLE_CASE, L*TAILLE_CASE, (C+1)*TAILLE_CASE, (L+1)*TAILLE_CASE)\n",
    "            if grille[L][C] != 0:\n",
    "                pygame.draw.rect(fenetre, BLEU, rectangle)\n",
    "            else :\n",
    "                pygame.draw.rect(fenetre, JAUNE, rectangle)\n",
    "    for i in range (1, NBLC):\n",
    "        pygame.draw.line(fenetre, BLANC, (i*TAILLE_CASE, 0), (i*TAILLE_CASE, NBLC*TAILLE_CASE), 2)\n",
    "        pygame.draw.line(fenetre, BLANC, (0, i*TAILLE_CASE), (NBLC*TAILLE_CASE, i*TAILLE_CASE), 2)\n",
    "    pygame.display.flip()"
   ]
  },
  {
   "cell_type": "code",
   "execution_count": null,
   "metadata": {},
   "outputs": [],
   "source": [
    "def clic():\n",
    "    while True:\n",
    "        pygame.time.Clock().tick(30)\n",
    "        for event in pygame.event.get():\n",
    "            if event.type == QUIT or event.type == KEYDOWN and event.key == K_ESCAPE:\n",
    "                pygame.quit()\n",
    "            elif event.type == MOUSEBUTTONDOWN:\n",
    "                x, y = pygame.mouse.get_pos()\n",
    "                return y // TAILLE_CASE, x // TAILLE_CASE"
   ]
  },
  {
   "cell_type": "code",
   "execution_count": null,
   "metadata": {},
   "outputs": [],
   "source": [
    "def ecran_final(fenetre):\n",
    "    fenetre.fill(BLEU)\n",
    "    pygame.font.init()\n",
    "    texte = pygame.font.SysFont('Arial', 64).render('Victoire', False, JAUNE, BLEU)\n",
    "    coin_du_texte = (TAILLE_FENETRE - texte.get_width()) // 2, (TAILLE_FENETRE - texte.get_height()) // 2\n",
    "    fenetre.blit(texte, coin_du_texte)\n",
    "    pygame.display.flip()"
   ]
  },
  {
   "cell_type": "code",
   "execution_count": null,
   "metadata": {},
   "outputs": [],
   "source": [
    "def jouer_coup(grille, l, c):\n",
    "    for i, j in [(0, 0), (-1, 0), (1, 0), (0, 1), (0, -1)]:\n",
    "        if l + i in range(NBLC) and c + j in range(NBLC):\n",
    "            grille[l + i][c + j] = (grille[l + i][c + j] + 1) % 2\n",
    "    return grille"
   ]
  },
  {
   "cell_type": "code",
   "execution_count": null,
   "metadata": {},
   "outputs": [],
   "source": [
    "def plateau_vide():\n",
    "    grille = []\n",
    "    for i in range(NBLC):\n",
    "        ligne = []\n",
    "        for j in range(NBLC):\n",
    "            ligne.append(0)\n",
    "        grille.append(ligne)\n",
    "    return grille"
   ]
  },
  {
   "cell_type": "code",
   "execution_count": null,
   "metadata": {},
   "outputs": [],
   "source": [
    "def programme_principal():\n",
    "    pygame.init()\n",
    "    fenetre_de_jeu = pygame.display.set_mode((TAILLE_FENETRE, TAILLE_FENETRE))\n",
    "    pygame.display.set_caption('Retourner toutes les cases')\n",
    "\n",
    "    # Création d'un plateau de jeu vide\n",
    "    plateau_de_jeu = plateau_vide()\n",
    "    afficher(plateau_de_jeu, fenetre_de_jeu)\n",
    "\n",
    "    # Boucle de jeu\n",
    "    while not victoire(plateau_de_jeu):\n",
    "        l, c = clic()\n",
    "        plateau_de_jeu = jouer_coup(plateau_de_jeu, l, c)\n",
    "        afficher(plateau_de_jeu, fenetre_de_jeu)\n",
    "\n",
    "    # Ecran de victoire et fermeture de la fenêtre de jeu\n",
    "    ecran_final(fenetre_de_jeu)\n",
    "    sleep(2)\n",
    "    pygame.quit()"
   ]
  },
  {
   "cell_type": "code",
   "execution_count": null,
   "metadata": {},
   "outputs": [],
   "source": [
    "def victoire(grille):\n",
    "    for ligne in grille:\n",
    "        for elem in ligne:\n",
    "            if elem == 0:\n",
    "                return False\n",
    "    return True"
   ]
  },
  {
   "cell_type": "markdown",
   "metadata": {},
   "source": [
    "**Question 15 :** ***le Jeu de retournement***\n",
    "\n",
    "Ce jeu utilise la bibliothèque *Pygame*, qu'il faut installer en exécutant la cellule suivante."
   ]
  },
  {
   "cell_type": "code",
   "execution_count": null,
   "metadata": {},
   "outputs": [],
   "source": [
    "# Installation du module pygame\n",
    "import sys\n",
    "!{sys.executable} -m pip install pygame"
   ]
  },
  {
   "cell_type": "markdown",
   "metadata": {},
   "source": [
    "L'exécution de la cellule qui suit lance une partie du *Jeu de retournement* : en cliquant sur une case, on change sa couleur ainsi que celle de ses quatre voisines. Le but du jeu est de retourner toutes les cases.\n",
    "\n",
    "Êtes-vous capable de gagner une partie pour un plateau de taille 3 x 3, puis pour un plateau de taille 4 x 4 ?"
   ]
  },
  {
   "cell_type": "code",
   "execution_count": null,
   "metadata": {},
   "outputs": [],
   "source": [
    "import pygame\n",
    "from pygame.locals import *\n",
    "from random import randint\n",
    "from time import sleep\n",
    "\n",
    "JAUNE = (255, 255, 0) # Composantes RVB (Rouge-Vert-Bleu) de la couleur jaune\n",
    "BLEU = (0, 0, 255)\n",
    "BLANC = (255, 255, 255)\n",
    "\n",
    "NBLC = 3 # Nombre de lignes et de colonnes du plateau\n",
    "\n",
    "TAILLE_FENETRE = 540 # En pixels\n",
    "TAILLE_CASE = TAILLE_FENETRE // NBLC # En pixels\n",
    "TAILLE_FENETRE = NBLC * TAILLE_CASE\n",
    "\n",
    "programme_principal()"
   ]
  },
  {
   "cell_type": "markdown",
   "metadata": {},
   "source": [
    "## Partie B - Spécification d'une fonction"
   ]
  },
  {
   "cell_type": "markdown",
   "metadata": {},
   "source": [
    "La **spécification** d'une fonction permet de connaître son **rôle** et ses éventuels **paramètres d'entrée**, **paramètre de sortie** et **effets de bord**.\n",
    "\n",
    "Cela permet de savoir **à quoi sert** une fonction, **comment l'utiliser** (quelles entrées ? quelle sortie ?) et **quels sont ses effets secondaires** éventuels sur la machine (par exemple la modification d'une variable globale en mémoire, un affichage à l'écran, l'écriture dans un fichier, ...).\n",
    "\n",
    "Considérons la fonction suivante et donnons sa spécification :"
   ]
  },
  {
   "cell_type": "code",
   "execution_count": null,
   "metadata": {},
   "outputs": [],
   "source": [
    "def aire_triangle(a, b, c):\n",
    "    if a == b and b == c: # Les trois côtés sont de même longueur\n",
    "        print('Triangle équilatéral !')\n",
    "    elif a == b or b == c or c == a: # Deux des trois côtés sont de même longueur\n",
    "        print('Triangle isocèle !')\n",
    "    demi_perimetre = (a + b + c) / 2\n",
    "    aire = (demi_perimetre * (demi_perimetre - a) * (demi_perimetre - b) * (demi_perimetre - c)) ** 0.5\n",
    "    return aire"
   ]
  },
  {
   "cell_type": "markdown",
   "metadata": {},
   "source": [
    "- **Rôle de la fonction :** Affiche à l'écran si le triangle est équilatéral ou isocèle, et retourne son aire\n",
    "- **Paramètres d'entrée :** ``a``, ``b``, ``c`` (nombres), les longueurs des trois côtés du triangle\n",
    "- **Paramètre de sortie :** ``aire`` (nombre), l'aire du triangle *(calculée grâce à la formule de Héron)*\n",
    "- **Effets de bord :** Affichage à l'écran dans le cas où le triangle est équilatéral ou isocèle\n",
    "\n",
    "La **spécification** d'une fonction s'écrit en Python dans une zone (appelée **docstring**) délimitée par trois guillemets doubles ``\"\"\"`` et située juste au dessous de la ligne commençant par ``def``.\n",
    "\n",
    "On fait apparaître successivement le rôle de la fonction, puis ses paramètres d'entrée, son paramètre de sortie et ses effets de bord s'il y en a."
   ]
  },
  {
   "cell_type": "code",
   "execution_count": null,
   "metadata": {},
   "outputs": [],
   "source": [
    "def aire_triangle(a, b, c):\n",
    "    \"\"\"\n",
    "    Affiche à l'écran si le triangle est équilatéral ou isocèle, et retourne son aire\n",
    "    - Entrées : a, b, c (nombres)\n",
    "    - Sortie : aire (nombre)\n",
    "    - Effet de bord : éventuel affichage à l'écran\n",
    "    \"\"\"\n",
    "    if a == b and b == c: # Les trois côtés sont de même longueur\n",
    "        print('Triangle équilatéral !')\n",
    "    elif a == b or b == c or c == a: # Deux des trois côtés sont de même longueur\n",
    "        print('Triangle isocèle !')\n",
    "    demi_perimetre = (a + b + c) / 2\n",
    "    aire = (demi_perimetre * (demi_perimetre - a) * (demi_perimetre - b) * (demi_perimetre - c)) ** 0.5\n",
    "    return aire"
   ]
  },
  {
   "cell_type": "markdown",
   "metadata": {},
   "source": [
    "Toutes les fonctions que vous définirez devront désormais faire appaître leur spécification. Cela permettra de rendre votre code **plus clair**, en explicitant le rôle de chaque fonction et les paramètres qu'elle utilise, mais aussi **plus facile à corriger** dans le cas où il contiendrait des erreurs."
   ]
  },
  {
   "cell_type": "markdown",
   "metadata": {},
   "source": [
    "<div class=\"rq\">\n",
    "    La fonction <code>help</code> permet d'afficher la docstring de la fonction Python dont le nom est passé en paramètre d'entrée.\n",
    "</div>"
   ]
  },
  {
   "cell_type": "code",
   "execution_count": null,
   "metadata": {},
   "outputs": [],
   "source": [
    "help(aire_triangle)"
   ]
  },
  {
   "cell_type": "code",
   "execution_count": null,
   "metadata": {},
   "outputs": [],
   "source": [
    "help(print)"
   ]
  },
  {
   "cell_type": "markdown",
   "metadata": {},
   "source": [
    "Voici la spécification de chacune des fonctions définies pour le *Jeu de retournement*. Le code à proprement parler n'est pas commenté et n'est pas à comprendre pour le moment. Il utilise en effet plusieurs concepts que nous étudierons plus tard dans l'année."
   ]
  },
  {
   "cell_type": "code",
   "execution_count": null,
   "metadata": {},
   "outputs": [],
   "source": [
    "def afficher(grille, fenetre):\n",
    "    \"\"\"\n",
    "    Affiche la grille dans la fenêtre graphique (case retournée jaune, non retournée bleue)\n",
    "    - Entrees : grille (tableau), fenetre (fenetre Pygame)\n",
    "    - Effet de bord : modification de la fenêtre graphique\n",
    "    \"\"\"\n",
    "    for L in range(NBLC):\n",
    "        for C in range(NBLC):\n",
    "            rectangle = (C*TAILLE_CASE, L*TAILLE_CASE, (C+1)*TAILLE_CASE, (L+1)*TAILLE_CASE)\n",
    "            if grille[L][C] != 0:\n",
    "                pygame.draw.rect(fenetre, BLEU, rectangle)\n",
    "            else :\n",
    "                pygame.draw.rect(fenetre, JAUNE, rectangle)\n",
    "    for i in range (1, NBLC):\n",
    "        pygame.draw.line(fenetre, BLANC, (i*TAILLE_CASE, 0), (i*TAILLE_CASE, NBLC*TAILLE_CASE), 2)\n",
    "        pygame.draw.line(fenetre, BLANC, (0, i*TAILLE_CASE), (NBLC*TAILLE_CASE, i*TAILLE_CASE), 2)\n",
    "    pygame.display.flip()"
   ]
  },
  {
   "cell_type": "code",
   "execution_count": null,
   "metadata": {},
   "outputs": [],
   "source": [
    "def clic():\n",
    "    \"\"\"\n",
    "    Attend que le joueur clique dans la fenêtre graphique et détermine sur quelle case le joueur a cliqué\n",
    "    - Sortie : un couple d'entiers (ligne et colonne sur laquelle le joueur a cliqué)\n",
    "    \"\"\"\n",
    "    while True:\n",
    "        pygame.time.Clock().tick(30)\n",
    "        for event in pygame.event.get():\n",
    "            if event.type == QUIT or event.type == KEYDOWN and event.key == K_ESCAPE:\n",
    "                pygame.quit()\n",
    "            elif event.type == MOUSEBUTTONDOWN:\n",
    "                x, y = pygame.mouse.get_pos()\n",
    "                return y // TAILLE_CASE, x // TAILLE_CASE"
   ]
  },
  {
   "cell_type": "code",
   "execution_count": null,
   "metadata": {},
   "outputs": [],
   "source": [
    "def ecran_final(fenetre):\n",
    "    \"\"\"\n",
    "    Affiche un message de victoire dans la fenêtre graphique\n",
    "    - Entree : fenetre (fenetre Pygame)\n",
    "    - Effet de bord : modification de la fenêtre graphique\n",
    "    \"\"\"\n",
    "    fenetre.fill(BLEU)\n",
    "    pygame.font.init()\n",
    "    texte = pygame.font.SysFont('Arial', 64).render('Victoire', False, JAUNE, BLEU)\n",
    "    coin_du_texte = (TAILLE_FENETRE - texte.get_width()) // 2, (TAILLE_FENETRE - texte.get_height()) // 2\n",
    "    fenetre.blit(texte, coin_du_texte)\n",
    "    pygame.display.flip()"
   ]
  },
  {
   "cell_type": "code",
   "execution_count": null,
   "metadata": {},
   "outputs": [],
   "source": [
    "def jouer_coup(grille, l, c):\n",
    "    \"\"\"\n",
    "    Retourne la case située sur la ligne l et la colonne c ainsi que ses voisines\n",
    "    - Entrées : grille (tableau), l et c (entiers)\n",
    "    - Sortie : grille (tableau)\n",
    "    \"\"\"\n",
    "    for i, j in [(0, 0), (-1, 0), (1, 0), (0, 1), (0, -1)]:\n",
    "        if l + i in range(NBLC) and c + j in range(NBLC):\n",
    "            grille[l + i][c + j] = (grille[l + i][c + j] + 1) % 2\n",
    "    return grille"
   ]
  },
  {
   "cell_type": "code",
   "execution_count": null,
   "metadata": {},
   "outputs": [],
   "source": [
    "def plateau_vide():\n",
    "    \"\"\"\n",
    "    Crée un tableau composé de 0 (cases non retournées)\n",
    "    - Sortie : grille (tableau de taille NBLC x NBLC composé d'entiers)\n",
    "    \"\"\"\n",
    "    grille = []\n",
    "    for i in range(NBLC):\n",
    "        ligne = []\n",
    "        for j in range(NBLC):\n",
    "            ligne.append(0)\n",
    "        grille.append(ligne)\n",
    "    return grille"
   ]
  },
  {
   "cell_type": "code",
   "execution_count": null,
   "metadata": {},
   "outputs": [],
   "source": [
    "def programme_principal():\n",
    "    \"\"\"\n",
    "    Lance une partie du Jeu de retournement\n",
    "    \"\"\"\n",
    "    # Lancement de Pygame et ouverture de la fenêtre de jeu\n",
    "    pygame.init()\n",
    "    fenetre_de_jeu = pygame.display.set_mode((TAILLE_FENETRE, TAILLE_FENETRE))\n",
    "    pygame.display.set_caption('Retourner toutes les cases')\n",
    "\n",
    "    # Création d'un plateau de jeu vide\n",
    "    plateau_de_jeu = plateau_vide()\n",
    "    afficher(plateau_de_jeu, fenetre_de_jeu)\n",
    "\n",
    "    # Boucle de jeu\n",
    "    while not victoire(plateau_de_jeu):\n",
    "        l, c = clic()\n",
    "        plateau_de_jeu = jouer_coup(plateau_de_jeu, l, c)\n",
    "        afficher(plateau_de_jeu, fenetre_de_jeu)\n",
    "\n",
    "    # Ecran de victoire et fermeture de la fenêtre de jeu\n",
    "    ecran_final(fenetre_de_jeu)\n",
    "    sleep(2)\n",
    "    pygame.quit()"
   ]
  },
  {
   "cell_type": "code",
   "execution_count": null,
   "metadata": {},
   "outputs": [],
   "source": [
    "def victoire(grille):\n",
    "    \"\"\"\n",
    "    Détermine si la partie est terminée ou non\n",
    "    - Entrée : grille (tableau)\n",
    "    - Sortie : booléen (True si la partie est finie, False sinon)\n",
    "    \"\"\"\n",
    "    for ligne in grille:\n",
    "        for elem in ligne:\n",
    "            if elem == 0:\n",
    "                return False\n",
    "    return True"
   ]
  },
  {
   "cell_type": "markdown",
   "metadata": {},
   "source": [
    "**Question 16 :** Ecrire la spécification de la procédure ``etoile`` définie ci-dessous."
   ]
  },
  {
   "cell_type": "code",
   "execution_count": null,
   "metadata": {},
   "outputs": [],
   "source": [
    "from turtle import forward, left, clear"
   ]
  },
  {
   "cell_type": "code",
   "execution_count": null,
   "metadata": {},
   "outputs": [],
   "source": [
    "def etoile(nb_branches, longueur):\n",
    "    \"\"\"\n",
    "    Spécification à écrire...\n",
    "    \"\"\"\n",
    "    clear()\n",
    "    angle = 180 * (1 - 1 / nb_branches)\n",
    "    for n in range(nb_branches):\n",
    "        forward(longueur)\n",
    "        left(angle)"
   ]
  },
  {
   "cell_type": "markdown",
   "metadata": {},
   "source": [
    "**Question 17 :** Combien de branches possèdent les étoiles tracées lors de l'exécution de la cellule suivante ?"
   ]
  },
  {
   "cell_type": "code",
   "execution_count": null,
   "metadata": {},
   "outputs": [],
   "source": [
    "for k in range(5, 12, 2):\n",
    "    etoile(k, 300)"
   ]
  },
  {
   "cell_type": "markdown",
   "metadata": {},
   "source": [
    "**Question 18 :** Ecrire la spécification de chacune des fonctions définies dans les exercices bilan 1 et 2."
   ]
  },
  {
   "cell_type": "markdown",
   "metadata": {},
   "source": [
    "## Partie C - Assertions"
   ]
  },
  {
   "cell_type": "markdown",
   "metadata": {},
   "source": [
    "Lors d'un appel de fonction, il faut souvent s'assurer que les **arguments** passés en paramètre d'entrée sont acceptables, tant au niveau de leur **type** que de leur **valeur**. On utilise pour cela des **assertions**.\n",
    "\n",
    "On peut par exemple remarquer que la procédure ``etoile`` définie précédemment ne fonctionne correctement que si son paramètre d'entrée ``nb_branches`` est un entier impair.\n",
    "\n",
    "En Python, il existe deux façons de mettre en place une assertion :\n",
    "\n",
    "- avec le mot-clé ``assert``, à privilégier pour le débogage des fonctions que vous serez le seul à utiliser.\n",
    "- avec le mot-clé ``raise``, à privilégier dans le cas où les fonctions seraient mises à la disposition d'autres que vous."
   ]
  },
  {
   "cell_type": "markdown",
   "metadata": {},
   "source": [
    "### Assertions avec le mot-clé ``assert``"
   ]
  },
  {
   "cell_type": "markdown",
   "metadata": {},
   "source": [
    "La syntaxe est la suivante : ``assert condition, message_d_erreur``.\n",
    "\n",
    "Si la ``condition`` est fausse, l'exécution de la fonction s'interrompt et le ``message_d_erreur`` s'affiche.\n",
    "\n",
    "Pour vérifier que ``nb_branches`` est un entier, la condition s'écrit ``type(nb_branches) == int``. C'est une **vérification de type**.\n",
    "\n",
    "Pour vérifier que ``nb_branches`` est impair, la condition s'écrit ``nb_branches % 2 != 0``. C'est une **vérification de valeur**."
   ]
  },
  {
   "cell_type": "code",
   "execution_count": null,
   "metadata": {},
   "outputs": [],
   "source": [
    "def etoile(nb_branches, longueur):\n",
    "    assert type(nb_branches) == int, 'le premier argument doit être un entier'\n",
    "    assert nb_branches % 2 != 0, 'le premier argument doit être impair'\n",
    "    clear()\n",
    "    angle = 180 * (1 - 1 / nb_branches)\n",
    "    for n in range(nb_branches):\n",
    "        forward(longueur)\n",
    "        left(angle)"
   ]
  },
  {
   "cell_type": "code",
   "execution_count": null,
   "metadata": {},
   "outputs": [],
   "source": [
    "etoile('bonjour', 300)"
   ]
  },
  {
   "cell_type": "code",
   "execution_count": null,
   "metadata": {},
   "outputs": [],
   "source": [
    "etoile(6, 300)"
   ]
  },
  {
   "cell_type": "markdown",
   "metadata": {},
   "source": [
    "<div class=\"rq\">\n",
    "    La fonction <code>type</code> renvoie le type de la variable ou de l'expression qui lui est passée en paramètre. Les principaux types que nous utiliserons cette année sont listés dans le tableau suivant :\n",
    "</div>"
   ]
  },
  {
   "cell_type": "markdown",
   "metadata": {},
   "source": [
    "<div>\n",
    "    \t<table align = \"center\">\n",
    "\t\t\t<tr>\n",
    "                <th><center>Notation Python</center></th>\n",
    "                <th><center>Type</center></th>\n",
    "                <th></th><th></th>\n",
    "\t\t\t\t<th><center>Exemples</center></th>\n",
    "                <th></th><th></th>\n",
    "\t\t\t</tr>\n",
    "            <tr>\n",
    "                <td><center><code>int</code></center></td>\n",
    "                <td><center>Nombre entier</center></td>\n",
    "                <td><center><code>0</code></center></td>\n",
    "                <td><center><code>-1023</code></center></td>\n",
    "                <td><center><code>7*9+2</code></center></td>\n",
    "                <td><center><code>10**9</code></center></td>\n",
    "                <td><center><code>int(3.1)</code></center></td>\n",
    "\t\t\t</tr>\n",
    "            <tr>\n",
    "                <td><center><code>float</code></center></td>                \n",
    "                <td><center>Nombre flottant</center></td>\n",
    "                <td><center><code>0.0</code></center></td>\n",
    "                <td><center><code>-10.23</code></center></td>\n",
    "                <td><center><code>6/3</code></center></td>\n",
    "                <td><center><code>10**-9</code></center></td>\n",
    "                <td><center><code>float(3)</code></center></td>\n",
    "\t\t\t</tr>\n",
    "            <tr>\n",
    "                <td><center><code>bool</code></center></td>\n",
    "                <td><center>Booléen</center></td>\n",
    "                <td><center><code>True</code></center></td>\n",
    "                <td><center><code>False</code></center></td>\n",
    "                <td><center><code>True or False</code></center></td>\n",
    "                <td><center><code>2 &lt; 0</code></center></td>\n",
    "                <td><center><code>bool(1)</code></center></td>\n",
    "\t\t\t</tr>\n",
    "            <tr>\n",
    "                <td><center><code>function</code></center></td>\n",
    "                <td><center>Fonction</center></td>    \n",
    "                <td><center><code>aire_triangle</code></center></td>\n",
    "                <td><center><code>etoile</code></center></td>\n",
    "                <td><center><code>test_Pythagore</code></center></td>\n",
    "                <td><center><code>bissextile</code></center></td>\n",
    "                <td><center><code>nb_jours</code></center></td>\n",
    "\t\t\t</tr>\n",
    "            <tr>\n",
    "                <td><center><code>str</code></center></td>\n",
    "                <td><center>Chaîne de caractères</center></td>\n",
    "                <td></td><td></td>\n",
    "                <td><center><i>voir chap. 4</i></center></td>\n",
    "                <td></td><td></td>\n",
    "\t\t\t</tr>\n",
    "            <tr>\n",
    "                <td><center><code>list</code></center></td>\n",
    "                <td><center>Tableau</center></td>\n",
    "                <td></td><td></td>\n",
    "                <td><center><i>voir chap. 5</i></center></td>\n",
    "                <td></td><td></td>\n",
    "\t\t\t</tr>\n",
    "            <tr>\n",
    "                <td><center><code>dict</code></center></td>\n",
    "                <td><center>Dictionnaire</center></td>\n",
    "                <td></td><td></td>\n",
    "                <td><center><i>voir chap. 6</i></center></td>\n",
    "                <td></td><td></td>\n",
    "\t\t\t</tr>\n",
    "\t\t</table>\n",
    "</div>"
   ]
  },
  {
   "cell_type": "markdown",
   "metadata": {},
   "source": [
    "### Assertions avec le mot-clé ``raise``"
   ]
  },
  {
   "cell_type": "markdown",
   "metadata": {},
   "source": [
    "Le mot-clé ``raise`` s'utilise à l'intérieur d'une instruction conditionnelle. La syntaxe est la suivante : ``raise Exception(message_d_erreur)``.\n",
    "\n",
    "Si la commande est exécutée, la fonction s'interrompt et le ``message_d_erreur`` s'affiche.\n",
    "\n",
    "Le mot-clé ``Exception`` peut être remplacé :\n",
    "\n",
    "- par ``TypeError`` dans le cas d'une erreur de type.\n",
    "- par ``ValueError`` dans le cas d'une erreur de valeur."
   ]
  },
  {
   "cell_type": "code",
   "execution_count": null,
   "metadata": {},
   "outputs": [],
   "source": [
    "def etoile(nb_branches, longueur):\n",
    "    if type(nb_branches) != int:\n",
    "        raise TypeError('le premier argument doit être un entier')\n",
    "    if nb_branches % 2 == 0:\n",
    "        raise ValueError('le premier argument doit être impair')\n",
    "    clear()\n",
    "    angle = 180 * (1 - 1 / nb_branches)\n",
    "    for n in range(nb_branches):\n",
    "        forward(longueur)\n",
    "        left(angle)"
   ]
  },
  {
   "cell_type": "code",
   "execution_count": null,
   "metadata": {},
   "outputs": [],
   "source": [
    "etoile('bonjour', 300)"
   ]
  },
  {
   "cell_type": "code",
   "execution_count": null,
   "metadata": {},
   "outputs": [],
   "source": [
    "etoile(6, 300)"
   ]
  },
  {
   "cell_type": "markdown",
   "metadata": {},
   "source": [
    "**Question 19 :** Compléter la fonction ``test_Pythagore`` avec des assertions pour vérifier que ``a``, ``b`` et ``c`` sont trois entiers strictement positifs."
   ]
  },
  {
   "cell_type": "code",
   "execution_count": null,
   "metadata": {},
   "outputs": [],
   "source": [
    "# Assertions avec le mot-clé assert\n",
    "def test_Pythagore(a, b, c):\n",
    "    \"\"\"\n",
    "    Détermine si un triangle est rectangle, sachant que les longueurs de ses côtés sont a, b et c\n",
    "    - Entrées : a, b, c (entiers)\n",
    "    - Sortie : booléen (True si le triangle est rectangle, False sinon)\n",
    "    \"\"\"\n",
    "    if a**2 + b**2 == c**2 or b**2 + c**2 == a**2 or c**2 + a**2 == b**2:\n",
    "        return True\n",
    "    else:\n",
    "        return False"
   ]
  },
  {
   "cell_type": "code",
   "execution_count": null,
   "metadata": {},
   "outputs": [],
   "source": [
    "# Assertions avec le mot-clé raise\n",
    "def test_Pythagore(a, b, c):\n",
    "    \"\"\"\n",
    "    Détermine si un triangle est rectangle, sachant que les longueurs de ses côtés sont a, b et c\n",
    "    - Entrées : a, b, c (entiers)\n",
    "    - Sortie : booléen (True si le triangle est rectangle, False sinon)\n",
    "    \"\"\"\n",
    "    if a**2 + b**2 == c**2 or b**2 + c**2 == a**2 or c**2 + a**2 == b**2:\n",
    "        return True\n",
    "    else:\n",
    "        return False"
   ]
  },
  {
   "cell_type": "markdown",
   "metadata": {},
   "source": [
    "**Question 20 :** Compléter la fonction ``nb_jours`` avec des assertions, sachant que :\n",
    "\n",
    "- la fonction ``nb_jours`` est prévue pour être utilisable par n'importe qui,\n",
    "- ``a1`` et ``a2`` sont des années (donc des entiers strictement positifs),\n",
    "- ``m1`` et ``m2`` sont des mois (donc des entiers compris entre 1 et 12),\n",
    "- ``j1`` et ``j2`` sont des jours (qui doivent être cohérents avec le mois et l'année correspondants).\n",
    "- la date ``j1/m1/a1`` doit être antérieure à la date ``j2/m2/a2``."
   ]
  },
  {
   "cell_type": "code",
   "execution_count": null,
   "metadata": {},
   "outputs": [],
   "source": [
    "def nb_jours(j1, m1, a1, j2, m2, a2):\n",
    "    \"\"\"\n",
    "    Détermine le nombre de jours séparant les dates j1/m1/a1 et j2/m2/a2, la première étant antérieure à la seconde\n",
    "    - Entrées : j1, m1, a1, j2, m2, a2 (entiers)\n",
    "    - Sortie : entier\n",
    "    \"\"\"\n",
    "    if a1 == a2:\n",
    "        if m1 == m2:\n",
    "            return j2 - j1\n",
    "        else:\n",
    "            total = nb_jours_mois(m1, a1) - j1 # jours à la fin du mois m1/a1\n",
    "            total = total + j2 # jours au début du mois m2/a1\n",
    "            for m in range(m1 + 1, m2):\n",
    "                total = total + nb_jours_mois(m, a1) # jours des mois après m1/a1 et avant m2/a1\n",
    "            return total\n",
    "    else:\n",
    "        total = nb_jours(j1, m1, a1, 31, 12, a1) + 1 # jours à la fin de l'année a1 (jusqu'au 1er janvier suivant)\n",
    "        total = total + nb_jours(1, 1, a2, j2, m2, a2) # jours au début de l'année a2\n",
    "        for a in range(a1 + 1, a2):\n",
    "            total = total + nb_jours_annee(a) # jours des années après a1 et avant a2\n",
    "        return total"
   ]
  },
  {
   "cell_type": "markdown",
   "metadata": {},
   "source": [
    "## Ce que vous devez savoir"
   ]
  },
  {
   "cell_type": "markdown",
   "metadata": {},
   "source": [
    "<div class=\"rq2\">\n",
    "   <ul>\n",
    "        <li>Appeler une fonction.</li>\n",
    "        <li>Ajouter un garde-fou dans le cas où une saisie au clavier pourrait compromettre l'exécution d'une fonction.</li>\n",
    "        <li>Définir une fonction, avec paramètres d'entrée éventuels et paramètre de sortie.</li>\n",
    "        <li>Tester une fonction, et vérifier que le résultat obtenu est cohérent.</li>\n",
    "        <li>Faire la différence entre variable globale et variable locale associée à une fonction.</li>\n",
    "        <li>Faire la différence entre une fonction et une procédure.</li>\n",
    "        <li>Ecrire ou comprendre la spécification d'une fonction.</li>\n",
    "        <li>Utiliser la fonction <code>help</code> pour afficher la spécification d'une fonction.</li>\n",
    "        <li>Utiliser quelques procédures de base du module <i>Turtle</i>, dont <code>forward</code>, <code>left</code>, <code>right</code>, <code>goto</code>, <code>up</code> et <code>down</code>.</li>\n",
    "        <li>Ecrire une assertion avec le mot-clé <code>assert</code>.</li>\n",
    "        <li>Ecrire une assertion avec le mot-clé <code>raise</code>.</li>\n",
    "        <li>Utiliser la fonction <code>type</code>.</li>\n",
    "    </ul>\n",
    "</div>"
   ]
  },
  {
   "cell_type": "markdown",
   "metadata": {},
   "source": [
    "## Exercices bilan"
   ]
  },
  {
   "cell_type": "markdown",
   "metadata": {},
   "source": [
    "### Exercice 1"
   ]
  },
  {
   "cell_type": "markdown",
   "metadata": {},
   "source": [
    "On considère un triangle dont les longueurs des côtés sont trois entiers ``a``, ``b`` et ``c``.\n",
    "Définir une fonction ``test_Pythagore`` prenant en paramètres d'entrée ``a``, ``b`` et ``c`` et renvoyant ``True`` si le triangle est rectangle et ``False`` sinon."
   ]
  },
  {
   "cell_type": "code",
   "execution_count": null,
   "metadata": {},
   "outputs": [],
   "source": []
  },
  {
   "cell_type": "code",
   "execution_count": null,
   "metadata": {},
   "outputs": [],
   "source": [
    "print(test_Pythagore(3, 4, 5), end = ' ') # est rectangle\n",
    "print(test_Pythagore(4, 5, 3), end = ' ') # est rectangle\n",
    "print(test_Pythagore(5, 4, 5), end = ' ') # n'est pas rectangle"
   ]
  },
  {
   "cell_type": "markdown",
   "metadata": {},
   "source": [
    "### Exercice 2"
   ]
  },
  {
   "cell_type": "markdown",
   "metadata": {},
   "source": [
    "Définir une fonction ``bissextile`` prenant en paramètre d'entrée un entier positif ``a`` et renvoyant ``True`` si l'année ``a`` est bissextile et ``False`` sinon.\n",
    "\n",
    "*On rappelle que les années bissextiles sont les années multiples de 4 mais pas multiples de 100, ou multiples de 400*."
   ]
  },
  {
   "cell_type": "code",
   "execution_count": null,
   "metadata": {},
   "outputs": [],
   "source": []
  },
  {
   "cell_type": "code",
   "execution_count": null,
   "metadata": {},
   "outputs": [],
   "source": [
    "print(bissextile(2019), end = ' ') # 2019 n'est pas bissextile\n",
    "print(bissextile(2020), end = ' ') # 2020 est bissextile\n",
    "print(bissextile(1900), end = ' ') # 1900 n'est pas bissextile\n",
    "print(bissextile(2000), end = ' ') # 2000 est bissextile"
   ]
  },
  {
   "cell_type": "markdown",
   "metadata": {},
   "source": [
    "Définir une fonction ``nb_jours_annee`` prenant en paramètre d'entrée un entier positif ``a`` et renvoyant le nombre de jours de l'année ``a``. Cette fonction fera appel à la fonction ``bissextile``."
   ]
  },
  {
   "cell_type": "code",
   "execution_count": null,
   "metadata": {},
   "outputs": [],
   "source": []
  },
  {
   "cell_type": "code",
   "execution_count": null,
   "metadata": {},
   "outputs": [],
   "source": [
    "print(nb_jours_annee(2019), end = ' ') # 365 jours\n",
    "print(nb_jours_annee(2020), end = ' ') # 366 jours\n",
    "print(nb_jours_annee(1900), end = ' ') # 365 jours\n",
    "print(nb_jours_annee(2000), end = ' ') # 366 jours"
   ]
  },
  {
   "cell_type": "markdown",
   "metadata": {},
   "source": [
    "Définir une fonction ``nb_jours_mois`` prenant en paramètres d'entrée deux entiers ``m`` (compris entre 1 et 12) et ``a`` (positif) et renvoyant le nombre de jours du mois ``m`` dans l'année ``a``. Cette fonction fera appel à la fonction ``bissextile``. "
   ]
  },
  {
   "cell_type": "code",
   "execution_count": null,
   "metadata": {},
   "outputs": [],
   "source": []
  },
  {
   "cell_type": "code",
   "execution_count": null,
   "metadata": {},
   "outputs": [],
   "source": [
    "print(nb_jours_mois(12, 1999), end = ' ') # 31 jours\n",
    "print(nb_jours_mois(2, 2000), end = ' ') # 29 jours\n",
    "print(nb_jours_mois(11, 2000), end = ' ') # 30 jours\n",
    "print(nb_jours_mois(2, 2001), end = ' ') # 28 jours"
   ]
  },
  {
   "cell_type": "markdown",
   "metadata": {},
   "source": [
    "En utilisant les fonctions précédentes, définir une fonction ``nb_jours`` prenant en paramètres d'entrée six entiers ``j1``, ``m1``, ``a1``, ``j2``, ``m2`` et ``a2`` et renvoyant le nombre de jours écoulés entre la date ``j1/m1/a1`` et la date ``j2/m2/a2``."
   ]
  },
  {
   "cell_type": "code",
   "execution_count": null,
   "metadata": {},
   "outputs": [],
   "source": []
  },
  {
   "cell_type": "code",
   "execution_count": null,
   "metadata": {},
   "outputs": [],
   "source": [
    "print(nb_jours(1, 9, 2019, 14, 11, 2019), end = ' ') # 30 + 31 + 13 = 74 jours entre 01/09/2019 et 14/11/2019\n",
    "print(nb_jours(1, 9, 2015, 1, 9, 2019), end = ' ') # 366 + 3*365 = 1461 jours entre 01/09/2017 et 01/09/2019\n",
    "print(nb_jours(8, 11, 1984, 14, 11, 2019), end = ' ') # 12789 jours entre 08/11/1984 et 14/11/2019\n",
    "print(nb_jours(1, 1, 2000, 14, 11, 2019), end = ' ') # 7257 jours entre 01/01/2000 et 14/11/2019"
   ]
  },
  {
   "cell_type": "markdown",
   "metadata": {},
   "source": [
    "### Exercice 3"
   ]
  },
  {
   "cell_type": "markdown",
   "metadata": {},
   "source": [
    "Exécuter la cellule suivante :"
   ]
  },
  {
   "cell_type": "code",
   "execution_count": null,
   "metadata": {},
   "outputs": [],
   "source": [
    "from turtle import clear, up, down, goto, forward, left, right, bye"
   ]
  },
  {
   "cell_type": "markdown",
   "metadata": {},
   "source": [
    "Vous pouvez désormais faire appel à huit procédures permettant de réaliser des dessins simples dans une fenêtre."
   ]
  },
  {
   "cell_type": "markdown",
   "metadata": {},
   "source": [
    "<div>\n",
    "    \t\t<table align = \"center\">\n",
    "            <tr>\n",
    "                <th><center>Procédure</center></th>\n",
    "                <th><center>Paramètre(s) d'entrée</center></th>\n",
    "\t\t\t\t<th><center>Rôle</center></th>\n",
    "\t\t\t</tr>\n",
    "\t\t\t<tr>\n",
    "                <td><center><code>goto</code></center></td>\n",
    "                <td><center><code>x</code> et <code>y</code> (nombres)</center></td>\n",
    "                <td><center>Déplace le crayon vers le point de coordonnées <code>(x, y)</code></center></td>\n",
    "\t\t\t</tr>\n",
    "                \t\t\t<tr>\n",
    "                <td><center><code>forward</code></center></td>\n",
    "                <td><center><code>d</code> (nombre)</center></td>\n",
    "                <td><center>Avance le crayon d'une distance <code>d</code></center></td>\n",
    "\t\t\t</tr>\n",
    "                \t\t\t<tr>\n",
    "                <td><center><code>left</code></center></td>\n",
    "                <td><center><code>a</code> (nombre)</center></td>\n",
    "                <td><center>Pivote le crayon d'un angle <code>a</code> vers la gauche</center></td>\n",
    "\t\t\t</tr>\n",
    "                \t\t\t<tr>\n",
    "                <td><center><code>right</code></center></td>\n",
    "                <td><center><code>a</code> (nombre)</center></td>\n",
    "                <td><center>Pivote le crayon d'un angle <code>a</code> vers la droite</center></td>\n",
    "\t\t\t</tr>\n",
    "                \t\t\t<tr>\n",
    "                <td><center><code>up</code></center></td>\n",
    "                <td><center><i>Aucun</i></center></td>\n",
    "                <td><center>Lève le crayon : le tracé s'interrompt</center></td>\n",
    "\t\t\t</tr>\n",
    "                \t\t\t<tr>\n",
    "                <td><center><code>down</code></center></td>\n",
    "                <td><center><i>Aucun</i></center></td>\n",
    "                <td><center>Baisse le crayon : le tracé reprend</center></td>\n",
    "\t\t\t</tr>\n",
    "                                \t\t\t<tr>\n",
    "                <td><center><code>clear</code></center></td>\n",
    "                <td><center><i>Aucun</i></center></td>\n",
    "                <td><center>Efface le contenu de la fenêtre</center></td>\n",
    "\t\t\t</tr>\n",
    "                                \t\t\t<tr>\n",
    "                <td><center><code>bye</code></center></td>\n",
    "                <td><center><i>Aucun</i></center></td>\n",
    "                <td><center>Ferme la fenêtre</center></td>\n",
    "\t\t\t</tr>\n",
    "\t\t</table>\n",
    "</div>"
   ]
  },
  {
   "cell_type": "markdown",
   "metadata": {},
   "source": [
    "Ecrire une procédure ``carre`` prenant un paramètre d'entrée ``c`` et dessinant dans la fenêtre un carré de côté ``c``."
   ]
  },
  {
   "cell_type": "code",
   "execution_count": null,
   "metadata": {},
   "outputs": [],
   "source": []
  },
  {
   "cell_type": "code",
   "execution_count": null,
   "metadata": {},
   "outputs": [],
   "source": [
    "clear()\n",
    "carre(50)\n",
    "carre(100)\n",
    "carre(200)"
   ]
  },
  {
   "cell_type": "markdown",
   "metadata": {},
   "source": [
    "Ecrire une procédure ``triangle`` prenant un paramètre d'entrée ``c`` et dessinant dans la fenêtre un triangle équilatéral de côté ``c``."
   ]
  },
  {
   "cell_type": "code",
   "execution_count": null,
   "metadata": {},
   "outputs": [],
   "source": []
  },
  {
   "cell_type": "code",
   "execution_count": null,
   "metadata": {},
   "outputs": [],
   "source": [
    "clear()\n",
    "triangle(50)\n",
    "triangle(100)\n",
    "triangle(200)"
   ]
  },
  {
   "cell_type": "markdown",
   "metadata": {},
   "source": [
    "Ecrire un programme qui trace aléatoirement dans la fenêtre 10 carrés ou triangles de taille aléatoire."
   ]
  },
  {
   "cell_type": "code",
   "execution_count": null,
   "metadata": {},
   "outputs": [],
   "source": []
  },
  {
   "cell_type": "code",
   "execution_count": null,
   "metadata": {},
   "outputs": [],
   "source": []
  },
  {
   "cell_type": "markdown",
   "metadata": {},
   "source": [
    "Ecrire une procédure dessinant un cercle dans la fenêtre."
   ]
  },
  {
   "cell_type": "code",
   "execution_count": null,
   "metadata": {},
   "outputs": [],
   "source": []
  },
  {
   "cell_type": "code",
   "execution_count": null,
   "metadata": {},
   "outputs": [],
   "source": [
    "clear()\n",
    "cercle(10)"
   ]
  },
  {
   "cell_type": "markdown",
   "metadata": {},
   "source": [
    "Ecrire un programme qui trace aléatoirement dans la fenêtre 10 cercles de taille aléatoire."
   ]
  },
  {
   "cell_type": "code",
   "execution_count": null,
   "metadata": {},
   "outputs": [],
   "source": []
  },
  {
   "cell_type": "code",
   "execution_count": null,
   "metadata": {},
   "outputs": [],
   "source": [
    "bye() # Fermeture de la fenêtre Turtle"
   ]
  },
  {
   "cell_type": "markdown",
   "metadata": {},
   "source": [
    " <div>\n",
    "  <div style=\"float: left; width: 50%\">\n",
    "    <img src='https://ntoulzac.github.io/Cours-NSI-Terminale/premiere_NSI/Images/tortue1.png'>\n",
    "  </div>\n",
    "  <div style=\"float: left; width: 50%\">\n",
    "    <img src='https://ntoulzac.github.io/Cours-NSI-Terminale/premiere_NSI/Images/tortue2.png'>   \n",
    "  </div>\n",
    "</div>"
   ]
  }
 ],
 "metadata": {
  "kernelspec": {
   "display_name": "Python 3",
   "language": "python",
   "name": "python3"
  },
  "language_info": {
   "codemirror_mode": {
    "name": "ipython",
    "version": 3
   },
   "file_extension": ".py",
   "mimetype": "text/x-python",
   "name": "python",
   "nbconvert_exporter": "python",
   "pygments_lexer": "ipython3",
   "version": "3.8.5"
  }
 },
 "nbformat": 4,
 "nbformat_minor": 2
}
