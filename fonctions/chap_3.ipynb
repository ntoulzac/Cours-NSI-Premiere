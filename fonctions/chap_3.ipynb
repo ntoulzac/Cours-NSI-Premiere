{
 "cells": [
  {
   "cell_type": "markdown",
   "metadata": {},
   "source": [
    "# Chapitre 3 : Fonctions\n",
    "\n",
    "***Appel et définition d'une fonction, spécification d'une fonction, assertions***"
   ]
  },
  {
   "cell_type": "markdown",
   "metadata": {},
   "source": []
  },
  {
   "cell_type": "markdown",
   "metadata": {},
   "source": []
  },
  {
   "cell_type": "markdown",
   "metadata": {},
   "source": [
    "**Question 1 :** Exécuter la cellule suivante :"
   ]
  },
  {
   "cell_type": "code",
   "execution_count": 9,
   "metadata": {},
   "outputs": [],
   "source": [
    "from departements import nom_departement, prefecture # Mise à disposition de deux fonctions"
   ]
  },
  {
   "cell_type": "markdown",
   "metadata": {},
   "source": []
  },
  {
   "cell_type": "code",
   "execution_count": 10,
   "metadata": {},
   "outputs": [
    {
     "data": {
      "text/plain": [
       "'Val-de-Marne'"
      ]
     },
     "execution_count": 10,
     "metadata": {},
     "output_type": "execute_result"
    }
   ],
   "source": [
    "nom_departement(94) # Ceci est un appel de fonction (fonction nom_departement)"
   ]
  },
  {
   "cell_type": "code",
   "execution_count": 11,
   "metadata": {},
   "outputs": [
    {
     "data": {
      "text/plain": [
       "'Créteil'"
      ]
     },
     "execution_count": 11,
     "metadata": {},
     "output_type": "execute_result"
    }
   ],
   "source": [
    "prefecture(94) # Ceci est un appel de fonction (fonction prefecture)"
   ]
  },
  {
   "cell_type": "markdown",
   "metadata": {},
   "source": [
    "Dans cet exemple, "
   ]
  },
  {
   "cell_type": "code",
   "execution_count": 12,
   "metadata": {},
   "outputs": [
    {
     "name": "stdout",
     "output_type": "stream",
     "text": [
      "Le département 94 s'appelle Val-de-Marne et sa préfecture est Créteil\n"
     ]
    }
   ],
   "source": []
  },
  {
   "cell_type": "code",
   "execution_count": 13,
   "metadata": {},
   "outputs": [
    {
     "name": "stdout",
     "output_type": "stream",
     "text": [
      "Le département 93 s'appelle Seine Saint Denis et sa préfecture est Bobigny\n"
     ]
    }
   ],
   "source": []
  },
  {
   "cell_type": "markdown",
   "metadata": {},
   "source": [
    "**Question 2 :** Modifier le code de la cellule suivante pour que l'utilisateur du programme ait la possibilité de saisir le numéro du département au clavier."
   ]
  },
  {
   "cell_type": "code",
   "execution_count": null,
   "metadata": {},
   "outputs": [],
   "source": [
    "numero = 94\n",
    "nom = nom_departement(numero)\n",
    "ville = prefecture(numero)\n",
    "print('Le département', numero, 's\\'appelle', nom, 'et sa préfecture est', ville)"
   ]
  },
  {
   "cell_type": "markdown",
   "metadata": {},
   "source": [
    "<div>\n",
    "    <img src=\"https://ntoulzac.github.io/Cours-NSI-Terminale/premiere_NSI/Images/carte_IDF.png\" width=\"500\">\n",
    "</div>"
   ]
  },
  {
   "cell_type": "markdown",
   "metadata": {},
   "source": []
  },
  {
   "cell_type": "markdown",
   "metadata": {},
   "source": [
    "### Exemple : compléments sur la suite de Syracuse"
   ]
  },
  {
   "cell_type": "markdown",
   "metadata": {},
   "source": [
    "On rappelle que la **suite de Syracuse** est une suite mathématique définie de la façon suivante :\n",
    "- On considère une valeur initiale ``s`` entière strictement positive.\n",
    "- On remplace ``s`` par ``s // 2`` dans le cas où ``s`` est paire, et par ``3 * s + 1`` dans le cas où ``s`` est impaire.\n",
    "- On répète l'opération précédente, et on s'arrête dans le cas où ``s`` vaut ``1``.\n",
    "\n",
    "**Question 5 :** Ecrire une fonction ``successeur`` prenant un entier ``s`` en paramètre d'entrée et retournant le successeur de ``s`` dans la suite de Syracuse, tel que défini ci-dessus."
   ]
  },
  {
   "cell_type": "code",
   "execution_count": null,
   "metadata": {},
   "outputs": [],
   "source": []
  },
  {
   "cell_type": "markdown",
   "metadata": {},
   "source": [
    "**Question 6 :** Tester la fonction ``successeur`` en vérifiant que les termes de la suite commençant par ``6`` sont : ``3``, ``10``, ``5``, ``16``, ``8``, ``4``, ``2`` et ``1``."
   ]
  },
  {
   "cell_type": "code",
   "execution_count": null,
   "metadata": {},
   "outputs": [],
   "source": []
  },
  {
   "cell_type": "markdown",
   "metadata": {},
   "source": [
    "On appelle **durée de vol** de l'entier ``s`` le nombre de calculs nécessaires dans la suite de Syracuse pour arriver à ``1`` à partir de ``s``. Par exemple, au vu de ce qui précède, la durée de vol de l'entier ``6`` est égale à 8."
   ]
  },
  {
   "cell_type": "markdown",
   "metadata": {},
   "source": [
    "**Question 7 :** Ecrire une fonction ``duree_de_vol`` prenant un entier ``s`` en paramètre d'entrée et retournant la durée de vol de ``s`` telle que définie ci-dessus. La séquence d'instructions de la fonction ``duree_de_vol`` devra faire appel à la fonction ``successeur``."
   ]
  },
  {
   "cell_type": "code",
   "execution_count": null,
   "metadata": {},
   "outputs": [],
   "source": []
  },
  {
   "cell_type": "markdown",
   "metadata": {},
   "source": [
    "**Question 8 :** Tester la fonction ``duree_de_vol`` pour plusieurs valeurs de ``s``, en commençant par ``s = 6``."
   ]
  },
  {
   "cell_type": "code",
   "execution_count": null,
   "metadata": {},
   "outputs": [],
   "source": []
  },
  {
   "cell_type": "markdown",
   "metadata": {},
   "source": [
    "Il est intéressant d'utiliser l'outil *Tutor magic* pour observer l'évolution de la mémoire lors d'un appel de la fonction ``duree_de_vol``.\n",
    "\n",
    "**Question 9 :** Exécuter les deux cellules suivantes, après avoir recopié la définition des fonctions ``successeur`` et ``duree_de_vol`` à leur place respective :"
   ]
  },
  {
   "cell_type": "code",
   "execution_count": null,
   "metadata": {},
   "outputs": [],
   "source": [
    "%load_ext tutormagic"
   ]
  },
  {
   "cell_type": "code",
   "execution_count": null,
   "metadata": {
    "scrolled": true
   },
   "outputs": [],
   "source": [
    "%%tutor --lang python3 --heapPrimitives\n",
    "def successeur(s):\n",
    "    # Code à recopier...\n",
    "    \n",
    "def duree_de_vol(s):\n",
    "    # Code à recopier...\n",
    "\n",
    "s = 6\n",
    "print(duree_de_vol(s))"
   ]
  },
  {
   "cell_type": "markdown",
   "metadata": {},
   "source": [
    "<div class=\"rq\">\n",
    "    Les <b>variables globales</b> du programme apparaissent dans le cadre <code>Global frame</code>. Il s'agit de la fonction <code>successeur</code> (définie à la ligne 1), de la fonction <code>duree_de_vol</code> (définie à la ligne 6) et de la variable <code>s</code> (initialisée à la ligne 12).<br>\n",
    "    Lors de l'appel <code>duree_de_vol(s)</code> (ligne 13), un nouveau cadre apparaît : le cadre des <b>variables locales</b> de la fonction <code>duree_de_vol</code>. La valeur du paramètre d'entrée <code>s</code> (variable locale) est égale à <code>6</code> au début de l'exécution de la fonction, puisque c'est la valeur de la variable <code>s</code> (variable globale) qui est passée en argument.<br>\n",
    "    La variable locale <code>compteur</code> est initialisée à la valeur <code>0</code> et elle est associée à la fonction <code>duree_de_vol</code>. Elle disparaît donc de la mémoire lorsque l'exécution de <code>duree_de_vol</code> se termine.\n",
    "</div>"
   ]
  },
  {
   "cell_type": "markdown",
   "metadata": {},
   "source": [
    "**Question 10 :** Afficher la durée de vol de tous les entiers compris entre 1 et 100, chaque valeur étant séparée de la précédente par deux espaces."
   ]
  },
  {
   "cell_type": "code",
   "execution_count": null,
   "metadata": {},
   "outputs": [],
   "source": []
  },
  {
   "cell_type": "markdown",
   "metadata": {},
   "source": [
    "**Question 11 :** Écrire des lignes de code permettant de savoir quel est le plus petit entier ``s`` ayant une durée de vol supérieure ou égale à 200."
   ]
  },
  {
   "cell_type": "code",
   "execution_count": null,
   "metadata": {},
   "outputs": [],
   "source": []
  },
  {
   "cell_type": "markdown",
   "metadata": {},
   "source": [
    "**Question 12 :** Transformer le code de la cellule précédente en une fonction ``duree_de_vol_minimale`` prenant un entier ``duree_min`` en entrée et retournant la valeur du plus petit entier ``s`` ayant une durée de vol supérieure ou égale à ``duree_min``.\n",
    "\n",
    "Tester ensuite la fonction pour ``duree_min = 200`` et vérifier qu'on retrouve le même résultat qu'à la question précédente."
   ]
  },
  {
   "cell_type": "code",
   "execution_count": null,
   "metadata": {},
   "outputs": [],
   "source": []
  },
  {
   "cell_type": "code",
   "execution_count": null,
   "metadata": {},
   "outputs": [],
   "source": [
    "x = 200\n",
    "print('Le plus petit entier ayant une durée de vol supérieure ou égale à', x, 'est', duree_de_vol_minimale(x))"
   ]
  },
  {
   "cell_type": "code",
   "execution_count": null,
   "metadata": {},
   "outputs": [],
   "source": [
    "x = 300\n",
    "print('Le plus petit entier ayant une durée de vol supérieure ou égale à', x, 'est', duree_de_vol_minimale(x))"
   ]
  },
  {
   "cell_type": "markdown",
   "metadata": {},
   "source": [
    "**Question 13 :** En utilisant l'outil *Time it*, estimer le temps que dure l'exécution de la fonction ``duree_de_vol_minimale`` lorsqu'elle est appelée pour ``duree_min = 400``."
   ]
  },
  {
   "cell_type": "code",
   "execution_count": null,
   "metadata": {},
   "outputs": [],
   "source": []
  },
  {
   "cell_type": "markdown",
   "metadata": {},
   "source": []
  },
  {
   "cell_type": "code",
   "execution_count": null,
   "metadata": {},
   "outputs": [],
   "source": []
  },
  {
   "cell_type": "markdown",
   "metadata": {},
   "source": []
  },
  {
   "cell_type": "markdown",
   "metadata": {},
   "source": [
    "L'exécution de la cellule qui suit lance une partie du *Jeu de retournement* : en cliquant sur une case, on change sa couleur ainsi que celle de ses quatre voisines. Le but du jeu est de retourner toutes les cases.\n",
    "\n",
    "Êtes-vous capable de gagner une partie pour un plateau de taille 3 x 3, puis pour un plateau de taille 4 x 4 ?"
   ]
  },
  {
   "cell_type": "markdown",
   "metadata": {},
   "source": [
    "Voici la spécification de chacune des fonctions définies pour le *Jeu de retournement*. Le code à proprement parler n'est pas commenté et n'est pas à comprendre pour le moment. Il utilise en effet plusieurs concepts que nous étudierons plus tard dans l'année."
   ]
  },
  {
   "cell_type": "code",
   "execution_count": null,
   "metadata": {},
   "outputs": [],
   "source": [
    "def afficher(grille, fenetre):\n",
    "    \"\"\"\n",
    "    Affiche la grille dans la fenêtre graphique (case retournée jaune, non retournée bleue)\n",
    "    - Entrees : grille (tableau), fenetre (fenetre Pygame)\n",
    "    - Effet de bord : modification de la fenêtre graphique\n",
    "    \"\"\"\n",
    "    for L in range(NBLC):\n",
    "        for C in range(NBLC):\n",
    "            rectangle = (C*TAILLE_CASE, L*TAILLE_CASE, (C+1)*TAILLE_CASE, (L+1)*TAILLE_CASE)\n",
    "            if grille[L][C] != 0:\n",
    "                pygame.draw.rect(fenetre, BLEU, rectangle)\n",
    "            else :\n",
    "                pygame.draw.rect(fenetre, JAUNE, rectangle)\n",
    "    for i in range (1, NBLC):\n",
    "        pygame.draw.line(fenetre, BLANC, (i*TAILLE_CASE, 0), (i*TAILLE_CASE, NBLC*TAILLE_CASE), 2)\n",
    "        pygame.draw.line(fenetre, BLANC, (0, i*TAILLE_CASE), (NBLC*TAILLE_CASE, i*TAILLE_CASE), 2)\n",
    "    pygame.display.flip()"
   ]
  },
  {
   "cell_type": "code",
   "execution_count": null,
   "metadata": {},
   "outputs": [],
   "source": [
    "def clic():\n",
    "    \"\"\"\n",
    "    Attend que le joueur clique dans la fenêtre graphique et détermine sur quelle case le joueur a cliqué\n",
    "    - Sortie : un couple d'entiers (ligne et colonne sur laquelle le joueur a cliqué)\n",
    "    \"\"\"\n",
    "    while True:\n",
    "        pygame.time.Clock().tick(30)\n",
    "        for event in pygame.event.get():\n",
    "            if event.type == QUIT or event.type == KEYDOWN and event.key == K_ESCAPE:\n",
    "                pygame.quit()\n",
    "            elif event.type == MOUSEBUTTONDOWN:\n",
    "                x, y = pygame.mouse.get_pos()\n",
    "                return y // TAILLE_CASE, x // TAILLE_CASE"
   ]
  },
  {
   "cell_type": "code",
   "execution_count": null,
   "metadata": {},
   "outputs": [],
   "source": [
    "def ecran_final(fenetre):\n",
    "    \"\"\"\n",
    "    Affiche un message de victoire dans la fenêtre graphique\n",
    "    - Entree : fenetre (fenetre Pygame)\n",
    "    - Effet de bord : modification de la fenêtre graphique\n",
    "    \"\"\"\n",
    "    fenetre.fill(BLEU)\n",
    "    pygame.font.init()\n",
    "    texte = pygame.font.SysFont('Arial', 64).render('Victoire', False, JAUNE, BLEU)\n",
    "    coin_du_texte = (TAILLE_FENETRE - texte.get_width()) // 2, (TAILLE_FENETRE - texte.get_height()) // 2\n",
    "    fenetre.blit(texte, coin_du_texte)\n",
    "    pygame.display.flip()"
   ]
  },
  {
   "cell_type": "code",
   "execution_count": null,
   "metadata": {},
   "outputs": [],
   "source": [
    "def jouer_coup(grille, l, c):\n",
    "    \"\"\"\n",
    "    Retourne la case située sur la ligne l et la colonne c ainsi que ses voisines\n",
    "    - Entrées : grille (tableau), l et c (entiers)\n",
    "    - Sortie : grille (tableau)\n",
    "    \"\"\"\n",
    "    for i, j in [(0, 0), (-1, 0), (1, 0), (0, 1), (0, -1)]:\n",
    "        if l + i in range(NBLC) and c + j in range(NBLC):\n",
    "            grille[l + i][c + j] = (grille[l + i][c + j] + 1) % 2\n",
    "    return grille"
   ]
  },
  {
   "cell_type": "code",
   "execution_count": null,
   "metadata": {},
   "outputs": [],
   "source": [
    "def plateau_vide():\n",
    "    \"\"\"\n",
    "    Crée un tableau composé de 0 (cases non retournées)\n",
    "    - Sortie : grille (tableau de taille NBLC x NBLC composé d'entiers)\n",
    "    \"\"\"\n",
    "    grille = []\n",
    "    for i in range(NBLC):\n",
    "        ligne = []\n",
    "        for j in range(NBLC):\n",
    "            ligne.append(0)\n",
    "        grille.append(ligne)\n",
    "    return grille"
   ]
  },
  {
   "cell_type": "code",
   "execution_count": null,
   "metadata": {},
   "outputs": [],
   "source": [
    "def programme_principal():\n",
    "    \"\"\"\n",
    "    Lance une partie du Jeu de retournement\n",
    "    \"\"\"\n",
    "    # Lancement de Pygame et ouverture de la fenêtre de jeu\n",
    "    pygame.init()\n",
    "    fenetre_de_jeu = pygame.display.set_mode((TAILLE_FENETRE, TAILLE_FENETRE))\n",
    "    pygame.display.set_caption('Retourner toutes les cases')\n",
    "\n",
    "    # Création d'un plateau de jeu vide\n",
    "    plateau_de_jeu = plateau_vide()\n",
    "    afficher(plateau_de_jeu, fenetre_de_jeu)\n",
    "\n",
    "    # Boucle de jeu\n",
    "    while not victoire(plateau_de_jeu):\n",
    "        l, c = clic()\n",
    "        plateau_de_jeu = jouer_coup(plateau_de_jeu, l, c)\n",
    "        afficher(plateau_de_jeu, fenetre_de_jeu)\n",
    "\n",
    "    # Ecran de victoire et fermeture de la fenêtre de jeu\n",
    "    ecran_final(fenetre_de_jeu)\n",
    "    sleep(2)\n",
    "    pygame.quit()"
   ]
  },
  {
   "cell_type": "code",
   "execution_count": null,
   "metadata": {},
   "outputs": [],
   "source": [
    "def victoire(grille):\n",
    "    \"\"\"\n",
    "    Détermine si la partie est terminée ou non\n",
    "    - Entrée : grille (tableau)\n",
    "    - Sortie : booléen (True si la partie est finie, False sinon)\n",
    "    \"\"\"\n",
    "    for ligne in grille:\n",
    "        for elem in ligne:\n",
    "            if elem == 0:\n",
    "                return False\n",
    "    return True"
   ]
  },
  {
   "cell_type": "code",
   "execution_count": null,
   "metadata": {},
   "outputs": [],
   "source": [
    "import pygame\n",
    "from pygame.locals import *\n",
    "from random import randint\n",
    "from time import sleep\n",
    "\n",
    "JAUNE = (255, 255, 0) # Composantes RVB (Rouge-Vert-Bleu) de la couleur jaune\n",
    "BLEU = (0, 0, 255)\n",
    "BLANC = (255, 255, 255)\n",
    "\n",
    "NBLC = 3 # Nombre de lignes et de colonnes du plateau\n",
    "\n",
    "TAILLE_FENETRE = 540 # En pixels\n",
    "TAILLE_CASE = TAILLE_FENETRE // NBLC # En pixels\n",
    "TAILLE_FENETRE = NBLC * TAILLE_CASE\n",
    "\n",
    "programme_principal()"
   ]
  },
  {
   "cell_type": "code",
   "execution_count": null,
   "metadata": {},
   "outputs": [],
   "source": []
  },
  {
   "cell_type": "code",
   "execution_count": null,
   "metadata": {},
   "outputs": [],
   "source": []
  },
  {
   "cell_type": "code",
   "execution_count": null,
   "metadata": {},
   "outputs": [],
   "source": []
  },
  {
   "cell_type": "code",
   "execution_count": null,
   "metadata": {},
   "outputs": [],
   "source": []
  },
  {
   "cell_type": "code",
   "execution_count": null,
   "metadata": {},
   "outputs": [],
   "source": []
  },
  {
   "cell_type": "code",
   "execution_count": null,
   "metadata": {},
   "outputs": [],
   "source": []
  },
  {
   "cell_type": "code",
   "execution_count": null,
   "metadata": {},
   "outputs": [],
   "source": []
  },
  {
   "cell_type": "markdown",
   "metadata": {},
   "source": [
    "**Question 16 :** Ecrire la spécification de la procédure ``etoile`` définie ci-dessous."
   ]
  },
  {
   "cell_type": "code",
   "execution_count": null,
   "metadata": {},
   "outputs": [],
   "source": [
    "from turtle import forward, left, clear"
   ]
  },
  {
   "cell_type": "code",
   "execution_count": null,
   "metadata": {},
   "outputs": [],
   "source": [
    "def etoile(nb_branches, longueur):\n",
    "    \"\"\"\n",
    "    Spécification à écrire...\n",
    "    \"\"\"\n",
    "    clear()\n",
    "    angle = 180 * (1 - 1 / nb_branches)\n",
    "    for n in range(nb_branches):\n",
    "        forward(longueur)\n",
    "        left(angle)"
   ]
  },
  {
   "cell_type": "markdown",
   "metadata": {},
   "source": [
    "**Question 17 :** Combien de branches possèdent les étoiles tracées lors de l'exécution de la cellule suivante ?"
   ]
  },
  {
   "cell_type": "code",
   "execution_count": null,
   "metadata": {},
   "outputs": [],
   "source": [
    "for k in range(5, 12, 2):\n",
    "    etoile(k, 300)"
   ]
  },
  {
   "cell_type": "markdown",
   "metadata": {},
   "source": [
    "**Question 18 :** Ecrire la spécification de chacune des fonctions définies dans les exercices bilan 1 et 2."
   ]
  },
  {
   "cell_type": "code",
   "execution_count": null,
   "metadata": {},
   "outputs": [],
   "source": []
  },
  {
   "cell_type": "code",
   "execution_count": null,
   "metadata": {},
   "outputs": [],
   "source": []
  },
  {
   "cell_type": "code",
   "execution_count": null,
   "metadata": {},
   "outputs": [],
   "source": []
  },
  {
   "cell_type": "code",
   "execution_count": null,
   "metadata": {},
   "outputs": [],
   "source": []
  },
  {
   "cell_type": "markdown",
   "metadata": {},
   "source": [
    "**Question 19 :** Compléter la fonction ``test_Pythagore`` avec des assertions pour vérifier que ``a``, ``b`` et ``c`` sont trois entiers strictement positifs."
   ]
  },
  {
   "cell_type": "code",
   "execution_count": null,
   "metadata": {},
   "outputs": [],
   "source": [
    "# Assertions avec le mot-clé assert\n",
    "def test_Pythagore(a, b, c):\n",
    "    \"\"\"\n",
    "    Détermine si un triangle est rectangle, sachant que les longueurs de ses côtés sont a, b et c\n",
    "    - Entrées : a, b, c (entiers)\n",
    "    - Sortie : booléen (True si le triangle est rectangle, False sinon)\n",
    "    \"\"\"\n",
    "    if a**2 + b**2 == c**2 or b**2 + c**2 == a**2 or c**2 + a**2 == b**2:\n",
    "        return True\n",
    "    else:\n",
    "        return False"
   ]
  },
  {
   "cell_type": "code",
   "execution_count": null,
   "metadata": {},
   "outputs": [],
   "source": [
    "# Assertions avec le mot-clé raise\n",
    "def test_Pythagore(a, b, c):\n",
    "    \"\"\"\n",
    "    Détermine si un triangle est rectangle, sachant que les longueurs de ses côtés sont a, b et c\n",
    "    - Entrées : a, b, c (entiers)\n",
    "    - Sortie : booléen (True si le triangle est rectangle, False sinon)\n",
    "    \"\"\"\n",
    "    if a**2 + b**2 == c**2 or b**2 + c**2 == a**2 or c**2 + a**2 == b**2:\n",
    "        return True\n",
    "    else:\n",
    "        return False"
   ]
  },
  {
   "cell_type": "markdown",
   "metadata": {},
   "source": [
    "**Question 20 :** Compléter la fonction ``nb_jours`` avec des assertions, sachant que :\n",
    "\n",
    "- la fonction ``nb_jours`` est prévue pour être utilisable par n'importe qui,\n",
    "- ``a1`` et ``a2`` sont des années (donc des entiers strictement positifs),\n",
    "- ``m1`` et ``m2`` sont des mois (donc des entiers compris entre 1 et 12),\n",
    "- ``j1`` et ``j2`` sont des jours (qui doivent être cohérents avec le mois et l'année correspondants).\n",
    "- la date ``j1/m1/a1`` doit être antérieure à la date ``j2/m2/a2``."
   ]
  },
  {
   "cell_type": "code",
   "execution_count": null,
   "metadata": {},
   "outputs": [],
   "source": [
    "def nb_jours(j1, m1, a1, j2, m2, a2):\n",
    "    \"\"\"\n",
    "    Détermine le nombre de jours séparant les dates j1/m1/a1 et j2/m2/a2, la première étant antérieure à la seconde\n",
    "    - Entrées : j1, m1, a1, j2, m2, a2 (entiers)\n",
    "    - Sortie : entier\n",
    "    \"\"\"\n",
    "    if a1 == a2:\n",
    "        if m1 == m2:\n",
    "            return j2 - j1\n",
    "        else:\n",
    "            total = nb_jours_mois(m1, a1) - j1 # jours à la fin du mois m1/a1\n",
    "            total = total + j2 # jours au début du mois m2/a1\n",
    "            for m in range(m1 + 1, m2):\n",
    "                total = total + nb_jours_mois(m, a1) # jours des mois après m1/a1 et avant m2/a1\n",
    "            return total\n",
    "    else:\n",
    "        total = nb_jours(j1, m1, a1, 31, 12, a1) + 1 # jours à la fin de l'année a1 (jusqu'au 1er janvier suivant)\n",
    "        total = total + nb_jours(1, 1, a2, j2, m2, a2) # jours au début de l'année a2\n",
    "        for a in range(a1 + 1, a2):\n",
    "            total = total + nb_jours_annee(a) # jours des années après a1 et avant a2\n",
    "        return total"
   ]
  }
 ],
 "metadata": {
  "kernelspec": {
   "display_name": "Python 3 (ipykernel)",
   "language": "python",
   "name": "python3"
  },
  "language_info": {
   "codemirror_mode": {
    "name": "ipython",
    "version": 3
   },
   "file_extension": ".py",
   "mimetype": "text/x-python",
   "name": "python",
   "nbconvert_exporter": "python",
   "pygments_lexer": "ipython3",
   "version": "3.9.12"
  }
 },
 "nbformat": 4,
 "nbformat_minor": 2
}
